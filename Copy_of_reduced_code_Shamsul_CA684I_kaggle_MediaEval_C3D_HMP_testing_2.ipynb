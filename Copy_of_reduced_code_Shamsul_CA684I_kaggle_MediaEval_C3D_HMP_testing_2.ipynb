{
  "nbformat": 4,
  "nbformat_minor": 0,
  "metadata": {
    "colab": {
      "name": "Copy of reduced code_Shamsul_CA684I_kaggle_MediaEval_C3D_HMP-testing-2.ipynb",
      "provenance": [],
      "collapsed_sections": [],
      "toc_visible": true,
      "authorship_tag": "ABX9TyOAuVExhaL5WiCGmr18vM4e",
      "include_colab_link": true
    },
    "kernelspec": {
      "name": "python3",
      "display_name": "Python 3"
    }
  },
  "cells": [
    {
      "cell_type": "markdown",
      "metadata": {
        "id": "view-in-github",
        "colab_type": "text"
      },
      "source": [
        "<a href=\"https://colab.research.google.com/github/ShamsulAbedin/CA684I/blob/master/Copy_of_reduced_code_Shamsul_CA684I_kaggle_MediaEval_C3D_HMP_testing_2.ipynb\" target=\"_parent\"><img src=\"https://colab.research.google.com/assets/colab-badge.svg\" alt=\"Open In Colab\"/></a>"
      ]
    },
    {
      "cell_type": "markdown",
      "metadata": {
        "id": "kIayW7KKPdds",
        "colab_type": "text"
      },
      "source": [
        "**Predicting video memorability using captions**\n"
      ]
    },
    {
      "cell_type": "markdown",
      "metadata": {
        "id": "IkiytmDOPJu7",
        "colab_type": "text"
      },
      "source": [
        "\n",
        "\n",
        "#1 Predicting Memorability\n"
      ]
    },
    {
      "cell_type": "markdown",
      "metadata": {
        "id": "GLF0uNTki8FQ",
        "colab_type": "text"
      },
      "source": [
        "## 1.1 Spearman correlation \n",
        "\n",
        " Spearman correlation is using here to measure the strength and direction of association between two ranked variables"
      ]
    },
    {
      "cell_type": "code",
      "metadata": {
        "id": "mysFnC4lP35s",
        "colab_type": "code",
        "colab": {}
      },
      "source": [
        "def Get_score(Y_pred,Y_true):\n",
        "    '''Calculate the Spearmann\"s correlation coefficient'''\n",
        "    Y_pred = np.squeeze(Y_pred)\n",
        "    Y_true = np.squeeze(Y_true)\n",
        "    if Y_pred.shape != Y_true.shape:\n",
        "        print('Input shapes don\\'t match!')\n",
        "    else:\n",
        "        if len(Y_pred.shape) == 1:\n",
        "            Res = pd.DataFrame({'Y_true':Y_true,'Y_pred':Y_pred})\n",
        "            score_mat = Res[['Y_true','Y_pred']].corr(method='spearman',min_periods=1)\n",
        "            print('The Spearman\\'s correlation coefficient is: %.3f' % score_mat.iloc[1][0])\n",
        "        else:\n",
        "            for ii in range(Y_pred.shape[1]):\n",
        "                Get_score(Y_pred[:,ii],Y_true[:,ii])"
      ],
      "execution_count": 0,
      "outputs": []
    },
    {
      "cell_type": "markdown",
      "metadata": {
        "id": "eUEnWtVHjTfW",
        "colab_type": "text"
      },
      "source": [
        "## 1.2 Installing packages"
      ]
    },
    {
      "cell_type": "code",
      "metadata": {
        "id": "v-Lw7R5WKRaj",
        "colab_type": "code",
        "outputId": "ecc4c471-e5f4-4474-ffc3-88259dc58845",
        "colab": {
          "base_uri": "https://localhost:8080/",
          "height": 646
        }
      },
      "source": [
        "!pip install tensorflow==1.14"
      ],
      "execution_count": 3,
      "outputs": [
        {
          "output_type": "stream",
          "text": [
            "Collecting tensorflow==1.14\n",
            "\u001b[?25l  Downloading https://files.pythonhosted.org/packages/de/f0/96fb2e0412ae9692dbf400e5b04432885f677ad6241c088ccc5fe7724d69/tensorflow-1.14.0-cp36-cp36m-manylinux1_x86_64.whl (109.2MB)\n",
            "\u001b[K     |████████████████████████████████| 109.2MB 85kB/s \n",
            "\u001b[?25hRequirement already satisfied: keras-applications>=1.0.6 in /usr/local/lib/python3.6/dist-packages (from tensorflow==1.14) (1.0.8)\n",
            "Requirement already satisfied: six>=1.10.0 in /usr/local/lib/python3.6/dist-packages (from tensorflow==1.14) (1.12.0)\n",
            "Requirement already satisfied: protobuf>=3.6.1 in /usr/local/lib/python3.6/dist-packages (from tensorflow==1.14) (3.10.0)\n",
            "Requirement already satisfied: wrapt>=1.11.1 in /usr/local/lib/python3.6/dist-packages (from tensorflow==1.14) (1.12.1)\n",
            "Collecting tensorflow-estimator<1.15.0rc0,>=1.14.0rc0\n",
            "\u001b[?25l  Downloading https://files.pythonhosted.org/packages/3c/d5/21860a5b11caf0678fbc8319341b0ae21a07156911132e0e71bffed0510d/tensorflow_estimator-1.14.0-py2.py3-none-any.whl (488kB)\n",
            "\u001b[K     |████████████████████████████████| 491kB 43.5MB/s \n",
            "\u001b[?25hRequirement already satisfied: wheel>=0.26 in /usr/local/lib/python3.6/dist-packages (from tensorflow==1.14) (0.34.2)\n",
            "Requirement already satisfied: absl-py>=0.7.0 in /usr/local/lib/python3.6/dist-packages (from tensorflow==1.14) (0.9.0)\n",
            "Collecting tensorboard<1.15.0,>=1.14.0\n",
            "\u001b[?25l  Downloading https://files.pythonhosted.org/packages/91/2d/2ed263449a078cd9c8a9ba50ebd50123adf1f8cfbea1492f9084169b89d9/tensorboard-1.14.0-py3-none-any.whl (3.1MB)\n",
            "\u001b[K     |████████████████████████████████| 3.2MB 42.3MB/s \n",
            "\u001b[?25hRequirement already satisfied: gast>=0.2.0 in /usr/local/lib/python3.6/dist-packages (from tensorflow==1.14) (0.3.3)\n",
            "Requirement already satisfied: termcolor>=1.1.0 in /usr/local/lib/python3.6/dist-packages (from tensorflow==1.14) (1.1.0)\n",
            "Requirement already satisfied: astor>=0.6.0 in /usr/local/lib/python3.6/dist-packages (from tensorflow==1.14) (0.8.1)\n",
            "Requirement already satisfied: google-pasta>=0.1.6 in /usr/local/lib/python3.6/dist-packages (from tensorflow==1.14) (0.2.0)\n",
            "Requirement already satisfied: keras-preprocessing>=1.0.5 in /usr/local/lib/python3.6/dist-packages (from tensorflow==1.14) (1.1.0)\n",
            "Requirement already satisfied: grpcio>=1.8.6 in /usr/local/lib/python3.6/dist-packages (from tensorflow==1.14) (1.28.1)\n",
            "Requirement already satisfied: numpy<2.0,>=1.14.5 in /usr/local/lib/python3.6/dist-packages (from tensorflow==1.14) (1.18.3)\n",
            "Requirement already satisfied: h5py in /usr/local/lib/python3.6/dist-packages (from keras-applications>=1.0.6->tensorflow==1.14) (2.10.0)\n",
            "Requirement already satisfied: setuptools in /usr/local/lib/python3.6/dist-packages (from protobuf>=3.6.1->tensorflow==1.14) (46.1.3)\n",
            "Requirement already satisfied: werkzeug>=0.11.15 in /usr/local/lib/python3.6/dist-packages (from tensorboard<1.15.0,>=1.14.0->tensorflow==1.14) (1.0.1)\n",
            "Requirement already satisfied: markdown>=2.6.8 in /usr/local/lib/python3.6/dist-packages (from tensorboard<1.15.0,>=1.14.0->tensorflow==1.14) (3.2.1)\n",
            "Installing collected packages: tensorflow-estimator, tensorboard, tensorflow\n",
            "  Found existing installation: tensorflow-estimator 2.2.0\n",
            "    Uninstalling tensorflow-estimator-2.2.0:\n",
            "      Successfully uninstalled tensorflow-estimator-2.2.0\n",
            "  Found existing installation: tensorboard 2.2.1\n",
            "    Uninstalling tensorboard-2.2.1:\n",
            "      Successfully uninstalled tensorboard-2.2.1\n",
            "  Found existing installation: tensorflow 2.2.0rc3\n",
            "    Uninstalling tensorflow-2.2.0rc3:\n",
            "      Successfully uninstalled tensorflow-2.2.0rc3\n",
            "Successfully installed tensorboard-1.14.0 tensorflow-1.14.0 tensorflow-estimator-1.14.0\n"
          ],
          "name": "stdout"
        }
      ]
    },
    {
      "cell_type": "code",
      "metadata": {
        "id": "7w6EEiXnK_NK",
        "colab_type": "code",
        "outputId": "ef61847a-677c-43ec-c6e2-5ead93beef15",
        "colab": {
          "base_uri": "https://localhost:8080/",
          "height": 203
        }
      },
      "source": [
        "!pip show tensorflow"
      ],
      "execution_count": 0,
      "outputs": [
        {
          "output_type": "stream",
          "text": [
            "Name: tensorflow\n",
            "Version: 1.14.0\n",
            "Summary: TensorFlow is an open source machine learning framework for everyone.\n",
            "Home-page: https://www.tensorflow.org/\n",
            "Author: Google Inc.\n",
            "Author-email: packages@tensorflow.org\n",
            "License: Apache 2.0\n",
            "Location: /usr/local/lib/python3.6/dist-packages\n",
            "Requires: numpy, gast, six, tensorboard, tensorflow-estimator, grpcio, wrapt, absl-py, astor, protobuf, keras-applications, wheel, google-pasta, termcolor, keras-preprocessing\n",
            "Required-by: fancyimpute\n"
          ],
          "name": "stdout"
        }
      ]
    },
    {
      "cell_type": "code",
      "metadata": {
        "id": "BUYUexVNKjRA",
        "colab_type": "code",
        "outputId": "2420e4c5-76fa-4b39-adba-7d7f922e623a",
        "colab": {
          "base_uri": "https://localhost:8080/",
          "height": 221
        }
      },
      "source": [
        "!pip install pyprind\n",
        "!pip install keras"
      ],
      "execution_count": 4,
      "outputs": [
        {
          "output_type": "stream",
          "text": [
            "Collecting pyprind\n",
            "  Downloading https://files.pythonhosted.org/packages/1e/30/e76fb0c45da8aef49ea8d2a90d4e7a6877b45894c25f12fb961f009a891e/PyPrind-2.11.2-py3-none-any.whl\n",
            "Installing collected packages: pyprind\n",
            "Successfully installed pyprind-2.11.2\n",
            "Requirement already satisfied: keras in /usr/local/lib/python3.6/dist-packages (2.3.1)\n",
            "Requirement already satisfied: numpy>=1.9.1 in /usr/local/lib/python3.6/dist-packages (from keras) (1.18.3)\n",
            "Requirement already satisfied: h5py in /usr/local/lib/python3.6/dist-packages (from keras) (2.10.0)\n",
            "Requirement already satisfied: six>=1.9.0 in /usr/local/lib/python3.6/dist-packages (from keras) (1.12.0)\n",
            "Requirement already satisfied: scipy>=0.14 in /usr/local/lib/python3.6/dist-packages (from keras) (1.4.1)\n",
            "Requirement already satisfied: keras-preprocessing>=1.0.5 in /usr/local/lib/python3.6/dist-packages (from keras) (1.1.0)\n",
            "Requirement already satisfied: keras-applications>=1.0.6 in /usr/local/lib/python3.6/dist-packages (from keras) (1.0.8)\n",
            "Requirement already satisfied: pyyaml in /usr/local/lib/python3.6/dist-packages (from keras) (3.13)\n"
          ],
          "name": "stdout"
        }
      ]
    },
    {
      "cell_type": "markdown",
      "metadata": {
        "id": "Hk0JUUTIjeoe",
        "colab_type": "text"
      },
      "source": [
        "## 1.3 Inporting Libraries"
      ]
    },
    {
      "cell_type": "code",
      "metadata": {
        "id": "MhVZPw_7KkSE",
        "colab_type": "code",
        "colab": {}
      },
      "source": [
        "import pandas as pd\n",
        "\n",
        "import numpy as np\n",
        "from string import punctuation\n",
        "import matplotlib.pyplot as plt\n",
        "import os\n"
      ],
      "execution_count": 0,
      "outputs": []
    },
    {
      "cell_type": "code",
      "metadata": {
        "id": "MWzlRtn9LS0o",
        "colab_type": "code",
        "outputId": "8fcad99d-1989-49e7-b685-62b254145cf5",
        "colab": {
          "base_uri": "https://localhost:8080/",
          "height": 462
        }
      },
      "source": [
        "from keras import Sequential\n",
        "from keras import layers\n",
        "from keras import regularizers\n",
        "import tensorflow\n",
        "from tensorflow.python.keras import Sequential\n",
        "from tensorflow.python.keras import layers\n",
        "from tensorflow.python.keras import regularizers\n",
        "from tensorflow.python.keras.preprocessing.text import Tokenizer\n",
        "import pyprind\n",
        "from collections import Counter\n",
        "from keras.preprocessing.text import Tokenizer\n",
        "from sklearn.model_selection import train_test_split"
      ],
      "execution_count": 6,
      "outputs": [
        {
          "output_type": "stream",
          "text": [
            "Using TensorFlow backend.\n",
            "/usr/local/lib/python3.6/dist-packages/tensorflow/python/framework/dtypes.py:516: FutureWarning: Passing (type, 1) or '1type' as a synonym of type is deprecated; in a future version of numpy, it will be understood as (type, (1,)) / '(1,)type'.\n",
            "  _np_qint8 = np.dtype([(\"qint8\", np.int8, 1)])\n",
            "/usr/local/lib/python3.6/dist-packages/tensorflow/python/framework/dtypes.py:517: FutureWarning: Passing (type, 1) or '1type' as a synonym of type is deprecated; in a future version of numpy, it will be understood as (type, (1,)) / '(1,)type'.\n",
            "  _np_quint8 = np.dtype([(\"quint8\", np.uint8, 1)])\n",
            "/usr/local/lib/python3.6/dist-packages/tensorflow/python/framework/dtypes.py:518: FutureWarning: Passing (type, 1) or '1type' as a synonym of type is deprecated; in a future version of numpy, it will be understood as (type, (1,)) / '(1,)type'.\n",
            "  _np_qint16 = np.dtype([(\"qint16\", np.int16, 1)])\n",
            "/usr/local/lib/python3.6/dist-packages/tensorflow/python/framework/dtypes.py:519: FutureWarning: Passing (type, 1) or '1type' as a synonym of type is deprecated; in a future version of numpy, it will be understood as (type, (1,)) / '(1,)type'.\n",
            "  _np_quint16 = np.dtype([(\"quint16\", np.uint16, 1)])\n",
            "/usr/local/lib/python3.6/dist-packages/tensorflow/python/framework/dtypes.py:520: FutureWarning: Passing (type, 1) or '1type' as a synonym of type is deprecated; in a future version of numpy, it will be understood as (type, (1,)) / '(1,)type'.\n",
            "  _np_qint32 = np.dtype([(\"qint32\", np.int32, 1)])\n",
            "/usr/local/lib/python3.6/dist-packages/tensorflow/python/framework/dtypes.py:525: FutureWarning: Passing (type, 1) or '1type' as a synonym of type is deprecated; in a future version of numpy, it will be understood as (type, (1,)) / '(1,)type'.\n",
            "  np_resource = np.dtype([(\"resource\", np.ubyte, 1)])\n",
            "/usr/local/lib/python3.6/dist-packages/tensorboard/compat/tensorflow_stub/dtypes.py:541: FutureWarning: Passing (type, 1) or '1type' as a synonym of type is deprecated; in a future version of numpy, it will be understood as (type, (1,)) / '(1,)type'.\n",
            "  _np_qint8 = np.dtype([(\"qint8\", np.int8, 1)])\n",
            "/usr/local/lib/python3.6/dist-packages/tensorboard/compat/tensorflow_stub/dtypes.py:542: FutureWarning: Passing (type, 1) or '1type' as a synonym of type is deprecated; in a future version of numpy, it will be understood as (type, (1,)) / '(1,)type'.\n",
            "  _np_quint8 = np.dtype([(\"quint8\", np.uint8, 1)])\n",
            "/usr/local/lib/python3.6/dist-packages/tensorboard/compat/tensorflow_stub/dtypes.py:543: FutureWarning: Passing (type, 1) or '1type' as a synonym of type is deprecated; in a future version of numpy, it will be understood as (type, (1,)) / '(1,)type'.\n",
            "  _np_qint16 = np.dtype([(\"qint16\", np.int16, 1)])\n",
            "/usr/local/lib/python3.6/dist-packages/tensorboard/compat/tensorflow_stub/dtypes.py:544: FutureWarning: Passing (type, 1) or '1type' as a synonym of type is deprecated; in a future version of numpy, it will be understood as (type, (1,)) / '(1,)type'.\n",
            "  _np_quint16 = np.dtype([(\"quint16\", np.uint16, 1)])\n",
            "/usr/local/lib/python3.6/dist-packages/tensorboard/compat/tensorflow_stub/dtypes.py:545: FutureWarning: Passing (type, 1) or '1type' as a synonym of type is deprecated; in a future version of numpy, it will be understood as (type, (1,)) / '(1,)type'.\n",
            "  _np_qint32 = np.dtype([(\"qint32\", np.int32, 1)])\n",
            "/usr/local/lib/python3.6/dist-packages/tensorboard/compat/tensorflow_stub/dtypes.py:550: FutureWarning: Passing (type, 1) or '1type' as a synonym of type is deprecated; in a future version of numpy, it will be understood as (type, (1,)) / '(1,)type'.\n",
            "  np_resource = np.dtype([(\"resource\", np.ubyte, 1)])\n"
          ],
          "name": "stderr"
        }
      ]
    },
    {
      "cell_type": "code",
      "metadata": {
        "id": "SB-53Di9K1oO",
        "colab_type": "code",
        "colab": {}
      },
      "source": [
        "# for reproducability\n",
        "from numpy.random import seed\n",
        "seed(1)"
      ],
      "execution_count": 0,
      "outputs": []
    },
    {
      "cell_type": "code",
      "metadata": {
        "id": "sSupbppgK9Xw",
        "colab_type": "code",
        "colab": {}
      },
      "source": [
        "import tensorflow\n",
        "from tensorflow import set_random_seed\n",
        "tensorflow.set_random_seed(1)"
      ],
      "execution_count": 0,
      "outputs": []
    },
    {
      "cell_type": "markdown",
      "metadata": {
        "id": "QeBnmgP5Pvco",
        "colab_type": "text"
      },
      "source": [
        "## 1.4 Loading the label and captions\n"
      ]
    },
    {
      "cell_type": "code",
      "metadata": {
        "id": "gE2TYh_MKugM",
        "colab_type": "code",
        "colab": {}
      },
      "source": [
        "# load labels and captions\n",
        "def read_caps(fname):\n",
        "    \"\"\"Load the captions into a dataframe\"\"\"\n",
        "    vn = []\n",
        "    cap = []\n",
        "    df_caption = pd.DataFrame();\n",
        "    with open(fname) as f:\n",
        "        for line in f:\n",
        "            pairs = line.split()\n",
        "            vn.append(pairs[0])\n",
        "            cap.append(pairs[1])\n",
        "        df_caption['video']=vn\n",
        "        df_caption['caption']=cap\n",
        "    return df_caption"
      ],
      "execution_count": 0,
      "outputs": []
    },
    {
      "cell_type": "markdown",
      "metadata": {
        "id": "FPF-yzWMkffp",
        "colab_type": "text"
      },
      "source": [
        "##1.5 Mounting Drive"
      ]
    },
    {
      "cell_type": "code",
      "metadata": {
        "id": "6ukTPznPL5AV",
        "colab_type": "code",
        "outputId": "664c65df-8e9e-406d-96ef-77ef04dec108",
        "colab": {
          "base_uri": "https://localhost:8080/",
          "height": 122
        }
      },
      "source": [
        "import os\n",
        "from google.colab import drive\n",
        "drive.mount('/content/drive/')\n"
      ],
      "execution_count": 10,
      "outputs": [
        {
          "output_type": "stream",
          "text": [
            "Go to this URL in a browser: https://accounts.google.com/o/oauth2/auth?client_id=947318989803-6bn6qk8qdgf4n4g3pfee6491hc0brc4i.apps.googleusercontent.com&redirect_uri=urn%3aietf%3awg%3aoauth%3a2.0%3aoob&response_type=code&scope=email%20https%3a%2f%2fwww.googleapis.com%2fauth%2fdocs.test%20https%3a%2f%2fwww.googleapis.com%2fauth%2fdrive%20https%3a%2f%2fwww.googleapis.com%2fauth%2fdrive.photos.readonly%20https%3a%2f%2fwww.googleapis.com%2fauth%2fpeopleapi.readonly\n",
            "\n",
            "Enter your authorization code:\n",
            "··········\n",
            "Mounted at /content/drive/\n"
          ],
          "name": "stdout"
        }
      ]
    },
    {
      "cell_type": "markdown",
      "metadata": {
        "id": "1TDYX6puk5JD",
        "colab_type": "text"
      },
      "source": [
        "##1.6 Loading Video Memorability from the two files"
      ]
    },
    {
      "cell_type": "code",
      "metadata": {
        "id": "NKtdtLeaMDC1",
        "colab_type": "code",
        "colab": {}
      },
      "source": [
        "caption_path='/content/drive/My Drive/CA684_Assignment/Dev-set/Captions/dev-set_video-captions.txt'\n",
        "df_caption=read_caps(caption_path)"
      ],
      "execution_count": 0,
      "outputs": []
    },
    {
      "cell_type": "code",
      "metadata": {
        "id": "GJWvqGTlMaJ_",
        "colab_type": "code",
        "colab": {}
      },
      "source": [
        "\n",
        "# load the ground truth values\n",
        "path_label = '/content/drive/My Drive/CA684_Assignment/Dev-set/Ground-truth/'\n",
        "labels=pd.read_csv(path_label+'ground-truth.csv')\n"
      ],
      "execution_count": 0,
      "outputs": []
    },
    {
      "cell_type": "code",
      "metadata": {
        "id": "14m4RAppMPwy",
        "colab_type": "code",
        "outputId": "f096ef56-0a58-4ab8-f343-3078cc7cae1e",
        "colab": {
          "base_uri": "https://localhost:8080/",
          "height": 255
        }
      },
      "source": [
        "print(df_caption)"
      ],
      "execution_count": 13,
      "outputs": [
        {
          "output_type": "stream",
          "text": [
            "               video                                            caption\n",
            "0        video3.webm                 blonde-woman-is-massaged-tilt-down\n",
            "1        video4.webm  roulette-table-spinning-with-ball-in-closeup-shot\n",
            "2        video6.webm                                      khr-gangsters\n",
            "3        video8.webm               medical-helicopter-hovers-at-airport\n",
            "4       video10.webm               couple-relaxing-on-picnic-crane-shot\n",
            "...              ...                                                ...\n",
            "5995  video7488.webm        beautiful-young-woman-in-front-of-fountains\n",
            "5996  video7489.webm  focus-pull-from-molting-penguin-to-penguin-col...\n",
            "5997  video7491.webm           students-walking-in-university-of-mexico\n",
            "5998  video7492.webm                       beautiful-black-woman-at-spa\n",
            "5999  video7493.webm  beautiful-modern-brunette-woman-using-tablet-c...\n",
            "\n",
            "[6000 rows x 2 columns]\n"
          ],
          "name": "stdout"
        }
      ]
    },
    {
      "cell_type": "markdown",
      "metadata": {
        "id": "pL8YrT9alwhJ",
        "colab_type": "text"
      },
      "source": [
        "##1.7 Joining the dataframes"
      ]
    },
    {
      "cell_type": "code",
      "metadata": {
        "id": "6vTkBSV8Oi5-",
        "colab_type": "code",
        "colab": {
          "base_uri": "https://localhost:8080/",
          "height": 419
        },
        "outputId": "4051ef5c-0204-41c3-8d67-17b7822aed7c"
      },
      "source": [
        "df = df_caption.merge(labels,on=[\"video\"],how=\"inner\")\n",
        "df"
      ],
      "execution_count": 14,
      "outputs": [
        {
          "output_type": "execute_result",
          "data": {
            "text/html": [
              "<div>\n",
              "<style scoped>\n",
              "    .dataframe tbody tr th:only-of-type {\n",
              "        vertical-align: middle;\n",
              "    }\n",
              "\n",
              "    .dataframe tbody tr th {\n",
              "        vertical-align: top;\n",
              "    }\n",
              "\n",
              "    .dataframe thead th {\n",
              "        text-align: right;\n",
              "    }\n",
              "</style>\n",
              "<table border=\"1\" class=\"dataframe\">\n",
              "  <thead>\n",
              "    <tr style=\"text-align: right;\">\n",
              "      <th></th>\n",
              "      <th>video</th>\n",
              "      <th>caption</th>\n",
              "      <th>short-term_memorability</th>\n",
              "      <th>nb_short-term_annotations</th>\n",
              "      <th>long-term_memorability</th>\n",
              "      <th>nb_long-term_annotations</th>\n",
              "    </tr>\n",
              "  </thead>\n",
              "  <tbody>\n",
              "    <tr>\n",
              "      <th>0</th>\n",
              "      <td>video3.webm</td>\n",
              "      <td>blonde-woman-is-massaged-tilt-down</td>\n",
              "      <td>0.924</td>\n",
              "      <td>34</td>\n",
              "      <td>0.846</td>\n",
              "      <td>13</td>\n",
              "    </tr>\n",
              "    <tr>\n",
              "      <th>1</th>\n",
              "      <td>video4.webm</td>\n",
              "      <td>roulette-table-spinning-with-ball-in-closeup-shot</td>\n",
              "      <td>0.923</td>\n",
              "      <td>33</td>\n",
              "      <td>0.667</td>\n",
              "      <td>12</td>\n",
              "    </tr>\n",
              "    <tr>\n",
              "      <th>2</th>\n",
              "      <td>video6.webm</td>\n",
              "      <td>khr-gangsters</td>\n",
              "      <td>0.863</td>\n",
              "      <td>33</td>\n",
              "      <td>0.700</td>\n",
              "      <td>10</td>\n",
              "    </tr>\n",
              "    <tr>\n",
              "      <th>3</th>\n",
              "      <td>video8.webm</td>\n",
              "      <td>medical-helicopter-hovers-at-airport</td>\n",
              "      <td>0.922</td>\n",
              "      <td>33</td>\n",
              "      <td>0.818</td>\n",
              "      <td>11</td>\n",
              "    </tr>\n",
              "    <tr>\n",
              "      <th>4</th>\n",
              "      <td>video10.webm</td>\n",
              "      <td>couple-relaxing-on-picnic-crane-shot</td>\n",
              "      <td>0.950</td>\n",
              "      <td>34</td>\n",
              "      <td>0.900</td>\n",
              "      <td>10</td>\n",
              "    </tr>\n",
              "    <tr>\n",
              "      <th>...</th>\n",
              "      <td>...</td>\n",
              "      <td>...</td>\n",
              "      <td>...</td>\n",
              "      <td>...</td>\n",
              "      <td>...</td>\n",
              "      <td>...</td>\n",
              "    </tr>\n",
              "    <tr>\n",
              "      <th>5995</th>\n",
              "      <td>video7488.webm</td>\n",
              "      <td>beautiful-young-woman-in-front-of-fountains</td>\n",
              "      <td>0.921</td>\n",
              "      <td>33</td>\n",
              "      <td>1.000</td>\n",
              "      <td>9</td>\n",
              "    </tr>\n",
              "    <tr>\n",
              "      <th>5996</th>\n",
              "      <td>video7489.webm</td>\n",
              "      <td>focus-pull-from-molting-penguin-to-penguin-col...</td>\n",
              "      <td>0.909</td>\n",
              "      <td>53</td>\n",
              "      <td>0.839</td>\n",
              "      <td>31</td>\n",
              "    </tr>\n",
              "    <tr>\n",
              "      <th>5997</th>\n",
              "      <td>video7491.webm</td>\n",
              "      <td>students-walking-in-university-of-mexico</td>\n",
              "      <td>0.713</td>\n",
              "      <td>33</td>\n",
              "      <td>0.818</td>\n",
              "      <td>11</td>\n",
              "    </tr>\n",
              "    <tr>\n",
              "      <th>5998</th>\n",
              "      <td>video7492.webm</td>\n",
              "      <td>beautiful-black-woman-at-spa</td>\n",
              "      <td>0.954</td>\n",
              "      <td>34</td>\n",
              "      <td>1.000</td>\n",
              "      <td>16</td>\n",
              "    </tr>\n",
              "    <tr>\n",
              "      <th>5999</th>\n",
              "      <td>video7493.webm</td>\n",
              "      <td>beautiful-modern-brunette-woman-using-tablet-c...</td>\n",
              "      <td>0.953</td>\n",
              "      <td>33</td>\n",
              "      <td>0.615</td>\n",
              "      <td>13</td>\n",
              "    </tr>\n",
              "  </tbody>\n",
              "</table>\n",
              "<p>6000 rows × 6 columns</p>\n",
              "</div>"
            ],
            "text/plain": [
              "               video  ... nb_long-term_annotations\n",
              "0        video3.webm  ...                       13\n",
              "1        video4.webm  ...                       12\n",
              "2        video6.webm  ...                       10\n",
              "3        video8.webm  ...                       11\n",
              "4       video10.webm  ...                       10\n",
              "...              ...  ...                      ...\n",
              "5995  video7488.webm  ...                        9\n",
              "5996  video7489.webm  ...                       31\n",
              "5997  video7491.webm  ...                       11\n",
              "5998  video7492.webm  ...                       16\n",
              "5999  video7493.webm  ...                       13\n",
              "\n",
              "[6000 rows x 6 columns]"
            ]
          },
          "metadata": {
            "tags": []
          },
          "execution_count": 14
        }
      ]
    },
    {
      "cell_type": "markdown",
      "metadata": {
        "id": "8YMjv9aPqHtv",
        "colab_type": "text"
      },
      "source": [
        ""
      ]
    },
    {
      "cell_type": "markdown",
      "metadata": {
        "id": "CeLA8K_EqQRN",
        "colab_type": "text"
      },
      "source": [
        ""
      ]
    },
    {
      "cell_type": "markdown",
      "metadata": {
        "id": "rXXsOHRMqQVU",
        "colab_type": "text"
      },
      "source": [
        ""
      ]
    },
    {
      "cell_type": "markdown",
      "metadata": {
        "id": "F3n8NyG1qH96",
        "colab_type": "text"
      },
      "source": [
        ""
      ]
    },
    {
      "cell_type": "code",
      "metadata": {
        "id": "xqFs4UE_Ky_v",
        "colab_type": "code",
        "outputId": "0c6602b9-9d30-4f10-ad28-8ec2ce0371d1",
        "colab": {
          "base_uri": "https://localhost:8080/",
          "height": 68
        }
      },
      "source": [
        "word_counts = Counter()\n",
        "# setting up prograss tracker\n",
        "pbar = pyprind.ProgBar(len(df_caption['caption']), title='Calculating word occurrences')\n",
        "for i, cap in enumerate(df_caption['caption']):\n",
        "    # replacing the punctuations with spaces\n",
        "    # converting the words with lower case \n",
        "    text = ''.join([c if c not in punctuation else ' ' for c in cap]).lower()\n",
        "    df_caption.loc[i,'caption'] = text\n",
        "    pbar.update()\n",
        "    word_counts.update(text.split())"
      ],
      "execution_count": 15,
      "outputs": [
        {
          "output_type": "stream",
          "text": [
            "Calculating word occurrences\n",
            "0% [##############################] 100% | ETA: 00:00:00\n",
            "Total time elapsed: 00:00:01\n"
          ],
          "name": "stderr"
        }
      ]
    },
    {
      "cell_type": "code",
      "metadata": {
        "id": "UWHfegYCOiOY",
        "colab_type": "code",
        "outputId": "9108c4ab-f406-412f-c16a-4477c0757b9c",
        "colab": {
          "base_uri": "https://localhost:8080/",
          "height": 204
        }
      },
      "source": [
        "df_caption.head()"
      ],
      "execution_count": 16,
      "outputs": [
        {
          "output_type": "execute_result",
          "data": {
            "text/html": [
              "<div>\n",
              "<style scoped>\n",
              "    .dataframe tbody tr th:only-of-type {\n",
              "        vertical-align: middle;\n",
              "    }\n",
              "\n",
              "    .dataframe tbody tr th {\n",
              "        vertical-align: top;\n",
              "    }\n",
              "\n",
              "    .dataframe thead th {\n",
              "        text-align: right;\n",
              "    }\n",
              "</style>\n",
              "<table border=\"1\" class=\"dataframe\">\n",
              "  <thead>\n",
              "    <tr style=\"text-align: right;\">\n",
              "      <th></th>\n",
              "      <th>video</th>\n",
              "      <th>caption</th>\n",
              "    </tr>\n",
              "  </thead>\n",
              "  <tbody>\n",
              "    <tr>\n",
              "      <th>0</th>\n",
              "      <td>video3.webm</td>\n",
              "      <td>blonde woman is massaged tilt down</td>\n",
              "    </tr>\n",
              "    <tr>\n",
              "      <th>1</th>\n",
              "      <td>video4.webm</td>\n",
              "      <td>roulette table spinning with ball in closeup shot</td>\n",
              "    </tr>\n",
              "    <tr>\n",
              "      <th>2</th>\n",
              "      <td>video6.webm</td>\n",
              "      <td>khr gangsters</td>\n",
              "    </tr>\n",
              "    <tr>\n",
              "      <th>3</th>\n",
              "      <td>video8.webm</td>\n",
              "      <td>medical helicopter hovers at airport</td>\n",
              "    </tr>\n",
              "    <tr>\n",
              "      <th>4</th>\n",
              "      <td>video10.webm</td>\n",
              "      <td>couple relaxing on picnic crane shot</td>\n",
              "    </tr>\n",
              "  </tbody>\n",
              "</table>\n",
              "</div>"
            ],
            "text/plain": [
              "          video                                            caption\n",
              "0   video3.webm                 blonde woman is massaged tilt down\n",
              "1   video4.webm  roulette table spinning with ball in closeup shot\n",
              "2   video6.webm                                      khr gangsters\n",
              "3   video8.webm               medical helicopter hovers at airport\n",
              "4  video10.webm               couple relaxing on picnic crane shot"
            ]
          },
          "metadata": {
            "tags": []
          },
          "execution_count": 16
        }
      ]
    },
    {
      "cell_type": "code",
      "metadata": {
        "id": "9xRZR5HZOkpX",
        "colab_type": "code",
        "outputId": "0ebb6e8d-d9c5-465d-9e92-c14b14b705ae",
        "colab": {
          "base_uri": "https://localhost:8080/",
          "height": 204
        }
      },
      "source": [
        "labels.head()"
      ],
      "execution_count": 17,
      "outputs": [
        {
          "output_type": "execute_result",
          "data": {
            "text/html": [
              "<div>\n",
              "<style scoped>\n",
              "    .dataframe tbody tr th:only-of-type {\n",
              "        vertical-align: middle;\n",
              "    }\n",
              "\n",
              "    .dataframe tbody tr th {\n",
              "        vertical-align: top;\n",
              "    }\n",
              "\n",
              "    .dataframe thead th {\n",
              "        text-align: right;\n",
              "    }\n",
              "</style>\n",
              "<table border=\"1\" class=\"dataframe\">\n",
              "  <thead>\n",
              "    <tr style=\"text-align: right;\">\n",
              "      <th></th>\n",
              "      <th>video</th>\n",
              "      <th>short-term_memorability</th>\n",
              "      <th>nb_short-term_annotations</th>\n",
              "      <th>long-term_memorability</th>\n",
              "      <th>nb_long-term_annotations</th>\n",
              "    </tr>\n",
              "  </thead>\n",
              "  <tbody>\n",
              "    <tr>\n",
              "      <th>0</th>\n",
              "      <td>video3.webm</td>\n",
              "      <td>0.924</td>\n",
              "      <td>34</td>\n",
              "      <td>0.846</td>\n",
              "      <td>13</td>\n",
              "    </tr>\n",
              "    <tr>\n",
              "      <th>1</th>\n",
              "      <td>video4.webm</td>\n",
              "      <td>0.923</td>\n",
              "      <td>33</td>\n",
              "      <td>0.667</td>\n",
              "      <td>12</td>\n",
              "    </tr>\n",
              "    <tr>\n",
              "      <th>2</th>\n",
              "      <td>video6.webm</td>\n",
              "      <td>0.863</td>\n",
              "      <td>33</td>\n",
              "      <td>0.700</td>\n",
              "      <td>10</td>\n",
              "    </tr>\n",
              "    <tr>\n",
              "      <th>3</th>\n",
              "      <td>video8.webm</td>\n",
              "      <td>0.922</td>\n",
              "      <td>33</td>\n",
              "      <td>0.818</td>\n",
              "      <td>11</td>\n",
              "    </tr>\n",
              "    <tr>\n",
              "      <th>4</th>\n",
              "      <td>video10.webm</td>\n",
              "      <td>0.950</td>\n",
              "      <td>34</td>\n",
              "      <td>0.900</td>\n",
              "      <td>10</td>\n",
              "    </tr>\n",
              "  </tbody>\n",
              "</table>\n",
              "</div>"
            ],
            "text/plain": [
              "          video  ...  nb_long-term_annotations\n",
              "0   video3.webm  ...                        13\n",
              "1   video4.webm  ...                        12\n",
              "2   video6.webm  ...                        10\n",
              "3   video8.webm  ...                        11\n",
              "4  video10.webm  ...                        10\n",
              "\n",
              "[5 rows x 5 columns]"
            ]
          },
          "metadata": {
            "tags": []
          },
          "execution_count": 17
        }
      ]
    },
    {
      "cell_type": "markdown",
      "metadata": {
        "id": "g3TmOpwAqJir",
        "colab_type": "text"
      },
      "source": [
        ""
      ]
    },
    {
      "cell_type": "markdown",
      "metadata": {
        "id": "tONbqikTqRfT",
        "colab_type": "text"
      },
      "source": [
        ""
      ]
    },
    {
      "cell_type": "markdown",
      "metadata": {
        "id": "6yDPJwRsqRjx",
        "colab_type": "text"
      },
      "source": [
        ""
      ]
    },
    {
      "cell_type": "markdown",
      "metadata": {
        "id": "iUQVl2FWRtM8",
        "colab_type": "text"
      },
      "source": [
        "#2 Pre-Processing Stage"
      ]
    },
    {
      "cell_type": "markdown",
      "metadata": {
        "id": "zG9wLVd6n73y",
        "colab_type": "text"
      },
      "source": [
        "##2.1 Remove punctuation"
      ]
    },
    {
      "cell_type": "code",
      "metadata": {
        "id": "xNsLsTJWn8Sh",
        "colab_type": "code",
        "colab": {
          "base_uri": "https://localhost:8080/",
          "height": 34
        },
        "outputId": "857a08fb-8178-49ca-81bb-442833becae3"
      },
      "source": [
        "\n",
        "import string\n",
        "string.punctuation"
      ],
      "execution_count": 15,
      "outputs": [
        {
          "output_type": "execute_result",
          "data": {
            "text/plain": [
              "'!\"#$%&\\'()*+,-./:;<=>?@[\\\\]^_`{|}~'"
            ]
          },
          "metadata": {
            "tags": []
          },
          "execution_count": 15
        }
      ]
    },
    {
      "cell_type": "code",
      "metadata": {
        "id": "pNqyvatMoHbF",
        "colab_type": "code",
        "colab": {}
      },
      "source": [
        "\n",
        "#function to remove punctuation\n",
        "def remove_punct(text):\n",
        "  text_nopunct=\"\".join([char for char in text if char not in string.punctuation])  #it will discard all punctuation\n",
        "  return text_nopunct"
      ],
      "execution_count": 0,
      "outputs": []
    },
    {
      "cell_type": "code",
      "metadata": {
        "id": "oI6T_rI3oMRV",
        "colab_type": "code",
        "colab": {
          "base_uri": "https://localhost:8080/",
          "height": 204
        },
        "outputId": "db103c78-8862-4cb9-dbcb-ac737a5e0547"
      },
      "source": [
        "df['body_text_clean']=df['caption'].apply(lambda x: remove_punct(x))\n",
        "df.head()"
      ],
      "execution_count": 17,
      "outputs": [
        {
          "output_type": "execute_result",
          "data": {
            "text/html": [
              "<div>\n",
              "<style scoped>\n",
              "    .dataframe tbody tr th:only-of-type {\n",
              "        vertical-align: middle;\n",
              "    }\n",
              "\n",
              "    .dataframe tbody tr th {\n",
              "        vertical-align: top;\n",
              "    }\n",
              "\n",
              "    .dataframe thead th {\n",
              "        text-align: right;\n",
              "    }\n",
              "</style>\n",
              "<table border=\"1\" class=\"dataframe\">\n",
              "  <thead>\n",
              "    <tr style=\"text-align: right;\">\n",
              "      <th></th>\n",
              "      <th>video</th>\n",
              "      <th>caption</th>\n",
              "      <th>short-term_memorability</th>\n",
              "      <th>nb_short-term_annotations</th>\n",
              "      <th>long-term_memorability</th>\n",
              "      <th>nb_long-term_annotations</th>\n",
              "      <th>body_text_clean</th>\n",
              "    </tr>\n",
              "  </thead>\n",
              "  <tbody>\n",
              "    <tr>\n",
              "      <th>0</th>\n",
              "      <td>video3.webm</td>\n",
              "      <td>blonde-woman-is-massaged-tilt-down</td>\n",
              "      <td>0.924</td>\n",
              "      <td>34</td>\n",
              "      <td>0.846</td>\n",
              "      <td>13</td>\n",
              "      <td>blondewomanismassagedtiltdown</td>\n",
              "    </tr>\n",
              "    <tr>\n",
              "      <th>1</th>\n",
              "      <td>video4.webm</td>\n",
              "      <td>roulette-table-spinning-with-ball-in-closeup-shot</td>\n",
              "      <td>0.923</td>\n",
              "      <td>33</td>\n",
              "      <td>0.667</td>\n",
              "      <td>12</td>\n",
              "      <td>roulettetablespinningwithballincloseupshot</td>\n",
              "    </tr>\n",
              "    <tr>\n",
              "      <th>2</th>\n",
              "      <td>video6.webm</td>\n",
              "      <td>khr-gangsters</td>\n",
              "      <td>0.863</td>\n",
              "      <td>33</td>\n",
              "      <td>0.700</td>\n",
              "      <td>10</td>\n",
              "      <td>khrgangsters</td>\n",
              "    </tr>\n",
              "    <tr>\n",
              "      <th>3</th>\n",
              "      <td>video8.webm</td>\n",
              "      <td>medical-helicopter-hovers-at-airport</td>\n",
              "      <td>0.922</td>\n",
              "      <td>33</td>\n",
              "      <td>0.818</td>\n",
              "      <td>11</td>\n",
              "      <td>medicalhelicopterhoversatairport</td>\n",
              "    </tr>\n",
              "    <tr>\n",
              "      <th>4</th>\n",
              "      <td>video10.webm</td>\n",
              "      <td>couple-relaxing-on-picnic-crane-shot</td>\n",
              "      <td>0.950</td>\n",
              "      <td>34</td>\n",
              "      <td>0.900</td>\n",
              "      <td>10</td>\n",
              "      <td>couplerelaxingonpicniccraneshot</td>\n",
              "    </tr>\n",
              "  </tbody>\n",
              "</table>\n",
              "</div>"
            ],
            "text/plain": [
              "          video  ...                             body_text_clean\n",
              "0   video3.webm  ...               blondewomanismassagedtiltdown\n",
              "1   video4.webm  ...  roulettetablespinningwithballincloseupshot\n",
              "2   video6.webm  ...                                khrgangsters\n",
              "3   video8.webm  ...            medicalhelicopterhoversatairport\n",
              "4  video10.webm  ...             couplerelaxingonpicniccraneshot\n",
              "\n",
              "[5 rows x 7 columns]"
            ]
          },
          "metadata": {
            "tags": []
          },
          "execution_count": 17
        }
      ]
    },
    {
      "cell_type": "markdown",
      "metadata": {
        "id": "wroCAShioixc",
        "colab_type": "text"
      },
      "source": [
        "## 2.2 Tokenization"
      ]
    },
    {
      "cell_type": "code",
      "metadata": {
        "id": "1KvZOFOgoUZq",
        "colab_type": "code",
        "colab": {
          "base_uri": "https://localhost:8080/",
          "height": 289
        },
        "outputId": "22b2db51-ed69-4e84-b15f-3ac2ad2b18f3"
      },
      "source": [
        "import re\n",
        "\n",
        "#function to tokenise\n",
        "\n",
        "def tokenize(text):\n",
        "  tokens=re.split('\\W+',text)\n",
        "  return tokens\n",
        "df['tokenized_body']=df['caption'].apply(lambda x: tokenize(x.lower()))\n",
        "df.head()"
      ],
      "execution_count": 18,
      "outputs": [
        {
          "output_type": "execute_result",
          "data": {
            "text/html": [
              "<div>\n",
              "<style scoped>\n",
              "    .dataframe tbody tr th:only-of-type {\n",
              "        vertical-align: middle;\n",
              "    }\n",
              "\n",
              "    .dataframe tbody tr th {\n",
              "        vertical-align: top;\n",
              "    }\n",
              "\n",
              "    .dataframe thead th {\n",
              "        text-align: right;\n",
              "    }\n",
              "</style>\n",
              "<table border=\"1\" class=\"dataframe\">\n",
              "  <thead>\n",
              "    <tr style=\"text-align: right;\">\n",
              "      <th></th>\n",
              "      <th>video</th>\n",
              "      <th>caption</th>\n",
              "      <th>short-term_memorability</th>\n",
              "      <th>nb_short-term_annotations</th>\n",
              "      <th>long-term_memorability</th>\n",
              "      <th>nb_long-term_annotations</th>\n",
              "      <th>body_text_clean</th>\n",
              "      <th>tokenized_body</th>\n",
              "    </tr>\n",
              "  </thead>\n",
              "  <tbody>\n",
              "    <tr>\n",
              "      <th>0</th>\n",
              "      <td>video3.webm</td>\n",
              "      <td>blonde-woman-is-massaged-tilt-down</td>\n",
              "      <td>0.924</td>\n",
              "      <td>34</td>\n",
              "      <td>0.846</td>\n",
              "      <td>13</td>\n",
              "      <td>blondewomanismassagedtiltdown</td>\n",
              "      <td>[blonde, woman, is, massaged, tilt, down]</td>\n",
              "    </tr>\n",
              "    <tr>\n",
              "      <th>1</th>\n",
              "      <td>video4.webm</td>\n",
              "      <td>roulette-table-spinning-with-ball-in-closeup-shot</td>\n",
              "      <td>0.923</td>\n",
              "      <td>33</td>\n",
              "      <td>0.667</td>\n",
              "      <td>12</td>\n",
              "      <td>roulettetablespinningwithballincloseupshot</td>\n",
              "      <td>[roulette, table, spinning, with, ball, in, cl...</td>\n",
              "    </tr>\n",
              "    <tr>\n",
              "      <th>2</th>\n",
              "      <td>video6.webm</td>\n",
              "      <td>khr-gangsters</td>\n",
              "      <td>0.863</td>\n",
              "      <td>33</td>\n",
              "      <td>0.700</td>\n",
              "      <td>10</td>\n",
              "      <td>khrgangsters</td>\n",
              "      <td>[khr, gangsters]</td>\n",
              "    </tr>\n",
              "    <tr>\n",
              "      <th>3</th>\n",
              "      <td>video8.webm</td>\n",
              "      <td>medical-helicopter-hovers-at-airport</td>\n",
              "      <td>0.922</td>\n",
              "      <td>33</td>\n",
              "      <td>0.818</td>\n",
              "      <td>11</td>\n",
              "      <td>medicalhelicopterhoversatairport</td>\n",
              "      <td>[medical, helicopter, hovers, at, airport]</td>\n",
              "    </tr>\n",
              "    <tr>\n",
              "      <th>4</th>\n",
              "      <td>video10.webm</td>\n",
              "      <td>couple-relaxing-on-picnic-crane-shot</td>\n",
              "      <td>0.950</td>\n",
              "      <td>34</td>\n",
              "      <td>0.900</td>\n",
              "      <td>10</td>\n",
              "      <td>couplerelaxingonpicniccraneshot</td>\n",
              "      <td>[couple, relaxing, on, picnic, crane, shot]</td>\n",
              "    </tr>\n",
              "  </tbody>\n",
              "</table>\n",
              "</div>"
            ],
            "text/plain": [
              "          video  ...                                     tokenized_body\n",
              "0   video3.webm  ...          [blonde, woman, is, massaged, tilt, down]\n",
              "1   video4.webm  ...  [roulette, table, spinning, with, ball, in, cl...\n",
              "2   video6.webm  ...                                   [khr, gangsters]\n",
              "3   video8.webm  ...         [medical, helicopter, hovers, at, airport]\n",
              "4  video10.webm  ...        [couple, relaxing, on, picnic, crane, shot]\n",
              "\n",
              "[5 rows x 8 columns]"
            ]
          },
          "metadata": {
            "tags": []
          },
          "execution_count": 18
        }
      ]
    },
    {
      "cell_type": "markdown",
      "metadata": {
        "id": "QJnnvDNspNuK",
        "colab_type": "text"
      },
      "source": [
        "## 2.2 Vectorizing Data: Bag-Of-Words (Approach 1)"
      ]
    },
    {
      "cell_type": "code",
      "metadata": {
        "id": "C0E7sPg2oryT",
        "colab_type": "code",
        "colab": {}
      },
      "source": [
        "from sklearn.feature_extraction.text import CountVectorizer\n",
        "\n",
        "# used to remove stopwords\n",
        "count_vect=CountVectorizer(min_df=1, stop_words='english') "
      ],
      "execution_count": 0,
      "outputs": []
    },
    {
      "cell_type": "code",
      "metadata": {
        "id": "D9aKX-1jpjgZ",
        "colab_type": "code",
        "colab": {
          "base_uri": "https://localhost:8080/",
          "height": 34
        },
        "outputId": "5033cf8c-180d-4138-f0b3-fc62d60e04f1"
      },
      "source": [
        "X_counts=count_vect.fit_transform(df['caption'])\n",
        "print(X_counts.shape)"
      ],
      "execution_count": 21,
      "outputs": [
        {
          "output_type": "stream",
          "text": [
            "(6000, 5019)\n"
          ],
          "name": "stdout"
        }
      ]
    },
    {
      "cell_type": "code",
      "metadata": {
        "id": "dGO6jdsOpvAZ",
        "colab_type": "code",
        "colab": {}
      },
      "source": [
        "X_counts=count_vect.fit_transform(df['caption'])"
      ],
      "execution_count": 0,
      "outputs": []
    },
    {
      "cell_type": "code",
      "metadata": {
        "id": "S6jossdOpzUs",
        "colab_type": "code",
        "colab": {
          "base_uri": "https://localhost:8080/",
          "height": 136
        },
        "outputId": "ffa2317e-854e-45c0-c8dd-dfdb398bf948"
      },
      "source": [
        "X_counts_seq=X_counts.toarray()\n",
        "X_counts_seq"
      ],
      "execution_count": 23,
      "outputs": [
        {
          "output_type": "execute_result",
          "data": {
            "text/plain": [
              "array([[0, 0, 0, ..., 0, 0, 0],\n",
              "       [0, 0, 0, ..., 0, 0, 0],\n",
              "       [0, 0, 0, ..., 0, 0, 0],\n",
              "       ...,\n",
              "       [0, 0, 0, ..., 0, 0, 0],\n",
              "       [0, 0, 0, ..., 0, 0, 0],\n",
              "       [0, 0, 0, ..., 0, 0, 0]])"
            ]
          },
          "metadata": {
            "tags": []
          },
          "execution_count": 23
        }
      ]
    },
    {
      "cell_type": "code",
      "metadata": {
        "id": "yino8Ahhp161",
        "colab_type": "code",
        "colab": {
          "base_uri": "https://localhost:8080/",
          "height": 34
        },
        "outputId": "10ee38c4-11b8-473f-9279-553059dfbb1c"
      },
      "source": [
        "print(X_counts_seq[0])"
      ],
      "execution_count": 24,
      "outputs": [
        {
          "output_type": "stream",
          "text": [
            "[0 0 0 ... 0 0 0]\n"
          ],
          "name": "stdout"
        }
      ]
    },
    {
      "cell_type": "markdown",
      "metadata": {
        "id": "1OoL1oicq9rR",
        "colab_type": "text"
      },
      "source": [
        "## 2.3 Vectorizing Data: TF-IDF (Approach 2)\n",
        "\n",
        "**Gives less Spearman's corelation compare to Bag of Words**"
      ]
    },
    {
      "cell_type": "code",
      "metadata": {
        "id": "6O0BCoYfYHGI",
        "colab_type": "code",
        "colab": {}
      },
      "source": [
        "from sklearn.feature_extraction.text import TfidfVectorizer"
      ],
      "execution_count": 0,
      "outputs": []
    },
    {
      "cell_type": "code",
      "metadata": {
        "id": "dYBw64ECqm95",
        "colab_type": "code",
        "colab": {
          "base_uri": "https://localhost:8080/",
          "height": 34
        },
        "outputId": "ccaba5d4-47fa-43c3-e67e-55ed317272fa"
      },
      "source": [
        "#tfidf=TfidfVectorizer(min_df=1, stop_words='english')\n",
        "#X_TFIDF=tfidf.fit_transform(df['caption'])\n",
        "#X_seq=X_TFIDF.toarray()\n",
        "#X_seq\n",
        "#print(X_seq[0])\n",
        "\n",
        "tfidf=TfidfVectorizer(min_df=1, stop_words='english')\n",
        "X_TFIDF=tfidf.fit_transform(df['caption'])\n",
        "X_seq=X_TFIDF.toarray()\n",
        "X_seq\n",
        "print(X_seq[0])"
      ],
      "execution_count": 27,
      "outputs": [
        {
          "output_type": "stream",
          "text": [
            "[0. 0. 0. ... 0. 0. 0.]\n"
          ],
          "name": "stdout"
        }
      ]
    },
    {
      "cell_type": "code",
      "metadata": {
        "id": "_qlpyURrpdQS",
        "colab_type": "code",
        "colab": {}
      },
      "source": [
        ""
      ],
      "execution_count": 0,
      "outputs": []
    },
    {
      "cell_type": "code",
      "metadata": {
        "id": "kz43UNBjRxv9",
        "colab_type": "code",
        "colab": {}
      },
      "source": [
        "from nltk.stem import WordNetLemmatizer\n",
        "from nltk import tokenize\n",
        "\n",
        "import re"
      ],
      "execution_count": 0,
      "outputs": []
    },
    {
      "cell_type": "code",
      "metadata": {
        "id": "L4lPPMSvkWwK",
        "colab_type": "code",
        "colab": {
          "base_uri": "https://localhost:8080/",
          "height": 34
        },
        "outputId": "82752bb0-0322-440c-80d9-c976927f04b2"
      },
      "source": [
        "vect_tfidf=TfidfVectorizer(ngram_range = (1,4)).fit(df.caption)\n",
        "vect_transformed_X_train=vect_tfidf.fit_transform(df['caption'])\n",
        "token_len = len(vect_tfidf.get_feature_names())\n",
        "token_len"
      ],
      "execution_count": 29,
      "outputs": [
        {
          "output_type": "execute_result",
          "data": {
            "text/plain": [
              "77717"
            ]
          },
          "metadata": {
            "tags": []
          },
          "execution_count": 29
        }
      ]
    },
    {
      "cell_type": "markdown",
      "metadata": {
        "id": "mD2fzPt5R1zG",
        "colab_type": "text"
      },
      "source": [
        "## 2.1 ###delete - Stripping special characters\n"
      ]
    },
    {
      "cell_type": "code",
      "metadata": {
        "id": "zrpUHyl0RywH",
        "colab_type": "code",
        "colab": {}
      },
      "source": [
        "df = df_caption.copy()\n",
        "import re\n",
        "def strip_character(dataCol):\n",
        "    r = re.compile(r'[^a-zA-Z]')\n",
        "    return r.sub(' ', str(dataCol))\n",
        "\n",
        "df['caption'] = df['caption'].apply(strip_character)"
      ],
      "execution_count": 0,
      "outputs": []
    },
    {
      "cell_type": "markdown",
      "metadata": {
        "id": "C6g9rYlFSfsk",
        "colab_type": "text"
      },
      "source": [
        "## 2.2 ###delete - Removing Stopwords\n"
      ]
    },
    {
      "cell_type": "code",
      "metadata": {
        "id": "HKt_t5K7R9hg",
        "colab_type": "code",
        "outputId": "cbafb78a-95c1-411a-b129-be1813810f93",
        "colab": {
          "base_uri": "https://localhost:8080/",
          "height": 102
        }
      },
      "source": [
        "import nltk\n",
        "nltk.download('stopwords')\n",
        "from nltk.corpus import stopwords\n",
        "import nltk\n",
        "nltk.download('wordnet')"
      ],
      "execution_count": 29,
      "outputs": [
        {
          "output_type": "stream",
          "text": [
            "[nltk_data] Downloading package stopwords to /root/nltk_data...\n",
            "[nltk_data]   Package stopwords is already up-to-date!\n",
            "[nltk_data] Downloading package wordnet to /root/nltk_data...\n",
            "[nltk_data]   Package wordnet is already up-to-date!\n"
          ],
          "name": "stdout"
        },
        {
          "output_type": "execute_result",
          "data": {
            "text/plain": [
              "True"
            ]
          },
          "metadata": {
            "tags": []
          },
          "execution_count": 29
        }
      ]
    },
    {
      "cell_type": "code",
      "metadata": {
        "id": "gPwe35vWSLi9",
        "colab_type": "code",
        "colab": {}
      },
      "source": [
        "stop = stopwords.words('english') "
      ],
      "execution_count": 0,
      "outputs": []
    },
    {
      "cell_type": "markdown",
      "metadata": {
        "id": "aObj5TZeStgS",
        "colab_type": "text"
      },
      "source": [
        "## 2.3 ###delete - Lemmatization\n"
      ]
    },
    {
      "cell_type": "code",
      "metadata": {
        "id": "byKYdzFBSmA5",
        "colab_type": "code",
        "outputId": "7f54ca00-6111-4b24-9d6b-42dd572aed44",
        "colab": {
          "base_uri": "https://localhost:8080/",
          "height": 119
        }
      },
      "source": [
        "df['caption'] = df['caption'].apply(lambda x: ' '.join([item for item in x.split() if item not in stop]))\n",
        "df['caption'].head()"
      ],
      "execution_count": 31,
      "outputs": [
        {
          "output_type": "execute_result",
          "data": {
            "text/plain": [
              "0                   blonde woman massaged tilt\n",
              "1    roulette table spinning ball closeup shot\n",
              "2                                khr gangsters\n",
              "3            medical helicopter hovers airport\n",
              "4            couple relaxing picnic crane shot\n",
              "Name: caption, dtype: object"
            ]
          },
          "metadata": {
            "tags": []
          },
          "execution_count": 31
        }
      ]
    },
    {
      "cell_type": "markdown",
      "metadata": {
        "id": "T24E7kcKTKRQ",
        "colab_type": "text"
      },
      "source": [
        "## 2.4 Extracting unique words count"
      ]
    },
    {
      "cell_type": "code",
      "metadata": {
        "id": "GP64_dCASqDC",
        "colab_type": "code",
        "colab": {}
      },
      "source": [
        "word_counts = Counter()\n",
        "for i, cap in enumerate(df['caption']):\n",
        "    word_counts.update(cap.split())"
      ],
      "execution_count": 0,
      "outputs": []
    },
    {
      "cell_type": "code",
      "metadata": {
        "id": "7I0OqyWXTQOF",
        "colab_type": "code",
        "outputId": "e53df494-36d3-45c2-b86b-4821657bf9c6",
        "colab": {
          "base_uri": "https://localhost:8080/",
          "height": 102
        }
      },
      "source": [
        "df.caption.values"
      ],
      "execution_count": 33,
      "outputs": [
        {
          "output_type": "execute_result",
          "data": {
            "text/plain": [
              "array(['blonde woman massaged tilt',\n",
              "       'roulette table spinning ball closeup shot', 'khr gangsters', ...,\n",
              "       'students walking university mexico', 'beautiful black woman spa',\n",
              "       'beautiful modern brunette woman using tablet computer luxury bed'],\n",
              "      dtype=object)"
            ]
          },
          "metadata": {
            "tags": []
          },
          "execution_count": 33
        }
      ]
    },
    {
      "cell_type": "markdown",
      "metadata": {
        "id": "qeQDGzKyTjPV",
        "colab_type": "text"
      },
      "source": [
        "##\t2.5 Trying an n-Gram approach- Using TF-IDF"
      ]
    },
    {
      "cell_type": "code",
      "metadata": {
        "id": "1zmJMQfSTTpd",
        "colab_type": "code",
        "colab": {}
      },
      "source": [
        "vect = TfidfVectorizer(ngram_range = (1,4)).fit(df.caption)\n",
        "vect_transformed_X_train = vect.transform(df.caption)\n",
        "token_len = len(vect.get_feature_names())"
      ],
      "execution_count": 0,
      "outputs": []
    },
    {
      "cell_type": "code",
      "metadata": {
        "id": "KJwR7ZlVTtVJ",
        "colab_type": "code",
        "outputId": "57a09498-7be6-4a17-bdd9-83186dd002e7",
        "colab": {
          "base_uri": "https://localhost:8080/",
          "height": 34
        }
      },
      "source": [
        "token_len"
      ],
      "execution_count": 35,
      "outputs": [
        {
          "output_type": "execute_result",
          "data": {
            "text/plain": [
              "59584"
            ]
          },
          "metadata": {
            "tags": []
          },
          "execution_count": 35
        }
      ]
    },
    {
      "cell_type": "markdown",
      "metadata": {
        "id": "Xa7X_qzhUVmE",
        "colab_type": "text"
      },
      "source": [
        "##\t2.6 Maping each unique word to an integer using one-hot encoding"
      ]
    },
    {
      "cell_type": "code",
      "metadata": {
        "id": "lLaHB1RAUR-q",
        "colab_type": "code",
        "colab": {}
      },
      "source": [
        "# build the word index\n",
        "token_len = len(word_counts)\n",
        "tokenizer = Tokenizer(num_words=token_len)\n"
      ],
      "execution_count": 0,
      "outputs": []
    },
    {
      "cell_type": "code",
      "metadata": {
        "id": "xklbDQySUaxF",
        "colab_type": "code",
        "colab": {}
      },
      "source": [
        "#fit a list of captions to the tokenizer\n",
        "#the tokenizer vectorizes a text corpus, by turning each text into either a sequence of integers \n",
        "\n",
        "tokenizer.fit_on_texts(list(vect.get_feature_names()))"
      ],
      "execution_count": 0,
      "outputs": []
    },
    {
      "cell_type": "code",
      "metadata": {
        "id": "QRkU8HG9UiTM",
        "colab_type": "code",
        "colab": {}
      },
      "source": [
        "#sequences = tokenizer.texts_to_sequences(list(df.caption.values))\n",
        "\n",
        "onehot_encode = tokenizer.texts_to_matrix(list(df.caption.values),mode='binary')\n"
      ],
      "execution_count": 0,
      "outputs": []
    },
    {
      "cell_type": "code",
      "metadata": {
        "id": "aNGyDR9qUpVN",
        "colab_type": "code",
        "outputId": "c8941ded-bb3d-46ae-a125-33a597c0b847",
        "colab": {
          "base_uri": "https://localhost:8080/",
          "height": 34
        }
      },
      "source": [
        "len(onehot_encode)"
      ],
      "execution_count": 39,
      "outputs": [
        {
          "output_type": "execute_result",
          "data": {
            "text/plain": [
              "6000"
            ]
          },
          "metadata": {
            "tags": []
          },
          "execution_count": 39
        }
      ]
    },
    {
      "cell_type": "code",
      "metadata": {
        "id": "3jmEXR2xUs8G",
        "colab_type": "code",
        "outputId": "8992f854-2a47-4368-ccad-c0ebf6c0c1f7",
        "colab": {
          "base_uri": "https://localhost:8080/",
          "height": 34
        }
      },
      "source": [
        "onehot_encode.shape"
      ],
      "execution_count": 40,
      "outputs": [
        {
          "output_type": "execute_result",
          "data": {
            "text/plain": [
              "(6000, 5098)"
            ]
          },
          "metadata": {
            "tags": []
          },
          "execution_count": 40
        }
      ]
    },
    {
      "cell_type": "markdown",
      "metadata": {
        "id": "TO3d5KAFUueE",
        "colab_type": "text"
      },
      "source": [
        "#\t3 Predicting video memorability using captions"
      ]
    },
    {
      "cell_type": "markdown",
      "metadata": {
        "id": "iVLfNcC1VfT5",
        "colab_type": "text"
      },
      "source": [
        "##\t3.1 Recurrent Neural Network model"
      ]
    },
    {
      "cell_type": "code",
      "metadata": {
        "id": "ZUEq7AksUrkk",
        "colab_type": "code",
        "colab": {}
      },
      "source": [
        "Y = labels[['short-term_memorability','long-term_memorability']].values\n",
        "X = onehot_encode;\n",
        "X_train, X_test, Y_train, Y_test = train_test_split(X,Y, test_size=0.2, random_state=42)"
      ],
      "execution_count": 0,
      "outputs": []
    },
    {
      "cell_type": "markdown",
      "metadata": {
        "id": "YqvOJpRrVkvK",
        "colab_type": "text"
      },
      "source": [
        ""
      ]
    },
    {
      "cell_type": "code",
      "metadata": {
        "id": "qYi26tF-Vjxr",
        "colab_type": "code",
        "outputId": "4ddbef22-e244-4d3f-caa1-2df803df95b9",
        "colab": {
          "base_uri": "https://localhost:8080/",
          "height": 323
        }
      },
      "source": [
        "# add dropout\n",
        "# add regularizers\n",
        "\n",
        "model = Sequential()\n",
        "\n",
        "model.add(layers.Dense(220,activation='relu',kernel_regularizer=None,input_shape=(token_len,)))\n",
        "model.add(layers.Dropout(0.5))\n",
        "\n",
        "model.add(layers.Dense(220,activation='relu',kernel_regularizer=regularizers.l2(0.001)))\n",
        "model.add(layers.Dropout(0.3))\n",
        "model.add(layers.Dense(2,activation='sigmoid'))\n",
        "model.summary()\n"
      ],
      "execution_count": 80,
      "outputs": [
        {
          "output_type": "stream",
          "text": [
            "Model: \"sequential_16\"\n",
            "_________________________________________________________________\n",
            "Layer (type)                 Output Shape              Param #   \n",
            "=================================================================\n",
            "dense_37 (Dense)             (None, 220)               1121780   \n",
            "_________________________________________________________________\n",
            "dropout_24 (Dropout)         (None, 220)               0         \n",
            "_________________________________________________________________\n",
            "dense_38 (Dense)             (None, 220)               48620     \n",
            "_________________________________________________________________\n",
            "dropout_25 (Dropout)         (None, 220)               0         \n",
            "_________________________________________________________________\n",
            "dense_39 (Dense)             (None, 2)                 442       \n",
            "=================================================================\n",
            "Total params: 1,170,842\n",
            "Trainable params: 1,170,842\n",
            "Non-trainable params: 0\n",
            "_________________________________________________________________\n"
          ],
          "name": "stdout"
        }
      ]
    },
    {
      "cell_type": "code",
      "metadata": {
        "id": "V3txRcr6WHsW",
        "colab_type": "code",
        "outputId": "94e3ec47-f0f5-4ff1-a103-22dcf015b81d",
        "colab": {
          "base_uri": "https://localhost:8080/",
          "height": 1000
        }
      },
      "source": [
        "          \n",
        "# compile the model \n",
        "model.compile(optimizer='rmsprop',loss='mse',metrics=['accuracy'])\n",
        "\n",
        "# training the model \n",
        "history = model.fit(X_train,Y_train,epochs=20,validation_data=(X_test,Y_test))\n",
        "\n",
        "# visualizing the model\n",
        "loss = history.history['loss']\n",
        "val_loss = history.history['val_loss']\n",
        "\n",
        "epochs = range(1,len(loss)+1)\n",
        "\n",
        "plt.plot(epochs,loss,'bo',label='Training loss')\n",
        "plt.plot(epochs,val_loss,'b',label='Validation loss')\n",
        "plt.title('Training and validation loss')\n",
        "plt.xlabel('Epochs')\n",
        "plt.ylabel('Loss')\n",
        "plt.legend()\n",
        "plt.show()\n",
        "\n",
        "plt.figure()\n",
        "acc = history.history['acc']\n",
        "val_acc = history.history['val_acc']\n",
        "plt.plot(epochs, acc, 'bo', label='Training acc')\n",
        "plt.plot(epochs, val_acc, 'b', label='Validation acc')\n",
        "plt.title('Training and validation accuracy')\n",
        "plt.xlabel('Epochs')\n",
        "plt.ylabel('Acc')\n",
        "plt.legend()\n",
        "plt.show()\n"
      ],
      "execution_count": 74,
      "outputs": [
        {
          "output_type": "stream",
          "text": [
            "Train on 4800 samples, validate on 1200 samples\n",
            "Epoch 1/20\n",
            "4800/4800 [==============================] - 2s 492us/sample - loss: 0.0687 - acc: 0.6917 - val_loss: 0.0166 - val_acc: 0.7100\n",
            "Epoch 2/20\n",
            "4800/4800 [==============================] - 2s 445us/sample - loss: 0.0142 - acc: 0.7038 - val_loss: 0.0140 - val_acc: 0.7100\n",
            "Epoch 3/20\n",
            "4800/4800 [==============================] - 2s 443us/sample - loss: 0.0131 - acc: 0.7035 - val_loss: 0.0138 - val_acc: 0.7100\n",
            "Epoch 4/20\n",
            "4800/4800 [==============================] - 2s 451us/sample - loss: 0.0124 - acc: 0.7035 - val_loss: 0.0140 - val_acc: 0.7100\n",
            "Epoch 5/20\n",
            "4800/4800 [==============================] - 2s 444us/sample - loss: 0.0121 - acc: 0.7035 - val_loss: 0.0141 - val_acc: 0.7100\n",
            "Epoch 6/20\n",
            "4800/4800 [==============================] - 2s 448us/sample - loss: 0.0116 - acc: 0.7038 - val_loss: 0.0145 - val_acc: 0.7100\n",
            "Epoch 7/20\n",
            "4800/4800 [==============================] - 2s 440us/sample - loss: 0.0111 - acc: 0.7035 - val_loss: 0.0145 - val_acc: 0.7100\n",
            "Epoch 8/20\n",
            "4800/4800 [==============================] - 2s 449us/sample - loss: 0.0107 - acc: 0.7046 - val_loss: 0.0147 - val_acc: 0.7100\n",
            "Epoch 9/20\n",
            "4800/4800 [==============================] - 2s 444us/sample - loss: 0.0104 - acc: 0.7040 - val_loss: 0.0151 - val_acc: 0.7100\n",
            "Epoch 10/20\n",
            "4800/4800 [==============================] - 2s 457us/sample - loss: 0.0100 - acc: 0.7075 - val_loss: 0.0152 - val_acc: 0.7108\n",
            "Epoch 11/20\n",
            "4800/4800 [==============================] - 2s 445us/sample - loss: 0.0098 - acc: 0.7160 - val_loss: 0.0154 - val_acc: 0.7100\n",
            "Epoch 12/20\n",
            "4800/4800 [==============================] - 2s 443us/sample - loss: 0.0094 - acc: 0.7208 - val_loss: 0.0157 - val_acc: 0.7125\n",
            "Epoch 13/20\n",
            "4800/4800 [==============================] - 2s 451us/sample - loss: 0.0092 - acc: 0.7248 - val_loss: 0.0161 - val_acc: 0.7025\n",
            "Epoch 14/20\n",
            "4800/4800 [==============================] - 2s 453us/sample - loss: 0.0090 - acc: 0.7285 - val_loss: 0.0161 - val_acc: 0.6983\n",
            "Epoch 15/20\n",
            "4800/4800 [==============================] - 2s 460us/sample - loss: 0.0087 - acc: 0.7446 - val_loss: 0.0163 - val_acc: 0.6183\n",
            "Epoch 16/20\n",
            "4800/4800 [==============================] - 2s 448us/sample - loss: 0.0084 - acc: 0.7448 - val_loss: 0.0165 - val_acc: 0.6958\n",
            "Epoch 17/20\n",
            "4800/4800 [==============================] - 2s 454us/sample - loss: 0.0082 - acc: 0.7542 - val_loss: 0.0165 - val_acc: 0.6925\n",
            "Epoch 18/20\n",
            "4800/4800 [==============================] - 2s 452us/sample - loss: 0.0081 - acc: 0.7579 - val_loss: 0.0167 - val_acc: 0.6800\n",
            "Epoch 19/20\n",
            "4800/4800 [==============================] - 2s 451us/sample - loss: 0.0078 - acc: 0.7583 - val_loss: 0.0168 - val_acc: 0.6250\n",
            "Epoch 20/20\n",
            "4800/4800 [==============================] - 2s 455us/sample - loss: 0.0077 - acc: 0.7744 - val_loss: 0.0167 - val_acc: 0.6633\n"
          ],
          "name": "stdout"
        },
        {
          "output_type": "display_data",
          "data": {
            "image/png": "[encoded data removed]",
            "text/plain": [
              "<Figure size 432x288 with 1 Axes>"
            ]
          },
          "metadata": {
            "tags": [],
            "needs_background": "light"
          }
        },
        {
          "output_type": "display_data",
          "data": {
            "image/png": "[encoded data removed]",
            "text/plain": [
              "<Figure size 432x288 with 1 Axes>"
            ]
          },
          "metadata": {
            "tags": [],
            "needs_background": "light"
          }
        }
      ]
    },
    {
      "cell_type": "code",
      "metadata": {
        "id": "Fz7B6VDQW8Z2",
        "colab_type": "code",
        "outputId": "10455c6f-1f5f-4e44-ce09-21678a8efe44",
        "colab": {
          "base_uri": "https://localhost:8080/",
          "height": 34
        }
      },
      "source": [
        "predictions = model.predict(X_test)\n",
        "print(predictions.shape)\n"
      ],
      "execution_count": 75,
      "outputs": [
        {
          "output_type": "stream",
          "text": [
            "(1200, 2)\n"
          ],
          "name": "stdout"
        }
      ]
    },
    {
      "cell_type": "code",
      "metadata": {
        "id": "yfCmZr-lFhE8",
        "colab_type": "code",
        "colab": {}
      },
      "source": [
        "Y_pred_train = model.predict(X_train)\n",
        "#Y_pred_val = model.predict(X_test)"
      ],
      "execution_count": 0,
      "outputs": []
    },
    {
      "cell_type": "code",
      "metadata": {
        "id": "G1WAJlhBW_2e",
        "colab_type": "code",
        "outputId": "af0e5836-4e8d-4282-a7a2-217036c2a7ad",
        "colab": {
          "base_uri": "https://localhost:8080/",
          "height": 68
        }
      },
      "source": [
        "print('='*20)\n",
        "Get_score(predictions, Y_test)"
      ],
      "execution_count": 77,
      "outputs": [
        {
          "output_type": "stream",
          "text": [
            "====================\n",
            "The Spearman's correlation coefficient is: 0.435\n",
            "The Spearman's correlation coefficient is: 0.159\n"
          ],
          "name": "stdout"
        }
      ]
    },
    {
      "cell_type": "markdown",
      "metadata": {
        "id": "xEgaShcqXOvf",
        "colab_type": "text"
      },
      "source": [
        "**Saving the model**"
      ]
    },
    {
      "cell_type": "code",
      "metadata": {
        "id": "_rPrz6Q2XDHa",
        "colab_type": "code",
        "colab": {}
      },
      "source": [
        "model.save('/content/drive/My Drive/my_model.h5')  # creates a HDF5 file 'my_model.h5'"
      ],
      "execution_count": 0,
      "outputs": []
    },
    {
      "cell_type": "markdown",
      "metadata": {
        "id": "T5RJEvjxXTTa",
        "colab_type": "text"
      },
      "source": [
        "##\t3.2 Random Forest Model"
      ]
    },
    {
      "cell_type": "code",
      "metadata": {
        "id": "a5MLIDZjXIA5",
        "colab_type": "code",
        "colab": {}
      },
      "source": [
        "from sklearn.ensemble import RandomForestRegressor"
      ],
      "execution_count": 0,
      "outputs": []
    },
    {
      "cell_type": "code",
      "metadata": {
        "id": "-Ut2cKqXXboD",
        "colab_type": "code",
        "colab": {}
      },
      "source": [
        "rf3 = RandomForestRegressor(n_estimators = 10, random_state = 0).fit(X_train, Y_train);"
      ],
      "execution_count": 0,
      "outputs": []
    },
    {
      "cell_type": "code",
      "metadata": {
        "id": "atXfua9wXjD3",
        "colab_type": "code",
        "outputId": "eb32ccba-6f0a-4843-819c-72d4e6dbacfc",
        "colab": {
          "base_uri": "https://localhost:8080/",
          "height": 51
        }
      },
      "source": [
        "y_predict = rf3.predict(X_test)\n",
        "Get_score(y_predict, Y_test)\n"
      ],
      "execution_count": 56,
      "outputs": [
        {
          "output_type": "stream",
          "text": [
            "The Spearman's correlation coefficient is: 0.395\n",
            "The Spearman's correlation coefficient is: 0.183\n"
          ],
          "name": "stdout"
        }
      ]
    },
    {
      "cell_type": "markdown",
      "metadata": {
        "id": "zQmpnUOiYsWk",
        "colab_type": "text"
      },
      "source": [
        "##\t3.3 Linear Regression"
      ]
    },
    {
      "cell_type": "code",
      "metadata": {
        "id": "0UU9nB-sYqnz",
        "colab_type": "code",
        "colab": {}
      },
      "source": [
        "from sklearn.linear_model import LinearRegression\n",
        "from sklearn.datasets import make_regression\n",
        "\n"
      ],
      "execution_count": 0,
      "outputs": []
    },
    {
      "cell_type": "code",
      "metadata": {
        "id": "Ltrpmuq2Yxxb",
        "colab_type": "code",
        "colab": {}
      },
      "source": [
        "modelLR = LinearRegression().fit(X_train, Y_train)"
      ],
      "execution_count": 0,
      "outputs": []
    },
    {
      "cell_type": "code",
      "metadata": {
        "id": "XOQY0p2QWwoY",
        "colab_type": "code",
        "outputId": "47208fc4-82de-466c-f04c-721effad36ed",
        "colab": {
          "base_uri": "https://localhost:8080/",
          "height": 50
        }
      },
      "source": [
        "ynew = modelLR.predict(X_test)\n",
        "Get_score(y_predict, Y_test)"
      ],
      "execution_count": 0,
      "outputs": [
        {
          "output_type": "stream",
          "text": [
            "The Spearman's correlation coefficient is: 0.381\n",
            "The Spearman's correlation coefficient is: 0.164\n"
          ],
          "name": "stdout"
        }
      ]
    },
    {
      "cell_type": "code",
      "metadata": {
        "id": "nv0sPQSEY-o8",
        "colab_type": "code",
        "colab": {}
      },
      "source": [
        ""
      ],
      "execution_count": 0,
      "outputs": []
    },
    {
      "cell_type": "markdown",
      "metadata": {
        "id": "NQ1BUcr_ZD59",
        "colab_type": "text"
      },
      "source": [
        "##\t3.4 Support Vector Machines - SVR\n",
        "\n",
        "### SVR-Short Term memorablity"
      ]
    },
    {
      "cell_type": "code",
      "metadata": {
        "id": "EP3kTvm2ZiSa",
        "colab_type": "code",
        "outputId": "23891d0b-d22f-4efd-941d-d12371db871b",
        "colab": {
          "base_uri": "https://localhost:8080/",
          "height": 70
        }
      },
      "source": [
        "from sklearn.svm import SVR\n",
        "Y_short = labels[['short-term_memorability']].values\n",
        "X = onehot_encode;\n",
        "X_train, X_test, Y_train_short, Y_test_short = train_test_split(X,Y_short, test_size=0.2, random_state=42)\n",
        "modelSVR_short = SVR(C=100).fit(X_train,Y_train_short)\n"
      ],
      "execution_count": 0,
      "outputs": [
        {
          "output_type": "stream",
          "text": [
            "/usr/local/lib/python3.6/dist-packages/sklearn/utils/validation.py:760: DataConversionWarning: A column-vector y was passed when a 1d array was expected. Please change the shape of y to (n_samples, ), for example using ravel().\n",
            "  y = column_or_1d(y, warn=True)\n"
          ],
          "name": "stderr"
        }
      ]
    },
    {
      "cell_type": "markdown",
      "metadata": {
        "id": "9XWVxO-paICn",
        "colab_type": "text"
      },
      "source": [
        "### SVR-Long Term memorablity"
      ]
    },
    {
      "cell_type": "code",
      "metadata": {
        "id": "-KsuLG6DZ_rZ",
        "colab_type": "code",
        "colab": {}
      },
      "source": [
        "Y_long = labels[['long-term_memorability']].values\n",
        "X_train, X_test,Y_train_long, Y_test_long = train_test_split(X,Y_long, test_size=0.2, random_state=42)\n"
      ],
      "execution_count": 0,
      "outputs": []
    },
    {
      "cell_type": "code",
      "metadata": {
        "id": "O2NQb1rWaNIC",
        "colab_type": "code",
        "outputId": "7d77c141-6baa-4c37-db7f-4714c1a12a67",
        "colab": {
          "base_uri": "https://localhost:8080/",
          "height": 70
        }
      },
      "source": [
        "Y_test_long.shape\n",
        "modelSVR_long = SVR(C=100).fit(X_train,Y_train_long)\n"
      ],
      "execution_count": 0,
      "outputs": [
        {
          "output_type": "stream",
          "text": [
            "/usr/local/lib/python3.6/dist-packages/sklearn/utils/validation.py:760: DataConversionWarning: A column-vector y was passed when a 1d array was expected. Please change the shape of y to (n_samples, ), for example using ravel().\n",
            "  y = column_or_1d(y, warn=True)\n"
          ],
          "name": "stderr"
        }
      ]
    },
    {
      "cell_type": "code",
      "metadata": {
        "id": "Z3YPfpqraRIu",
        "colab_type": "code",
        "outputId": "ada78571-185b-4f90-e813-5f4ab80238aa",
        "colab": {
          "base_uri": "https://localhost:8080/",
          "height": 178
        }
      },
      "source": [
        "predictionsSVR_long = modelSVR_long.predict(X_test)\n",
        "Get_score(predictionsSVR_long,Y_test_long)\n"
      ],
      "execution_count": 0,
      "outputs": [
        {
          "output_type": "error",
          "ename": "NameError",
          "evalue": "ignored",
          "traceback": [
            "\u001b[0;31m---------------------------------------------------------------------------\u001b[0m",
            "\u001b[0;31mNameError\u001b[0m                                 Traceback (most recent call last)",
            "\u001b[0;32m<ipython-input-44-3c040c4c3d47>\u001b[0m in \u001b[0;36m<module>\u001b[0;34m()\u001b[0m\n\u001b[0;32m----> 1\u001b[0;31m \u001b[0mpredictionsSVR_long\u001b[0m \u001b[0;34m=\u001b[0m \u001b[0mmodelSVR_long\u001b[0m\u001b[0;34m.\u001b[0m\u001b[0mpredict\u001b[0m\u001b[0;34m(\u001b[0m\u001b[0mX_test\u001b[0m\u001b[0;34m)\u001b[0m\u001b[0;34m\u001b[0m\u001b[0;34m\u001b[0m\u001b[0m\n\u001b[0m\u001b[1;32m      2\u001b[0m \u001b[0mGet_score\u001b[0m\u001b[0;34m(\u001b[0m\u001b[0mpredictionsSVR_long\u001b[0m\u001b[0;34m,\u001b[0m\u001b[0mY_test_long\u001b[0m\u001b[0;34m)\u001b[0m\u001b[0;34m\u001b[0m\u001b[0;34m\u001b[0m\u001b[0m\n",
            "\u001b[0;31mNameError\u001b[0m: name 'modelSVR_long' is not defined"
          ]
        }
      ]
    },
    {
      "cell_type": "markdown",
      "metadata": {
        "id": "Qcjyea4Kaz-W",
        "colab_type": "text"
      },
      "source": [
        "##\t3.5 Decision Tree"
      ]
    },
    {
      "cell_type": "code",
      "metadata": {
        "id": "rTznllJMapp2",
        "colab_type": "code",
        "colab": {}
      },
      "source": [
        "from sklearn.tree import DecisionTreeRegressor"
      ],
      "execution_count": 0,
      "outputs": []
    },
    {
      "cell_type": "code",
      "metadata": {
        "id": "cNfBp7gma3uh",
        "colab_type": "code",
        "colab": {}
      },
      "source": [
        "regr = DecisionTreeRegressor(max_depth=10)\n",
        "regr.fit(X_train, Y_train)\n",
        "pred_test_dtr = regr.predict(X_test)\n"
      ],
      "execution_count": 0,
      "outputs": []
    },
    {
      "cell_type": "code",
      "metadata": {
        "id": "Ax4S7qO6a5wx",
        "colab_type": "code",
        "outputId": "ce8ef5f1-9a7d-4763-a493-d9575bf3cf61",
        "colab": {
          "base_uri": "https://localhost:8080/",
          "height": 50
        }
      },
      "source": [
        "Get_score(pred_test_dtr, Y_test)"
      ],
      "execution_count": 0,
      "outputs": [
        {
          "output_type": "stream",
          "text": [
            "The Spearman's correlation coefficient is: 0.257\n",
            "The Spearman's correlation coefficient is: 0.139\n"
          ],
          "name": "stdout"
        }
      ]
    },
    {
      "cell_type": "markdown",
      "metadata": {
        "id": "BbLQkf5bbEHN",
        "colab_type": "text"
      },
      "source": [
        "#4 Predicting video memorability using Video features\n",
        "\n"
      ]
    },
    {
      "cell_type": "markdown",
      "metadata": {
        "id": "bQ-hlvsYSDtN",
        "colab_type": "text"
      },
      "source": [
        "##\t4.1 Using C3D feature"
      ]
    },
    {
      "cell_type": "code",
      "metadata": {
        "id": "CIP7_hY_a77r",
        "colab_type": "code",
        "colab": {}
      },
      "source": [
        "def read_C3D(fname):\n",
        "    \"\"\"Scan vectors from file\"\"\"\n",
        "    with open(fname) as f:\n",
        "        for line in f:\n",
        "            C3D =[float(item) for item in line.split()] # convert to float type, using default separator\n",
        "    return C3D\n",
        "\n",
        "def vname2ID(vnames):\n",
        "    \"\"\"Parse video digital id from its name\n",
        "    vnames: a list contains file names\"\"\"\n",
        "    vid = [ os.path.splitext(vn)[0]+'.webm' for vn in vnames]\n",
        "    return vid\n"
      ],
      "execution_count": 0,
      "outputs": []
    },
    {
      "cell_type": "code",
      "metadata": {
        "id": "-5Obavik1A6m",
        "colab_type": "code",
        "colab": {
          "base_uri": "https://localhost:8080/",
          "height": 231
        },
        "outputId": "1d441263-3590-4568-b7ec-83e601a34707"
      },
      "source": [
        "\n",
        "model = Sequential()\n",
        "model.add(layers.Dense(220,activation='relu',kernel_regularizer=None,input_shape=(HMP_X.shape[1],)))\n",
        "model.add(layers.Dropout(0.5))\n",
        "\n",
        "model.add(layers.Dense(220,activation='relu',kernel_regularizer=regularizers.l2(0.001)))\n",
        "model.add(layers.Dropout(0.5))\n",
        "\n",
        "model.add(layers.Dense(2,activation='sigmoid'))\n",
        "model.summary()"
      ],
      "execution_count": 47,
      "outputs": [
        {
          "output_type": "error",
          "ename": "NameError",
          "evalue": "ignored",
          "traceback": [
            "\u001b[0;31m---------------------------------------------------------------------------\u001b[0m",
            "\u001b[0;31mNameError\u001b[0m                                 Traceback (most recent call last)",
            "\u001b[0;32m<ipython-input-47-0fa4628fc1ce>\u001b[0m in \u001b[0;36m<module>\u001b[0;34m()\u001b[0m\n\u001b[1;32m      1\u001b[0m \u001b[0;34m\u001b[0m\u001b[0m\n\u001b[1;32m      2\u001b[0m \u001b[0mmodel\u001b[0m \u001b[0;34m=\u001b[0m \u001b[0mSequential\u001b[0m\u001b[0;34m(\u001b[0m\u001b[0;34m)\u001b[0m\u001b[0;34m\u001b[0m\u001b[0;34m\u001b[0m\u001b[0m\n\u001b[0;32m----> 3\u001b[0;31m \u001b[0mmodel\u001b[0m\u001b[0;34m.\u001b[0m\u001b[0madd\u001b[0m\u001b[0;34m(\u001b[0m\u001b[0mlayers\u001b[0m\u001b[0;34m.\u001b[0m\u001b[0mDense\u001b[0m\u001b[0;34m(\u001b[0m\u001b[0;36m220\u001b[0m\u001b[0;34m,\u001b[0m\u001b[0mactivation\u001b[0m\u001b[0;34m=\u001b[0m\u001b[0;34m'relu'\u001b[0m\u001b[0;34m,\u001b[0m\u001b[0mkernel_regularizer\u001b[0m\u001b[0;34m=\u001b[0m\u001b[0;32mNone\u001b[0m\u001b[0;34m,\u001b[0m\u001b[0minput_shape\u001b[0m\u001b[0;34m=\u001b[0m\u001b[0;34m(\u001b[0m\u001b[0mHMP_X\u001b[0m\u001b[0;34m.\u001b[0m\u001b[0mshape\u001b[0m\u001b[0;34m[\u001b[0m\u001b[0;36m1\u001b[0m\u001b[0;34m]\u001b[0m\u001b[0;34m,\u001b[0m\u001b[0;34m)\u001b[0m\u001b[0;34m)\u001b[0m\u001b[0;34m)\u001b[0m\u001b[0;34m\u001b[0m\u001b[0;34m\u001b[0m\u001b[0m\n\u001b[0m\u001b[1;32m      4\u001b[0m \u001b[0mmodel\u001b[0m\u001b[0;34m.\u001b[0m\u001b[0madd\u001b[0m\u001b[0;34m(\u001b[0m\u001b[0mlayers\u001b[0m\u001b[0;34m.\u001b[0m\u001b[0mDropout\u001b[0m\u001b[0;34m(\u001b[0m\u001b[0;36m0.5\u001b[0m\u001b[0;34m)\u001b[0m\u001b[0;34m)\u001b[0m\u001b[0;34m\u001b[0m\u001b[0;34m\u001b[0m\u001b[0m\n\u001b[1;32m      5\u001b[0m \u001b[0;34m\u001b[0m\u001b[0m\n",
            "\u001b[0;31mNameError\u001b[0m: name 'HMP_X' is not defined"
          ]
        }
      ]
    },
    {
      "cell_type": "code",
      "metadata": {
        "id": "VGHFdoCN1BHd",
        "colab_type": "code",
        "colab": {}
      },
      "source": [
        ""
      ],
      "execution_count": 0,
      "outputs": []
    },
    {
      "cell_type": "code",
      "metadata": {
        "id": "2zaMEhJM1BQ3",
        "colab_type": "code",
        "colab": {}
      },
      "source": [
        ""
      ],
      "execution_count": 0,
      "outputs": []
    },
    {
      "cell_type": "code",
      "metadata": {
        "id": "ButdemvH1Bbe",
        "colab_type": "code",
        "colab": {}
      },
      "source": [
        ""
      ],
      "execution_count": 0,
      "outputs": []
    },
    {
      "cell_type": "code",
      "metadata": {
        "id": "wT80orUKp5YC",
        "colab_type": "code",
        "colab": {
          "base_uri": "https://localhost:8080/",
          "height": 357
        },
        "outputId": "fed51ddc-3d52-4bf8-c26b-7a71029b9629"
      },
      "source": [
        "Feature_path_C3D = '/content/drive/My Drive/CA684_Assignment/Dev-set/'\n",
        "# Load video related features first\n",
        "# it helps with the organization of the video names\n",
        "vid = labels.video.values\n",
        "\n",
        "Feature_C3D = pd.DataFrame({'video': vid,\n",
        "                   'C3D': [read_C3D(Feature_path_C3D+'C3D'+'/'+os.path.splitext(item)[0]+'.txt') for item in vid],\n",
        "                       })"
      ],
      "execution_count": 45,
      "outputs": [
        {
          "output_type": "error",
          "ename": "KeyboardInterrupt",
          "evalue": "ignored",
          "traceback": [
            "\u001b[0;31m---------------------------------------------------------------------------\u001b[0m",
            "\u001b[0;31mKeyboardInterrupt\u001b[0m                         Traceback (most recent call last)",
            "\u001b[0;32m<ipython-input-45-122cb25bc847>\u001b[0m in \u001b[0;36m<module>\u001b[0;34m()\u001b[0m\n\u001b[1;32m      5\u001b[0m \u001b[0;34m\u001b[0m\u001b[0m\n\u001b[1;32m      6\u001b[0m Feature_C3D = pd.DataFrame({'video': vid,\n\u001b[0;32m----> 7\u001b[0;31m                    \u001b[0;34m'C3D'\u001b[0m\u001b[0;34m:\u001b[0m \u001b[0;34m[\u001b[0m\u001b[0mread_C3D\u001b[0m\u001b[0;34m(\u001b[0m\u001b[0mFeature_path_C3D\u001b[0m\u001b[0;34m+\u001b[0m\u001b[0;34m'C3D'\u001b[0m\u001b[0;34m+\u001b[0m\u001b[0;34m'/'\u001b[0m\u001b[0;34m+\u001b[0m\u001b[0mos\u001b[0m\u001b[0;34m.\u001b[0m\u001b[0mpath\u001b[0m\u001b[0;34m.\u001b[0m\u001b[0msplitext\u001b[0m\u001b[0;34m(\u001b[0m\u001b[0mitem\u001b[0m\u001b[0;34m)\u001b[0m\u001b[0;34m[\u001b[0m\u001b[0;36m0\u001b[0m\u001b[0;34m]\u001b[0m\u001b[0;34m+\u001b[0m\u001b[0;34m'.txt'\u001b[0m\u001b[0;34m)\u001b[0m \u001b[0;32mfor\u001b[0m \u001b[0mitem\u001b[0m \u001b[0;32min\u001b[0m \u001b[0mvid\u001b[0m\u001b[0;34m]\u001b[0m\u001b[0;34m,\u001b[0m\u001b[0;34m\u001b[0m\u001b[0;34m\u001b[0m\u001b[0m\n\u001b[0m\u001b[1;32m      8\u001b[0m                        })\n",
            "\u001b[0;32m<ipython-input-45-122cb25bc847>\u001b[0m in \u001b[0;36m<listcomp>\u001b[0;34m(.0)\u001b[0m\n\u001b[1;32m      5\u001b[0m \u001b[0;34m\u001b[0m\u001b[0m\n\u001b[1;32m      6\u001b[0m Feature_C3D = pd.DataFrame({'video': vid,\n\u001b[0;32m----> 7\u001b[0;31m                    \u001b[0;34m'C3D'\u001b[0m\u001b[0;34m:\u001b[0m \u001b[0;34m[\u001b[0m\u001b[0mread_C3D\u001b[0m\u001b[0;34m(\u001b[0m\u001b[0mFeature_path_C3D\u001b[0m\u001b[0;34m+\u001b[0m\u001b[0;34m'C3D'\u001b[0m\u001b[0;34m+\u001b[0m\u001b[0;34m'/'\u001b[0m\u001b[0;34m+\u001b[0m\u001b[0mos\u001b[0m\u001b[0;34m.\u001b[0m\u001b[0mpath\u001b[0m\u001b[0;34m.\u001b[0m\u001b[0msplitext\u001b[0m\u001b[0;34m(\u001b[0m\u001b[0mitem\u001b[0m\u001b[0;34m)\u001b[0m\u001b[0;34m[\u001b[0m\u001b[0;36m0\u001b[0m\u001b[0;34m]\u001b[0m\u001b[0;34m+\u001b[0m\u001b[0;34m'.txt'\u001b[0m\u001b[0;34m)\u001b[0m \u001b[0;32mfor\u001b[0m \u001b[0mitem\u001b[0m \u001b[0;32min\u001b[0m \u001b[0mvid\u001b[0m\u001b[0;34m]\u001b[0m\u001b[0;34m,\u001b[0m\u001b[0;34m\u001b[0m\u001b[0;34m\u001b[0m\u001b[0m\n\u001b[0m\u001b[1;32m      8\u001b[0m                        })\n",
            "\u001b[0;32m<ipython-input-44-fced324aa395>\u001b[0m in \u001b[0;36mread_C3D\u001b[0;34m(fname)\u001b[0m\n\u001b[1;32m      2\u001b[0m     \u001b[0;34m\"\"\"Scan vectors from file\"\"\"\u001b[0m\u001b[0;34m\u001b[0m\u001b[0;34m\u001b[0m\u001b[0m\n\u001b[1;32m      3\u001b[0m     \u001b[0;32mwith\u001b[0m \u001b[0mopen\u001b[0m\u001b[0;34m(\u001b[0m\u001b[0mfname\u001b[0m\u001b[0;34m)\u001b[0m \u001b[0;32mas\u001b[0m \u001b[0mf\u001b[0m\u001b[0;34m:\u001b[0m\u001b[0;34m\u001b[0m\u001b[0;34m\u001b[0m\u001b[0m\n\u001b[0;32m----> 4\u001b[0;31m         \u001b[0;32mfor\u001b[0m \u001b[0mline\u001b[0m \u001b[0;32min\u001b[0m \u001b[0mf\u001b[0m\u001b[0;34m:\u001b[0m\u001b[0;34m\u001b[0m\u001b[0;34m\u001b[0m\u001b[0m\n\u001b[0m\u001b[1;32m      5\u001b[0m             \u001b[0mC3D\u001b[0m \u001b[0;34m=\u001b[0m\u001b[0;34m[\u001b[0m\u001b[0mfloat\u001b[0m\u001b[0;34m(\u001b[0m\u001b[0mitem\u001b[0m\u001b[0;34m)\u001b[0m \u001b[0;32mfor\u001b[0m \u001b[0mitem\u001b[0m \u001b[0;32min\u001b[0m \u001b[0mline\u001b[0m\u001b[0;34m.\u001b[0m\u001b[0msplit\u001b[0m\u001b[0;34m(\u001b[0m\u001b[0;34m)\u001b[0m\u001b[0;34m]\u001b[0m \u001b[0;31m# convert to float type, using default separator\u001b[0m\u001b[0;34m\u001b[0m\u001b[0;34m\u001b[0m\u001b[0m\n\u001b[1;32m      6\u001b[0m     \u001b[0;32mreturn\u001b[0m \u001b[0mC3D\u001b[0m\u001b[0;34m\u001b[0m\u001b[0;34m\u001b[0m\u001b[0m\n",
            "\u001b[0;32m/usr/lib/python3.6/codecs.py\u001b[0m in \u001b[0;36mdecode\u001b[0;34m(self, input, final)\u001b[0m\n\u001b[1;32m    316\u001b[0m         \u001b[0;32mraise\u001b[0m \u001b[0mNotImplementedError\u001b[0m\u001b[0;34m\u001b[0m\u001b[0;34m\u001b[0m\u001b[0m\n\u001b[1;32m    317\u001b[0m \u001b[0;34m\u001b[0m\u001b[0m\n\u001b[0;32m--> 318\u001b[0;31m     \u001b[0;32mdef\u001b[0m \u001b[0mdecode\u001b[0m\u001b[0;34m(\u001b[0m\u001b[0mself\u001b[0m\u001b[0;34m,\u001b[0m \u001b[0minput\u001b[0m\u001b[0;34m,\u001b[0m \u001b[0mfinal\u001b[0m\u001b[0;34m=\u001b[0m\u001b[0;32mFalse\u001b[0m\u001b[0;34m)\u001b[0m\u001b[0;34m:\u001b[0m\u001b[0;34m\u001b[0m\u001b[0;34m\u001b[0m\u001b[0m\n\u001b[0m\u001b[1;32m    319\u001b[0m         \u001b[0;31m# decode input (taking the buffer into account)\u001b[0m\u001b[0;34m\u001b[0m\u001b[0;34m\u001b[0m\u001b[0;34m\u001b[0m\u001b[0m\n\u001b[1;32m    320\u001b[0m         \u001b[0mdata\u001b[0m \u001b[0;34m=\u001b[0m \u001b[0mself\u001b[0m\u001b[0;34m.\u001b[0m\u001b[0mbuffer\u001b[0m \u001b[0;34m+\u001b[0m \u001b[0minput\u001b[0m\u001b[0;34m\u001b[0m\u001b[0;34m\u001b[0m\u001b[0m\n",
            "\u001b[0;31mKeyboardInterrupt\u001b[0m: "
          ]
        }
      ]
    },
    {
      "cell_type": "code",
      "metadata": {
        "id": "5fTShAqz3NGz",
        "colab_type": "code",
        "colab": {}
      },
      "source": [
        "X_C3D = np.stack(Feature_C3D['C3D'].values)\n",
        "Y_C3D = labels[['short-term_memorability','long-term_memorability']].values\n",
        "\n",
        "X_C3D_train, X_C3D_test, Y_C3D_train, Y_C3D_test = train_test_split(X_C3D,Y_C3D, test_size=0.2, random_state=42)\n"
      ],
      "execution_count": 0,
      "outputs": []
    },
    {
      "cell_type": "markdown",
      "metadata": {
        "id": "WefGSQ8k3gxq",
        "colab_type": "text"
      },
      "source": [
        "###\t4.1.1 Recurrent Neural Network"
      ]
    },
    {
      "cell_type": "code",
      "metadata": {
        "id": "2MQtwUap3ZqJ",
        "colab_type": "code",
        "outputId": "931564f9-6dd2-4ec3-a9f8-5f3d1329d466",
        "colab": {
          "base_uri": "https://localhost:8080/",
          "height": 700
        }
      },
      "source": [
        "C3D_model = Sequential()\n",
        "C3D_model.add(layers.Dense(200,activation='relu',kernel_regularizer=None,input_shape=(X_C3D.shape[1],)))\n",
        "C3D_model.add(layers.Dropout(0.1))\n",
        "C3D_model.add(layers.Dense(2,activation='sigmoid'))\n",
        "C3D_model.compile(optimizer='rmsprop',loss=['mae'])\n",
        "history=C3D_model.fit(x=X_C3D_train,y=Y_C3D_train,batch_size=50,epochs=20,validation_split=0.2,shuffle=True,verbose=True)\n",
        "Y_C3D_pred = C3D_model.predict(X_C3D_test)\n",
        "\n"
      ],
      "execution_count": 0,
      "outputs": [
        {
          "output_type": "stream",
          "text": [
            "Train on 3840 samples, validate on 960 samples\n",
            "Epoch 1/20\n",
            "3840/3840 [==============================] - 0s 92us/sample - loss: 0.1565 - val_loss: 0.0868\n",
            "Epoch 2/20\n",
            "3840/3840 [==============================] - 0s 41us/sample - loss: 0.0872 - val_loss: 0.0863\n",
            "Epoch 3/20\n",
            "3840/3840 [==============================] - 0s 41us/sample - loss: 0.0867 - val_loss: 0.0865\n",
            "Epoch 4/20\n",
            "3840/3840 [==============================] - 0s 43us/sample - loss: 0.0862 - val_loss: 0.0864\n",
            "Epoch 5/20\n",
            "3840/3840 [==============================] - 0s 41us/sample - loss: 0.0862 - val_loss: 0.0868\n",
            "Epoch 6/20\n",
            "3840/3840 [==============================] - 0s 43us/sample - loss: 0.0859 - val_loss: 0.0866\n",
            "Epoch 7/20\n",
            "3840/3840 [==============================] - 0s 40us/sample - loss: 0.0857 - val_loss: 0.0875\n",
            "Epoch 8/20\n",
            "3840/3840 [==============================] - 0s 41us/sample - loss: 0.0855 - val_loss: 0.0874\n",
            "Epoch 9/20\n",
            "3840/3840 [==============================] - 0s 41us/sample - loss: 0.0852 - val_loss: 0.0876\n",
            "Epoch 10/20\n",
            "3840/3840 [==============================] - 0s 41us/sample - loss: 0.0853 - val_loss: 0.0872\n",
            "Epoch 11/20\n",
            "3840/3840 [==============================] - 0s 40us/sample - loss: 0.0854 - val_loss: 0.0872\n",
            "Epoch 12/20\n",
            "3840/3840 [==============================] - 0s 43us/sample - loss: 0.0852 - val_loss: 0.0867\n",
            "Epoch 13/20\n",
            "3840/3840 [==============================] - 0s 39us/sample - loss: 0.0850 - val_loss: 0.0871\n",
            "Epoch 14/20\n",
            "3840/3840 [==============================] - 0s 42us/sample - loss: 0.0850 - val_loss: 0.0872\n",
            "Epoch 15/20\n",
            "3840/3840 [==============================] - 0s 40us/sample - loss: 0.0850 - val_loss: 0.0871\n",
            "Epoch 16/20\n",
            "3840/3840 [==============================] - 0s 40us/sample - loss: 0.0849 - val_loss: 0.0871\n",
            "Epoch 17/20\n",
            "3840/3840 [==============================] - 0s 40us/sample - loss: 0.0848 - val_loss: 0.0873\n",
            "Epoch 18/20\n",
            "3840/3840 [==============================] - 0s 42us/sample - loss: 0.0847 - val_loss: 0.0870\n",
            "Epoch 19/20\n",
            "3840/3840 [==============================] - 0s 41us/sample - loss: 0.0846 - val_loss: 0.0876\n",
            "Epoch 20/20\n",
            "3840/3840 [==============================] - 0s 38us/sample - loss: 0.0845 - val_loss: 0.0870\n"
          ],
          "name": "stdout"
        }
      ]
    },
    {
      "cell_type": "code",
      "metadata": {
        "id": "3SPAlH3g76wn",
        "colab_type": "code",
        "outputId": "40b6a219-17fa-4042-963b-443775a238d1",
        "colab": {
          "base_uri": "https://localhost:8080/",
          "height": 50
        }
      },
      "source": [
        "Get_score(Y_C3D_pred,Y_C3D_test)"
      ],
      "execution_count": 0,
      "outputs": [
        {
          "output_type": "stream",
          "text": [
            "The Spearman's correlation coefficient is: 0.280\n",
            "The Spearman's correlation coefficient is: 0.120\n"
          ],
          "name": "stdout"
        }
      ]
    },
    {
      "cell_type": "markdown",
      "metadata": {
        "id": "vSV_da9j30sn",
        "colab_type": "text"
      },
      "source": [
        "###\t4.1.2 Random Forest"
      ]
    },
    {
      "cell_type": "code",
      "metadata": {
        "id": "7dmnF_BN3aGN",
        "colab_type": "code",
        "colab": {}
      },
      "source": [
        "from sklearn.ensemble import RandomForestRegressor\n",
        "C3D_clf = RandomForestRegressor()\n",
        "C3D_clf.fit(X_C3D_train,Y_C3D_train)\n",
        "pred_test_rfr = C3D_clf.predict(X_C3D_test)"
      ],
      "execution_count": 0,
      "outputs": []
    },
    {
      "cell_type": "code",
      "metadata": {
        "id": "1JHwi8ea7_xz",
        "colab_type": "code",
        "outputId": "599954b2-1870-417a-85cd-a26e5a37a3e1",
        "colab": {
          "base_uri": "https://localhost:8080/",
          "height": 162
        }
      },
      "source": [
        "Get_score(pred_test_rfr, Y_C3D_test)"
      ],
      "execution_count": 0,
      "outputs": [
        {
          "output_type": "error",
          "ename": "NameError",
          "evalue": "ignored",
          "traceback": [
            "\u001b[0;31m---------------------------------------------------------------------------\u001b[0m",
            "\u001b[0;31mNameError\u001b[0m                                 Traceback (most recent call last)",
            "\u001b[0;32m<ipython-input-51-c63feedc52dd>\u001b[0m in \u001b[0;36m<module>\u001b[0;34m()\u001b[0m\n\u001b[0;32m----> 1\u001b[0;31m \u001b[0mGet_score\u001b[0m\u001b[0;34m(\u001b[0m\u001b[0mpred_test_rfr\u001b[0m\u001b[0;34m,\u001b[0m \u001b[0mY_C3D_test\u001b[0m\u001b[0;34m)\u001b[0m\u001b[0;34m\u001b[0m\u001b[0;34m\u001b[0m\u001b[0m\n\u001b[0m",
            "\u001b[0;31mNameError\u001b[0m: name 'pred_test_rfr' is not defined"
          ]
        }
      ]
    },
    {
      "cell_type": "markdown",
      "metadata": {
        "id": "Ki07VCst37I2",
        "colab_type": "text"
      },
      "source": [
        "##\t4.2 Using HMP feature"
      ]
    },
    {
      "cell_type": "code",
      "metadata": {
        "id": "6NCYiG2e3af7",
        "colab_type": "code",
        "colab": {}
      },
      "source": [
        "def read_HMP(fname):\n",
        "    \"\"\"Scan HMP(Histogram of Motion Patterns) features from file\"\"\"\n",
        "    with open(fname) as f:\n",
        "        for line in f:\n",
        "            pairs=line.split()\n",
        "            HMP_temp = { int(p.split(':')[0]) : float(p.split(':')[1]) for p in pairs}\n",
        "    # there are 6075 bins, fill zeros\n",
        "    HMP = np.zeros(6075)\n",
        "    for idx in HMP_temp.keys():\n",
        "        HMP[idx-1] = HMP_temp[idx]            \n",
        "    return HMP\n"
      ],
      "execution_count": 0,
      "outputs": []
    },
    {
      "cell_type": "code",
      "metadata": {
        "id": "hVyThjol4Bg_",
        "colab_type": "code",
        "colab": {}
      },
      "source": [
        "Feature_path_HMP = '/content/drive/My Drive/CA684_Assignment/Dev-set/'\n",
        "# Load video related features first\n",
        "# it helps with the organization of the video names\n",
        "vid = labels.video.values\n",
        "Feature_HMP = pd.DataFrame({'video': vid,\n",
        "                   'HMP': [read_HMP(Feature_path_HMP+'HMP'+'/'+os.path.splitext(item)[0]+'.txt') for item in vid],\n",
        "                       })\n"
      ],
      "execution_count": 0,
      "outputs": []
    },
    {
      "cell_type": "code",
      "metadata": {
        "id": "QCMMmY914BoI",
        "colab_type": "code",
        "colab": {}
      },
      "source": [
        "X_HMP = np.stack(Feature_HMP['HMP'].values)\n",
        "Y_HMP = labels[['short-term_memorability','long-term_memorability']].values\n",
        "X_HMP_train, X_HMP_test, Y_HMP_train, Y_HMP_test = train_test_split(X_HMP,Y_HMP, test_size=0.2, random_state=42)\n"
      ],
      "execution_count": 0,
      "outputs": []
    },
    {
      "cell_type": "code",
      "metadata": {
        "id": "RjmkpA4p4BxK",
        "colab_type": "code",
        "colab": {}
      },
      "source": [
        ""
      ],
      "execution_count": 0,
      "outputs": []
    },
    {
      "cell_type": "markdown",
      "metadata": {
        "id": "zNZ0bj_84COW",
        "colab_type": "text"
      },
      "source": [
        "###\t4.2.1 Recurrent Neural Network\n",
        "\n"
      ]
    },
    {
      "cell_type": "code",
      "metadata": {
        "id": "K5I6BR-J4Bth",
        "colab_type": "code",
        "outputId": "b18f7c4e-532f-489d-e747-7b775fa7dd57",
        "colab": {
          "base_uri": "https://localhost:8080/",
          "height": 700
        }
      },
      "source": [
        "HMP_model = Sequential()\n",
        "HMP_model.add(layers.Dense(200,activation='relu',kernel_regularizer=None,input_shape=(X_HMP.shape[1],)))\n",
        "HMP_model.add(layers.Dropout(0.1))\n",
        "HMP_model.add(layers.Dense(2,activation='sigmoid'))\n",
        "HMP_model.compile(optimizer='rmsprop',loss=['mae'])\n",
        "history=HMP_model.fit(x=X_HMP_train,y=Y_HMP_train,batch_size=50,epochs=20,validation_split=0.2,shuffle=True,verbose=True)\n",
        "Y_HMP_pred = HMP_model.predict(X_HMP_test)\n",
        "\n"
      ],
      "execution_count": 0,
      "outputs": [
        {
          "output_type": "stream",
          "text": [
            "Train on 3840 samples, validate on 960 samples\n",
            "Epoch 1/20\n",
            "3840/3840 [==============================] - 2s 427us/sample - loss: 0.1521 - val_loss: 0.0865\n",
            "Epoch 2/20\n",
            "3840/3840 [==============================] - 1s 359us/sample - loss: 0.0887 - val_loss: 0.0862\n",
            "Epoch 3/20\n",
            "3840/3840 [==============================] - 1s 353us/sample - loss: 0.0879 - val_loss: 0.0858\n",
            "Epoch 4/20\n",
            "3840/3840 [==============================] - 1s 360us/sample - loss: 0.0877 - val_loss: 0.0856\n",
            "Epoch 5/20\n",
            "3840/3840 [==============================] - 1s 366us/sample - loss: 0.0876 - val_loss: 0.0862\n",
            "Epoch 6/20\n",
            "3840/3840 [==============================] - 1s 362us/sample - loss: 0.0874 - val_loss: 0.0858\n",
            "Epoch 7/20\n",
            "3840/3840 [==============================] - 1s 358us/sample - loss: 0.0875 - val_loss: 0.0860\n",
            "Epoch 8/20\n",
            "3840/3840 [==============================] - 1s 358us/sample - loss: 0.0874 - val_loss: 0.0860\n",
            "Epoch 9/20\n",
            "3840/3840 [==============================] - 1s 360us/sample - loss: 0.0873 - val_loss: 0.0855\n",
            "Epoch 10/20\n",
            "3840/3840 [==============================] - 1s 354us/sample - loss: 0.0873 - val_loss: 0.0856\n",
            "Epoch 11/20\n",
            "3840/3840 [==============================] - 1s 353us/sample - loss: 0.0870 - val_loss: 0.0855\n",
            "Epoch 12/20\n",
            "3840/3840 [==============================] - 1s 343us/sample - loss: 0.0870 - val_loss: 0.0854\n",
            "Epoch 13/20\n",
            "3840/3840 [==============================] - 1s 382us/sample - loss: 0.0871 - val_loss: 0.0855\n",
            "Epoch 14/20\n",
            "3840/3840 [==============================] - 1s 387us/sample - loss: 0.0871 - val_loss: 0.0862\n",
            "Epoch 15/20\n",
            "3840/3840 [==============================] - 1s 373us/sample - loss: 0.0870 - val_loss: 0.0862\n",
            "Epoch 16/20\n",
            "3840/3840 [==============================] - 1s 391us/sample - loss: 0.0870 - val_loss: 0.0856\n",
            "Epoch 17/20\n",
            "3840/3840 [==============================] - 1s 389us/sample - loss: 0.0868 - val_loss: 0.0855\n",
            "Epoch 18/20\n",
            "3840/3840 [==============================] - 1s 378us/sample - loss: 0.0871 - val_loss: 0.0855\n",
            "Epoch 19/20\n",
            "3840/3840 [==============================] - 1s 381us/sample - loss: 0.0868 - val_loss: 0.0855\n",
            "Epoch 20/20\n",
            "3840/3840 [==============================] - 1s 384us/sample - loss: 0.0867 - val_loss: 0.0864\n"
          ],
          "name": "stdout"
        }
      ]
    },
    {
      "cell_type": "code",
      "metadata": {
        "id": "n_OFCBNdUh3h",
        "colab_type": "code",
        "outputId": "332da685-a395-499e-d178-a1acb54d0b4f",
        "colab": {
          "base_uri": "https://localhost:8080/",
          "height": 50
        }
      },
      "source": [
        "Get_score(Y_HMP_pred,Y_HMP_test)"
      ],
      "execution_count": 0,
      "outputs": [
        {
          "output_type": "stream",
          "text": [
            "The Spearman's correlation coefficient is: 0.279\n",
            "The Spearman's correlation coefficient is: 0.131\n"
          ],
          "name": "stdout"
        }
      ]
    },
    {
      "cell_type": "code",
      "metadata": {
        "id": "xADPLJaWWmBx",
        "colab_type": "code",
        "colab": {}
      },
      "source": [
        ""
      ],
      "execution_count": 0,
      "outputs": []
    },
    {
      "cell_type": "markdown",
      "metadata": {
        "id": "aqPN16OW4Yrp",
        "colab_type": "text"
      },
      "source": [
        "###\t4.2.2 Random Forest"
      ]
    },
    {
      "cell_type": "code",
      "metadata": {
        "id": "rPPg1vQQ4ZvM",
        "colab_type": "code",
        "outputId": "4550c52b-d9bf-44e9-9400-e4df00c72eb2",
        "colab": {
          "base_uri": "https://localhost:8080/",
          "height": 228
        }
      },
      "source": [
        "from sklearn.ensemble import RandomForestRegressor\n",
        "HMP_clf = RandomForestRegressor()\n",
        "HMP_clf.fit(X_HMP_train,Y_HMP_train)\n",
        "pred_test_rfr = HMP_clf.predict(X_HMP_test)\n",
        "\n"
      ],
      "execution_count": 0,
      "outputs": [
        {
          "output_type": "error",
          "ename": "NameError",
          "evalue": "ignored",
          "traceback": [
            "\u001b[0;31m---------------------------------------------------------------------------\u001b[0m",
            "\u001b[0;31mNameError\u001b[0m                                 Traceback (most recent call last)",
            "\u001b[0;32m<ipython-input-50-197cb0bf0213>\u001b[0m in \u001b[0;36m<module>\u001b[0;34m()\u001b[0m\n\u001b[1;32m      1\u001b[0m \u001b[0;32mfrom\u001b[0m \u001b[0msklearn\u001b[0m\u001b[0;34m.\u001b[0m\u001b[0mensemble\u001b[0m \u001b[0;32mimport\u001b[0m \u001b[0mRandomForestRegressor\u001b[0m\u001b[0;34m\u001b[0m\u001b[0;34m\u001b[0m\u001b[0m\n\u001b[1;32m      2\u001b[0m \u001b[0mHMP_clf\u001b[0m \u001b[0;34m=\u001b[0m \u001b[0mRandomForestRegressor\u001b[0m\u001b[0;34m(\u001b[0m\u001b[0;34m)\u001b[0m\u001b[0;34m\u001b[0m\u001b[0;34m\u001b[0m\u001b[0m\n\u001b[0;32m----> 3\u001b[0;31m \u001b[0mHMP_clf\u001b[0m\u001b[0;34m.\u001b[0m\u001b[0mfit\u001b[0m\u001b[0;34m(\u001b[0m\u001b[0mX_HMP_train\u001b[0m\u001b[0;34m,\u001b[0m\u001b[0mY_HMP_train\u001b[0m\u001b[0;34m)\u001b[0m\u001b[0;34m\u001b[0m\u001b[0;34m\u001b[0m\u001b[0m\n\u001b[0m\u001b[1;32m      4\u001b[0m \u001b[0mpred_test_rfr\u001b[0m \u001b[0;34m=\u001b[0m \u001b[0mHMP_clf\u001b[0m\u001b[0;34m.\u001b[0m\u001b[0mpredict\u001b[0m\u001b[0;34m(\u001b[0m\u001b[0mX_HMP_test\u001b[0m\u001b[0;34m)\u001b[0m\u001b[0;34m\u001b[0m\u001b[0;34m\u001b[0m\u001b[0m\n\u001b[1;32m      5\u001b[0m \u001b[0;34m\u001b[0m\u001b[0m\n",
            "\u001b[0;31mNameError\u001b[0m: name 'X_HMP_train' is not defined"
          ]
        }
      ]
    },
    {
      "cell_type": "code",
      "metadata": {
        "id": "vHolYJTUWqqn",
        "colab_type": "code",
        "outputId": "0f868f4a-18be-42ed-fda2-978112ca75bb",
        "colab": {
          "base_uri": "https://localhost:8080/",
          "height": 162
        }
      },
      "source": [
        "Get_score(pred_test_rfr, Y_HMP_test)"
      ],
      "execution_count": 0,
      "outputs": [
        {
          "output_type": "error",
          "ename": "NameError",
          "evalue": "ignored",
          "traceback": [
            "\u001b[0;31m---------------------------------------------------------------------------\u001b[0m",
            "\u001b[0;31mNameError\u001b[0m                                 Traceback (most recent call last)",
            "\u001b[0;32m<ipython-input-49-80c91156a051>\u001b[0m in \u001b[0;36m<module>\u001b[0;34m()\u001b[0m\n\u001b[0;32m----> 1\u001b[0;31m \u001b[0mGet_score\u001b[0m\u001b[0;34m(\u001b[0m\u001b[0mpred_test_rfr\u001b[0m\u001b[0;34m,\u001b[0m \u001b[0mY_HMP_test\u001b[0m\u001b[0;34m)\u001b[0m\u001b[0;34m\u001b[0m\u001b[0;34m\u001b[0m\u001b[0m\n\u001b[0m",
            "\u001b[0;31mNameError\u001b[0m: name 'pred_test_rfr' is not defined"
          ]
        }
      ]
    },
    {
      "cell_type": "markdown",
      "metadata": {
        "id": "1XSypAgP4kpi",
        "colab_type": "text"
      },
      "source": [
        "# 5 Final ground truth prediction-Test data"
      ]
    },
    {
      "cell_type": "code",
      "metadata": {
        "id": "oUmEeJMK4Z5h",
        "colab_type": "code",
        "colab": {}
      },
      "source": [
        "# load the captions\n",
        "#caption_path = '/media/win/Users/ecelab-adm/Desktop/DataSet_me18me/me18me-devset/dev-set/dev-set_video-captions.txt'\n",
        "caption_path = '/content/drive/My Drive/CA684_Assignment/Test-set/Captions_test/test-set-1_video-captions.txt'\n",
        "df_test=read_caps(caption_path)\n",
        "\n",
        "# load the ground truth values\n",
        "test_ground_truth=pd.read_csv('/content/drive/My Drive/CA684_Assignment/Test-set/Ground-truth_test/ground_truth_template.csv')\n",
        "\n",
        "df_test['caption'] = df_test['caption'].apply(strip_character)\n",
        "\n",
        "df_test['caption'] = df_test['caption'].apply(lambda x: ' '.join([item for item in x.split() if item not in stop]))\n",
        "df_test['caption'] = [''.join([WordNetLemmatizer().lemmatize(re.sub('[^A-Za-z]',' ',text)) for text in lis]) for lis in df_test['caption']]\n",
        "\n",
        "counts_test = Counter()\n",
        "for i, cap in enumerate(df_test['caption']):\n",
        "    counts_test.update(cap.split())\n"
      ],
      "execution_count": 0,
      "outputs": []
    },
    {
      "cell_type": "code",
      "metadata": {
        "id": "J4FKd-fM4aAZ",
        "colab_type": "code",
        "colab": {}
      },
      "source": [
        "vect_test = TfidfVectorizer(ngram_range = (1,4)).fit(df_test.caption)"
      ],
      "execution_count": 0,
      "outputs": []
    },
    {
      "cell_type": "code",
      "metadata": {
        "id": "sSO6ku1A4bAT",
        "colab_type": "code",
        "colab": {}
      },
      "source": [
        "# using the training data's words length for the testing as well to avoid the \n",
        "tokenizer_test = Tokenizer(num_words=token_len)\n",
        "tokenizer_test.fit_on_texts(list(vect_test.get_feature_names()))\n",
        "onehot_encode_test = tokenizer_test.texts_to_matrix(list(df_test.caption.values),mode='binary')\n",
        "X_testpredict = onehot_encode_test;"
      ],
      "execution_count": 0,
      "outputs": []
    },
    {
      "cell_type": "code",
      "metadata": {
        "id": "Wffi_VTb69wW",
        "colab_type": "code",
        "colab": {}
      },
      "source": [
        "\n",
        "np.ndim(onehot_encode_test)\n",
        "onehot_encode_test.shape\n",
        "testdata = test_ground_truth.copy()\n"
      ],
      "execution_count": 0,
      "outputs": []
    },
    {
      "cell_type": "markdown",
      "metadata": {
        "id": "0x7_jUvE4aXz",
        "colab_type": "text"
      },
      "source": [
        "## 5.1\tPredicting short-term memorability - using SVR"
      ]
    },
    {
      "cell_type": "code",
      "metadata": {
        "id": "gqYcWjPz7NPB",
        "colab_type": "code",
        "colab": {}
      },
      "source": [
        "testpredict_SVR_short = modelSVR_short.predict(X_testpredict)"
      ],
      "execution_count": 0,
      "outputs": []
    },
    {
      "cell_type": "code",
      "metadata": {
        "id": "mOq0BTCS7RGD",
        "colab_type": "code",
        "colab": {}
      },
      "source": [
        "testpredict_SVR_short.shape\n",
        "type(testpredict_SVR_short)\n",
        "testdata['short-term_memorability'] = testpredict_SVR_short\n"
      ],
      "execution_count": 0,
      "outputs": []
    },
    {
      "cell_type": "markdown",
      "metadata": {
        "id": "_CWoN3e_4lSE",
        "colab_type": "text"
      },
      "source": [
        "## 5.2 Predicting long-term memorability - using Random Forest"
      ]
    },
    {
      "cell_type": "code",
      "metadata": {
        "id": "-32sYbOS4a9Z",
        "colab_type": "code",
        "colab": {}
      },
      "source": [
        "testpredict_RFR_long = rf3.predict(X_testpredict)"
      ],
      "execution_count": 0,
      "outputs": []
    },
    {
      "cell_type": "code",
      "metadata": {
        "id": "s8l5ZwXK7ZFL",
        "colab_type": "code",
        "colab": {}
      },
      "source": [
        "testdata['long-term_memorability'] = testpredict_RFR_long[:,1]"
      ],
      "execution_count": 0,
      "outputs": []
    },
    {
      "cell_type": "code",
      "metadata": {
        "id": "FD4k68Yt7ZCL",
        "colab_type": "code",
        "outputId": "9d7d9097-071a-49c7-924e-2e62e7bb620f",
        "colab": {
          "base_uri": "https://localhost:8080/",
          "height": 197
        }
      },
      "source": [
        "testdata.tail()"
      ],
      "execution_count": 0,
      "outputs": [
        {
          "output_type": "execute_result",
          "data": {
            "text/html": [
              "<div>\n",
              "<style scoped>\n",
              "    .dataframe tbody tr th:only-of-type {\n",
              "        vertical-align: middle;\n",
              "    }\n",
              "\n",
              "    .dataframe tbody tr th {\n",
              "        vertical-align: top;\n",
              "    }\n",
              "\n",
              "    .dataframe thead th {\n",
              "        text-align: right;\n",
              "    }\n",
              "</style>\n",
              "<table border=\"1\" class=\"dataframe\">\n",
              "  <thead>\n",
              "    <tr style=\"text-align: right;\">\n",
              "      <th></th>\n",
              "      <th>video</th>\n",
              "      <th>short-term_memorability</th>\n",
              "      <th>nb_short-term_annotations</th>\n",
              "      <th>long-term_memorability</th>\n",
              "      <th>nb_long-term_annotations</th>\n",
              "    </tr>\n",
              "  </thead>\n",
              "  <tbody>\n",
              "    <tr>\n",
              "      <th>1995</th>\n",
              "      <td>10004</td>\n",
              "      <td>0.821670</td>\n",
              "      <td>34</td>\n",
              "      <td>0.737700</td>\n",
              "      <td>17</td>\n",
              "    </tr>\n",
              "    <tr>\n",
              "      <th>1996</th>\n",
              "      <td>10005</td>\n",
              "      <td>0.818239</td>\n",
              "      <td>34</td>\n",
              "      <td>0.777900</td>\n",
              "      <td>9</td>\n",
              "    </tr>\n",
              "    <tr>\n",
              "      <th>1997</th>\n",
              "      <td>10006</td>\n",
              "      <td>0.833838</td>\n",
              "      <td>34</td>\n",
              "      <td>0.796867</td>\n",
              "      <td>12</td>\n",
              "    </tr>\n",
              "    <tr>\n",
              "      <th>1998</th>\n",
              "      <td>10007</td>\n",
              "      <td>0.854636</td>\n",
              "      <td>34</td>\n",
              "      <td>0.820600</td>\n",
              "      <td>12</td>\n",
              "    </tr>\n",
              "    <tr>\n",
              "      <th>1999</th>\n",
              "      <td>10008</td>\n",
              "      <td>0.848433</td>\n",
              "      <td>33</td>\n",
              "      <td>0.866900</td>\n",
              "      <td>10</td>\n",
              "    </tr>\n",
              "  </tbody>\n",
              "</table>\n",
              "</div>"
            ],
            "text/plain": [
              "      video  ...  nb_long-term_annotations\n",
              "1995  10004  ...                        17\n",
              "1996  10005  ...                         9\n",
              "1997  10006  ...                        12\n",
              "1998  10007  ...                        12\n",
              "1999  10008  ...                        10\n",
              "\n",
              "[5 rows x 5 columns]"
            ]
          },
          "metadata": {
            "tags": []
          },
          "execution_count": 111
        }
      ]
    },
    {
      "cell_type": "markdown",
      "metadata": {
        "id": "1ADrPpPr7fII",
        "colab_type": "text"
      },
      "source": [
        "# 6 Saving the final submission file"
      ]
    },
    {
      "cell_type": "code",
      "metadata": {
        "id": "J_hodP_W7fYz",
        "colab_type": "code",
        "colab": {}
      },
      "source": [
        "testdata.to_csv('/content/drive/My Drive/finalgroundTruth_test.csv', encoding='utf-8', index=False)"
      ],
      "execution_count": 0,
      "outputs": []
    }
  ]
}