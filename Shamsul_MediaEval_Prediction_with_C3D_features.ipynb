{
  "nbformat": 4,
  "nbformat_minor": 0,
  "metadata": {
    "colab": {
      "name": "Shamsul_MediaEval_Prediction with C3D features.ipynb",
      "provenance": [],
      "collapsed_sections": [],
      "authorship_tag": "ABX9TyMYbk/VydbR1+lrgdD9w7Ot",
      "include_colab_link": true
    },
    "kernelspec": {
      "name": "python3",
      "display_name": "Python 3"
    }
  },
  "cells": [
    {
      "cell_type": "markdown",
      "metadata": {
        "id": "view-in-github",
        "colab_type": "text"
      },
      "source": [
        "<a href=\"https://colab.research.google.com/github/ShamsulAbedin/CA684I/blob/master/Shamsul_MediaEval_Prediction_with_C3D_features.ipynb\" target=\"_parent\"><img src=\"https://colab.research.google.com/assets/colab-badge.svg\" alt=\"Open In Colab\"/></a>"
      ]
    },
    {
      "cell_type": "code",
      "metadata": {
        "id": "ZuEaMhIJLdRW",
        "colab_type": "code",
        "colab": {
          "base_uri": "https://localhost:8080/",
          "height": 83
        },
        "outputId": "2eeea66d-9af5-4957-bb1f-8806e9fefc80"
      },
      "source": [
        "!pip install PyPrind\n"
      ],
      "execution_count": 4,
      "outputs": [
        {
          "output_type": "stream",
          "text": [
            "Collecting PyPrind\n",
            "  Downloading https://files.pythonhosted.org/packages/1e/30/e76fb0c45da8aef49ea8d2a90d4e7a6877b45894c25f12fb961f009a891e/PyPrind-2.11.2-py3-none-any.whl\n",
            "Installing collected packages: PyPrind\n",
            "Successfully installed PyPrind-2.11.2\n"
          ],
          "name": "stdout"
        }
      ]
    },
    {
      "cell_type": "code",
      "metadata": {
        "id": "mRknuPHxLlXR",
        "colab_type": "code",
        "colab": {
          "base_uri": "https://localhost:8080/",
          "height": 233
        },
        "outputId": "5b8bfc6b-5dce-481c-b5e0-7783d2a872c6"
      },
      "source": [
        "!pip uninstall tensorflow==1.13.2\n",
        "#!pip install tensorflow==1.13rc0"
      ],
      "execution_count": 2,
      "outputs": [
        {
          "output_type": "stream",
          "text": [
            "Uninstalling tensorflow-1.13.0rc0:\n",
            "  Would remove:\n",
            "    /usr/local/bin/freeze_graph\n",
            "    /usr/local/bin/saved_model_cli\n",
            "    /usr/local/bin/tensorboard\n",
            "    /usr/local/bin/tf_upgrade_v2\n",
            "    /usr/local/bin/tflite_convert\n",
            "    /usr/local/bin/toco\n",
            "    /usr/local/bin/toco_from_protos\n",
            "    /usr/local/lib/python3.6/dist-packages/tensorflow-1.13.0rc0.dist-info/*\n",
            "    /usr/local/lib/python3.6/dist-packages/tensorflow/*\n",
            "Proceed (y/n)? y\n",
            "  Successfully uninstalled tensorflow-1.13.0rc0\n"
          ],
          "name": "stdout"
        }
      ]
    },
    {
      "cell_type": "code",
      "metadata": {
        "id": "lQ3SPvaUKsQe",
        "colab_type": "code",
        "colab": {}
      },
      "source": [
        "\n",
        "import pandas as pd\n",
        "from keras import Sequential\n",
        "from keras import layers\n",
        "from keras import regularizers\n",
        "import numpy as np\n",
        "from string import punctuation\n",
        "import pyprind\n",
        "from collections import Counter\n",
        "from keras.preprocessing.text import Tokenizer\n",
        "from sklearn.model_selection import train_test_split\n",
        "import matplotlib.pyplot as plt\n",
        "from keras import preprocessing\n",
        "import os\n",
        "\n",
        "\n"
      ],
      "execution_count": 0,
      "outputs": []
    },
    {
      "cell_type": "code",
      "metadata": {
        "id": "L6ONjvKrwVnd",
        "colab_type": "code",
        "colab": {}
      },
      "source": [
        "\n",
        "# for reproducability\n",
        "from numpy.random import seed\n",
        "seed(1)\n",
        "import tensorflow\n",
        "from tensorflow import set_random_seed\n",
        "tensorflow.random.set_random_seed(1)"
      ],
      "execution_count": 0,
      "outputs": []
    },
    {
      "cell_type": "code",
      "metadata": {
        "id": "lJ49D8feLrCG",
        "colab_type": "code",
        "colab": {}
      },
      "source": [
        "def read_C3D(fname):\n",
        "    \"\"\"Scan vectors from file\"\"\"\n",
        "    with open(fname) as f:\n",
        "        for line in f:\n",
        "            C3D =[float(item) for item in line.split()] # convert to float type, using default separator\n",
        "    return C3D\n",
        "\n",
        "def vname2ID(vnames):\n",
        "    \"\"\"Parse video digital id from its name\n",
        "    vnames: a list contains file names\"\"\"\n",
        "    vid = [ os.path.splitext(vn)[0]+'.webm' for vn in vnames]\n",
        "    return vid\n",
        "\n",
        "def Get_score(Y_pred,Y_true):\n",
        "    '''Calculate the Spearmann\"s correlation coefficient'''\n",
        "    Y_pred = np.squeeze(Y_pred)\n",
        "    Y_true = np.squeeze(Y_true)\n",
        "    if Y_pred.shape != Y_true.shape:\n",
        "        print('Input shapes don\\'t match!')\n",
        "    else:\n",
        "        if len(Y_pred.shape) == 1:\n",
        "            Res = pd.DataFrame({'Y_true':Y_true,'Y_pred':Y_pred})\n",
        "            score_mat = Res[['Y_true','Y_pred']].corr(method='spearman',min_periods=1)\n",
        "            print('The Spearman\\'s correlation coefficient is: %.3f' % score_mat.iloc[1][0])\n",
        "        else:\n",
        "            for ii in range(Y_pred.shape[1]):\n",
        "                Get_score(Y_pred[:,ii],Y_true[:,ii])"
      ],
      "execution_count": 0,
      "outputs": []
    },
    {
      "cell_type": "code",
      "metadata": {
        "id": "mG-D_yO2M8cM",
        "colab_type": "code",
        "colab": {
          "base_uri": "https://localhost:8080/",
          "height": 33
        },
        "outputId": "aef621c6-b395-4e32-e754-f09df1b96042"
      },
      "source": [
        "import os\n",
        "from google.colab import drive\n",
        "drive.mount('/content/drive/')\n",
        "os.chdir('/content/drive/My Drive/CA684_Assignment/')\n"
      ],
      "execution_count": 15,
      "outputs": [
        {
          "output_type": "stream",
          "text": [
            "Drive already mounted at /content/drive/; to attempt to forcibly remount, call drive.mount(\"/content/drive/\", force_remount=True).\n"
          ],
          "name": "stdout"
        }
      ]
    },
    {
      "cell_type": "code",
      "metadata": {
        "id": "_tV6HO9PMr2N",
        "colab_type": "code",
        "colab": {}
      },
      "source": [
        "# load the ground truth values\n",
        "label_path = '/content/drive/My Drive/CA684_Assignment/Dev-set/Ground-truth/'\n",
        "labels=pd.read_csv(label_path+'ground-truth.csv')"
      ],
      "execution_count": 0,
      "outputs": []
    },
    {
      "cell_type": "code",
      "metadata": {
        "id": "OonapCDdM7N_",
        "colab_type": "code",
        "colab": {}
      },
      "source": [
        "Feat_path = '/content/drive/My Drive/CA684_Assignment/Dev-set/'\n",
        "# Load video related features first\n",
        "# it helps with the organization of the video names\n",
        "vid = labels.video.values\n",
        "\n",
        "Features = pd.DataFrame({'video': vid,\n",
        "                   'C3D': [read_C3D(Feat_path+'C3D'+'/'+os.path.splitext(item)[0]+'.txt') for item in vid],\n",
        "                       })"
      ],
      "execution_count": 0,
      "outputs": []
    },
    {
      "cell_type": "code",
      "metadata": {
        "id": "1ZIKbaqnOLwt",
        "colab_type": "code",
        "colab": {}
      },
      "source": [
        "X = np.stack(Features['C3D'].values)\n",
        "Y = labels[['short-term_memorability','long-term_memorability']].values\n",
        "\n",
        "#Y = Y[:,1]\n",
        "X_train, X_val, Y_train, Y_val = train_test_split(X,Y, test_size=0.2, random_state=42)"
      ],
      "execution_count": 0,
      "outputs": []
    },
    {
      "cell_type": "code",
      "metadata": {
        "id": "QEizTB9zOMqQ",
        "colab_type": "code",
        "colab": {}
      },
      "source": [
        "\n",
        "# Load testing data\n",
        "test_path = '/content/drive/My Drive/CA684_Assignment/Dev-set/'\n",
        "test_vid = os.listdir(test_path+'C3D')\n",
        "Features_test = pd.DataFrame({'video': test_vid,\n",
        "                   'C3D': [read_C3D(test_path+'C3D'+'/'+item) for item in test_vid],\n",
        "                       })\n",
        "X_test = np.stack(Features_test['C3D'].values)"
      ],
      "execution_count": 0,
      "outputs": []
    },
    {
      "cell_type": "code",
      "metadata": {
        "id": "PrhUaWNnOoLd",
        "colab_type": "code",
        "colab": {
          "base_uri": "https://localhost:8080/",
          "height": 461
        },
        "outputId": "62692906-f333-4860-d86d-7e15a060928c"
      },
      "source": [
        "nrows,ncols = 2,3\n",
        "N = nrows*ncols\n",
        "ind = np.random.choice(8000,size=N)\n",
        "for ii in range(N):\n",
        "    plt.subplot(nrows,ncols,ii+1)\n",
        "    plt.plot(X[ind[ii],:])\n",
        "plt.show()"
      ],
      "execution_count": 20,
      "outputs": [
        {
          "output_type": "error",
          "ename": "IndexError",
          "evalue": "ignored",
          "traceback": [
            "\u001b[0;31m---------------------------------------------------------------------------\u001b[0m",
            "\u001b[0;31mIndexError\u001b[0m                                Traceback (most recent call last)",
            "\u001b[0;32m<ipython-input-20-e891f76dfebe>\u001b[0m in \u001b[0;36m<module>\u001b[0;34m()\u001b[0m\n\u001b[1;32m      4\u001b[0m \u001b[0;32mfor\u001b[0m \u001b[0mii\u001b[0m \u001b[0;32min\u001b[0m \u001b[0mrange\u001b[0m\u001b[0;34m(\u001b[0m\u001b[0mN\u001b[0m\u001b[0;34m)\u001b[0m\u001b[0;34m:\u001b[0m\u001b[0;34m\u001b[0m\u001b[0;34m\u001b[0m\u001b[0m\n\u001b[1;32m      5\u001b[0m     \u001b[0mplt\u001b[0m\u001b[0;34m.\u001b[0m\u001b[0msubplot\u001b[0m\u001b[0;34m(\u001b[0m\u001b[0mnrows\u001b[0m\u001b[0;34m,\u001b[0m\u001b[0mncols\u001b[0m\u001b[0;34m,\u001b[0m\u001b[0mii\u001b[0m\u001b[0;34m+\u001b[0m\u001b[0;36m1\u001b[0m\u001b[0;34m)\u001b[0m\u001b[0;34m\u001b[0m\u001b[0;34m\u001b[0m\u001b[0m\n\u001b[0;32m----> 6\u001b[0;31m     \u001b[0mplt\u001b[0m\u001b[0;34m.\u001b[0m\u001b[0mplot\u001b[0m\u001b[0;34m(\u001b[0m\u001b[0mX\u001b[0m\u001b[0;34m[\u001b[0m\u001b[0mind\u001b[0m\u001b[0;34m[\u001b[0m\u001b[0mii\u001b[0m\u001b[0;34m]\u001b[0m\u001b[0;34m,\u001b[0m\u001b[0;34m:\u001b[0m\u001b[0;34m]\u001b[0m\u001b[0;34m)\u001b[0m\u001b[0;34m\u001b[0m\u001b[0;34m\u001b[0m\u001b[0m\n\u001b[0m\u001b[1;32m      7\u001b[0m \u001b[0mplt\u001b[0m\u001b[0;34m.\u001b[0m\u001b[0mshow\u001b[0m\u001b[0;34m(\u001b[0m\u001b[0;34m)\u001b[0m\u001b[0;34m\u001b[0m\u001b[0;34m\u001b[0m\u001b[0m\n",
            "\u001b[0;31mIndexError\u001b[0m: index 7935 is out of bounds for axis 0 with size 6000"
          ]
        },
        {
          "output_type": "display_data",
          "data": {
            "image/png": "[encoded data removed]",
            "text/plain": [
              "<Figure size 432x288 with 5 Axes>"
            ]
          },
          "metadata": {
            "tags": [],
            "needs_background": "light"
          }
        }
      ]
    },
    {
      "cell_type": "code",
      "metadata": {
        "id": "YfvXOgcWPhQh",
        "colab_type": "code",
        "colab": {}
      },
      "source": [
        "import keras.backend as K\n",
        "K.set_floatx('float64')\n",
        "import tensorflow as tf\n",
        "import tensorflow.contrib.metrics as M\n",
        "def spearmann_rank_coeff(y_true, y_pred):\n",
        "    '''Spearmann rank correlation coefficient'''\n",
        "    y_true_rank = y_true\n",
        "    y_pred_rank = y_pred\n",
        "    y_t_mean = tf.reduce_mean(y_true_rank,0)\n",
        "    y_p_mean = tf.reduce_mean(y_pred_rank,0)\n",
        "    x = tf.subtract(y_pred_rank,y_p_mean)\n",
        "    y =tf.subtract(y_true_rank,y_t_mean)\n",
        "    xcov = 1/tf.shape(x)[0] * tf.reduce_sum(x * y)\n",
        "    #a = K.std(y_true_rank)*K.std(y_pred_rank)\n",
        "    coef = tf.divide(xcov,K.std(y_true_rank)*K.std(y_pred_rank))\n",
        "    return coef\n",
        "\n",
        "def test_coeff(y_true,y_pred):\n",
        "    return M.streaming_(y_true,y_pred)"
      ],
      "execution_count": 0,
      "outputs": []
    },
    {
      "cell_type": "code",
      "metadata": {
        "id": "zgGqtNftZs9i",
        "colab_type": "code",
        "colab": {
          "base_uri": "https://localhost:8080/",
          "height": 33
        },
        "outputId": "1bd4f743-6c30-4e85-a31f-afc5be761316"
      },
      "source": [
        "pip uninstall tensorflow"
      ],
      "execution_count": 20,
      "outputs": [
        {
          "output_type": "stream",
          "text": [
            "\u001b[33mWARNING: Skipping tensorflow as it is not installed.\u001b[0m\n"
          ],
          "name": "stdout"
        }
      ]
    },
    {
      "cell_type": "code",
      "metadata": {
        "id": "2BvgqpJnZ7u7",
        "colab_type": "code",
        "colab": {
          "base_uri": "https://localhost:8080/",
          "height": 668
        },
        "outputId": "05987f55-5eeb-422a-989a-776324294170"
      },
      "source": [
        "!pip install tensorflow==1.14"
      ],
      "execution_count": 21,
      "outputs": [
        {
          "output_type": "stream",
          "text": [
            "Collecting tensorflow==1.14\n",
            "\u001b[?25l  Downloading https://files.pythonhosted.org/packages/de/f0/96fb2e0412ae9692dbf400e5b04432885f677ad6241c088ccc5fe7724d69/tensorflow-1.14.0-cp36-cp36m-manylinux1_x86_64.whl (109.2MB)\n",
            "\u001b[K     |████████████████████████████████| 109.2MB 90kB/s \n",
            "\u001b[?25hRequirement already satisfied: termcolor>=1.1.0 in /usr/local/lib/python3.6/dist-packages (from tensorflow==1.14) (1.1.0)\n",
            "Requirement already satisfied: numpy<2.0,>=1.14.5 in /usr/local/lib/python3.6/dist-packages (from tensorflow==1.14) (1.18.2)\n",
            "Collecting tensorboard<1.15.0,>=1.14.0\n",
            "\u001b[?25l  Downloading https://files.pythonhosted.org/packages/91/2d/2ed263449a078cd9c8a9ba50ebd50123adf1f8cfbea1492f9084169b89d9/tensorboard-1.14.0-py3-none-any.whl (3.1MB)\n",
            "\u001b[K     |████████████████████████████████| 3.2MB 37.7MB/s \n",
            "\u001b[?25hRequirement already satisfied: wrapt>=1.11.1 in /usr/local/lib/python3.6/dist-packages (from tensorflow==1.14) (1.12.1)\n",
            "Requirement already satisfied: keras-preprocessing>=1.0.5 in /usr/local/lib/python3.6/dist-packages (from tensorflow==1.14) (1.1.0)\n",
            "Requirement already satisfied: grpcio>=1.8.6 in /usr/local/lib/python3.6/dist-packages (from tensorflow==1.14) (1.28.1)\n",
            "Requirement already satisfied: astor>=0.6.0 in /usr/local/lib/python3.6/dist-packages (from tensorflow==1.14) (0.8.1)\n",
            "Requirement already satisfied: google-pasta>=0.1.6 in /usr/local/lib/python3.6/dist-packages (from tensorflow==1.14) (0.2.0)\n",
            "Requirement already satisfied: wheel>=0.26 in /usr/local/lib/python3.6/dist-packages (from tensorflow==1.14) (0.34.2)\n",
            "Requirement already satisfied: protobuf>=3.6.1 in /usr/local/lib/python3.6/dist-packages (from tensorflow==1.14) (3.10.0)\n",
            "Requirement already satisfied: keras-applications>=1.0.6 in /usr/local/lib/python3.6/dist-packages (from tensorflow==1.14) (1.0.8)\n",
            "Collecting tensorflow-estimator<1.15.0rc0,>=1.14.0rc0\n",
            "\u001b[?25l  Downloading https://files.pythonhosted.org/packages/3c/d5/21860a5b11caf0678fbc8319341b0ae21a07156911132e0e71bffed0510d/tensorflow_estimator-1.14.0-py2.py3-none-any.whl (488kB)\n",
            "\u001b[K     |████████████████████████████████| 491kB 32.0MB/s \n",
            "\u001b[?25hRequirement already satisfied: six>=1.10.0 in /usr/local/lib/python3.6/dist-packages (from tensorflow==1.14) (1.12.0)\n",
            "Requirement already satisfied: absl-py>=0.7.0 in /usr/local/lib/python3.6/dist-packages (from tensorflow==1.14) (0.9.0)\n",
            "Requirement already satisfied: gast>=0.2.0 in /usr/local/lib/python3.6/dist-packages (from tensorflow==1.14) (0.3.3)\n",
            "Requirement already satisfied: markdown>=2.6.8 in /usr/local/lib/python3.6/dist-packages (from tensorboard<1.15.0,>=1.14.0->tensorflow==1.14) (3.2.1)\n",
            "Requirement already satisfied: setuptools>=41.0.0 in /usr/local/lib/python3.6/dist-packages (from tensorboard<1.15.0,>=1.14.0->tensorflow==1.14) (46.1.3)\n",
            "Requirement already satisfied: werkzeug>=0.11.15 in /usr/local/lib/python3.6/dist-packages (from tensorboard<1.15.0,>=1.14.0->tensorflow==1.14) (1.0.1)\n",
            "Requirement already satisfied: h5py in /usr/local/lib/python3.6/dist-packages (from keras-applications>=1.0.6->tensorflow==1.14) (2.10.0)\n",
            "Installing collected packages: tensorboard, tensorflow-estimator, tensorflow\n",
            "  Found existing installation: tensorboard 1.12.2\n",
            "    Uninstalling tensorboard-1.12.2:\n",
            "      Successfully uninstalled tensorboard-1.12.2\n",
            "  Found existing installation: tensorflow-estimator 1.13.0\n",
            "    Uninstalling tensorflow-estimator-1.13.0:\n",
            "      Successfully uninstalled tensorflow-estimator-1.13.0\n",
            "Successfully installed tensorboard-1.14.0 tensorflow-1.14.0 tensorflow-estimator-1.14.0\n"
          ],
          "name": "stdout"
        },
        {
          "output_type": "display_data",
          "data": {
            "application/vnd.colab-display-data+json": {
              "pip_warning": {
                "packages": [
                  "tensorflow",
                  "tensorflow_estimator"
                ]
              }
            }
          },
          "metadata": {
            "tags": []
          }
        }
      ]
    },
    {
      "cell_type": "code",
      "metadata": {
        "id": "DO6RtnTRZ9ui",
        "colab_type": "code",
        "colab": {
          "base_uri": "https://localhost:8080/",
          "height": 499
        },
        "outputId": "9667ed2e-107c-4e0a-d4b1-3fab86e50d82"
      },
      "source": [
        "import keras.backend as K\n",
        "K.set_floatx('float64')\n",
        "import tensorflow as tf\n",
        "import tensorflow.contrib.metrics as M\n",
        "def spearmann_rank_coeff(y_true, y_pred):\n",
        "    '''Spearmann rank correlation coefficient'''\n",
        "    y_true_rank = y_true\n",
        "    y_pred_rank = y_pred\n",
        "    y_t_mean = tf.reduce_mean(y_true_rank,0)\n",
        "    y_p_mean = tf.reduce_mean(y_pred_rank,0)\n",
        "    x = tf.subtract(y_pred_rank,y_p_mean)\n",
        "    y =tf.subtract(y_true_rank,y_t_mean)\n",
        "    xcov = 1/tf.shape(x)[0] * tf.reduce_sum(x * y)\n",
        "    #a = K.std(y_true_rank)*K.std(y_pred_rank)\n",
        "    coef = tf.divide(xcov,K.std(y_true_rank)*K.std(y_pred_rank))\n",
        "    return coef\n",
        "\n",
        "def test_coeff(y_true,y_pred):\n",
        "    return M.streaming_(y_true,y_pred)"
      ],
      "execution_count": 1,
      "outputs": [
        {
          "output_type": "stream",
          "text": [
            "Using TensorFlow backend.\n",
            "/usr/local/lib/python3.6/dist-packages/tensorflow/python/framework/dtypes.py:516: FutureWarning: Passing (type, 1) or '1type' as a synonym of type is deprecated; in a future version of numpy, it will be understood as (type, (1,)) / '(1,)type'.\n",
            "  _np_qint8 = np.dtype([(\"qint8\", np.int8, 1)])\n",
            "/usr/local/lib/python3.6/dist-packages/tensorflow/python/framework/dtypes.py:517: FutureWarning: Passing (type, 1) or '1type' as a synonym of type is deprecated; in a future version of numpy, it will be understood as (type, (1,)) / '(1,)type'.\n",
            "  _np_quint8 = np.dtype([(\"quint8\", np.uint8, 1)])\n",
            "/usr/local/lib/python3.6/dist-packages/tensorflow/python/framework/dtypes.py:518: FutureWarning: Passing (type, 1) or '1type' as a synonym of type is deprecated; in a future version of numpy, it will be understood as (type, (1,)) / '(1,)type'.\n",
            "  _np_qint16 = np.dtype([(\"qint16\", np.int16, 1)])\n",
            "/usr/local/lib/python3.6/dist-packages/tensorflow/python/framework/dtypes.py:519: FutureWarning: Passing (type, 1) or '1type' as a synonym of type is deprecated; in a future version of numpy, it will be understood as (type, (1,)) / '(1,)type'.\n",
            "  _np_quint16 = np.dtype([(\"quint16\", np.uint16, 1)])\n",
            "/usr/local/lib/python3.6/dist-packages/tensorflow/python/framework/dtypes.py:520: FutureWarning: Passing (type, 1) or '1type' as a synonym of type is deprecated; in a future version of numpy, it will be understood as (type, (1,)) / '(1,)type'.\n",
            "  _np_qint32 = np.dtype([(\"qint32\", np.int32, 1)])\n",
            "/usr/local/lib/python3.6/dist-packages/tensorflow/python/framework/dtypes.py:525: FutureWarning: Passing (type, 1) or '1type' as a synonym of type is deprecated; in a future version of numpy, it will be understood as (type, (1,)) / '(1,)type'.\n",
            "  np_resource = np.dtype([(\"resource\", np.ubyte, 1)])\n",
            "/usr/local/lib/python3.6/dist-packages/tensorboard/compat/tensorflow_stub/dtypes.py:541: FutureWarning: Passing (type, 1) or '1type' as a synonym of type is deprecated; in a future version of numpy, it will be understood as (type, (1,)) / '(1,)type'.\n",
            "  _np_qint8 = np.dtype([(\"qint8\", np.int8, 1)])\n",
            "/usr/local/lib/python3.6/dist-packages/tensorboard/compat/tensorflow_stub/dtypes.py:542: FutureWarning: Passing (type, 1) or '1type' as a synonym of type is deprecated; in a future version of numpy, it will be understood as (type, (1,)) / '(1,)type'.\n",
            "  _np_quint8 = np.dtype([(\"quint8\", np.uint8, 1)])\n",
            "/usr/local/lib/python3.6/dist-packages/tensorboard/compat/tensorflow_stub/dtypes.py:543: FutureWarning: Passing (type, 1) or '1type' as a synonym of type is deprecated; in a future version of numpy, it will be understood as (type, (1,)) / '(1,)type'.\n",
            "  _np_qint16 = np.dtype([(\"qint16\", np.int16, 1)])\n",
            "/usr/local/lib/python3.6/dist-packages/tensorboard/compat/tensorflow_stub/dtypes.py:544: FutureWarning: Passing (type, 1) or '1type' as a synonym of type is deprecated; in a future version of numpy, it will be understood as (type, (1,)) / '(1,)type'.\n",
            "  _np_quint16 = np.dtype([(\"quint16\", np.uint16, 1)])\n",
            "/usr/local/lib/python3.6/dist-packages/tensorboard/compat/tensorflow_stub/dtypes.py:545: FutureWarning: Passing (type, 1) or '1type' as a synonym of type is deprecated; in a future version of numpy, it will be understood as (type, (1,)) / '(1,)type'.\n",
            "  _np_qint32 = np.dtype([(\"qint32\", np.int32, 1)])\n",
            "/usr/local/lib/python3.6/dist-packages/tensorboard/compat/tensorflow_stub/dtypes.py:550: FutureWarning: Passing (type, 1) or '1type' as a synonym of type is deprecated; in a future version of numpy, it will be understood as (type, (1,)) / '(1,)type'.\n",
            "  np_resource = np.dtype([(\"resource\", np.ubyte, 1)])\n"
          ],
          "name": "stderr"
        },
        {
          "output_type": "display_data",
          "data": {
            "text/html": [
              "<p style=\"color: red;\">\n",
              "The default version of TensorFlow in Colab will switch to TensorFlow 2.x on the 27th of March, 2020.<br>\n",
              "We recommend you <a href=\"https://www.tensorflow.org/guide/migrate\" target=\"_blank\">upgrade</a> now\n",
              "or ensure your notebook will continue to use TensorFlow 1.x via the <code>%tensorflow_version 1.x</code> magic:\n",
              "<a href=\"https://colab.research.google.com/notebooks/tensorflow_version.ipynb\" target=\"_blank\">more info</a>.</p>\n"
            ],
            "text/plain": [
              "<IPython.core.display.HTML object>"
            ]
          },
          "metadata": {
            "tags": []
          }
        }
      ]
    },
    {
      "cell_type": "code",
      "metadata": {
        "id": "QOfESM5FvoJx",
        "colab_type": "code",
        "colab": {}
      },
      "source": [
        ""
      ],
      "execution_count": 0,
      "outputs": []
    },
    {
      "cell_type": "code",
      "metadata": {
        "id": "k2N7_-ycPqpB",
        "colab_type": "code",
        "colab": {}
      },
      "source": [
        "\n",
        "a=tf.constant([[3.1,4.5,2,7],[1,2,3,4]],dtype=tf.float64)\n",
        "b=tf.constant([[3.5,6,2.9,9],[5,4,3,2]],dtype=tf.float64)\n",
        "\n",
        "res=spearmann_rank_coeff(a,b)\n",
        "#res=test_coeff(a,b)"
      ],
      "execution_count": 0,
      "outputs": []
    },
    {
      "cell_type": "code",
      "metadata": {
        "id": "QIJSEGLLPu07",
        "colab_type": "code",
        "colab": {
          "base_uri": "https://localhost:8080/",
          "height": 33
        },
        "outputId": "0a845c2a-ce9e-4d5e-9931-91b4b71b9eff"
      },
      "source": [
        "with tf.Session() as sess:\n",
        "    sess.run(res)\n",
        "    print(res.eval())"
      ],
      "execution_count": 23,
      "outputs": [
        {
          "output_type": "stream",
          "text": [
            "1.5698467415620858\n"
          ],
          "name": "stdout"
        }
      ]
    },
    {
      "cell_type": "code",
      "metadata": {
        "id": "9zpeuRkdv-c7",
        "colab_type": "code",
        "colab": {}
      },
      "source": [
        "from keras import Sequential"
      ],
      "execution_count": 0,
      "outputs": []
    },
    {
      "cell_type": "code",
      "metadata": {
        "id": "gOXwhwBvPu9D",
        "colab_type": "code",
        "colab": {
          "base_uri": "https://localhost:8080/",
          "height": 317
        },
        "outputId": "e8bca4d9-ea88-403b-c171-addef2cd531f"
      },
      "source": [
        "model = Sequential()\n",
        "model.add(layers.Dense(200,activation='relu',kernel_regularizer=None,input_shape=(X.shape[1],)))\n",
        "model.add(layers.Dropout(0.1))\n",
        "model.add(layers.Dense(200,activation='relu',kernel_regularizer=None))\n",
        "model.add(layers.Dropout(0.1))\n",
        "#model.add(layers.Dense(100,activation='relu',kernel_regularizer=regularizers.l2(0.001)))\n",
        "#model.add(layers.Dropout(0.2))\n",
        "model.add(layers.Dense(2,activation='sigmoid'))\n",
        "model.summary()"
      ],
      "execution_count": 24,
      "outputs": [
        {
          "output_type": "stream",
          "text": [
            "Model: \"sequential_3\"\n",
            "_________________________________________________________________\n",
            "Layer (type)                 Output Shape              Param #   \n",
            "=================================================================\n",
            "dense_1 (Dense)              (None, 200)               20400     \n",
            "_________________________________________________________________\n",
            "dropout_1 (Dropout)          (None, 200)               0         \n",
            "_________________________________________________________________\n",
            "dense_2 (Dense)              (None, 200)               40200     \n",
            "_________________________________________________________________\n",
            "dropout_2 (Dropout)          (None, 200)               0         \n",
            "_________________________________________________________________\n",
            "dense_3 (Dense)              (None, 2)                 402       \n",
            "=================================================================\n",
            "Total params: 61,002\n",
            "Trainable params: 61,002\n",
            "Non-trainable params: 0\n",
            "_________________________________________________________________\n"
          ],
          "name": "stdout"
        }
      ]
    },
    {
      "cell_type": "code",
      "metadata": {
        "id": "VD7cxP38PvAP",
        "colab_type": "code",
        "colab": {
          "base_uri": "https://localhost:8080/",
          "height": 753
        },
        "outputId": "6cf73297-89dc-48d3-fed8-8f7aaac2b827"
      },
      "source": [
        "model.compile(optimizer='rmsprop',loss=['mae'],metrics=['acc',spearmann_rank_coeff])\n",
        "history=model.fit(x=X_train,y=Y_train,batch_size=50,epochs=20,validation_split=0.2,shuffle=True,verbose=True)"
      ],
      "execution_count": 25,
      "outputs": [
        {
          "output_type": "stream",
          "text": [
            "WARNING:tensorflow:From /usr/local/lib/python3.6/dist-packages/keras/backend/tensorflow_backend.py:422: The name tf.global_variables is deprecated. Please use tf.compat.v1.global_variables instead.\n",
            "\n",
            "Train on 3840 samples, validate on 960 samples\n",
            "Epoch 1/20\n",
            "3840/3840 [==============================] - 1s 170us/step - loss: 0.1051 - acc: 0.7031 - spearmann_rank_coeff: 0.0953 - val_loss: 0.0878 - val_acc: 0.6813 - val_spearmann_rank_coeff: 0.1076\n",
            "Epoch 2/20\n",
            "3840/3840 [==============================] - 0s 118us/step - loss: 0.0877 - acc: 0.7089 - spearmann_rank_coeff: 0.1915 - val_loss: 0.0866 - val_acc: 0.6813 - val_spearmann_rank_coeff: 0.1286\n",
            "Epoch 3/20\n",
            "3840/3840 [==============================] - 0s 125us/step - loss: 0.0876 - acc: 0.7089 - spearmann_rank_coeff: 0.2000 - val_loss: 0.0936 - val_acc: 0.6813 - val_spearmann_rank_coeff: 0.1112\n",
            "Epoch 4/20\n",
            "3840/3840 [==============================] - 0s 118us/step - loss: 0.0871 - acc: 0.7089 - spearmann_rank_coeff: 0.2250 - val_loss: 0.0878 - val_acc: 0.6813 - val_spearmann_rank_coeff: 0.1483\n",
            "Epoch 5/20\n",
            "3840/3840 [==============================] - 0s 119us/step - loss: 0.0869 - acc: 0.7081 - spearmann_rank_coeff: 0.2303 - val_loss: 0.0873 - val_acc: 0.6813 - val_spearmann_rank_coeff: 0.1484\n",
            "Epoch 6/20\n",
            "3840/3840 [==============================] - 0s 122us/step - loss: 0.0866 - acc: 0.7086 - spearmann_rank_coeff: 0.2550 - val_loss: 0.0869 - val_acc: 0.6813 - val_spearmann_rank_coeff: 0.1429\n",
            "Epoch 7/20\n",
            "3840/3840 [==============================] - 1s 132us/step - loss: 0.0862 - acc: 0.7094 - spearmann_rank_coeff: 0.2515 - val_loss: 0.0868 - val_acc: 0.6813 - val_spearmann_rank_coeff: 0.1494\n",
            "Epoch 8/20\n",
            "3840/3840 [==============================] - 1s 130us/step - loss: 0.0861 - acc: 0.7094 - spearmann_rank_coeff: 0.2670 - val_loss: 0.0887 - val_acc: 0.6813 - val_spearmann_rank_coeff: 0.0865\n",
            "Epoch 9/20\n",
            "3840/3840 [==============================] - 1s 132us/step - loss: 0.0861 - acc: 0.7083 - spearmann_rank_coeff: 0.2719 - val_loss: 0.0886 - val_acc: 0.6813 - val_spearmann_rank_coeff: 0.0931\n",
            "Epoch 10/20\n",
            "3840/3840 [==============================] - 1s 132us/step - loss: 0.0861 - acc: 0.7099 - spearmann_rank_coeff: 0.2706 - val_loss: 0.0874 - val_acc: 0.6802 - val_spearmann_rank_coeff: 0.1132\n",
            "Epoch 11/20\n",
            "3840/3840 [==============================] - 1s 138us/step - loss: 0.0860 - acc: 0.7086 - spearmann_rank_coeff: 0.2836 - val_loss: 0.0879 - val_acc: 0.6802 - val_spearmann_rank_coeff: 0.1484\n",
            "Epoch 12/20\n",
            "3840/3840 [==============================] - 0s 127us/step - loss: 0.0855 - acc: 0.7089 - spearmann_rank_coeff: 0.2975 - val_loss: 0.0870 - val_acc: 0.6792 - val_spearmann_rank_coeff: 0.1237\n",
            "Epoch 13/20\n",
            "3840/3840 [==============================] - 1s 135us/step - loss: 0.0850 - acc: 0.7081 - spearmann_rank_coeff: 0.3172 - val_loss: 0.0883 - val_acc: 0.6802 - val_spearmann_rank_coeff: 0.1177\n",
            "Epoch 14/20\n",
            "3840/3840 [==============================] - 0s 121us/step - loss: 0.0853 - acc: 0.7081 - spearmann_rank_coeff: 0.3034 - val_loss: 0.0911 - val_acc: 0.6781 - val_spearmann_rank_coeff: 0.1298\n",
            "Epoch 15/20\n",
            "3840/3840 [==============================] - 0s 126us/step - loss: 0.0853 - acc: 0.7099 - spearmann_rank_coeff: 0.3290 - val_loss: 0.0872 - val_acc: 0.6760 - val_spearmann_rank_coeff: 0.1245\n",
            "Epoch 16/20\n",
            "3840/3840 [==============================] - 0s 119us/step - loss: 0.0850 - acc: 0.7076 - spearmann_rank_coeff: 0.3239 - val_loss: 0.0876 - val_acc: 0.6781 - val_spearmann_rank_coeff: 0.1452\n",
            "Epoch 17/20\n",
            "3840/3840 [==============================] - 0s 125us/step - loss: 0.0841 - acc: 0.7083 - spearmann_rank_coeff: 0.3444 - val_loss: 0.0886 - val_acc: 0.6781 - val_spearmann_rank_coeff: 0.1502\n",
            "Epoch 18/20\n",
            "3840/3840 [==============================] - 0s 128us/step - loss: 0.0844 - acc: 0.7076 - spearmann_rank_coeff: 0.3569 - val_loss: 0.0877 - val_acc: 0.6792 - val_spearmann_rank_coeff: 0.1122\n",
            "Epoch 19/20\n",
            "3840/3840 [==============================] - 0s 123us/step - loss: 0.0841 - acc: 0.7102 - spearmann_rank_coeff: 0.3466 - val_loss: 0.0880 - val_acc: 0.6802 - val_spearmann_rank_coeff: 0.1336\n",
            "Epoch 20/20\n",
            "3840/3840 [==============================] - 1s 132us/step - loss: 0.0839 - acc: 0.7083 - spearmann_rank_coeff: 0.3642 - val_loss: 0.0880 - val_acc: 0.6792 - val_spearmann_rank_coeff: 0.1408\n"
          ],
          "name": "stdout"
        }
      ]
    },
    {
      "cell_type": "code",
      "metadata": {
        "id": "VjqCOdmJP00M",
        "colab_type": "code",
        "colab": {
          "base_uri": "https://localhost:8080/",
          "height": 573
        },
        "outputId": "f3a81324-a3d7-45a9-ffd9-a212dfebf151"
      },
      "source": [
        "loss = history.history['loss']\n",
        "val_loss = history.history['val_loss']\n",
        "\n",
        "epochs = range(1,len(loss)+1)\n",
        "\n",
        "plt.figure()\n",
        "plt.plot(epochs,loss,'bo',label='Training loss')\n",
        "plt.plot(epochs,val_loss,'b',label='Validation loss')\n",
        "plt.title('Training and validation loss')\n",
        "plt.xlabel('Epochs')\n",
        "plt.ylabel('Loss')\n",
        "plt.legend()\n",
        "plt.show()\n",
        "\n",
        "plt.figure()\n",
        "acc = history.history['spearmann_rank_coeff']\n",
        "val_acc = history.history['val_spearmann_rank_coeff']\n",
        "plt.plot(epochs, acc, 'bo', label='Training acc')\n",
        "plt.plot(epochs, val_acc, 'b', label='Validation acc')\n",
        "plt.title('Training and validation accuracy')\n",
        "plt.xlabel('Epochs')\n",
        "plt.ylabel('Acc')\n",
        "plt.legend()\n",
        "plt.show()"
      ],
      "execution_count": 26,
      "outputs": [
        {
          "output_type": "display_data",
          "data": {
            "image/png": "[encoded data removed]",
            "text/plain": [
              "<Figure size 432x288 with 1 Axes>"
            ]
          },
          "metadata": {
            "tags": [],
            "needs_background": "light"
          }
        },
        {
          "output_type": "display_data",
          "data": {
            "image/png": "[encoded data removed]",
            "text/plain": [
              "<Figure size 432x288 with 1 Axes>"
            ]
          },
          "metadata": {
            "tags": [],
            "needs_background": "light"
          }
        }
      ]
    },
    {
      "cell_type": "code",
      "metadata": {
        "id": "K8saRJRCP038",
        "colab_type": "code",
        "colab": {
          "base_uri": "https://localhost:8080/",
          "height": 557
        },
        "outputId": "3daf25d2-759c-40a2-cdb6-9fb1c400fe27"
      },
      "source": [
        "Y_pred_train = model.predict(X_train)\n",
        "Y_pred_val = model.predict(X_val)\n",
        "\n",
        "if len(Y.shape) == 2:\n",
        "    plt.figure()\n",
        "    plt.scatter(Y_pred_train[:,0],Y_pred_train[:,1],marker='o',c='r',label='train')\n",
        "    plt.scatter(Y_pred_val[:,0],Y_pred_val[:,1],marker='x',c='g',label='val')\n",
        "    plt.scatter(Y[:,0],Y[:,1],marker='x',c='b',label='true',alpha=0.1)\n",
        "    plt.xlim([0,1])\n",
        "    plt.ylim([0,1])\n",
        "    plt.legend()\n",
        "    plt.xlabel('short-term')\n",
        "    plt.ylabel('long-term')\n",
        "    plt.title('Training results')\n",
        "    plt.show()\n",
        "    \n",
        "    # plot testing results\n",
        "    Y_pred = model.predict(X_test[:,:],batch_size=32)\n",
        "    plt.figure()\n",
        "    plt.scatter(Y_pred[:,0],Y_pred[:,1],marker='o',c='r')\n",
        "    plt.xlabel('short-term')\n",
        "    plt.ylabel('long-term')\n",
        "    plt.show()\n",
        "    \n",
        "else:\n",
        "    plt.figure()\n",
        "    plt.scatter(Y_pred_train,Y_train,marker='o',c='r',label='train')\n",
        "    plt.scatter(Y_pred_val,Y_val,marker='x',c='g',label='val')\n",
        "    #plt.scatter(Y[:,0],Y[:,1],marker='x',c='b',label='true',alpha=0.1)\n",
        "    plt.xlim([0,1])\n",
        "    plt.ylim([0,1])\n",
        "    plt.legend()\n",
        "    plt.xlabel('true')\n",
        "    plt.ylabel('pred')\n",
        "    plt.title('Training results [short-term]')\n",
        "    plt.show()"
      ],
      "execution_count": 27,
      "outputs": [
        {
          "output_type": "display_data",
          "data": {
            "image/png": "[encoded data removed]",
            "text/plain": [
              "<Figure size 432x288 with 1 Axes>"
            ]
          },
          "metadata": {
            "tags": [],
            "needs_background": "light"
          }
        },
        {
          "output_type": "display_data",
          "data": {
            "image/png": "[encoded data removed]",
            "text/plain": [
              "<Figure size 432x288 with 1 Axes>"
            ]
          },
          "metadata": {
            "tags": [],
            "needs_background": "light"
          }
        }
      ]
    },
    {
      "cell_type": "code",
      "metadata": {
        "id": "rfX97Y-vP79N",
        "colab_type": "code",
        "colab": {}
      },
      "source": [
        "Res = pd.DataFrame"
      ],
      "execution_count": 0,
      "outputs": []
    },
    {
      "cell_type": "code",
      "metadata": {
        "id": "MexiTxRcP8BD",
        "colab_type": "code",
        "colab": {}
      },
      "source": [
        "Y_pred = model.predict(X_val)\n"
      ],
      "execution_count": 0,
      "outputs": []
    },
    {
      "cell_type": "code",
      "metadata": {
        "id": "Mcmbaye8PvDr",
        "colab_type": "code",
        "colab": {}
      },
      "source": [
        "Res_short = pd.DataFrame({'Y_true':Y_val[:,0],'Y_pred':np.squeeze(Y_pred[:,0])})\n"
      ],
      "execution_count": 0,
      "outputs": []
    },
    {
      "cell_type": "code",
      "metadata": {
        "id": "hR2z_L_9QB2X",
        "colab_type": "code",
        "colab": {
          "base_uri": "https://localhost:8080/",
          "height": 33
        },
        "outputId": "68cb85e9-3038-4254-bfb3-9a8737f1871b"
      },
      "source": [
        "spearman_rank_correlation_coefficient = Res_short[['Y_true','Y_pred']].corr(method='spearman',min_periods=1)\n",
        "score_short = round(spearman_rank_correlation_coefficient.iloc[1][0],3)\n",
        "print('Short-Term Spearman\\'s correlation: %.3f' % score_short)"
      ],
      "execution_count": 31,
      "outputs": [
        {
          "output_type": "stream",
          "text": [
            "Short-Term Spearman's correlation: 0.254\n"
          ],
          "name": "stdout"
        }
      ]
    },
    {
      "cell_type": "code",
      "metadata": {
        "id": "ATAw50fxQB5z",
        "colab_type": "code",
        "colab": {
          "base_uri": "https://localhost:8080/",
          "height": 33
        },
        "outputId": "d54cd4c6-708b-45a9-9772-ef5a860fb1a3"
      },
      "source": [
        "Res_long = pd.DataFrame({'Y_true':Y_val[:,1],'Y_pred':np.squeeze(Y_pred[:,1])})\n",
        "spearman_rank_correlation_coefficient_long = Res_long[['Y_true','Y_pred']].corr(method='spearman',min_periods=1)\n",
        "score_long = round(spearman_rank_correlation_coefficient_long.iloc[1][0],3)\n",
        "print('Long-Term Spearman\\'s correlation: %.3f' % score_long)"
      ],
      "execution_count": 32,
      "outputs": [
        {
          "output_type": "stream",
          "text": [
            "Long-Term Spearman's correlation: 0.112\n"
          ],
          "name": "stdout"
        }
      ]
    },
    {
      "cell_type": "code",
      "metadata": {
        "id": "l0eagm6aQB87",
        "colab_type": "code",
        "colab": {
          "base_uri": "https://localhost:8080/",
          "height": 50
        },
        "outputId": "955ff3ff-a75d-4394-a205-94891c9fca0a"
      },
      "source": [
        "Get_score(Y_pred,Y_val)\n"
      ],
      "execution_count": 33,
      "outputs": [
        {
          "output_type": "stream",
          "text": [
            "The Spearman's correlation coefficient is: 0.254\n",
            "The Spearman's correlation coefficient is: 0.112\n"
          ],
          "name": "stdout"
        }
      ]
    },
    {
      "cell_type": "code",
      "metadata": {
        "id": "i8nZaCu7QCG8",
        "colab_type": "code",
        "colab": {}
      },
      "source": [
        ""
      ],
      "execution_count": 0,
      "outputs": []
    },
    {
      "cell_type": "code",
      "metadata": {
        "id": "xudA5Z1BQCEP",
        "colab_type": "code",
        "colab": {}
      },
      "source": [
        ""
      ],
      "execution_count": 0,
      "outputs": []
    }
  ]
}