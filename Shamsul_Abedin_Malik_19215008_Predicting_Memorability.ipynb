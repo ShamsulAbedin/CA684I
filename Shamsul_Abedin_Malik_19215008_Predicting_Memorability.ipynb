{
  "nbformat": 4,
  "nbformat_minor": 0,
  "metadata": {
    "kernelspec": {
      "display_name": "Python 3",
      "language": "python",
      "name": "python3"
    },
    "language_info": {
      "codemirror_mode": {
        "name": "ipython",
        "version": 3
      },
      "file_extension": ".py",
      "mimetype": "text/x-python",
      "name": "python",
      "nbconvert_exporter": "python",
      "pygments_lexer": "ipython3",
      "version": "3.7.1"
    },
    "colab": {
      "name": "Shamsul_Abedin_Malik_19215008_Predicting_Memorability.ipynb",
      "provenance": [],
      "collapsed_sections": [],
      "toc_visible": true,
      "include_colab_link": true
    }
  },
  "cells": [
    {
      "cell_type": "markdown",
      "metadata": {
        "id": "view-in-github",
        "colab_type": "text"
      },
      "source": [
        "<a href=\"https://colab.research.google.com/github/ShamsulAbedin/CA684I/blob/master/Shamsul_Abedin_Malik_19215008_Predicting_Memorability.ipynb\" target=\"_parent\"><img src=\"https://colab.research.google.com/assets/colab-badge.svg\" alt=\"Open In Colab\"/></a>"
      ]
    },
    {
      "cell_type": "markdown",
      "metadata": {
        "id": "5aBBzzQlxdga",
        "colab_type": "text"
      },
      "source": [
        "# Predicting Media Memorability\n",
        "\n",
        "As part of the assignment we are trying to build systems by applying different Machine learning Model and Features  that are capable to predict how memorable a video is, based on the calculation of the memorability score."
      ]
    },
    {
      "cell_type": "markdown",
      "metadata": {
        "id": "h9g7FFrXxdgc",
        "colab_type": "text"
      },
      "source": [
        "# This notebook is organized as follows:\n",
        "\n",
        "* 1 [Loading Package & Libraries](#Section1)\n",
        "\n",
        "* 2 [Function Definitions](#section2)\n",
        "\n",
        "* 3 [Loading Video Memorabolity Files and Features](#section3)\n",
        "\n",
        "* 4 [Data Preprocessing](#section4)\n",
        "\n",
        "* 5 [Experiments with different Features and models](#section5)\n",
        "\n",
        "* 6 [Determining the best model with features](#section6)\n",
        "\n",
        "* 7 [Predicting the test Results](#section7)\n",
        "\n",
        "* 8 [Reference](#section8)\n"
      ]
    },
    {
      "cell_type": "markdown",
      "metadata": {
        "id": "lFlNUeX30w6P",
        "colab_type": "text"
      },
      "source": [
        "# 1 : Loading Package & Libraries"
      ]
    },
    {
      "cell_type": "markdown",
      "metadata": {
        "id": "eUEnWtVHjTfW",
        "colab_type": "text"
      },
      "source": [
        "## 1.1 : Installing packages"
      ]
    },
    {
      "cell_type": "code",
      "metadata": {
        "id": "v-Lw7R5WKRaj",
        "colab_type": "code",
        "outputId": "70abd507-5948-4a28-9855-c50ad9056ca4",
        "colab": {
          "base_uri": "https://localhost:8080/",
          "height": 646
        }
      },
      "source": [
        "!pip install tensorflow==1.14"
      ],
      "execution_count": 0,
      "outputs": [
        {
          "output_type": "stream",
          "text": [
            "Collecting tensorflow==1.14\n",
            "\u001b[?25l  Downloading https://files.pythonhosted.org/packages/de/f0/96fb2e0412ae9692dbf400e5b04432885f677ad6241c088ccc5fe7724d69/tensorflow-1.14.0-cp36-cp36m-manylinux1_x86_64.whl (109.2MB)\n",
            "\u001b[K     |████████████████████████████████| 109.2MB 80kB/s \n",
            "\u001b[?25hRequirement already satisfied: wrapt>=1.11.1 in /usr/local/lib/python3.6/dist-packages (from tensorflow==1.14) (1.12.1)\n",
            "Requirement already satisfied: gast>=0.2.0 in /usr/local/lib/python3.6/dist-packages (from tensorflow==1.14) (0.3.3)\n",
            "Requirement already satisfied: termcolor>=1.1.0 in /usr/local/lib/python3.6/dist-packages (from tensorflow==1.14) (1.1.0)\n",
            "Requirement already satisfied: protobuf>=3.6.1 in /usr/local/lib/python3.6/dist-packages (from tensorflow==1.14) (3.10.0)\n",
            "Requirement already satisfied: absl-py>=0.7.0 in /usr/local/lib/python3.6/dist-packages (from tensorflow==1.14) (0.9.0)\n",
            "Collecting tensorflow-estimator<1.15.0rc0,>=1.14.0rc0\n",
            "\u001b[?25l  Downloading https://files.pythonhosted.org/packages/3c/d5/21860a5b11caf0678fbc8319341b0ae21a07156911132e0e71bffed0510d/tensorflow_estimator-1.14.0-py2.py3-none-any.whl (488kB)\n",
            "\u001b[K     |████████████████████████████████| 491kB 43.5MB/s \n",
            "\u001b[?25hRequirement already satisfied: grpcio>=1.8.6 in /usr/local/lib/python3.6/dist-packages (from tensorflow==1.14) (1.28.1)\n",
            "Requirement already satisfied: google-pasta>=0.1.6 in /usr/local/lib/python3.6/dist-packages (from tensorflow==1.14) (0.2.0)\n",
            "Requirement already satisfied: keras-preprocessing>=1.0.5 in /usr/local/lib/python3.6/dist-packages (from tensorflow==1.14) (1.1.0)\n",
            "Collecting tensorboard<1.15.0,>=1.14.0\n",
            "\u001b[?25l  Downloading https://files.pythonhosted.org/packages/91/2d/2ed263449a078cd9c8a9ba50ebd50123adf1f8cfbea1492f9084169b89d9/tensorboard-1.14.0-py3-none-any.whl (3.1MB)\n",
            "\u001b[K     |████████████████████████████████| 3.2MB 44.6MB/s \n",
            "\u001b[?25hRequirement already satisfied: wheel>=0.26 in /usr/local/lib/python3.6/dist-packages (from tensorflow==1.14) (0.34.2)\n",
            "Requirement already satisfied: numpy<2.0,>=1.14.5 in /usr/local/lib/python3.6/dist-packages (from tensorflow==1.14) (1.18.3)\n",
            "Requirement already satisfied: astor>=0.6.0 in /usr/local/lib/python3.6/dist-packages (from tensorflow==1.14) (0.8.1)\n",
            "Requirement already satisfied: keras-applications>=1.0.6 in /usr/local/lib/python3.6/dist-packages (from tensorflow==1.14) (1.0.8)\n",
            "Requirement already satisfied: six>=1.10.0 in /usr/local/lib/python3.6/dist-packages (from tensorflow==1.14) (1.12.0)\n",
            "Requirement already satisfied: setuptools in /usr/local/lib/python3.6/dist-packages (from protobuf>=3.6.1->tensorflow==1.14) (46.1.3)\n",
            "Requirement already satisfied: werkzeug>=0.11.15 in /usr/local/lib/python3.6/dist-packages (from tensorboard<1.15.0,>=1.14.0->tensorflow==1.14) (1.0.1)\n",
            "Requirement already satisfied: markdown>=2.6.8 in /usr/local/lib/python3.6/dist-packages (from tensorboard<1.15.0,>=1.14.0->tensorflow==1.14) (3.2.1)\n",
            "Requirement already satisfied: h5py in /usr/local/lib/python3.6/dist-packages (from keras-applications>=1.0.6->tensorflow==1.14) (2.10.0)\n",
            "Installing collected packages: tensorflow-estimator, tensorboard, tensorflow\n",
            "  Found existing installation: tensorflow-estimator 2.2.0\n",
            "    Uninstalling tensorflow-estimator-2.2.0:\n",
            "      Successfully uninstalled tensorflow-estimator-2.2.0\n",
            "  Found existing installation: tensorboard 2.2.1\n",
            "    Uninstalling tensorboard-2.2.1:\n",
            "      Successfully uninstalled tensorboard-2.2.1\n",
            "  Found existing installation: tensorflow 2.2.0rc3\n",
            "    Uninstalling tensorflow-2.2.0rc3:\n",
            "      Successfully uninstalled tensorflow-2.2.0rc3\n",
            "Successfully installed tensorboard-1.14.0 tensorflow-1.14.0 tensorflow-estimator-1.14.0\n"
          ],
          "name": "stdout"
        }
      ]
    },
    {
      "cell_type": "code",
      "metadata": {
        "id": "7w6EEiXnK_NK",
        "colab_type": "code",
        "outputId": "27fb6115-1daf-4bbe-def7-3d37686df87e",
        "colab": {
          "base_uri": "https://localhost:8080/",
          "height": 187
        }
      },
      "source": [
        "!pip show tensorflow"
      ],
      "execution_count": 0,
      "outputs": [
        {
          "output_type": "stream",
          "text": [
            "Name: tensorflow\n",
            "Version: 1.14.0\n",
            "Summary: TensorFlow is an open source machine learning framework for everyone.\n",
            "Home-page: https://www.tensorflow.org/\n",
            "Author: Google Inc.\n",
            "Author-email: packages@tensorflow.org\n",
            "License: Apache 2.0\n",
            "Location: /usr/local/lib/python3.6/dist-packages\n",
            "Requires: six, keras-applications, tensorflow-estimator, grpcio, protobuf, termcolor, tensorboard, numpy, gast, astor, absl-py, google-pasta, wrapt, keras-preprocessing, wheel\n",
            "Required-by: fancyimpute\n"
          ],
          "name": "stdout"
        }
      ]
    },
    {
      "cell_type": "code",
      "metadata": {
        "id": "BUYUexVNKjRA",
        "colab_type": "code",
        "outputId": "51e8abd3-6689-4d80-e5d9-d357de013a7a",
        "colab": {
          "base_uri": "https://localhost:8080/",
          "height": 170
        }
      },
      "source": [
        "!pip install pyprind\n",
        "!pip install keras"
      ],
      "execution_count": 0,
      "outputs": [
        {
          "output_type": "stream",
          "text": [
            "Requirement already satisfied: pyprind in /usr/local/lib/python3.6/dist-packages (2.11.2)\n",
            "Requirement already satisfied: keras in /usr/local/lib/python3.6/dist-packages (2.3.1)\n",
            "Requirement already satisfied: pyyaml in /usr/local/lib/python3.6/dist-packages (from keras) (3.13)\n",
            "Requirement already satisfied: keras-preprocessing>=1.0.5 in /usr/local/lib/python3.6/dist-packages (from keras) (1.1.0)\n",
            "Requirement already satisfied: keras-applications>=1.0.6 in /usr/local/lib/python3.6/dist-packages (from keras) (1.0.8)\n",
            "Requirement already satisfied: six>=1.9.0 in /usr/local/lib/python3.6/dist-packages (from keras) (1.12.0)\n",
            "Requirement already satisfied: h5py in /usr/local/lib/python3.6/dist-packages (from keras) (2.10.0)\n",
            "Requirement already satisfied: numpy>=1.9.1 in /usr/local/lib/python3.6/dist-packages (from keras) (1.18.3)\n",
            "Requirement already satisfied: scipy>=0.14 in /usr/local/lib/python3.6/dist-packages (from keras) (1.4.1)\n"
          ],
          "name": "stdout"
        }
      ]
    },
    {
      "cell_type": "markdown",
      "metadata": {
        "id": "Hk0JUUTIjeoe",
        "colab_type": "text"
      },
      "source": [
        "## 1.2 : Inporting Libraries"
      ]
    },
    {
      "cell_type": "code",
      "metadata": {
        "id": "MhVZPw_7KkSE",
        "colab_type": "code",
        "colab": {}
      },
      "source": [
        "import pandas as pd\n",
        "\n",
        "import numpy as np\n",
        "from string import punctuation\n",
        "import matplotlib.pyplot as plt\n",
        "from sklearn.model_selection import train_test_split\n",
        "import matplotlib.pyplot as plt\n",
        "import os\n",
        "import glob\n",
        "import nltk"
      ],
      "execution_count": 0,
      "outputs": []
    },
    {
      "cell_type": "code",
      "metadata": {
        "id": "MWzlRtn9LS0o",
        "colab_type": "code",
        "colab": {}
      },
      "source": [
        "from keras import Sequential\n",
        "from keras import layers\n",
        "from keras import regularizers\n",
        "import tensorflow\n",
        "from tensorflow.python.keras import Sequential\n",
        "from tensorflow.python.keras import layers\n",
        "from tensorflow.python.keras import regularizers\n",
        "from tensorflow.python.keras.preprocessing.text import Tokenizer\n",
        "import pyprind\n",
        "from collections import Counter\n",
        "from keras.preprocessing.text import Tokenizer\n",
        "from sklearn.model_selection import train_test_split"
      ],
      "execution_count": 0,
      "outputs": []
    },
    {
      "cell_type": "code",
      "metadata": {
        "id": "SB-53Di9K1oO",
        "colab_type": "code",
        "colab": {}
      },
      "source": [
        "# for reproducability\n",
        "from numpy.random import seed\n",
        "seed(1)"
      ],
      "execution_count": 0,
      "outputs": []
    },
    {
      "cell_type": "code",
      "metadata": {
        "id": "sSupbppgK9Xw",
        "colab_type": "code",
        "colab": {}
      },
      "source": [
        "import tensorflow\n",
        "from tensorflow import set_random_seed\n",
        "tensorflow.set_random_seed(1)"
      ],
      "execution_count": 0,
      "outputs": []
    },
    {
      "cell_type": "markdown",
      "metadata": {
        "colab_type": "text",
        "id": "Ts5Yk_dZbz8S"
      },
      "source": [
        "# 2 :  FUNCTIONS DEFINITION\n",
        "\n",
        "Here we are defining necessary functions required."
      ]
    },
    {
      "cell_type": "markdown",
      "metadata": {
        "id": "iYyfmyl4zZLF",
        "colab_type": "text"
      },
      "source": [
        "## 2.1 : C3D Feature"
      ]
    },
    {
      "cell_type": "code",
      "metadata": {
        "colab_type": "code",
        "id": "qr1vnNklPw74",
        "colab": {}
      },
      "source": [
        "#Function to load C3D features\n",
        "def read_C3D(df_caption, C3D_Path):\n",
        "    files = list(df_caption[\"video\"].values)\n",
        "    C3D_Features = []\n",
        "    for file in files:\n",
        "        file = C3D_Path+file[:-4]+'txt'\n",
        "        C3D_Features.append(np.loadtxt(file))\n",
        "    #print(type(C3D_Features))\n",
        "    return C3D_Features"
      ],
      "execution_count": 0,
      "outputs": []
    },
    {
      "cell_type": "markdown",
      "metadata": {
        "id": "wzgPEv6FzkRL",
        "colab_type": "text"
      },
      "source": [
        "## 2.2 : HMP features"
      ]
    },
    {
      "cell_type": "code",
      "metadata": {
        "id": "TKQxD9QhXEIr",
        "colab_type": "code",
        "colab": {}
      },
      "source": [
        "#Function to load HMP features\n",
        "def read_HMP(df_caption, HMP_Path):\n",
        "    files = list(df_caption[\"video\"].values)\n",
        "    HMP_Features = []\n",
        "    for file in files:\n",
        "        file = HMP_Path+file[:-4]+'txt'\n",
        "        with open(file) as f:\n",
        "            for line in f:\n",
        "                pairs=line.split()\n",
        "                HMP_temp = { int(p.split(':')[0]) : float(p.split(':')[1]) for p in pairs}\n",
        "                HMP = np.zeros(6075)\n",
        "            for idx in HMP_temp.keys():\n",
        "                HMP[idx-1] = HMP_temp[idx]\n",
        "            HMP_Features.append(HMP)\n",
        "    return HMP_Features"
      ],
      "execution_count": 0,
      "outputs": []
    },
    {
      "cell_type": "markdown",
      "metadata": {
        "id": "OVxWD9S0zraS",
        "colab_type": "text"
      },
      "source": [
        "## 2.3 : Captions into dataframes"
      ]
    },
    {
      "cell_type": "code",
      "metadata": {
        "colab_type": "code",
        "id": "Ym_0VjfUbz8a",
        "colab": {}
      },
      "source": [
        "#Function to load the captions into dataframes\n",
        "def read_caps(filename):\n",
        "    video_name = []\n",
        "    captions = []\n",
        "    df_caption = pd.DataFrame()\n",
        "    with open(filename) as file:\n",
        "        for line in file:\n",
        "            pair = line.split() #each line in the text file contains to words so, this code will split them into two words\n",
        "            video_name.append(pair[0]) #first word will be assigned as video name\n",
        "            captions.append(pair[1]) #second word will be assigned as caption\n",
        "        df_caption['video']=video_name #setting these two as column names of dataframe\n",
        "        df_caption['caption']=captions\n",
        "    return df_caption\n"
      ],
      "execution_count": 0,
      "outputs": []
    },
    {
      "cell_type": "markdown",
      "metadata": {
        "id": "XrPVWpuSz7fe",
        "colab_type": "text"
      },
      "source": [
        "## 2.4 : Spearman coefficient scores"
      ]
    },
    {
      "cell_type": "code",
      "metadata": {
        "colab_type": "code",
        "id": "TE71wpVMbz8b",
        "colab": {}
      },
      "source": [
        "#Function to calculate Spearman coefficient scores\n",
        "def Get_score(Y_pred,Y_true):\n",
        "    '''Calculate the Spearmann\"s correlation coefficient'''\n",
        "    Y_pred = np.squeeze(Y_pred)\n",
        "    Y_true = np.squeeze(Y_true)\n",
        "    if Y_pred.shape != Y_true.shape:\n",
        "        print('Input shapes don\\'t match!')\n",
        "    else:\n",
        "        if len(Y_pred.shape) == 1:\n",
        "            Res = pd.DataFrame({'Y_true':Y_true,'Y_pred':Y_pred})\n",
        "            score_mat = Res[['Y_true','Y_pred']].corr(method='spearman',min_periods=1)\n",
        "            print('The Spearman\\'s correlation coefficient is: %.3f' % score_mat.iloc[1][0])\n",
        "        else:\n",
        "            for ii in range(Y_pred.shape[1]):\n",
        "                Get_score(Y_pred[:,ii],Y_true[:,ii])"
      ],
      "execution_count": 0,
      "outputs": []
    },
    {
      "cell_type": "markdown",
      "metadata": {
        "id": "1TDYX6puk5JD",
        "colab_type": "text"
      },
      "source": [
        "# 3 : Loading Video Memorability files and Features"
      ]
    },
    {
      "cell_type": "markdown",
      "metadata": {
        "colab_type": "text",
        "id": "H_ANWsp4bz8e"
      },
      "source": [
        "## 3.1 : Mounting Drive"
      ]
    },
    {
      "cell_type": "code",
      "metadata": {
        "colab_type": "code",
        "outputId": "511e6656-d138-4e4e-b79d-0063aa0881c2",
        "id": "JWbYRmeVbz8e",
        "colab": {
          "base_uri": "https://localhost:8080/",
          "height": 34
        }
      },
      "source": [
        "import os\n",
        "from google.colab import drive\n",
        "drive.mount('/content/drive/')\n"
      ],
      "execution_count": 0,
      "outputs": [
        {
          "output_type": "stream",
          "text": [
            "Drive already mounted at /content/drive/; to attempt to forcibly remount, call drive.mount(\"/content/drive/\", force_remount=True).\n"
          ],
          "name": "stdout"
        }
      ]
    },
    {
      "cell_type": "markdown",
      "metadata": {
        "id": "bFYpEWEgFipM",
        "colab_type": "text"
      },
      "source": [
        "## 3.2 : Loading Features"
      ]
    },
    {
      "cell_type": "code",
      "metadata": {
        "id": "nNv_rZOP6a9I",
        "colab_type": "code",
        "colab": {}
      },
      "source": [
        "#load the ground truth dataset\n",
        "path_label = '/content/drive/My Drive/CA684_Assignment/Dev-set/Ground-truth/'\n",
        "labels=pd.read_csv(path_label+'ground-truth.csv')"
      ],
      "execution_count": 0,
      "outputs": []
    },
    {
      "cell_type": "code",
      "metadata": {
        "id": "d7T7kad_JU2y",
        "colab_type": "code",
        "colab": {}
      },
      "source": [
        "#load captions\n",
        "caption_path='/content/drive/My Drive/CA684_Assignment/Dev-set/Captions/dev-set_video-captions.txt'\n",
        "df_caption=read_caps(caption_path)"
      ],
      "execution_count": 0,
      "outputs": []
    },
    {
      "cell_type": "code",
      "metadata": {
        "colab_type": "code",
        "id": "ZLBISYPbbz8j",
        "colab": {}
      },
      "source": [
        "#load C3D features\n",
        "C3D_Path = '/content/drive/My Drive/CA684_Assignment/Dev-set/C3D/'\n",
        "C3D_Features = read_C3D(df_caption,C3D_Path)"
      ],
      "execution_count": 0,
      "outputs": []
    },
    {
      "cell_type": "code",
      "metadata": {
        "id": "a5qyjq9cX7_o",
        "colab_type": "code",
        "colab": {}
      },
      "source": [
        "#load HMP features\n",
        "HMP_Path = '/content/drive/My Drive/CA684_Assignment/Dev-set/HMP/'\n",
        "HMP_Features = read_HMP(df_caption,HMP_Path)"
      ],
      "execution_count": 0,
      "outputs": []
    },
    {
      "cell_type": "code",
      "metadata": {
        "id": "14m4RAppMPwy",
        "colab_type": "code",
        "outputId": "e97018d4-2bff-45da-c2e8-7e03d6292324",
        "colab": {
          "base_uri": "https://localhost:8080/",
          "height": 255
        }
      },
      "source": [
        "print(df_caption)"
      ],
      "execution_count": 0,
      "outputs": [
        {
          "output_type": "stream",
          "text": [
            "               video                                            caption\n",
            "0        video3.webm                 blonde-woman-is-massaged-tilt-down\n",
            "1        video4.webm  roulette-table-spinning-with-ball-in-closeup-shot\n",
            "2        video6.webm                                      khr-gangsters\n",
            "3        video8.webm               medical-helicopter-hovers-at-airport\n",
            "4       video10.webm               couple-relaxing-on-picnic-crane-shot\n",
            "...              ...                                                ...\n",
            "5995  video7488.webm        beautiful-young-woman-in-front-of-fountains\n",
            "5996  video7489.webm  focus-pull-from-molting-penguin-to-penguin-col...\n",
            "5997  video7491.webm           students-walking-in-university-of-mexico\n",
            "5998  video7492.webm                       beautiful-black-woman-at-spa\n",
            "5999  video7493.webm  beautiful-modern-brunette-woman-using-tablet-c...\n",
            "\n",
            "[6000 rows x 2 columns]\n"
          ],
          "name": "stdout"
        }
      ]
    },
    {
      "cell_type": "code",
      "metadata": {
        "id": "Kq1Pu7xh-HVg",
        "colab_type": "code",
        "outputId": "c2931fba-c862-460e-dac0-7c0c125882bf",
        "colab": {
          "base_uri": "https://localhost:8080/",
          "height": 85
        }
      },
      "source": [
        "#shape of the dataframes\n",
        "print(f'Ground Truth : {labels.shape}')\n",
        "print(f'Dev Captions : {df_caption.shape}')\n",
        "print(f'C3D          : ({len(C3D_Features)})')\n",
        "print(f'HMP          : ({len(HMP_Features)})')"
      ],
      "execution_count": 0,
      "outputs": [
        {
          "output_type": "stream",
          "text": [
            "Ground Truth : (6000, 5)\n",
            "Dev Captions : (6000, 2)\n",
            "C3D          : (6000)\n",
            "HMP          : (6000)\n"
          ],
          "name": "stdout"
        }
      ]
    },
    {
      "cell_type": "markdown",
      "metadata": {
        "id": "pL8YrT9alwhJ",
        "colab_type": "text"
      },
      "source": [
        "## 3.3 : Joining the dataframes"
      ]
    },
    {
      "cell_type": "code",
      "metadata": {
        "id": "6vTkBSV8Oi5-",
        "colab_type": "code",
        "outputId": "d88f06eb-c2ba-4e5c-bc30-b90af7042a11",
        "colab": {
          "base_uri": "https://localhost:8080/",
          "height": 504
        }
      },
      "source": [
        "df = df_caption.merge(labels,on=[\"video\"],how=\"inner\")\n",
        "df"
      ],
      "execution_count": 0,
      "outputs": [
        {
          "output_type": "execute_result",
          "data": {
            "text/html": [
              "<div>\n",
              "<style scoped>\n",
              "    .dataframe tbody tr th:only-of-type {\n",
              "        vertical-align: middle;\n",
              "    }\n",
              "\n",
              "    .dataframe tbody tr th {\n",
              "        vertical-align: top;\n",
              "    }\n",
              "\n",
              "    .dataframe thead th {\n",
              "        text-align: right;\n",
              "    }\n",
              "</style>\n",
              "<table border=\"1\" class=\"dataframe\">\n",
              "  <thead>\n",
              "    <tr style=\"text-align: right;\">\n",
              "      <th></th>\n",
              "      <th>video</th>\n",
              "      <th>caption</th>\n",
              "      <th>short-term_memorability</th>\n",
              "      <th>nb_short-term_annotations</th>\n",
              "      <th>long-term_memorability</th>\n",
              "      <th>nb_long-term_annotations</th>\n",
              "    </tr>\n",
              "  </thead>\n",
              "  <tbody>\n",
              "    <tr>\n",
              "      <th>0</th>\n",
              "      <td>video3.webm</td>\n",
              "      <td>blonde-woman-is-massaged-tilt-down</td>\n",
              "      <td>0.924</td>\n",
              "      <td>34</td>\n",
              "      <td>0.846</td>\n",
              "      <td>13</td>\n",
              "    </tr>\n",
              "    <tr>\n",
              "      <th>1</th>\n",
              "      <td>video4.webm</td>\n",
              "      <td>roulette-table-spinning-with-ball-in-closeup-shot</td>\n",
              "      <td>0.923</td>\n",
              "      <td>33</td>\n",
              "      <td>0.667</td>\n",
              "      <td>12</td>\n",
              "    </tr>\n",
              "    <tr>\n",
              "      <th>2</th>\n",
              "      <td>video6.webm</td>\n",
              "      <td>khr-gangsters</td>\n",
              "      <td>0.863</td>\n",
              "      <td>33</td>\n",
              "      <td>0.700</td>\n",
              "      <td>10</td>\n",
              "    </tr>\n",
              "    <tr>\n",
              "      <th>3</th>\n",
              "      <td>video8.webm</td>\n",
              "      <td>medical-helicopter-hovers-at-airport</td>\n",
              "      <td>0.922</td>\n",
              "      <td>33</td>\n",
              "      <td>0.818</td>\n",
              "      <td>11</td>\n",
              "    </tr>\n",
              "    <tr>\n",
              "      <th>4</th>\n",
              "      <td>video10.webm</td>\n",
              "      <td>couple-relaxing-on-picnic-crane-shot</td>\n",
              "      <td>0.950</td>\n",
              "      <td>34</td>\n",
              "      <td>0.900</td>\n",
              "      <td>10</td>\n",
              "    </tr>\n",
              "    <tr>\n",
              "      <th>...</th>\n",
              "      <td>...</td>\n",
              "      <td>...</td>\n",
              "      <td>...</td>\n",
              "      <td>...</td>\n",
              "      <td>...</td>\n",
              "      <td>...</td>\n",
              "    </tr>\n",
              "    <tr>\n",
              "      <th>5995</th>\n",
              "      <td>video7488.webm</td>\n",
              "      <td>beautiful-young-woman-in-front-of-fountains</td>\n",
              "      <td>0.921</td>\n",
              "      <td>33</td>\n",
              "      <td>1.000</td>\n",
              "      <td>9</td>\n",
              "    </tr>\n",
              "    <tr>\n",
              "      <th>5996</th>\n",
              "      <td>video7489.webm</td>\n",
              "      <td>focus-pull-from-molting-penguin-to-penguin-col...</td>\n",
              "      <td>0.909</td>\n",
              "      <td>53</td>\n",
              "      <td>0.839</td>\n",
              "      <td>31</td>\n",
              "    </tr>\n",
              "    <tr>\n",
              "      <th>5997</th>\n",
              "      <td>video7491.webm</td>\n",
              "      <td>students-walking-in-university-of-mexico</td>\n",
              "      <td>0.713</td>\n",
              "      <td>33</td>\n",
              "      <td>0.818</td>\n",
              "      <td>11</td>\n",
              "    </tr>\n",
              "    <tr>\n",
              "      <th>5998</th>\n",
              "      <td>video7492.webm</td>\n",
              "      <td>beautiful-black-woman-at-spa</td>\n",
              "      <td>0.954</td>\n",
              "      <td>34</td>\n",
              "      <td>1.000</td>\n",
              "      <td>16</td>\n",
              "    </tr>\n",
              "    <tr>\n",
              "      <th>5999</th>\n",
              "      <td>video7493.webm</td>\n",
              "      <td>beautiful-modern-brunette-woman-using-tablet-c...</td>\n",
              "      <td>0.953</td>\n",
              "      <td>33</td>\n",
              "      <td>0.615</td>\n",
              "      <td>13</td>\n",
              "    </tr>\n",
              "  </tbody>\n",
              "</table>\n",
              "<p>6000 rows × 6 columns</p>\n",
              "</div>"
            ],
            "text/plain": [
              "               video  ... nb_long-term_annotations\n",
              "0        video3.webm  ...                       13\n",
              "1        video4.webm  ...                       12\n",
              "2        video6.webm  ...                       10\n",
              "3        video8.webm  ...                       11\n",
              "4       video10.webm  ...                       10\n",
              "...              ...  ...                      ...\n",
              "5995  video7488.webm  ...                        9\n",
              "5996  video7489.webm  ...                       31\n",
              "5997  video7491.webm  ...                       11\n",
              "5998  video7492.webm  ...                       16\n",
              "5999  video7493.webm  ...                       13\n",
              "\n",
              "[6000 rows x 6 columns]"
            ]
          },
          "metadata": {
            "tags": []
          },
          "execution_count": 23
        }
      ]
    },
    {
      "cell_type": "markdown",
      "metadata": {
        "id": "Or-P1vNIjMvw",
        "colab_type": "text"
      },
      "source": [
        "# 4 : Data Preprocessing"
      ]
    },
    {
      "cell_type": "markdown",
      "metadata": {
        "id": "AA10z6XeYm5L",
        "colab_type": "text"
      },
      "source": [
        "## 4.1 : Captions: Bag of words CountVectorizer"
      ]
    },
    {
      "cell_type": "code",
      "metadata": {
        "colab_type": "code",
        "outputId": "6cf451a5-f10f-4341-faf1-5c2633a926ea",
        "id": "hD8SQCmfZ-QY",
        "colab": {
          "base_uri": "https://localhost:8080/",
          "height": 68
        }
      },
      "source": [
        "import nltk\n",
        "nltk.download('stopwords')\n",
        "\n",
        "#loading the nltk stopwords of English\n",
        "stopwords = nltk.corpus.stopwords.words('english')\n",
        "print(f'Length of Stopwords: {len(stopwords)}')"
      ],
      "execution_count": 0,
      "outputs": [
        {
          "output_type": "stream",
          "text": [
            "[nltk_data] Downloading package stopwords to /root/nltk_data...\n",
            "[nltk_data]   Unzipping corpora/stopwords.zip.\n",
            "Length of Stopwords: 179\n"
          ],
          "name": "stdout"
        }
      ]
    },
    {
      "cell_type": "code",
      "metadata": {
        "colab_type": "code",
        "outputId": "374ee6d5-0077-4c3c-ff95-ad54367def16",
        "id": "Q4IdQeBwZ-Qc",
        "colab": {
          "base_uri": "https://localhost:8080/",
          "height": 68
        }
      },
      "source": [
        "#Removing punctuations and stop words from captions\n",
        "# setup prograss tracker\n",
        "pbar = pyprind.ProgBar(len(df_caption['caption']), title='Counting word occurrences')\n",
        "for i, cap in enumerate(df_caption['caption']):\n",
        "    # replace punctuations with space\n",
        "    # convert words to lower case \n",
        "    text = ''.join([c if c not in punctuation else ' ' for c in cap]).lower()\n",
        "    #removing stopwords\n",
        "    rmv_stopwords= ' '.join([word for word in text.split() if word not in stopwords])\n",
        "    df_caption.loc[i,'caption'] = rmv_stopwords #updating the original captions \n",
        "    pbar.update()\n"
      ],
      "execution_count": 0,
      "outputs": [
        {
          "output_type": "stream",
          "text": [
            "Counting word occurrences\n",
            "0% [##############################] 100% | ETA: 00:00:00\n",
            "Total time elapsed: 00:00:01\n"
          ],
          "name": "stderr"
        }
      ]
    },
    {
      "cell_type": "code",
      "metadata": {
        "colab_type": "code",
        "outputId": "9f398e08-dabe-4814-ad8d-fdd8209156c3",
        "id": "1xYIanfBZ-Qe",
        "colab": {
          "base_uri": "https://localhost:8080/",
          "height": 204
        }
      },
      "source": [
        "df_caption.head()"
      ],
      "execution_count": 0,
      "outputs": [
        {
          "output_type": "execute_result",
          "data": {
            "text/html": [
              "<div>\n",
              "<style scoped>\n",
              "    .dataframe tbody tr th:only-of-type {\n",
              "        vertical-align: middle;\n",
              "    }\n",
              "\n",
              "    .dataframe tbody tr th {\n",
              "        vertical-align: top;\n",
              "    }\n",
              "\n",
              "    .dataframe thead th {\n",
              "        text-align: right;\n",
              "    }\n",
              "</style>\n",
              "<table border=\"1\" class=\"dataframe\">\n",
              "  <thead>\n",
              "    <tr style=\"text-align: right;\">\n",
              "      <th></th>\n",
              "      <th>video</th>\n",
              "      <th>caption</th>\n",
              "    </tr>\n",
              "  </thead>\n",
              "  <tbody>\n",
              "    <tr>\n",
              "      <th>0</th>\n",
              "      <td>video3.webm</td>\n",
              "      <td>blonde woman massaged tilt</td>\n",
              "    </tr>\n",
              "    <tr>\n",
              "      <th>1</th>\n",
              "      <td>video4.webm</td>\n",
              "      <td>roulette table spinning ball closeup shot</td>\n",
              "    </tr>\n",
              "    <tr>\n",
              "      <th>2</th>\n",
              "      <td>video6.webm</td>\n",
              "      <td>khr gangsters</td>\n",
              "    </tr>\n",
              "    <tr>\n",
              "      <th>3</th>\n",
              "      <td>video8.webm</td>\n",
              "      <td>medical helicopter hovers airport</td>\n",
              "    </tr>\n",
              "    <tr>\n",
              "      <th>4</th>\n",
              "      <td>video10.webm</td>\n",
              "      <td>couple relaxing picnic crane shot</td>\n",
              "    </tr>\n",
              "  </tbody>\n",
              "</table>\n",
              "</div>"
            ],
            "text/plain": [
              "          video                                    caption\n",
              "0   video3.webm                 blonde woman massaged tilt\n",
              "1   video4.webm  roulette table spinning ball closeup shot\n",
              "2   video6.webm                              khr gangsters\n",
              "3   video8.webm          medical helicopter hovers airport\n",
              "4  video10.webm          couple relaxing picnic crane shot"
            ]
          },
          "metadata": {
            "tags": []
          },
          "execution_count": 33
        }
      ]
    },
    {
      "cell_type": "code",
      "metadata": {
        "colab_type": "code",
        "outputId": "d7a30e15-535a-43c3-8655-ad8981b48ecc",
        "id": "ue_y8uHwZ-Qf",
        "colab": {
          "base_uri": "https://localhost:8080/",
          "height": 34
        }
      },
      "source": [
        "#implementing bag of words for the combined captions\n",
        "from sklearn.feature_extraction.text import CountVectorizer\n",
        "vectorizer = CountVectorizer(analyzer = \"word\",max_features=3112) \n",
        "captions_bag = vectorizer.fit_transform(df_caption.caption).toarray()\n",
        "type(captions_bag)"
      ],
      "execution_count": 0,
      "outputs": [
        {
          "output_type": "execute_result",
          "data": {
            "text/plain": [
              "numpy.ndarray"
            ]
          },
          "metadata": {
            "tags": []
          },
          "execution_count": 34
        }
      ]
    },
    {
      "cell_type": "code",
      "metadata": {
        "colab_type": "code",
        "outputId": "8d392abb-8d0c-4aa0-c040-b020a325abf1",
        "id": "22HfqVoAZ-Qh",
        "colab": {
          "base_uri": "https://localhost:8080/",
          "height": 34
        }
      },
      "source": [
        "captions_bag.shape"
      ],
      "execution_count": 0,
      "outputs": [
        {
          "output_type": "execute_result",
          "data": {
            "text/plain": [
              "(6000, 3112)"
            ]
          },
          "metadata": {
            "tags": []
          },
          "execution_count": 35
        }
      ]
    },
    {
      "cell_type": "markdown",
      "metadata": {
        "colab_type": "text",
        "id": "yQIso2p6Z-Qi"
      },
      "source": [
        "## 4.2 : Combining Captions and C3D into a single Vector"
      ]
    },
    {
      "cell_type": "code",
      "metadata": {
        "colab_type": "code",
        "id": "RRwBBqRJZ-Qj",
        "colab": {}
      },
      "source": [
        "captions_c3d = (captions_bag.tolist())\n",
        "counter = 0\n",
        "for item in range(6000):\n",
        "    captions_c3d[counter] = np.append(captions_c3d[counter],C3D_Features[counter],axis=0)\n",
        "    counter = counter+1"
      ],
      "execution_count": 0,
      "outputs": []
    },
    {
      "cell_type": "code",
      "metadata": {
        "colab_type": "code",
        "outputId": "000fc7a9-e6f1-40aa-8c79-98e310792030",
        "id": "v8OQVm9UZ-Qk",
        "colab": {
          "base_uri": "https://localhost:8080/",
          "height": 34
        }
      },
      "source": [
        "len(captions_c3d[0]) "
      ],
      "execution_count": 0,
      "outputs": [
        {
          "output_type": "execute_result",
          "data": {
            "text/plain": [
              "3213"
            ]
          },
          "metadata": {
            "tags": []
          },
          "execution_count": 37
        }
      ]
    },
    {
      "cell_type": "code",
      "metadata": {
        "colab_type": "code",
        "outputId": "e3377bed-4499-4024-cdf8-f6df585bdf63",
        "id": "DlVdnCgrZ-Qn",
        "colab": {
          "base_uri": "https://localhost:8080/",
          "height": 34
        }
      },
      "source": [
        "len(captions_c3d)"
      ],
      "execution_count": 0,
      "outputs": [
        {
          "output_type": "execute_result",
          "data": {
            "text/plain": [
              "6000"
            ]
          },
          "metadata": {
            "tags": []
          },
          "execution_count": 38
        }
      ]
    },
    {
      "cell_type": "markdown",
      "metadata": {
        "colab_type": "text",
        "id": "l1EJUDuWZ-Qs"
      },
      "source": [
        "## 4.3 : Combining Captions+C3D+HMP"
      ]
    },
    {
      "cell_type": "code",
      "metadata": {
        "colab_type": "code",
        "id": "wBJ1tnfsZ-Qs",
        "colab": {}
      },
      "source": [
        "#Combining captions_c3d with HMP to form \n",
        "captions_c3d_hmp = captions_c3d\n",
        "counter = 0\n",
        "for item in range(6000):\n",
        "    captions_c3d_hmp[counter] = np.append(captions_c3d_hmp[counter],HMP_Features[counter],axis=0)\n",
        "    counter = counter+1"
      ],
      "execution_count": 0,
      "outputs": []
    },
    {
      "cell_type": "code",
      "metadata": {
        "colab_type": "code",
        "outputId": "b40bd1b4-dfee-49e0-87b0-4f8ac1aeb285",
        "id": "rpGeLIhRZ-Qu",
        "colab": {
          "base_uri": "https://localhost:8080/",
          "height": 34
        }
      },
      "source": [
        "len(captions_c3d_hmp[0]) "
      ],
      "execution_count": 0,
      "outputs": [
        {
          "output_type": "execute_result",
          "data": {
            "text/plain": [
              "9288"
            ]
          },
          "metadata": {
            "tags": []
          },
          "execution_count": 40
        }
      ]
    },
    {
      "cell_type": "code",
      "metadata": {
        "colab_type": "code",
        "outputId": "d10d81cf-4572-45c6-92b9-06b9cd8a984a",
        "id": "zG1tB-1BZ-Qv",
        "colab": {
          "base_uri": "https://localhost:8080/",
          "height": 34
        }
      },
      "source": [
        "len(captions_c3d_hmp)"
      ],
      "execution_count": 0,
      "outputs": [
        {
          "output_type": "execute_result",
          "data": {
            "text/plain": [
              "6000"
            ]
          },
          "metadata": {
            "tags": []
          },
          "execution_count": 41
        }
      ]
    },
    {
      "cell_type": "markdown",
      "metadata": {
        "colab_type": "text",
        "id": "wJlUtsSiZ-Qw"
      },
      "source": [
        "Now we have the following features\n",
        "\n",
        "1.   Captions in: captions_bag\n",
        "2.   C3D in: c3dfeatures \n",
        "3.   HMP in: hmp_features\n",
        "4.   Captions and C3D:&nbsp;  captions_c3d\n",
        "5.   Captions, C3D and HMP in: captions_c3d_hmp"
      ]
    },
    {
      "cell_type": "markdown",
      "metadata": {
        "id": "5BRlku-axdhY",
        "colab_type": "text"
      },
      "source": [
        "# 5 : Experiments with different features and models"
      ]
    },
    {
      "cell_type": "markdown",
      "metadata": {
        "id": "1DCBaf63xdhY",
        "colab_type": "text"
      },
      "source": [
        "## 5.1: Random Forest  with Captions"
      ]
    },
    {
      "cell_type": "code",
      "metadata": {
        "id": "ylAwXuH2xdhZ",
        "colab_type": "code",
        "colab": {}
      },
      "source": [
        "X = captions_bag\n",
        "y = labels[['short-term_memorability','long-term_memorability']].values"
      ],
      "execution_count": 0,
      "outputs": []
    },
    {
      "cell_type": "code",
      "metadata": {
        "id": "w4Lo7lHNxdhb",
        "colab_type": "code",
        "colab": {}
      },
      "source": [
        "# Splitting the dataset into the Training set and Test set\n",
        "X_train,X_test,y_train,y_test = train_test_split(X,y,test_size=0.2,random_state=42)"
      ],
      "execution_count": 0,
      "outputs": []
    },
    {
      "cell_type": "code",
      "metadata": {
        "id": "Re63V-Czxdhc",
        "colab_type": "code",
        "outputId": "f16e2719-01e0-47af-ba9e-ba6f6119dbf0",
        "colab": {
          "base_uri": "https://localhost:8080/",
          "height": 85
        }
      },
      "source": [
        "print('X_train ', X_train.shape)\n",
        "print('X_test  ', X_test.shape)\n",
        "print('Y_train ', y_train.shape)\n",
        "print('Y_test  ', y_test.shape)"
      ],
      "execution_count": 0,
      "outputs": [
        {
          "output_type": "stream",
          "text": [
            "X_train  (4800, 3112)\n",
            "X_test   (1200, 3112)\n",
            "Y_train  (4800, 2)\n",
            "Y_test   (1200, 2)\n"
          ],
          "name": "stdout"
        }
      ]
    },
    {
      "cell_type": "code",
      "metadata": {
        "id": "XO4tOAkqxdhe",
        "colab_type": "code",
        "colab": {}
      },
      "source": [
        "from sklearn.ensemble import RandomForestRegressor\n",
        "captions_rf = RandomForestRegressor(n_estimators=100,random_state=45)"
      ],
      "execution_count": 0,
      "outputs": []
    },
    {
      "cell_type": "code",
      "metadata": {
        "id": "ltXw-UZjxdhg",
        "colab_type": "code",
        "outputId": "f5d2f930-8d2b-49ad-a06b-c817a1019b19",
        "colab": {
          "base_uri": "https://localhost:8080/",
          "height": 136
        }
      },
      "source": [
        "captions_rf.fit(X_train,y_train)"
      ],
      "execution_count": 0,
      "outputs": [
        {
          "output_type": "execute_result",
          "data": {
            "text/plain": [
              "RandomForestRegressor(bootstrap=True, ccp_alpha=0.0, criterion='mse',\n",
              "                      max_depth=None, max_features='auto', max_leaf_nodes=None,\n",
              "                      max_samples=None, min_impurity_decrease=0.0,\n",
              "                      min_impurity_split=None, min_samples_leaf=1,\n",
              "                      min_samples_split=2, min_weight_fraction_leaf=0.0,\n",
              "                      n_estimators=100, n_jobs=None, oob_score=False,\n",
              "                      random_state=45, verbose=0, warm_start=False)"
            ]
          },
          "metadata": {
            "tags": []
          },
          "execution_count": 46
        }
      ]
    },
    {
      "cell_type": "code",
      "metadata": {
        "id": "d0U5IEY_xdhh",
        "colab_type": "code",
        "colab": {}
      },
      "source": [
        "captions_pred = captions_rf.predict(X_test)"
      ],
      "execution_count": 0,
      "outputs": []
    },
    {
      "cell_type": "code",
      "metadata": {
        "id": "HQUC8oeDxdhj",
        "colab_type": "code",
        "outputId": "29c97b96-f6bf-4116-9044-41317df2b957",
        "colab": {
          "base_uri": "https://localhost:8080/",
          "height": 51
        }
      },
      "source": [
        "Get_score(captions_pred, y_test)"
      ],
      "execution_count": 0,
      "outputs": [
        {
          "output_type": "stream",
          "text": [
            "The Spearman's correlation coefficient is: 0.409\n",
            "The Spearman's correlation coefficient is: 0.176\n"
          ],
          "name": "stdout"
        }
      ]
    },
    {
      "cell_type": "markdown",
      "metadata": {
        "id": "BvDi5P6Vxdhl",
        "colab_type": "text"
      },
      "source": [
        "***"
      ]
    },
    {
      "cell_type": "markdown",
      "metadata": {
        "id": "8sIXbdK7xdhl",
        "colab_type": "text"
      },
      "source": [
        "## 5.2: SVR with Captions"
      ]
    },
    {
      "cell_type": "code",
      "metadata": {
        "id": "9OTd5bEwxdho",
        "colab_type": "code",
        "colab": {}
      },
      "source": [
        "svr_X = captions_bag\n",
        "svr_y_short = labels[['short-term_memorability']].values\n",
        "svr_y_long = labels[['long-term_memorability']].values"
      ],
      "execution_count": 0,
      "outputs": []
    },
    {
      "cell_type": "code",
      "metadata": {
        "id": "NXDVyOdfxdhp",
        "colab_type": "code",
        "colab": {}
      },
      "source": [
        "# Splitting the dataset into the Training set and Test set\n",
        "short_X_train,short_X_test,short_y_train,short_y_test = train_test_split(svr_X,svr_y_short,test_size=0.2,random_state=40)\n",
        "long_X_train,long_X_test,long_y_train,long_y_test = train_test_split(svr_X,svr_y_long,test_size=0.2,random_state=40)"
      ],
      "execution_count": 0,
      "outputs": []
    },
    {
      "cell_type": "code",
      "metadata": {
        "scrolled": true,
        "id": "LMsVnbrHxdhr",
        "colab_type": "code",
        "colab": {}
      },
      "source": [
        "from sklearn.preprocessing import StandardScaler\n",
        "short_X = StandardScaler()\n",
        "short_y = StandardScaler()\n",
        "short_X_train = short_X.fit_transform(short_X_train)\n",
        "short_y_train = short_y.fit_transform(short_y_train)\n",
        "long_X = StandardScaler()\n",
        "long_y = StandardScaler()\n",
        "long_X_train = long_X.fit_transform(long_X_train)\n",
        "long_y_train = long_y.fit_transform(long_y_train)"
      ],
      "execution_count": 0,
      "outputs": []
    },
    {
      "cell_type": "code",
      "metadata": {
        "id": "r_zsdNnDxdht",
        "colab_type": "code",
        "outputId": "a01b16e9-0ef7-44e4-d628-6aeff4dbaf2f",
        "colab": {
          "base_uri": "https://localhost:8080/",
          "height": 139
        }
      },
      "source": [
        "from sklearn.svm import SVR\n",
        "short_regressor = SVR(kernel = 'rbf')\n",
        "long_regressor = SVR(kernel = 'rbf')\n",
        "short_regressor.fit(short_X_train, short_y_train)\n",
        "long_regressor.fit(long_X_train,long_y_train)"
      ],
      "execution_count": 0,
      "outputs": [
        {
          "output_type": "stream",
          "text": [
            "/usr/local/lib/python3.6/dist-packages/sklearn/utils/validation.py:760: DataConversionWarning: A column-vector y was passed when a 1d array was expected. Please change the shape of y to (n_samples, ), for example using ravel().\n",
            "  y = column_or_1d(y, warn=True)\n",
            "/usr/local/lib/python3.6/dist-packages/sklearn/utils/validation.py:760: DataConversionWarning: A column-vector y was passed when a 1d array was expected. Please change the shape of y to (n_samples, ), for example using ravel().\n",
            "  y = column_or_1d(y, warn=True)\n"
          ],
          "name": "stderr"
        },
        {
          "output_type": "execute_result",
          "data": {
            "text/plain": [
              "SVR(C=1.0, cache_size=200, coef0=0.0, degree=3, epsilon=0.1, gamma='scale',\n",
              "    kernel='rbf', max_iter=-1, shrinking=True, tol=0.001, verbose=False)"
            ]
          },
          "metadata": {
            "tags": []
          },
          "execution_count": 54
        }
      ]
    },
    {
      "cell_type": "code",
      "metadata": {
        "id": "PK6xT8cJxdhv",
        "colab_type": "code",
        "colab": {}
      },
      "source": [
        "short_pred = short_regressor.predict(short_X_test)\n",
        "short_pred = short_y.inverse_transform(short_pred)\n",
        "long_pred = long_regressor.predict(long_X_test)\n",
        "long_pred = long_y.inverse_transform(long_pred)"
      ],
      "execution_count": 0,
      "outputs": []
    },
    {
      "cell_type": "code",
      "metadata": {
        "id": "3LJtMudYxdhx",
        "colab_type": "code",
        "outputId": "57697317-a537-41c7-d0f5-d32bb509a141",
        "colab": {
          "base_uri": "https://localhost:8080/",
          "height": 51
        }
      },
      "source": [
        "Get_score(short_pred, short_y_test)\n",
        "Get_score(long_pred, long_y_test)"
      ],
      "execution_count": 0,
      "outputs": [
        {
          "output_type": "stream",
          "text": [
            "The Spearman's correlation coefficient is: 0.338\n",
            "The Spearman's correlation coefficient is: 0.170\n"
          ],
          "name": "stdout"
        }
      ]
    },
    {
      "cell_type": "markdown",
      "metadata": {
        "id": "nhLI-nLrxdhy",
        "colab_type": "text"
      },
      "source": [
        "***\n",
        "<a id='section4.3'></a>"
      ]
    },
    {
      "cell_type": "markdown",
      "metadata": {
        "id": "S85LL21Hxdhy",
        "colab_type": "text"
      },
      "source": [
        "## 5.3: Random Forest with C3D"
      ]
    },
    {
      "cell_type": "code",
      "metadata": {
        "id": "OY1Rsf3mxdhy",
        "colab_type": "code",
        "colab": {}
      },
      "source": [
        "X = C3D_Features\n",
        "y = labels[['short-term_memorability','long-term_memorability']].values"
      ],
      "execution_count": 0,
      "outputs": []
    },
    {
      "cell_type": "code",
      "metadata": {
        "id": "8Pnovmz2xdh0",
        "colab_type": "code",
        "colab": {}
      },
      "source": [
        "# Splitting the dataset into the Training set and Test set\n",
        "X_train,X_test,y_train,y_test = train_test_split(X,y,test_size=0.2,random_state=42)"
      ],
      "execution_count": 0,
      "outputs": []
    },
    {
      "cell_type": "code",
      "metadata": {
        "id": "o7YqnQibxdh1",
        "colab_type": "code",
        "colab": {}
      },
      "source": [
        "from sklearn.ensemble import RandomForestRegressor\n",
        "rf_regressor = RandomForestRegressor(n_estimators=20,random_state=42,verbose=2)"
      ],
      "execution_count": 0,
      "outputs": []
    },
    {
      "cell_type": "code",
      "metadata": {
        "id": "WFYfQQAtxdh4",
        "colab_type": "code",
        "outputId": "6530a7ea-a98f-4cc4-ac6b-7aa69e13853c",
        "colab": {
          "base_uri": "https://localhost:8080/",
          "height": 527
        }
      },
      "source": [
        "rf_regressor.fit(X_train,y_train)"
      ],
      "execution_count": 0,
      "outputs": [
        {
          "output_type": "stream",
          "text": [
            "[Parallel(n_jobs=1)]: Using backend SequentialBackend with 1 concurrent workers.\n"
          ],
          "name": "stderr"
        },
        {
          "output_type": "stream",
          "text": [
            "building tree 1 of 20\n"
          ],
          "name": "stdout"
        },
        {
          "output_type": "stream",
          "text": [
            "[Parallel(n_jobs=1)]: Done   1 out of   1 | elapsed:    0.4s remaining:    0.0s\n"
          ],
          "name": "stderr"
        },
        {
          "output_type": "stream",
          "text": [
            "building tree 2 of 20\n",
            "building tree 3 of 20\n",
            "building tree 4 of 20\n",
            "building tree 5 of 20\n",
            "building tree 6 of 20\n",
            "building tree 7 of 20\n",
            "building tree 8 of 20\n",
            "building tree 9 of 20\n",
            "building tree 10 of 20\n",
            "building tree 11 of 20\n",
            "building tree 12 of 20\n",
            "building tree 13 of 20\n",
            "building tree 14 of 20\n",
            "building tree 15 of 20\n",
            "building tree 16 of 20\n",
            "building tree 17 of 20\n",
            "building tree 18 of 20\n",
            "building tree 19 of 20\n",
            "building tree 20 of 20\n"
          ],
          "name": "stdout"
        },
        {
          "output_type": "stream",
          "text": [
            "[Parallel(n_jobs=1)]: Done  20 out of  20 | elapsed:    8.4s finished\n"
          ],
          "name": "stderr"
        },
        {
          "output_type": "execute_result",
          "data": {
            "text/plain": [
              "RandomForestRegressor(bootstrap=True, ccp_alpha=0.0, criterion='mse',\n",
              "                      max_depth=None, max_features='auto', max_leaf_nodes=None,\n",
              "                      max_samples=None, min_impurity_decrease=0.0,\n",
              "                      min_impurity_split=None, min_samples_leaf=1,\n",
              "                      min_samples_split=2, min_weight_fraction_leaf=0.0,\n",
              "                      n_estimators=20, n_jobs=None, oob_score=False,\n",
              "                      random_state=42, verbose=2, warm_start=False)"
            ]
          },
          "metadata": {
            "tags": []
          },
          "execution_count": 61
        }
      ]
    },
    {
      "cell_type": "code",
      "metadata": {
        "id": "QpL448e8xdh6",
        "colab_type": "code",
        "outputId": "587145f3-0bfa-41b7-919a-6e9789e55f64",
        "colab": {
          "base_uri": "https://localhost:8080/",
          "height": 68
        }
      },
      "source": [
        "rf_pred = rf_regressor.predict(X_test)"
      ],
      "execution_count": 0,
      "outputs": [
        {
          "output_type": "stream",
          "text": [
            "[Parallel(n_jobs=1)]: Using backend SequentialBackend with 1 concurrent workers.\n",
            "[Parallel(n_jobs=1)]: Done   1 out of   1 | elapsed:    0.0s remaining:    0.0s\n",
            "[Parallel(n_jobs=1)]: Done  20 out of  20 | elapsed:    0.0s finished\n"
          ],
          "name": "stderr"
        }
      ]
    },
    {
      "cell_type": "code",
      "metadata": {
        "id": "gnCBREvnxdh8",
        "colab_type": "code",
        "outputId": "afdfd6f4-3bf3-4b36-e25a-f945352ff38b",
        "colab": {
          "base_uri": "https://localhost:8080/",
          "height": 51
        }
      },
      "source": [
        "Get_score(rf_pred, y_test)"
      ],
      "execution_count": 0,
      "outputs": [
        {
          "output_type": "stream",
          "text": [
            "The Spearman's correlation coefficient is: 0.266\n",
            "The Spearman's correlation coefficient is: 0.122\n"
          ],
          "name": "stdout"
        }
      ]
    },
    {
      "cell_type": "markdown",
      "metadata": {
        "id": "iTafRE2gxdh9",
        "colab_type": "text"
      },
      "source": [
        "***\n",
        "<a id='section4.4'></a>"
      ]
    },
    {
      "cell_type": "markdown",
      "metadata": {
        "id": "n2Zxfekzxdh-",
        "colab_type": "text"
      },
      "source": [
        "## 5.4: SVR with C3D"
      ]
    },
    {
      "cell_type": "code",
      "metadata": {
        "id": "tUWOQ_cjxdh-",
        "colab_type": "code",
        "colab": {}
      },
      "source": [
        "svr_X = C3D_Features\n",
        "svr_y_short = labels[['short-term_memorability']].values\n",
        "svr_y_long = labels[['long-term_memorability']].values"
      ],
      "execution_count": 0,
      "outputs": []
    },
    {
      "cell_type": "code",
      "metadata": {
        "id": "Azs-Vb5ZxdiA",
        "colab_type": "code",
        "colab": {}
      },
      "source": [
        "# Splitting the dataset into the Training set and Test set\n",
        "short_X_train,short_X_test,short_y_train,short_y_test = train_test_split(svr_X,svr_y_short,test_size=0.2,random_state=40)\n",
        "long_X_train,long_X_test,long_y_train,long_y_test = train_test_split(svr_X,svr_y_long,test_size=0.2,random_state=40)"
      ],
      "execution_count": 0,
      "outputs": []
    },
    {
      "cell_type": "code",
      "metadata": {
        "id": "JykjafpHxdiB",
        "colab_type": "code",
        "colab": {}
      },
      "source": [
        "from sklearn.preprocessing import StandardScaler\n",
        "short_X = StandardScaler()\n",
        "short_y = StandardScaler()\n",
        "short_X_train = short_X.fit_transform(short_X_train)\n",
        "short_y_train = short_y.fit_transform(short_y_train)\n",
        "long_X = StandardScaler()\n",
        "long_y = StandardScaler()\n",
        "long_X_train = long_X.fit_transform(long_X_train)\n",
        "long_y_train = long_y.fit_transform(long_y_train)"
      ],
      "execution_count": 0,
      "outputs": []
    },
    {
      "cell_type": "code",
      "metadata": {
        "id": "MePtedraxdiD",
        "colab_type": "code",
        "outputId": "b25e8d9c-c702-4be7-97fa-7907de46e0e5",
        "colab": {
          "base_uri": "https://localhost:8080/",
          "height": 139
        }
      },
      "source": [
        "from sklearn.svm import SVR\n",
        "short_regressor = SVR(kernel = 'rbf')\n",
        "long_regressor = SVR(kernel = 'rbf')\n",
        "short_regressor.fit(short_X_train, short_y_train)\n",
        "long_regressor.fit(long_X_train,long_y_train)"
      ],
      "execution_count": 0,
      "outputs": [
        {
          "output_type": "stream",
          "text": [
            "/usr/local/lib/python3.6/dist-packages/sklearn/utils/validation.py:760: DataConversionWarning: A column-vector y was passed when a 1d array was expected. Please change the shape of y to (n_samples, ), for example using ravel().\n",
            "  y = column_or_1d(y, warn=True)\n",
            "/usr/local/lib/python3.6/dist-packages/sklearn/utils/validation.py:760: DataConversionWarning: A column-vector y was passed when a 1d array was expected. Please change the shape of y to (n_samples, ), for example using ravel().\n",
            "  y = column_or_1d(y, warn=True)\n"
          ],
          "name": "stderr"
        },
        {
          "output_type": "execute_result",
          "data": {
            "text/plain": [
              "SVR(C=1.0, cache_size=200, coef0=0.0, degree=3, epsilon=0.1, gamma='scale',\n",
              "    kernel='rbf', max_iter=-1, shrinking=True, tol=0.001, verbose=False)"
            ]
          },
          "metadata": {
            "tags": []
          },
          "execution_count": 67
        }
      ]
    },
    {
      "cell_type": "code",
      "metadata": {
        "id": "ZnHv6SvZxdiF",
        "colab_type": "code",
        "colab": {}
      },
      "source": [
        "short_pred = short_regressor.predict(short_X_test)\n",
        "short_pred = short_y.inverse_transform(short_pred)\n",
        "long_pred = long_regressor.predict(long_X_test)\n",
        "long_pred = long_y.inverse_transform(long_pred)"
      ],
      "execution_count": 0,
      "outputs": []
    },
    {
      "cell_type": "code",
      "metadata": {
        "id": "nUfWTfwBxdiG",
        "colab_type": "code",
        "outputId": "bc2a34be-12f7-47e8-965f-08752ab4da22",
        "colab": {
          "base_uri": "https://localhost:8080/",
          "height": 51
        }
      },
      "source": [
        "Get_score(short_pred, short_y_test)\n",
        "Get_score(long_pred, long_y_test)"
      ],
      "execution_count": 0,
      "outputs": [
        {
          "output_type": "stream",
          "text": [
            "The Spearman's correlation coefficient is: 0.355\n",
            "The Spearman's correlation coefficient is: 0.179\n"
          ],
          "name": "stdout"
        }
      ]
    },
    {
      "cell_type": "markdown",
      "metadata": {
        "id": "jtfbyrs1xdiJ",
        "colab_type": "text"
      },
      "source": [
        "***\n",
        "<a id='section4.5'></a>"
      ]
    },
    {
      "cell_type": "markdown",
      "metadata": {
        "id": "usVN0gxjxdiJ",
        "colab_type": "text"
      },
      "source": [
        "## 5.5: Random Forest with Captions and C3D"
      ]
    },
    {
      "cell_type": "code",
      "metadata": {
        "id": "TTgmfcSyxdiJ",
        "colab_type": "code",
        "colab": {}
      },
      "source": [
        "X = captions_c3d\n",
        "y = labels[['short-term_memorability','long-term_memorability']].values"
      ],
      "execution_count": 0,
      "outputs": []
    },
    {
      "cell_type": "code",
      "metadata": {
        "id": "yCeklXfPxdiM",
        "colab_type": "code",
        "colab": {}
      },
      "source": [
        "# Splitting the dataset into the Training set and Test set\n",
        "X_train,X_test,y_train,y_test = train_test_split(X,y,test_size=0.2,random_state=42)"
      ],
      "execution_count": 0,
      "outputs": []
    },
    {
      "cell_type": "code",
      "metadata": {
        "id": "FYmeJ9oXxdiQ",
        "colab_type": "code",
        "colab": {}
      },
      "source": [
        "from sklearn.ensemble import RandomForestRegressor\n",
        "rf_regressor = RandomForestRegressor(n_estimators=50,random_state=45,verbose=2)"
      ],
      "execution_count": 0,
      "outputs": []
    },
    {
      "cell_type": "code",
      "metadata": {
        "id": "xr-nImdlxdiT",
        "colab_type": "code",
        "outputId": "4f049222-5ccc-4a76-9c78-1fefd9c59ec6",
        "colab": {
          "base_uri": "https://localhost:8080/",
          "height": 1000
        }
      },
      "source": [
        "rf_regressor.fit(X_train,y_train)"
      ],
      "execution_count": 0,
      "outputs": [
        {
          "output_type": "stream",
          "text": [
            "[Parallel(n_jobs=1)]: Using backend SequentialBackend with 1 concurrent workers.\n"
          ],
          "name": "stderr"
        },
        {
          "output_type": "stream",
          "text": [
            "building tree 1 of 50\n"
          ],
          "name": "stdout"
        },
        {
          "output_type": "stream",
          "text": [
            "[Parallel(n_jobs=1)]: Done   1 out of   1 | elapsed:   21.8s remaining:    0.0s\n"
          ],
          "name": "stderr"
        },
        {
          "output_type": "stream",
          "text": [
            "building tree 2 of 50\n",
            "building tree 3 of 50\n",
            "building tree 4 of 50\n",
            "building tree 5 of 50\n",
            "building tree 6 of 50\n",
            "building tree 7 of 50\n",
            "building tree 8 of 50\n",
            "building tree 9 of 50\n",
            "building tree 10 of 50\n",
            "building tree 11 of 50\n",
            "building tree 12 of 50\n",
            "building tree 13 of 50\n",
            "building tree 14 of 50\n",
            "building tree 15 of 50\n",
            "building tree 16 of 50\n",
            "building tree 17 of 50\n",
            "building tree 18 of 50\n",
            "building tree 19 of 50\n",
            "building tree 20 of 50\n",
            "building tree 21 of 50\n",
            "building tree 22 of 50\n",
            "building tree 23 of 50\n",
            "building tree 24 of 50\n",
            "building tree 25 of 50\n",
            "building tree 26 of 50\n",
            "building tree 27 of 50\n",
            "building tree 28 of 50\n",
            "building tree 29 of 50\n",
            "building tree 30 of 50\n",
            "building tree 31 of 50\n",
            "building tree 32 of 50\n",
            "building tree 33 of 50\n",
            "building tree 34 of 50\n",
            "building tree 35 of 50\n",
            "building tree 36 of 50\n",
            "building tree 37 of 50\n",
            "building tree 38 of 50\n",
            "building tree 39 of 50\n",
            "building tree 40 of 50\n",
            "building tree 41 of 50\n",
            "building tree 42 of 50\n",
            "building tree 43 of 50\n",
            "building tree 44 of 50\n",
            "building tree 45 of 50\n",
            "building tree 46 of 50\n",
            "building tree 47 of 50\n",
            "building tree 48 of 50\n",
            "building tree 49 of 50\n",
            "building tree 50 of 50\n"
          ],
          "name": "stdout"
        },
        {
          "output_type": "stream",
          "text": [
            "[Parallel(n_jobs=1)]: Done  50 out of  50 | elapsed: 15.3min finished\n"
          ],
          "name": "stderr"
        },
        {
          "output_type": "execute_result",
          "data": {
            "text/plain": [
              "RandomForestRegressor(bootstrap=True, ccp_alpha=0.0, criterion='mse',\n",
              "                      max_depth=None, max_features='auto', max_leaf_nodes=None,\n",
              "                      max_samples=None, min_impurity_decrease=0.0,\n",
              "                      min_impurity_split=None, min_samples_leaf=1,\n",
              "                      min_samples_split=2, min_weight_fraction_leaf=0.0,\n",
              "                      n_estimators=50, n_jobs=None, oob_score=False,\n",
              "                      random_state=45, verbose=2, warm_start=False)"
            ]
          },
          "metadata": {
            "tags": []
          },
          "execution_count": 74
        }
      ]
    },
    {
      "cell_type": "code",
      "metadata": {
        "id": "cmqNDh1dxdiU",
        "colab_type": "code",
        "outputId": "ba7e1b51-9658-48c9-8004-8c7bad462da1",
        "colab": {
          "base_uri": "https://localhost:8080/",
          "height": 68
        }
      },
      "source": [
        "rf_pred = rf_regressor.predict(X_test)"
      ],
      "execution_count": 0,
      "outputs": [
        {
          "output_type": "stream",
          "text": [
            "[Parallel(n_jobs=1)]: Using backend SequentialBackend with 1 concurrent workers.\n",
            "[Parallel(n_jobs=1)]: Done   1 out of   1 | elapsed:    0.0s remaining:    0.0s\n",
            "[Parallel(n_jobs=1)]: Done  50 out of  50 | elapsed:    0.0s finished\n"
          ],
          "name": "stderr"
        }
      ]
    },
    {
      "cell_type": "code",
      "metadata": {
        "id": "AxOJPWIfxdiV",
        "colab_type": "code",
        "outputId": "a00e5ca1-01ba-4aa2-c722-e6e7884bf702",
        "colab": {
          "base_uri": "https://localhost:8080/",
          "height": 51
        }
      },
      "source": [
        "Get_score(rf_pred, y_test)"
      ],
      "execution_count": 0,
      "outputs": [
        {
          "output_type": "stream",
          "text": [
            "The Spearman's correlation coefficient is: 0.300\n",
            "The Spearman's correlation coefficient is: 0.120\n"
          ],
          "name": "stdout"
        }
      ]
    },
    {
      "cell_type": "markdown",
      "metadata": {
        "id": "-Mgu31JjxdiX",
        "colab_type": "text"
      },
      "source": [
        "***\n",
        "<a id='section4.6'></a>"
      ]
    },
    {
      "cell_type": "markdown",
      "metadata": {
        "id": "LBFTQLsTxdiX",
        "colab_type": "text"
      },
      "source": [
        "## 5.6: SVR with Captions and C3D"
      ]
    },
    {
      "cell_type": "code",
      "metadata": {
        "id": "HDymrQKKxdiX",
        "colab_type": "code",
        "colab": {}
      },
      "source": [
        "svr_X = captions_c3d\n",
        "svr_y_short = labels[['short-term_memorability']].values\n",
        "svr_y_long = labels[['long-term_memorability']].values"
      ],
      "execution_count": 0,
      "outputs": []
    },
    {
      "cell_type": "code",
      "metadata": {
        "id": "tQl-FbH_xdic",
        "colab_type": "code",
        "colab": {}
      },
      "source": [
        "# Splitting the dataset into the Training set and Test set\n",
        "short_X_train,short_X_test,short_y_train,short_y_test = train_test_split(svr_X,svr_y_short,test_size=0.2,random_state=40)\n",
        "long_X_train,long_X_test,long_y_train,long_y_test = train_test_split(svr_X,svr_y_long,test_size=0.2,random_state=40)"
      ],
      "execution_count": 0,
      "outputs": []
    },
    {
      "cell_type": "code",
      "metadata": {
        "id": "ohSEIEHxxdie",
        "colab_type": "code",
        "colab": {}
      },
      "source": [
        "from sklearn.preprocessing import StandardScaler\n",
        "short_X = StandardScaler()\n",
        "short_y = StandardScaler()\n",
        "short_X_train = short_X.fit_transform(short_X_train)\n",
        "short_y_train = short_y.fit_transform(short_y_train)\n",
        "long_X = StandardScaler()\n",
        "long_y = StandardScaler()\n",
        "long_X_train = long_X.fit_transform(long_X_train)\n",
        "long_y_train = long_y.fit_transform(long_y_train)"
      ],
      "execution_count": 0,
      "outputs": []
    },
    {
      "cell_type": "code",
      "metadata": {
        "id": "ckwO0ON8xdif",
        "colab_type": "code",
        "outputId": "746ac9bc-9caa-4471-b964-4f3a2b8e3052",
        "colab": {
          "base_uri": "https://localhost:8080/",
          "height": 139
        }
      },
      "source": [
        "from sklearn.svm import SVR\n",
        "short_regressor = SVR(kernel = 'rbf')\n",
        "long_regressor = SVR(kernel = 'rbf')\n",
        "short_regressor.fit(short_X_train, short_y_train)\n",
        "long_regressor.fit(long_X_train,long_y_train)"
      ],
      "execution_count": 0,
      "outputs": [
        {
          "output_type": "stream",
          "text": [
            "/usr/local/lib/python3.6/dist-packages/sklearn/utils/validation.py:760: DataConversionWarning: A column-vector y was passed when a 1d array was expected. Please change the shape of y to (n_samples, ), for example using ravel().\n",
            "  y = column_or_1d(y, warn=True)\n",
            "/usr/local/lib/python3.6/dist-packages/sklearn/utils/validation.py:760: DataConversionWarning: A column-vector y was passed when a 1d array was expected. Please change the shape of y to (n_samples, ), for example using ravel().\n",
            "  y = column_or_1d(y, warn=True)\n"
          ],
          "name": "stderr"
        },
        {
          "output_type": "execute_result",
          "data": {
            "text/plain": [
              "SVR(C=1.0, cache_size=200, coef0=0.0, degree=3, epsilon=0.1, gamma='scale',\n",
              "    kernel='rbf', max_iter=-1, shrinking=True, tol=0.001, verbose=False)"
            ]
          },
          "metadata": {
            "tags": []
          },
          "execution_count": 80
        }
      ]
    },
    {
      "cell_type": "code",
      "metadata": {
        "id": "r82tmMBHxdig",
        "colab_type": "code",
        "colab": {}
      },
      "source": [
        "short_pred = short_regressor.predict(short_X_test)\n",
        "short_pred = short_y.inverse_transform(short_pred)\n",
        "long_pred = long_regressor.predict(long_X_test)\n",
        "long_pred = long_y.inverse_transform(long_pred)"
      ],
      "execution_count": 0,
      "outputs": []
    },
    {
      "cell_type": "code",
      "metadata": {
        "id": "BODXiaXFxdih",
        "colab_type": "code",
        "outputId": "2064582b-7fef-4911-bc70-7c4392433988",
        "colab": {
          "base_uri": "https://localhost:8080/",
          "height": 51
        }
      },
      "source": [
        "Get_score(short_pred, short_y_test)\n",
        "Get_score(long_pred, long_y_test)"
      ],
      "execution_count": 0,
      "outputs": [
        {
          "output_type": "stream",
          "text": [
            "The Spearman's correlation coefficient is: 0.355\n",
            "The Spearman's correlation coefficient is: 0.179\n"
          ],
          "name": "stdout"
        }
      ]
    },
    {
      "cell_type": "markdown",
      "metadata": {
        "id": "-U3S1Eixxdii",
        "colab_type": "text"
      },
      "source": [
        "***\n",
        "<a id='section4.7'></a>"
      ]
    },
    {
      "cell_type": "markdown",
      "metadata": {
        "id": "1ExMUlDuxdij",
        "colab_type": "text"
      },
      "source": [
        "## 5.7: Random Forest with Captions, C3D and HMP"
      ]
    },
    {
      "cell_type": "code",
      "metadata": {
        "id": "mCFgdROIxdij",
        "colab_type": "code",
        "colab": {}
      },
      "source": [
        "X = captions_c3d_hmp\n",
        "y = labels[['short-term_memorability','long-term_memorability']].values"
      ],
      "execution_count": 0,
      "outputs": []
    },
    {
      "cell_type": "code",
      "metadata": {
        "id": "OIkGYcaixdik",
        "colab_type": "code",
        "colab": {}
      },
      "source": [
        "# Splitting the dataset into the Training set and Test set\n",
        "X_train,X_test,y_train,y_test = train_test_split(X,y,test_size=0.2,random_state=42)"
      ],
      "execution_count": 0,
      "outputs": []
    },
    {
      "cell_type": "code",
      "metadata": {
        "id": "VX7nBgDKxdil",
        "colab_type": "code",
        "colab": {}
      },
      "source": [
        "from sklearn.ensemble import RandomForestRegressor\n",
        "rf_regressor = RandomForestRegressor(n_estimators=100,random_state=45,verbose=2)"
      ],
      "execution_count": 0,
      "outputs": []
    },
    {
      "cell_type": "code",
      "metadata": {
        "id": "CrLljVdwxdim",
        "colab_type": "code",
        "outputId": "a8e2c9f2-d035-4b86-a2e7-209627e2f0f4",
        "colab": {
          "base_uri": "https://localhost:8080/",
          "height": 1000
        }
      },
      "source": [
        "rf_regressor.fit(X_train,y_train)"
      ],
      "execution_count": 0,
      "outputs": [
        {
          "output_type": "stream",
          "text": [
            "[Parallel(n_jobs=1)]: Using backend SequentialBackend with 1 concurrent workers.\n"
          ],
          "name": "stderr"
        },
        {
          "output_type": "stream",
          "text": [
            "building tree 1 of 100\n"
          ],
          "name": "stdout"
        },
        {
          "output_type": "stream",
          "text": [
            "[Parallel(n_jobs=1)]: Done   1 out of   1 | elapsed:   20.7s remaining:    0.0s\n"
          ],
          "name": "stderr"
        },
        {
          "output_type": "stream",
          "text": [
            "building tree 2 of 100\n",
            "building tree 3 of 100\n",
            "building tree 4 of 100\n",
            "building tree 5 of 100\n",
            "building tree 6 of 100\n",
            "building tree 7 of 100\n",
            "building tree 8 of 100\n",
            "building tree 9 of 100\n",
            "building tree 10 of 100\n",
            "building tree 11 of 100\n",
            "building tree 12 of 100\n",
            "building tree 13 of 100\n",
            "building tree 14 of 100\n",
            "building tree 15 of 100\n",
            "building tree 16 of 100\n",
            "building tree 17 of 100\n",
            "building tree 18 of 100\n",
            "building tree 19 of 100\n",
            "building tree 20 of 100\n",
            "building tree 21 of 100\n",
            "building tree 22 of 100\n",
            "building tree 23 of 100\n",
            "building tree 24 of 100\n",
            "building tree 25 of 100\n",
            "building tree 26 of 100\n",
            "building tree 27 of 100\n",
            "building tree 28 of 100\n",
            "building tree 29 of 100\n",
            "building tree 30 of 100\n",
            "building tree 31 of 100\n",
            "building tree 32 of 100\n",
            "building tree 33 of 100\n",
            "building tree 34 of 100\n",
            "building tree 35 of 100\n",
            "building tree 36 of 100\n",
            "building tree 37 of 100\n",
            "building tree 38 of 100\n",
            "building tree 39 of 100\n",
            "building tree 40 of 100\n",
            "building tree 41 of 100\n",
            "building tree 42 of 100\n",
            "building tree 43 of 100\n",
            "building tree 44 of 100\n",
            "building tree 45 of 100\n",
            "building tree 46 of 100\n",
            "building tree 47 of 100\n",
            "building tree 48 of 100\n",
            "building tree 49 of 100\n",
            "building tree 50 of 100\n",
            "building tree 51 of 100\n",
            "building tree 52 of 100\n",
            "building tree 53 of 100\n",
            "building tree 54 of 100\n",
            "building tree 55 of 100\n",
            "building tree 56 of 100\n",
            "building tree 57 of 100\n",
            "building tree 58 of 100\n",
            "building tree 59 of 100\n",
            "building tree 60 of 100\n",
            "building tree 61 of 100\n",
            "building tree 62 of 100\n",
            "building tree 63 of 100\n",
            "building tree 64 of 100\n",
            "building tree 65 of 100\n",
            "building tree 66 of 100\n",
            "building tree 67 of 100\n",
            "building tree 68 of 100\n",
            "building tree 69 of 100\n",
            "building tree 70 of 100\n",
            "building tree 71 of 100\n",
            "building tree 72 of 100\n",
            "building tree 73 of 100\n",
            "building tree 74 of 100\n",
            "building tree 75 of 100\n",
            "building tree 76 of 100\n",
            "building tree 77 of 100\n",
            "building tree 78 of 100\n",
            "building tree 79 of 100\n",
            "building tree 80 of 100\n",
            "building tree 81 of 100\n",
            "building tree 82 of 100\n",
            "building tree 83 of 100\n",
            "building tree 84 of 100\n",
            "building tree 85 of 100\n",
            "building tree 86 of 100\n",
            "building tree 87 of 100\n",
            "building tree 88 of 100\n",
            "building tree 89 of 100\n",
            "building tree 90 of 100\n",
            "building tree 91 of 100\n",
            "building tree 92 of 100\n",
            "building tree 93 of 100\n",
            "building tree 94 of 100\n",
            "building tree 95 of 100\n",
            "building tree 96 of 100\n",
            "building tree 97 of 100\n",
            "building tree 98 of 100\n",
            "building tree 99 of 100\n",
            "building tree 100 of 100\n"
          ],
          "name": "stdout"
        },
        {
          "output_type": "stream",
          "text": [
            "[Parallel(n_jobs=1)]: Done 100 out of 100 | elapsed: 29.4min finished\n"
          ],
          "name": "stderr"
        },
        {
          "output_type": "execute_result",
          "data": {
            "text/plain": [
              "RandomForestRegressor(bootstrap=True, ccp_alpha=0.0, criterion='mse',\n",
              "                      max_depth=None, max_features='auto', max_leaf_nodes=None,\n",
              "                      max_samples=None, min_impurity_decrease=0.0,\n",
              "                      min_impurity_split=None, min_samples_leaf=1,\n",
              "                      min_samples_split=2, min_weight_fraction_leaf=0.0,\n",
              "                      n_estimators=100, n_jobs=None, oob_score=False,\n",
              "                      random_state=45, verbose=2, warm_start=False)"
            ]
          },
          "metadata": {
            "tags": []
          },
          "execution_count": 91
        }
      ]
    },
    {
      "cell_type": "code",
      "metadata": {
        "id": "JooDibstxdin",
        "colab_type": "code",
        "outputId": "2985d1df-ee40-4739-e889-17db1430e8fd",
        "colab": {
          "base_uri": "https://localhost:8080/",
          "height": 68
        }
      },
      "source": [
        "rf_pred = rf_regressor.predict(X_test)"
      ],
      "execution_count": 0,
      "outputs": [
        {
          "output_type": "stream",
          "text": [
            "[Parallel(n_jobs=1)]: Using backend SequentialBackend with 1 concurrent workers.\n",
            "[Parallel(n_jobs=1)]: Done   1 out of   1 | elapsed:    0.0s remaining:    0.0s\n",
            "[Parallel(n_jobs=1)]: Done 100 out of 100 | elapsed:    0.1s finished\n"
          ],
          "name": "stderr"
        }
      ]
    },
    {
      "cell_type": "code",
      "metadata": {
        "id": "_pvFYecixdiq",
        "colab_type": "code",
        "outputId": "95f30b5e-4cec-4f5b-a2d5-501c8694f756",
        "colab": {
          "base_uri": "https://localhost:8080/",
          "height": 51
        }
      },
      "source": [
        "Get_score(rf_pred, y_test)"
      ],
      "execution_count": 0,
      "outputs": [
        {
          "output_type": "stream",
          "text": [
            "The Spearman's correlation coefficient is: 0.322\n",
            "The Spearman's correlation coefficient is: 0.145\n"
          ],
          "name": "stdout"
        }
      ]
    },
    {
      "cell_type": "markdown",
      "metadata": {
        "id": "Jkv1aMmoxdir",
        "colab_type": "text"
      },
      "source": [
        "***\n",
        "<a id='section4.8'></a>"
      ]
    },
    {
      "cell_type": "markdown",
      "metadata": {
        "id": "v7RR6wqexdir",
        "colab_type": "text"
      },
      "source": [
        "## 5.8: SVR with Captions, C3D and HMP"
      ]
    },
    {
      "cell_type": "code",
      "metadata": {
        "id": "74PyPwHgxdir",
        "colab_type": "code",
        "colab": {}
      },
      "source": [
        "svr_X = captions_c3d_hmp\n",
        "svr_y_short = labels[['short-term_memorability']].values\n",
        "svr_y_long = labels[['long-term_memorability']].values"
      ],
      "execution_count": 0,
      "outputs": []
    },
    {
      "cell_type": "code",
      "metadata": {
        "id": "PQwOaIf9xdit",
        "colab_type": "code",
        "colab": {}
      },
      "source": [
        "# Splitting the dataset into the Training set and Test set\n",
        "short_X_train,short_X_test,short_y_train,short_y_test = train_test_split(svr_X,svr_y_short,test_size=0.2,random_state=40)\n",
        "long_X_train,long_X_test,long_y_train,long_y_test = train_test_split(svr_X,svr_y_long,test_size=0.2,random_state=40)"
      ],
      "execution_count": 0,
      "outputs": []
    },
    {
      "cell_type": "code",
      "metadata": {
        "id": "gn1MMdDCxdiu",
        "colab_type": "code",
        "colab": {}
      },
      "source": [
        "from sklearn.preprocessing import StandardScaler\n",
        "short_X = StandardScaler()\n",
        "short_y = StandardScaler()\n",
        "short_X_train = short_X.fit_transform(short_X_train)\n",
        "short_y_train = short_y.fit_transform(short_y_train)\n",
        "long_X = StandardScaler()\n",
        "long_y = StandardScaler()\n",
        "long_X_train = long_X.fit_transform(long_X_train)\n",
        "long_y_train = long_y.fit_transform(long_y_train)"
      ],
      "execution_count": 0,
      "outputs": []
    },
    {
      "cell_type": "code",
      "metadata": {
        "id": "-b07HIklxdiw",
        "colab_type": "code",
        "outputId": "77c798eb-2efe-467e-c9af-ef74f377849c",
        "colab": {
          "base_uri": "https://localhost:8080/",
          "height": 139
        }
      },
      "source": [
        "from sklearn.svm import SVR\n",
        "short_regressor = SVR(kernel = 'rbf')\n",
        "long_regressor = SVR(kernel = 'rbf')\n",
        "short_regressor.fit(short_X_train, short_y_train)\n",
        "long_regressor.fit(long_X_train,long_y_train)"
      ],
      "execution_count": 0,
      "outputs": [
        {
          "output_type": "stream",
          "text": [
            "/usr/local/lib/python3.6/dist-packages/sklearn/utils/validation.py:760: DataConversionWarning: A column-vector y was passed when a 1d array was expected. Please change the shape of y to (n_samples, ), for example using ravel().\n",
            "  y = column_or_1d(y, warn=True)\n",
            "/usr/local/lib/python3.6/dist-packages/sklearn/utils/validation.py:760: DataConversionWarning: A column-vector y was passed when a 1d array was expected. Please change the shape of y to (n_samples, ), for example using ravel().\n",
            "  y = column_or_1d(y, warn=True)\n"
          ],
          "name": "stderr"
        },
        {
          "output_type": "execute_result",
          "data": {
            "text/plain": [
              "SVR(C=1.0, cache_size=200, coef0=0.0, degree=3, epsilon=0.1, gamma='scale',\n",
              "    kernel='rbf', max_iter=-1, shrinking=True, tol=0.001, verbose=False)"
            ]
          },
          "metadata": {
            "tags": []
          },
          "execution_count": 97
        }
      ]
    },
    {
      "cell_type": "code",
      "metadata": {
        "id": "gFplbVgqxdiy",
        "colab_type": "code",
        "colab": {}
      },
      "source": [
        "short_pred = short_regressor.predict(short_X_test)\n",
        "short_pred = short_y.inverse_transform(short_pred)\n",
        "long_pred = long_regressor.predict(long_X_test)\n",
        "long_pred = long_y.inverse_transform(long_pred)"
      ],
      "execution_count": 0,
      "outputs": []
    },
    {
      "cell_type": "code",
      "metadata": {
        "id": "V3EY-Z7Txdiz",
        "colab_type": "code",
        "outputId": "95c07d1c-0907-4761-e8d1-5c2734e0e0a7",
        "colab": {
          "base_uri": "https://localhost:8080/",
          "height": 51
        }
      },
      "source": [
        "Get_score(short_pred, short_y_test)\n",
        "Get_score(long_pred, long_y_test)"
      ],
      "execution_count": 0,
      "outputs": [
        {
          "output_type": "stream",
          "text": [
            "The Spearman's correlation coefficient is: 0.355\n",
            "The Spearman's correlation coefficient is: 0.179\n"
          ],
          "name": "stdout"
        }
      ]
    },
    {
      "cell_type": "markdown",
      "metadata": {
        "id": "g_M55fG2xdi0",
        "colab_type": "text"
      },
      "source": [
        "***\n",
        "<a id='section5'></a>"
      ]
    },
    {
      "cell_type": "markdown",
      "metadata": {
        "id": "KPK01gqFxdi1",
        "colab_type": "text"
      },
      "source": [
        "# 6 : Determining the best model with features"
      ]
    },
    {
      "cell_type": "code",
      "metadata": {
        "id": "BHTO0eI3xdi1",
        "colab_type": "code",
        "outputId": "94b914c5-fa5a-4b65-d0d4-59b253250f2a",
        "colab": {
          "base_uri": "https://localhost:8080/",
          "height": 267
        }
      },
      "source": [
        "from IPython.display import Image\n",
        "Image(filename=\"/content/drive/My Drive/Memorability.JPG\",width=\"800\",height=\"250\")"
      ],
      "execution_count": 0,
      "outputs": [
        {
          "output_type": "execute_result",
          "data": {
            "image/jpeg": "[encoded data removed]",
            "text/plain": [
              "<IPython.core.display.Image object>"
            ]
          },
          "metadata": {
            "tags": [],
            "image/jpeg": {
              "width": "800",
              "height": "250"
            }
          },
          "execution_count": 127
        }
      ]
    },
    {
      "cell_type": "markdown",
      "metadata": {
        "id": "YOLKsvfNxdi3",
        "colab_type": "text"
      },
      "source": [
        "The above table represents the spearman correlation coefficient scores for different features and models. It is noticeable from the above table that Random forest comparably has better performance."
      ]
    },
    {
      "cell_type": "code",
      "metadata": {
        "id": "W8Lgwyk8xdi3",
        "colab_type": "code",
        "outputId": "72c1e69a-6ced-4591-f38c-83f3ee872931",
        "colab": {
          "base_uri": "https://localhost:8080/",
          "height": 51
        }
      },
      "source": [
        "Get_score(captions_pred, y_test)"
      ],
      "execution_count": 0,
      "outputs": [
        {
          "output_type": "stream",
          "text": [
            "The Spearman's correlation coefficient is: 0.409\n",
            "The Spearman's correlation coefficient is: 0.176\n"
          ],
          "name": "stdout"
        }
      ]
    },
    {
      "cell_type": "markdown",
      "metadata": {
        "id": "r1lgjMlHxdi5",
        "colab_type": "text"
      },
      "source": [
        "***\n",
        "<a id='section7'></a>"
      ]
    },
    {
      "cell_type": "markdown",
      "metadata": {
        "id": "ffKdo2ffxdi5",
        "colab_type": "text"
      },
      "source": [
        "# 7 : Predicting the test Results"
      ]
    },
    {
      "cell_type": "markdown",
      "metadata": {
        "id": "z0Fm8qwgxdi5",
        "colab_type": "text"
      },
      "source": [
        "In the above Random Forest with Captions model, We had divided our development dataset for training and testing. In order to predict the test results, we need to train our model for full 6000 Development dataset. \n",
        "\n",
        "In the Below lines of code, we will be using full 6000 records of development datatset to train our model and predict the scores on testing set which has 2000 records."
      ]
    },
    {
      "cell_type": "markdown",
      "metadata": {
        "id": "SGekFAeVxdi6",
        "colab_type": "text"
      },
      "source": [
        "## 7.1: Training on full Dev-Set"
      ]
    },
    {
      "cell_type": "markdown",
      "metadata": {
        "id": "m4ARGeAFxdjA",
        "colab_type": "text"
      },
      "source": [
        "we have trained our model for full 6000 Dev-set using Random Forest Regressor"
      ]
    },
    {
      "cell_type": "code",
      "metadata": {
        "id": "Khf-GyT1xdi6",
        "colab_type": "code",
        "colab": {}
      },
      "source": [
        "X = captions_bag\n",
        "y = labels[['short-term_memorability','long-term_memorability']].values"
      ],
      "execution_count": 0,
      "outputs": []
    },
    {
      "cell_type": "code",
      "metadata": {
        "id": "QTfZcjc0xdi8",
        "colab_type": "code",
        "outputId": "b46878c0-3352-42fd-e717-8d9ac1b7943a",
        "colab": {
          "base_uri": "https://localhost:8080/",
          "height": 51
        }
      },
      "source": [
        "print(f'X: ({len(X)})')\n",
        "print(f'y:{y.shape}')"
      ],
      "execution_count": 0,
      "outputs": [
        {
          "output_type": "stream",
          "text": [
            "X: (6000)\n",
            "y:(6000, 2)\n"
          ],
          "name": "stdout"
        }
      ]
    },
    {
      "cell_type": "code",
      "metadata": {
        "id": "LEQ8B0nxxdi-",
        "colab_type": "code",
        "colab": {}
      },
      "source": [
        "from sklearn.ensemble import RandomForestRegressor\n",
        "rf_regressor = RandomForestRegressor(n_estimators=100,random_state=45)"
      ],
      "execution_count": 0,
      "outputs": []
    },
    {
      "cell_type": "code",
      "metadata": {
        "id": "mdfFwTzJxdi_",
        "colab_type": "code",
        "outputId": "73bcf8d1-0c15-4e1d-cfc2-4ab22d22bd46",
        "colab": {
          "base_uri": "https://localhost:8080/",
          "height": 136
        }
      },
      "source": [
        "rf_regressor.fit(X,y)"
      ],
      "execution_count": 0,
      "outputs": [
        {
          "output_type": "execute_result",
          "data": {
            "text/plain": [
              "RandomForestRegressor(bootstrap=True, ccp_alpha=0.0, criterion='mse',\n",
              "                      max_depth=None, max_features='auto', max_leaf_nodes=None,\n",
              "                      max_samples=None, min_impurity_decrease=0.0,\n",
              "                      min_impurity_split=None, min_samples_leaf=1,\n",
              "                      min_samples_split=2, min_weight_fraction_leaf=0.0,\n",
              "                      n_estimators=100, n_jobs=None, oob_score=False,\n",
              "                      random_state=45, verbose=0, warm_start=False)"
            ]
          },
          "metadata": {
            "tags": []
          },
          "execution_count": 108
        }
      ]
    },
    {
      "cell_type": "markdown",
      "metadata": {
        "id": "vdT4ppvMxdjA",
        "colab_type": "text"
      },
      "source": [
        "### 7.2: Importing Test Dataset and Captions"
      ]
    },
    {
      "cell_type": "code",
      "metadata": {
        "id": "9Azm-R9QxdjB",
        "colab_type": "code",
        "colab": {}
      },
      "source": [
        "#importing test Dataset\n",
        "csv_path ='/content/drive/My Drive/CA684_Assignment/Test-set/Ground-truth_test/ground_truth_template.csv'\n",
        "test_dataset = pd.read_csv(csv_path)"
      ],
      "execution_count": 0,
      "outputs": []
    },
    {
      "cell_type": "code",
      "metadata": {
        "id": "0DFxSjqFxdjC",
        "colab_type": "code",
        "colab": {}
      },
      "source": [
        "#load the test set captions\n",
        "test_captions_path ='/content/drive/My Drive/CA684_Assignment/Test-set/Captions_test/test-set-1_video-captions.txt'\n",
        "test_captions = read_caps(test_captions_path)"
      ],
      "execution_count": 0,
      "outputs": []
    },
    {
      "cell_type": "code",
      "metadata": {
        "id": "feutve5wxdjE",
        "colab_type": "code",
        "outputId": "b8e1b6f2-6472-4039-9a74-b57d48d44496",
        "colab": {
          "base_uri": "https://localhost:8080/",
          "height": 204
        }
      },
      "source": [
        "test_dataset.head()"
      ],
      "execution_count": 0,
      "outputs": [
        {
          "output_type": "execute_result",
          "data": {
            "text/html": [
              "<div>\n",
              "<style scoped>\n",
              "    .dataframe tbody tr th:only-of-type {\n",
              "        vertical-align: middle;\n",
              "    }\n",
              "\n",
              "    .dataframe tbody tr th {\n",
              "        vertical-align: top;\n",
              "    }\n",
              "\n",
              "    .dataframe thead th {\n",
              "        text-align: right;\n",
              "    }\n",
              "</style>\n",
              "<table border=\"1\" class=\"dataframe\">\n",
              "  <thead>\n",
              "    <tr style=\"text-align: right;\">\n",
              "      <th></th>\n",
              "      <th>video</th>\n",
              "      <th>short-term_memorability</th>\n",
              "      <th>nb_short-term_annotations</th>\n",
              "      <th>long-term_memorability</th>\n",
              "      <th>nb_long-term_annotations</th>\n",
              "    </tr>\n",
              "  </thead>\n",
              "  <tbody>\n",
              "    <tr>\n",
              "      <th>0</th>\n",
              "      <td>7494</td>\n",
              "      <td>NaN</td>\n",
              "      <td>33</td>\n",
              "      <td>NaN</td>\n",
              "      <td>12</td>\n",
              "    </tr>\n",
              "    <tr>\n",
              "      <th>1</th>\n",
              "      <td>7495</td>\n",
              "      <td>NaN</td>\n",
              "      <td>34</td>\n",
              "      <td>NaN</td>\n",
              "      <td>10</td>\n",
              "    </tr>\n",
              "    <tr>\n",
              "      <th>2</th>\n",
              "      <td>7496</td>\n",
              "      <td>NaN</td>\n",
              "      <td>32</td>\n",
              "      <td>NaN</td>\n",
              "      <td>13</td>\n",
              "    </tr>\n",
              "    <tr>\n",
              "      <th>3</th>\n",
              "      <td>7497</td>\n",
              "      <td>NaN</td>\n",
              "      <td>33</td>\n",
              "      <td>NaN</td>\n",
              "      <td>10</td>\n",
              "    </tr>\n",
              "    <tr>\n",
              "      <th>4</th>\n",
              "      <td>7498</td>\n",
              "      <td>NaN</td>\n",
              "      <td>33</td>\n",
              "      <td>NaN</td>\n",
              "      <td>10</td>\n",
              "    </tr>\n",
              "  </tbody>\n",
              "</table>\n",
              "</div>"
            ],
            "text/plain": [
              "   video  ...  nb_long-term_annotations\n",
              "0   7494  ...                        12\n",
              "1   7495  ...                        10\n",
              "2   7496  ...                        13\n",
              "3   7497  ...                        10\n",
              "4   7498  ...                        10\n",
              "\n",
              "[5 rows x 5 columns]"
            ]
          },
          "metadata": {
            "tags": []
          },
          "execution_count": 112
        }
      ]
    },
    {
      "cell_type": "markdown",
      "metadata": {
        "id": "EPc7meEMxdjG",
        "colab_type": "text"
      },
      "source": [
        "We need to predict and fill the values of the above Short-term Memorability and Long-term Memorability Scores using our trained model"
      ]
    },
    {
      "cell_type": "code",
      "metadata": {
        "id": "-YwZ5PD6xdjG",
        "colab_type": "code",
        "outputId": "4c7b0d27-fe7a-44a7-95d6-e6712bdfc5c2",
        "colab": {
          "base_uri": "https://localhost:8080/",
          "height": 204
        }
      },
      "source": [
        "test_captions.head()"
      ],
      "execution_count": 0,
      "outputs": [
        {
          "output_type": "execute_result",
          "data": {
            "text/html": [
              "<div>\n",
              "<style scoped>\n",
              "    .dataframe tbody tr th:only-of-type {\n",
              "        vertical-align: middle;\n",
              "    }\n",
              "\n",
              "    .dataframe tbody tr th {\n",
              "        vertical-align: top;\n",
              "    }\n",
              "\n",
              "    .dataframe thead th {\n",
              "        text-align: right;\n",
              "    }\n",
              "</style>\n",
              "<table border=\"1\" class=\"dataframe\">\n",
              "  <thead>\n",
              "    <tr style=\"text-align: right;\">\n",
              "      <th></th>\n",
              "      <th>video</th>\n",
              "      <th>caption</th>\n",
              "    </tr>\n",
              "  </thead>\n",
              "  <tbody>\n",
              "    <tr>\n",
              "      <th>0</th>\n",
              "      <td>video7494.webm</td>\n",
              "      <td>green-jeep-struggling-to-drive-over-huge-rocks</td>\n",
              "    </tr>\n",
              "    <tr>\n",
              "      <th>1</th>\n",
              "      <td>video7495.webm</td>\n",
              "      <td>hiking-woman-tourist-is-walking-forward-in-mou...</td>\n",
              "    </tr>\n",
              "    <tr>\n",
              "      <th>2</th>\n",
              "      <td>video7496.webm</td>\n",
              "      <td>close-up-of-african-american-doctors-hands-usi...</td>\n",
              "    </tr>\n",
              "    <tr>\n",
              "      <th>3</th>\n",
              "      <td>video7497.webm</td>\n",
              "      <td>slow-motion-of-a-man-using-treadmill-in-the-gy...</td>\n",
              "    </tr>\n",
              "    <tr>\n",
              "      <th>4</th>\n",
              "      <td>video7498.webm</td>\n",
              "      <td>slow-motion-of-photographer-in-national-park</td>\n",
              "    </tr>\n",
              "  </tbody>\n",
              "</table>\n",
              "</div>"
            ],
            "text/plain": [
              "            video                                            caption\n",
              "0  video7494.webm     green-jeep-struggling-to-drive-over-huge-rocks\n",
              "1  video7495.webm  hiking-woman-tourist-is-walking-forward-in-mou...\n",
              "2  video7496.webm  close-up-of-african-american-doctors-hands-usi...\n",
              "3  video7497.webm  slow-motion-of-a-man-using-treadmill-in-the-gy...\n",
              "4  video7498.webm       slow-motion-of-photographer-in-national-park"
            ]
          },
          "metadata": {
            "tags": []
          },
          "execution_count": 113
        }
      ]
    },
    {
      "cell_type": "code",
      "metadata": {
        "id": "nkZw-quyxdjH",
        "colab_type": "code",
        "outputId": "83d5a4d7-cf09-49b7-8b3f-d283764d7d10",
        "colab": {
          "base_uri": "https://localhost:8080/",
          "height": 51
        }
      },
      "source": [
        "#printing the dimensions of test-set dataset and features\n",
        "print(f'Test-Dataset : {test_dataset.shape}')\n",
        "print(f'Test-Captions: {test_captions.shape}')"
      ],
      "execution_count": 0,
      "outputs": [
        {
          "output_type": "stream",
          "text": [
            "Test-Dataset : (2000, 5)\n",
            "Test-Captions: (2000, 2)\n"
          ],
          "name": "stdout"
        }
      ]
    },
    {
      "cell_type": "code",
      "metadata": {
        "id": "Z_gQABTcxdjI",
        "colab_type": "code",
        "outputId": "39de5eb5-dddc-481b-a45f-ddc45dda08df",
        "colab": {
          "base_uri": "https://localhost:8080/",
          "height": 68
        }
      },
      "source": [
        "#Removing punctuations and stop words from captions\n",
        "# setup prograss tracker\n",
        "pbar = pyprind.ProgBar(len(test_captions['caption']), title='Counting word occurrences')\n",
        "for i, cap in enumerate(test_captions['caption']):\n",
        "    # replace punctuations with space\n",
        "    # convert words to lower case \n",
        "    text = ''.join([c if c not in punctuation else ' ' for c in cap]).lower()\n",
        "    #removing stopwords\n",
        "    rmv_stopwords= ' '.join([word for word in text.split() if word not in stopwords])\n",
        "    test_captions.loc[i,'caption'] = rmv_stopwords #updating the original captions \n",
        "    pbar.update()"
      ],
      "execution_count": 0,
      "outputs": [
        {
          "output_type": "stream",
          "text": [
            "Counting word occurrences\n",
            "0% [##############################] 100% | ETA: 00:00:00\n",
            "Total time elapsed: 00:00:00\n"
          ],
          "name": "stderr"
        }
      ]
    },
    {
      "cell_type": "code",
      "metadata": {
        "id": "B8Mu61aBxdjJ",
        "colab_type": "code",
        "outputId": "c29bcfe7-ddcc-4064-999c-244a54cf215c",
        "colab": {
          "base_uri": "https://localhost:8080/",
          "height": 204
        }
      },
      "source": [
        "test_captions.head()"
      ],
      "execution_count": 0,
      "outputs": [
        {
          "output_type": "execute_result",
          "data": {
            "text/html": [
              "<div>\n",
              "<style scoped>\n",
              "    .dataframe tbody tr th:only-of-type {\n",
              "        vertical-align: middle;\n",
              "    }\n",
              "\n",
              "    .dataframe tbody tr th {\n",
              "        vertical-align: top;\n",
              "    }\n",
              "\n",
              "    .dataframe thead th {\n",
              "        text-align: right;\n",
              "    }\n",
              "</style>\n",
              "<table border=\"1\" class=\"dataframe\">\n",
              "  <thead>\n",
              "    <tr style=\"text-align: right;\">\n",
              "      <th></th>\n",
              "      <th>video</th>\n",
              "      <th>caption</th>\n",
              "    </tr>\n",
              "  </thead>\n",
              "  <tbody>\n",
              "    <tr>\n",
              "      <th>0</th>\n",
              "      <td>video7494.webm</td>\n",
              "      <td>green jeep struggling drive huge rocks</td>\n",
              "    </tr>\n",
              "    <tr>\n",
              "      <th>1</th>\n",
              "      <td>video7495.webm</td>\n",
              "      <td>hiking woman tourist walking forward mountains...</td>\n",
              "    </tr>\n",
              "    <tr>\n",
              "      <th>2</th>\n",
              "      <td>video7496.webm</td>\n",
              "      <td>close african american doctors hands using sph...</td>\n",
              "    </tr>\n",
              "    <tr>\n",
              "      <th>3</th>\n",
              "      <td>video7497.webm</td>\n",
              "      <td>slow motion man using treadmill gym regular ph...</td>\n",
              "    </tr>\n",
              "    <tr>\n",
              "      <th>4</th>\n",
              "      <td>video7498.webm</td>\n",
              "      <td>slow motion photographer national park</td>\n",
              "    </tr>\n",
              "  </tbody>\n",
              "</table>\n",
              "</div>"
            ],
            "text/plain": [
              "            video                                            caption\n",
              "0  video7494.webm             green jeep struggling drive huge rocks\n",
              "1  video7495.webm  hiking woman tourist walking forward mountains...\n",
              "2  video7496.webm  close african american doctors hands using sph...\n",
              "3  video7497.webm  slow motion man using treadmill gym regular ph...\n",
              "4  video7498.webm             slow motion photographer national park"
            ]
          },
          "metadata": {
            "tags": []
          },
          "execution_count": 116
        }
      ]
    },
    {
      "cell_type": "code",
      "metadata": {
        "id": "BUwordU3xdjK",
        "colab_type": "code",
        "outputId": "ed8e78bf-a4d6-4cd6-d20e-21c1692a9cc8",
        "colab": {
          "base_uri": "https://localhost:8080/",
          "height": 34
        }
      },
      "source": [
        "#implementing bag of words for the combined captions\n",
        "from sklearn.feature_extraction.text import CountVectorizer\n",
        "vectorizer = CountVectorizer(analyzer = \"word\",max_features=3122) \n",
        "test_captions_bag = vectorizer.fit_transform(test_captions.caption).toarray()\n",
        "type(test_captions_bag)"
      ],
      "execution_count": 0,
      "outputs": [
        {
          "output_type": "execute_result",
          "data": {
            "text/plain": [
              "numpy.ndarray"
            ]
          },
          "metadata": {
            "tags": []
          },
          "execution_count": 117
        }
      ]
    },
    {
      "cell_type": "code",
      "metadata": {
        "id": "DfqE-lC6xdjL",
        "colab_type": "code",
        "outputId": "9b23f92b-2075-411c-eeaa-78e2c78caf9d",
        "colab": {
          "base_uri": "https://localhost:8080/",
          "height": 51
        }
      },
      "source": [
        "print(f'Development Vocabulary Size   : {len(captions_bag[0])}')\n",
        "print(f'Testing Vocabulary Size       : {len(test_captions_bag[0])}')"
      ],
      "execution_count": 0,
      "outputs": [
        {
          "output_type": "stream",
          "text": [
            "Development Vocabulary Size   : 3112\n",
            "Testing Vocabulary Size       : 3112\n"
          ],
          "name": "stdout"
        }
      ]
    },
    {
      "cell_type": "markdown",
      "metadata": {
        "id": "6RjhhltZxdjM",
        "colab_type": "text"
      },
      "source": [
        "***\n",
        "<a id='section7.3'></a>"
      ]
    },
    {
      "cell_type": "markdown",
      "metadata": {
        "id": "FmuTO9WHxdjM",
        "colab_type": "text"
      },
      "source": [
        "## 7.3: Predicting the scores and Exporting the Results"
      ]
    },
    {
      "cell_type": "code",
      "metadata": {
        "id": "L36QPVsXxdjN",
        "colab_type": "code",
        "colab": {}
      },
      "source": [
        "test_prediction = rf_regressor.predict(test_captions_bag)"
      ],
      "execution_count": 0,
      "outputs": []
    },
    {
      "cell_type": "code",
      "metadata": {
        "id": "nTlMBqIExdjN",
        "colab_type": "code",
        "colab": {}
      },
      "source": [
        "prediction_score = pd.DataFrame()"
      ],
      "execution_count": 0,
      "outputs": []
    },
    {
      "cell_type": "code",
      "metadata": {
        "id": "hPKKFUw5xdjQ",
        "colab_type": "code",
        "outputId": "f8189fc3-4069-4185-fc14-2d6517af09eb",
        "colab": {
          "base_uri": "https://localhost:8080/",
          "height": 34
        }
      },
      "source": [
        "type(test_prediction)"
      ],
      "execution_count": 0,
      "outputs": [
        {
          "output_type": "execute_result",
          "data": {
            "text/plain": [
              "numpy.ndarray"
            ]
          },
          "metadata": {
            "tags": []
          },
          "execution_count": 131
        }
      ]
    },
    {
      "cell_type": "code",
      "metadata": {
        "id": "eUiF1Y1SxdjR",
        "colab_type": "code",
        "colab": {}
      },
      "source": [
        "prediction_score['short-term'] = test_prediction[:,0]"
      ],
      "execution_count": 0,
      "outputs": []
    },
    {
      "cell_type": "code",
      "metadata": {
        "id": "SSFBPN1ZxdjS",
        "colab_type": "code",
        "colab": {}
      },
      "source": [
        "prediction_score['long-term'] = test_prediction[:,1]"
      ],
      "execution_count": 0,
      "outputs": []
    },
    {
      "cell_type": "code",
      "metadata": {
        "id": "usyush3BxdjT",
        "colab_type": "code",
        "outputId": "6cb5e3ae-3366-4dcb-87a9-ffaaa90c8500",
        "colab": {
          "base_uri": "https://localhost:8080/",
          "height": 204
        }
      },
      "source": [
        "prediction_score.head()"
      ],
      "execution_count": 0,
      "outputs": [
        {
          "output_type": "execute_result",
          "data": {
            "text/html": [
              "<div>\n",
              "<style scoped>\n",
              "    .dataframe tbody tr th:only-of-type {\n",
              "        vertical-align: middle;\n",
              "    }\n",
              "\n",
              "    .dataframe tbody tr th {\n",
              "        vertical-align: top;\n",
              "    }\n",
              "\n",
              "    .dataframe thead th {\n",
              "        text-align: right;\n",
              "    }\n",
              "</style>\n",
              "<table border=\"1\" class=\"dataframe\">\n",
              "  <thead>\n",
              "    <tr style=\"text-align: right;\">\n",
              "      <th></th>\n",
              "      <th>short-term</th>\n",
              "      <th>long-term</th>\n",
              "    </tr>\n",
              "  </thead>\n",
              "  <tbody>\n",
              "    <tr>\n",
              "      <th>0</th>\n",
              "      <td>0.854635</td>\n",
              "      <td>0.712699</td>\n",
              "    </tr>\n",
              "    <tr>\n",
              "      <th>1</th>\n",
              "      <td>0.898883</td>\n",
              "      <td>0.781500</td>\n",
              "    </tr>\n",
              "    <tr>\n",
              "      <th>2</th>\n",
              "      <td>0.841901</td>\n",
              "      <td>0.805625</td>\n",
              "    </tr>\n",
              "    <tr>\n",
              "      <th>3</th>\n",
              "      <td>0.915282</td>\n",
              "      <td>0.826990</td>\n",
              "    </tr>\n",
              "    <tr>\n",
              "      <th>4</th>\n",
              "      <td>0.866134</td>\n",
              "      <td>0.711727</td>\n",
              "    </tr>\n",
              "  </tbody>\n",
              "</table>\n",
              "</div>"
            ],
            "text/plain": [
              "   short-term  long-term\n",
              "0    0.854635   0.712699\n",
              "1    0.898883   0.781500\n",
              "2    0.841901   0.805625\n",
              "3    0.915282   0.826990\n",
              "4    0.866134   0.711727"
            ]
          },
          "metadata": {
            "tags": []
          },
          "execution_count": 134
        }
      ]
    },
    {
      "cell_type": "code",
      "metadata": {
        "id": "ApHE0F42xdjV",
        "colab_type": "code",
        "outputId": "86e63621-ea35-47a1-c48a-cd881f4f8e69",
        "colab": {
          "base_uri": "https://localhost:8080/",
          "height": 297
        }
      },
      "source": [
        "prediction_score.describe()"
      ],
      "execution_count": 0,
      "outputs": [
        {
          "output_type": "execute_result",
          "data": {
            "text/html": [
              "<div>\n",
              "<style scoped>\n",
              "    .dataframe tbody tr th:only-of-type {\n",
              "        vertical-align: middle;\n",
              "    }\n",
              "\n",
              "    .dataframe tbody tr th {\n",
              "        vertical-align: top;\n",
              "    }\n",
              "\n",
              "    .dataframe thead th {\n",
              "        text-align: right;\n",
              "    }\n",
              "</style>\n",
              "<table border=\"1\" class=\"dataframe\">\n",
              "  <thead>\n",
              "    <tr style=\"text-align: right;\">\n",
              "      <th></th>\n",
              "      <th>short-term</th>\n",
              "      <th>long-term</th>\n",
              "    </tr>\n",
              "  </thead>\n",
              "  <tbody>\n",
              "    <tr>\n",
              "      <th>count</th>\n",
              "      <td>2000.000000</td>\n",
              "      <td>2000.000000</td>\n",
              "    </tr>\n",
              "    <tr>\n",
              "      <th>mean</th>\n",
              "      <td>0.848028</td>\n",
              "      <td>0.751163</td>\n",
              "    </tr>\n",
              "    <tr>\n",
              "      <th>std</th>\n",
              "      <td>0.034564</td>\n",
              "      <td>0.067863</td>\n",
              "    </tr>\n",
              "    <tr>\n",
              "      <th>min</th>\n",
              "      <td>0.687093</td>\n",
              "      <td>0.397318</td>\n",
              "    </tr>\n",
              "    <tr>\n",
              "      <th>25%</th>\n",
              "      <td>0.830368</td>\n",
              "      <td>0.721224</td>\n",
              "    </tr>\n",
              "    <tr>\n",
              "      <th>50%</th>\n",
              "      <td>0.849698</td>\n",
              "      <td>0.757218</td>\n",
              "    </tr>\n",
              "    <tr>\n",
              "      <th>75%</th>\n",
              "      <td>0.871004</td>\n",
              "      <td>0.792872</td>\n",
              "    </tr>\n",
              "    <tr>\n",
              "      <th>max</th>\n",
              "      <td>0.953749</td>\n",
              "      <td>0.949478</td>\n",
              "    </tr>\n",
              "  </tbody>\n",
              "</table>\n",
              "</div>"
            ],
            "text/plain": [
              "        short-term    long-term\n",
              "count  2000.000000  2000.000000\n",
              "mean      0.848028     0.751163\n",
              "std       0.034564     0.067863\n",
              "min       0.687093     0.397318\n",
              "25%       0.830368     0.721224\n",
              "50%       0.849698     0.757218\n",
              "75%       0.871004     0.792872\n",
              "max       0.953749     0.949478"
            ]
          },
          "metadata": {
            "tags": []
          },
          "execution_count": 135
        }
      ]
    },
    {
      "cell_type": "code",
      "metadata": {
        "id": "FHvEZyxqxdjW",
        "colab_type": "code",
        "colab": {}
      },
      "source": [
        "prediction_score.to_csv(\"/content/drive/My Drive/Shamsul_Abedin_malik_19215008_Prediction.csv\",index=False)"
      ],
      "execution_count": 0,
      "outputs": []
    },
    {
      "cell_type": "markdown",
      "metadata": {
        "id": "XOqdAyeXxdjX",
        "colab_type": "text"
      },
      "source": [
        "***"
      ]
    },
    {
      "cell_type": "markdown",
      "metadata": {
        "id": "K29LYPZiKyi3",
        "colab_type": "text"
      },
      "source": [
        "# 8 : Reference\n"
      ]
    },
    {
      "cell_type": "markdown",
      "metadata": {
        "id": "bCyUXV-L8-bv",
        "colab_type": "text"
      },
      "source": [
        "\n",
        "> 1: http://ceur-ws.org/Vol-2283/MediaEval_18_paper_1.pdf\n",
        "\n",
        "> 2: https://www.kaggle.com/jagajithmk/mediaeval-2018-predicting-media-memorability \n",
        "\n",
        "> 3: https://github.com/Alekhya-Singh/Predicting-Video-Memorability-Score/blob/master/MediaEval_Memorability_Prediction_with_Captions.ipynb\n",
        "\n"
      ]
    }
  ]
}