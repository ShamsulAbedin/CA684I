{
  "nbformat": 4,
  "nbformat_minor": 0,
  "metadata": {
    "colab": {
      "name": "Shamsul_CA684I_kaggle_MediaEval_C3D_HMP-testing-1.ipynb",
      "provenance": [],
      "collapsed_sections": [],
      "toc_visible": true,
      "authorship_tag": "ABX9TyOPVRmKQRu99G1yUmuOt9fL",
      "include_colab_link": true
    },
    "kernelspec": {
      "name": "python3",
      "display_name": "Python 3"
    }
  },
  "cells": [
    {
      "cell_type": "markdown",
      "metadata": {
        "id": "view-in-github",
        "colab_type": "text"
      },
      "source": [
        "<a href=\"https://colab.research.google.com/github/ShamsulAbedin/CA684I/blob/master/Shamsul_CA684I_kaggle_MediaEval_C3D_HMP_testing_1.ipynb\" target=\"_parent\"><img src=\"https://colab.research.google.com/assets/colab-badge.svg\" alt=\"Open In Colab\"/></a>"
      ]
    },
    {
      "cell_type": "markdown",
      "metadata": {
        "id": "kIayW7KKPdds",
        "colab_type": "text"
      },
      "source": [
        "**Predicting video memorability using captions**\n"
      ]
    },
    {
      "cell_type": "code",
      "metadata": {
        "id": "v-Lw7R5WKRaj",
        "colab_type": "code",
        "colab": {
          "base_uri": "https://localhost:8080/",
          "height": 653
        },
        "outputId": "74c5afe5-1429-41fe-ef3c-575791808c4a"
      },
      "source": [
        "!pip install tensorflow==1.14"
      ],
      "execution_count": 1,
      "outputs": [
        {
          "output_type": "stream",
          "text": [
            "Collecting tensorflow==1.14\n",
            "\u001b[?25l  Downloading https://files.pythonhosted.org/packages/de/f0/96fb2e0412ae9692dbf400e5b04432885f677ad6241c088ccc5fe7724d69/tensorflow-1.14.0-cp36-cp36m-manylinux1_x86_64.whl (109.2MB)\n",
            "\u001b[K     |████████████████████████████████| 109.2MB 50kB/s \n",
            "\u001b[?25hRequirement already satisfied: protobuf>=3.6.1 in /usr/local/lib/python3.6/dist-packages (from tensorflow==1.14) (3.10.0)\n",
            "Requirement already satisfied: wrapt>=1.11.1 in /usr/local/lib/python3.6/dist-packages (from tensorflow==1.14) (1.12.1)\n",
            "Requirement already satisfied: astor>=0.6.0 in /usr/local/lib/python3.6/dist-packages (from tensorflow==1.14) (0.8.1)\n",
            "Collecting tensorboard<1.15.0,>=1.14.0\n",
            "\u001b[?25l  Downloading https://files.pythonhosted.org/packages/91/2d/2ed263449a078cd9c8a9ba50ebd50123adf1f8cfbea1492f9084169b89d9/tensorboard-1.14.0-py3-none-any.whl (3.1MB)\n",
            "\u001b[K     |████████████████████████████████| 3.2MB 34.4MB/s \n",
            "\u001b[?25hRequirement already satisfied: google-pasta>=0.1.6 in /usr/local/lib/python3.6/dist-packages (from tensorflow==1.14) (0.2.0)\n",
            "Requirement already satisfied: gast>=0.2.0 in /usr/local/lib/python3.6/dist-packages (from tensorflow==1.14) (0.3.3)\n",
            "Requirement already satisfied: termcolor>=1.1.0 in /usr/local/lib/python3.6/dist-packages (from tensorflow==1.14) (1.1.0)\n",
            "Requirement already satisfied: wheel>=0.26 in /usr/local/lib/python3.6/dist-packages (from tensorflow==1.14) (0.34.2)\n",
            "Requirement already satisfied: absl-py>=0.7.0 in /usr/local/lib/python3.6/dist-packages (from tensorflow==1.14) (0.9.0)\n",
            "Requirement already satisfied: six>=1.10.0 in /usr/local/lib/python3.6/dist-packages (from tensorflow==1.14) (1.12.0)\n",
            "Collecting tensorflow-estimator<1.15.0rc0,>=1.14.0rc0\n",
            "\u001b[?25l  Downloading https://files.pythonhosted.org/packages/3c/d5/21860a5b11caf0678fbc8319341b0ae21a07156911132e0e71bffed0510d/tensorflow_estimator-1.14.0-py2.py3-none-any.whl (488kB)\n",
            "\u001b[K     |████████████████████████████████| 491kB 49.8MB/s \n",
            "\u001b[?25hRequirement already satisfied: keras-preprocessing>=1.0.5 in /usr/local/lib/python3.6/dist-packages (from tensorflow==1.14) (1.1.0)\n",
            "Requirement already satisfied: numpy<2.0,>=1.14.5 in /usr/local/lib/python3.6/dist-packages (from tensorflow==1.14) (1.18.2)\n",
            "Requirement already satisfied: grpcio>=1.8.6 in /usr/local/lib/python3.6/dist-packages (from tensorflow==1.14) (1.28.1)\n",
            "Requirement already satisfied: keras-applications>=1.0.6 in /usr/local/lib/python3.6/dist-packages (from tensorflow==1.14) (1.0.8)\n",
            "Requirement already satisfied: setuptools in /usr/local/lib/python3.6/dist-packages (from protobuf>=3.6.1->tensorflow==1.14) (46.1.3)\n",
            "Requirement already satisfied: werkzeug>=0.11.15 in /usr/local/lib/python3.6/dist-packages (from tensorboard<1.15.0,>=1.14.0->tensorflow==1.14) (1.0.1)\n",
            "Requirement already satisfied: markdown>=2.6.8 in /usr/local/lib/python3.6/dist-packages (from tensorboard<1.15.0,>=1.14.0->tensorflow==1.14) (3.2.1)\n",
            "Requirement already satisfied: h5py in /usr/local/lib/python3.6/dist-packages (from keras-applications>=1.0.6->tensorflow==1.14) (2.10.0)\n",
            "Installing collected packages: tensorboard, tensorflow-estimator, tensorflow\n",
            "  Found existing installation: tensorboard 2.2.0\n",
            "    Uninstalling tensorboard-2.2.0:\n",
            "      Successfully uninstalled tensorboard-2.2.0\n",
            "  Found existing installation: tensorflow-estimator 2.2.0rc0\n",
            "    Uninstalling tensorflow-estimator-2.2.0rc0:\n",
            "      Successfully uninstalled tensorflow-estimator-2.2.0rc0\n",
            "  Found existing installation: tensorflow 2.2.0rc3\n",
            "    Uninstalling tensorflow-2.2.0rc3:\n",
            "      Successfully uninstalled tensorflow-2.2.0rc3\n",
            "Successfully installed tensorboard-1.14.0 tensorflow-1.14.0 tensorflow-estimator-1.14.0\n"
          ],
          "name": "stdout"
        }
      ]
    },
    {
      "cell_type": "code",
      "metadata": {
        "id": "BUYUexVNKjRA",
        "colab_type": "code",
        "colab": {
          "base_uri": "https://localhost:8080/",
          "height": 217
        },
        "outputId": "0507cfdd-cf4b-4774-ec52-413e60c41f3b"
      },
      "source": [
        "!pip install pyprind\n",
        "!pip install keras"
      ],
      "execution_count": 2,
      "outputs": [
        {
          "output_type": "stream",
          "text": [
            "Collecting pyprind\n",
            "  Downloading https://files.pythonhosted.org/packages/1e/30/e76fb0c45da8aef49ea8d2a90d4e7a6877b45894c25f12fb961f009a891e/PyPrind-2.11.2-py3-none-any.whl\n",
            "Installing collected packages: pyprind\n",
            "Successfully installed pyprind-2.11.2\n",
            "Requirement already satisfied: keras in /usr/local/lib/python3.6/dist-packages (2.3.1)\n",
            "Requirement already satisfied: keras-preprocessing>=1.0.5 in /usr/local/lib/python3.6/dist-packages (from keras) (1.1.0)\n",
            "Requirement already satisfied: six>=1.9.0 in /usr/local/lib/python3.6/dist-packages (from keras) (1.12.0)\n",
            "Requirement already satisfied: numpy>=1.9.1 in /usr/local/lib/python3.6/dist-packages (from keras) (1.18.2)\n",
            "Requirement already satisfied: h5py in /usr/local/lib/python3.6/dist-packages (from keras) (2.10.0)\n",
            "Requirement already satisfied: keras-applications>=1.0.6 in /usr/local/lib/python3.6/dist-packages (from keras) (1.0.8)\n",
            "Requirement already satisfied: pyyaml in /usr/local/lib/python3.6/dist-packages (from keras) (3.13)\n",
            "Requirement already satisfied: scipy>=0.14 in /usr/local/lib/python3.6/dist-packages (from keras) (1.4.1)\n"
          ],
          "name": "stdout"
        }
      ]
    },
    {
      "cell_type": "code",
      "metadata": {
        "id": "MhVZPw_7KkSE",
        "colab_type": "code",
        "colab": {}
      },
      "source": [
        "import pandas as pd\n",
        "\n",
        "import numpy as np\n",
        "from string import punctuation\n",
        "t\n",
        "import matplotlib.pyplot as plt\n",
        "import os\n"
      ],
      "execution_count": 0,
      "outputs": []
    },
    {
      "cell_type": "code",
      "metadata": {
        "id": "MWzlRtn9LS0o",
        "colab_type": "code",
        "colab": {}
      },
      "source": [
        "from keras import Sequential\n",
        "from keras import layers\n",
        "from keras import regularizers\n",
        "import tensorflow\n",
        "from tensorflow.python.keras import Sequential\n",
        "from tensorflow.python.keras import layers\n",
        "from tensorflow.python.keras import regularizers\n",
        "from tensorflow.python.keras.preprocessing.text import Tokenizer\n",
        "import pyprind\n",
        "from collections import Counter\n",
        "from keras.preprocessing.text import Tokenizer\n",
        "from sklearn.model_selection import train_test_spli"
      ],
      "execution_count": 0,
      "outputs": []
    },
    {
      "cell_type": "code",
      "metadata": {
        "id": "rbnmMbr_LWTT",
        "colab_type": "code",
        "colab": {}
      },
      "source": [
        ""
      ],
      "execution_count": 0,
      "outputs": []
    },
    {
      "cell_type": "code",
      "metadata": {
        "id": "SB-53Di9K1oO",
        "colab_type": "code",
        "colab": {}
      },
      "source": [
        "# for reproducability\n",
        "from numpy.random import seed\n",
        "seed(1)"
      ],
      "execution_count": 0,
      "outputs": []
    },
    {
      "cell_type": "code",
      "metadata": {
        "id": "sSupbppgK9Xw",
        "colab_type": "code",
        "colab": {}
      },
      "source": [
        "import tensorflow\n",
        "from tensorflow import set_random_seed\n",
        "tensorflow.set_random_seed(1)"
      ],
      "execution_count": 0,
      "outputs": []
    },
    {
      "cell_type": "code",
      "metadata": {
        "id": "7w6EEiXnK_NK",
        "colab_type": "code",
        "colab": {
          "base_uri": "https://localhost:8080/",
          "height": 203
        },
        "outputId": "caa22bb5-5321-4633-d01d-d084bf227006"
      },
      "source": [
        "!pip show tensorflow"
      ],
      "execution_count": 11,
      "outputs": [
        {
          "output_type": "stream",
          "text": [
            "Name: tensorflow\n",
            "Version: 1.14.0\n",
            "Summary: TensorFlow is an open source machine learning framework for everyone.\n",
            "Home-page: https://www.tensorflow.org/\n",
            "Author: Google Inc.\n",
            "Author-email: packages@tensorflow.org\n",
            "License: Apache 2.0\n",
            "Location: /usr/local/lib/python3.6/dist-packages\n",
            "Requires: six, numpy, tensorboard, protobuf, termcolor, wrapt, astor, absl-py, keras-applications, grpcio, gast, google-pasta, wheel, keras-preprocessing, tensorflow-estimator\n",
            "Required-by: fancyimpute\n"
          ],
          "name": "stdout"
        }
      ]
    },
    {
      "cell_type": "markdown",
      "metadata": {
        "id": "IkiytmDOPJu7",
        "colab_type": "text"
      },
      "source": [
        "\n",
        "\n",
        "**Predicting Memorability**\n",
        "\n",
        "Spearman correlation\n"
      ]
    },
    {
      "cell_type": "code",
      "metadata": {
        "id": "mysFnC4lP35s",
        "colab_type": "code",
        "colab": {}
      },
      "source": [
        "def Get_score(Y_pred,Y_true):\n",
        "    '''Calculate the Spearmann\"s correlation coefficient'''\n",
        "    Y_pred = np.squeeze(Y_pred)\n",
        "    Y_true = np.squeeze(Y_true)\n",
        "    if Y_pred.shape != Y_true.shape:\n",
        "        print('Input shapes don\\'t match!')\n",
        "    else:\n",
        "        if len(Y_pred.shape) == 1:\n",
        "            Res = pd.DataFrame({'Y_true':Y_true,'Y_pred':Y_pred})\n",
        "            score_mat = Res[['Y_true','Y_pred']].corr(method='spearman',min_periods=1)\n",
        "            print('The Spearman\\'s correlation coefficient is: %.3f' % score_mat.iloc[1][0])\n",
        "        else:\n",
        "            for ii in range(Y_pred.shape[1]):\n",
        "                Get_score(Y_pred[:,ii],Y_true[:,ii])"
      ],
      "execution_count": 0,
      "outputs": []
    },
    {
      "cell_type": "markdown",
      "metadata": {
        "id": "QeBnmgP5Pvco",
        "colab_type": "text"
      },
      "source": [
        "# 1. Loading the captions and the memorability scores\n",
        "\n"
      ]
    },
    {
      "cell_type": "code",
      "metadata": {
        "id": "gE2TYh_MKugM",
        "colab_type": "code",
        "colab": {}
      },
      "source": [
        "# load labels and captions\n",
        "def read_caps(fname):\n",
        "    \"\"\"Load the captions into a dataframe\"\"\"\n",
        "    vn = []\n",
        "    cap = []\n",
        "    df_cap = pd.DataFrame();\n",
        "    with open(fname) as f:\n",
        "        for line in f:\n",
        "            pairs = line.split()\n",
        "            vn.append(pairs[0])\n",
        "            cap.append(pairs[1])\n",
        "        df_cap['video']=vn\n",
        "        df_cap['caption']=cap\n",
        "    return df_cap"
      ],
      "execution_count": 0,
      "outputs": []
    },
    {
      "cell_type": "code",
      "metadata": {
        "id": "6ukTPznPL5AV",
        "colab_type": "code",
        "colab": {
          "base_uri": "https://localhost:8080/",
          "height": 33
        },
        "outputId": "a8a82aea-3092-4cc7-bcaf-2878df8af2e7"
      },
      "source": [
        "from google.colab import drive\n",
        "drive.mount('/content/drive/')\n"
      ],
      "execution_count": 96,
      "outputs": [
        {
          "output_type": "stream",
          "text": [
            "Drive already mounted at /content/drive/; to attempt to forcibly remount, call drive.mount(\"/content/drive/\", force_remount=True).\n"
          ],
          "name": "stdout"
        }
      ]
    },
    {
      "cell_type": "code",
      "metadata": {
        "id": "Y9JUgWr5L9R-",
        "colab_type": "code",
        "colab": {}
      },
      "source": [
        "import os\n",
        "os.chdir('/content/drive/My Drive/CA684_Assignment/Dev-set/Captions/')"
      ],
      "execution_count": 0,
      "outputs": []
    },
    {
      "cell_type": "code",
      "metadata": {
        "id": "NKtdtLeaMDC1",
        "colab_type": "code",
        "colab": {}
      },
      "source": [
        "cap_path='/content/drive/My Drive/CA684_Assignment/Dev-set/Captions/dev-set_video-captions.txt'\n",
        "df_cap=read_caps(cap_path)"
      ],
      "execution_count": 0,
      "outputs": []
    },
    {
      "cell_type": "code",
      "metadata": {
        "id": "GJWvqGTlMaJ_",
        "colab_type": "code",
        "colab": {}
      },
      "source": [
        "\n",
        "# load the ground truth values\n",
        "label_path = '/content/drive/My Drive/CA684_Assignment/Dev-set/Ground-truth/'\n",
        "labels=pd.read_csv(label_path+'ground-truth.csv')\n"
      ],
      "execution_count": 0,
      "outputs": []
    },
    {
      "cell_type": "code",
      "metadata": {
        "id": "14m4RAppMPwy",
        "colab_type": "code",
        "colab": {
          "base_uri": "https://localhost:8080/",
          "height": 250
        },
        "outputId": "8e69c6b7-07e3-413f-d1da-05906ff886bf"
      },
      "source": [
        "print(df_cap)"
      ],
      "execution_count": 80,
      "outputs": [
        {
          "output_type": "stream",
          "text": [
            "               video                                            caption\n",
            "0        video3.webm                 blonde-woman-is-massaged-tilt-down\n",
            "1        video4.webm  roulette-table-spinning-with-ball-in-closeup-shot\n",
            "2        video6.webm                                      khr-gangsters\n",
            "3        video8.webm               medical-helicopter-hovers-at-airport\n",
            "4       video10.webm               couple-relaxing-on-picnic-crane-shot\n",
            "...              ...                                                ...\n",
            "5995  video7488.webm        beautiful-young-woman-in-front-of-fountains\n",
            "5996  video7489.webm  focus-pull-from-molting-penguin-to-penguin-col...\n",
            "5997  video7491.webm           students-walking-in-university-of-mexico\n",
            "5998  video7492.webm                       beautiful-black-woman-at-spa\n",
            "5999  video7493.webm  beautiful-modern-brunette-woman-using-tablet-c...\n",
            "\n",
            "[6000 rows x 2 columns]\n"
          ],
          "name": "stdout"
        }
      ]
    },
    {
      "cell_type": "code",
      "metadata": {
        "id": "xqFs4UE_Ky_v",
        "colab_type": "code",
        "colab": {
          "base_uri": "https://localhost:8080/",
          "height": 67
        },
        "outputId": "162ea6a7-be47-4e51-c0f6-823dd94de5c3"
      },
      "source": [
        "counts = Counter()\n",
        "# setup prograss tracker\n",
        "pbar = pyprind.ProgBar(len(df_cap['caption']), title='Counting word occurrences')\n",
        "for i, cap in enumerate(df_cap['caption']):\n",
        "    # replace punctuations with space\n",
        "    # convert words to lower case \n",
        "    text = ''.join([c if c not in punctuation else ' ' for c in cap]).lower()\n",
        "    df_cap.loc[i,'caption'] = text\n",
        "    pbar.update()\n",
        "    counts.update(text.split())"
      ],
      "execution_count": 32,
      "outputs": [
        {
          "output_type": "stream",
          "text": [
            "Counting word occurrences\n",
            "0% [##############################] 100% | ETA: 00:00:00\n",
            "Total time elapsed: 00:00:01\n"
          ],
          "name": "stderr"
        }
      ]
    },
    {
      "cell_type": "code",
      "metadata": {
        "id": "UWHfegYCOiOY",
        "colab_type": "code",
        "colab": {
          "base_uri": "https://localhost:8080/",
          "height": 197
        },
        "outputId": "07fbfd42-e84b-4301-a5b1-2dcf6ec6cc49"
      },
      "source": [
        "df_cap.head()"
      ],
      "execution_count": 34,
      "outputs": [
        {
          "output_type": "execute_result",
          "data": {
            "text/html": [
              "<div>\n",
              "<style scoped>\n",
              "    .dataframe tbody tr th:only-of-type {\n",
              "        vertical-align: middle;\n",
              "    }\n",
              "\n",
              "    .dataframe tbody tr th {\n",
              "        vertical-align: top;\n",
              "    }\n",
              "\n",
              "    .dataframe thead th {\n",
              "        text-align: right;\n",
              "    }\n",
              "</style>\n",
              "<table border=\"1\" class=\"dataframe\">\n",
              "  <thead>\n",
              "    <tr style=\"text-align: right;\">\n",
              "      <th></th>\n",
              "      <th>video</th>\n",
              "      <th>caption</th>\n",
              "    </tr>\n",
              "  </thead>\n",
              "  <tbody>\n",
              "    <tr>\n",
              "      <th>0</th>\n",
              "      <td>video3.webm</td>\n",
              "      <td>blonde woman is massaged tilt down</td>\n",
              "    </tr>\n",
              "    <tr>\n",
              "      <th>1</th>\n",
              "      <td>video4.webm</td>\n",
              "      <td>roulette table spinning with ball in closeup shot</td>\n",
              "    </tr>\n",
              "    <tr>\n",
              "      <th>2</th>\n",
              "      <td>video6.webm</td>\n",
              "      <td>khr gangsters</td>\n",
              "    </tr>\n",
              "    <tr>\n",
              "      <th>3</th>\n",
              "      <td>video8.webm</td>\n",
              "      <td>medical helicopter hovers at airport</td>\n",
              "    </tr>\n",
              "    <tr>\n",
              "      <th>4</th>\n",
              "      <td>video10.webm</td>\n",
              "      <td>couple relaxing on picnic crane shot</td>\n",
              "    </tr>\n",
              "  </tbody>\n",
              "</table>\n",
              "</div>"
            ],
            "text/plain": [
              "          video                                            caption\n",
              "0   video3.webm                 blonde woman is massaged tilt down\n",
              "1   video4.webm  roulette table spinning with ball in closeup shot\n",
              "2   video6.webm                                      khr gangsters\n",
              "3   video8.webm               medical helicopter hovers at airport\n",
              "4  video10.webm               couple relaxing on picnic crane shot"
            ]
          },
          "metadata": {
            "tags": []
          },
          "execution_count": 34
        }
      ]
    },
    {
      "cell_type": "code",
      "metadata": {
        "id": "9xRZR5HZOkpX",
        "colab_type": "code",
        "colab": {
          "base_uri": "https://localhost:8080/",
          "height": 197
        },
        "outputId": "929ffcc9-f504-48e9-924a-2b6dbf6db992"
      },
      "source": [
        "labels.head()"
      ],
      "execution_count": 35,
      "outputs": [
        {
          "output_type": "execute_result",
          "data": {
            "text/html": [
              "<div>\n",
              "<style scoped>\n",
              "    .dataframe tbody tr th:only-of-type {\n",
              "        vertical-align: middle;\n",
              "    }\n",
              "\n",
              "    .dataframe tbody tr th {\n",
              "        vertical-align: top;\n",
              "    }\n",
              "\n",
              "    .dataframe thead th {\n",
              "        text-align: right;\n",
              "    }\n",
              "</style>\n",
              "<table border=\"1\" class=\"dataframe\">\n",
              "  <thead>\n",
              "    <tr style=\"text-align: right;\">\n",
              "      <th></th>\n",
              "      <th>video</th>\n",
              "      <th>short-term_memorability</th>\n",
              "      <th>nb_short-term_annotations</th>\n",
              "      <th>long-term_memorability</th>\n",
              "      <th>nb_long-term_annotations</th>\n",
              "    </tr>\n",
              "  </thead>\n",
              "  <tbody>\n",
              "    <tr>\n",
              "      <th>0</th>\n",
              "      <td>video3.webm</td>\n",
              "      <td>0.924</td>\n",
              "      <td>34</td>\n",
              "      <td>0.846</td>\n",
              "      <td>13</td>\n",
              "    </tr>\n",
              "    <tr>\n",
              "      <th>1</th>\n",
              "      <td>video4.webm</td>\n",
              "      <td>0.923</td>\n",
              "      <td>33</td>\n",
              "      <td>0.667</td>\n",
              "      <td>12</td>\n",
              "    </tr>\n",
              "    <tr>\n",
              "      <th>2</th>\n",
              "      <td>video6.webm</td>\n",
              "      <td>0.863</td>\n",
              "      <td>33</td>\n",
              "      <td>0.700</td>\n",
              "      <td>10</td>\n",
              "    </tr>\n",
              "    <tr>\n",
              "      <th>3</th>\n",
              "      <td>video8.webm</td>\n",
              "      <td>0.922</td>\n",
              "      <td>33</td>\n",
              "      <td>0.818</td>\n",
              "      <td>11</td>\n",
              "    </tr>\n",
              "    <tr>\n",
              "      <th>4</th>\n",
              "      <td>video10.webm</td>\n",
              "      <td>0.950</td>\n",
              "      <td>34</td>\n",
              "      <td>0.900</td>\n",
              "      <td>10</td>\n",
              "    </tr>\n",
              "  </tbody>\n",
              "</table>\n",
              "</div>"
            ],
            "text/plain": [
              "          video  ...  nb_long-term_annotations\n",
              "0   video3.webm  ...                        13\n",
              "1   video4.webm  ...                        12\n",
              "2   video6.webm  ...                        10\n",
              "3   video8.webm  ...                        11\n",
              "4  video10.webm  ...                        10\n",
              "\n",
              "[5 rows x 5 columns]"
            ]
          },
          "metadata": {
            "tags": []
          },
          "execution_count": 35
        }
      ]
    },
    {
      "cell_type": "code",
      "metadata": {
        "id": "6vTkBSV8Oi5-",
        "colab_type": "code",
        "colab": {}
      },
      "source": [
        ""
      ],
      "execution_count": 0,
      "outputs": []
    },
    {
      "cell_type": "markdown",
      "metadata": {
        "id": "iUQVl2FWRtM8",
        "colab_type": "text"
      },
      "source": [
        "#2. Cleaning / Pre-Processing"
      ]
    },
    {
      "cell_type": "code",
      "metadata": {
        "id": "kz43UNBjRxv9",
        "colab_type": "code",
        "colab": {}
      },
      "source": [
        "from nltk.stem import WordNetLemmatizer\n",
        "from nltk import tokenize\n",
        "from sklearn.feature_extraction.text import TfidfVectorizer\n",
        "import re"
      ],
      "execution_count": 0,
      "outputs": []
    },
    {
      "cell_type": "markdown",
      "metadata": {
        "id": "mD2fzPt5R1zG",
        "colab_type": "text"
      },
      "source": [
        "## 2.1 Stripping special characters\n"
      ]
    },
    {
      "cell_type": "code",
      "metadata": {
        "id": "zrpUHyl0RywH",
        "colab_type": "code",
        "colab": {}
      },
      "source": [
        "df = df_cap.copy()\n",
        "import re\n",
        "def strip_character(dataCol):\n",
        "    r = re.compile(r'[^a-zA-Z]')\n",
        "    return r.sub(' ', str(dataCol))\n",
        "\n",
        "df['caption'] = df['caption'].apply(strip_character)"
      ],
      "execution_count": 0,
      "outputs": []
    },
    {
      "cell_type": "code",
      "metadata": {
        "id": "HKt_t5K7R9hg",
        "colab_type": "code",
        "colab": {
          "base_uri": "https://localhost:8080/",
          "height": 100
        },
        "outputId": "7a956674-dd96-40be-9e66-f121352650c4"
      },
      "source": [
        "import nltk\n",
        "nltk.download('stopwords')\n",
        "from nltk.corpus import stopwords\n",
        "import nltk\n",
        "nltk.download('wordnet')"
      ],
      "execution_count": 40,
      "outputs": [
        {
          "output_type": "stream",
          "text": [
            "[nltk_data] Downloading package stopwords to /root/nltk_data...\n",
            "[nltk_data]   Unzipping corpora/stopwords.zip.\n",
            "[nltk_data] Downloading package wordnet to /root/nltk_data...\n",
            "[nltk_data]   Unzipping corpora/wordnet.zip.\n"
          ],
          "name": "stdout"
        },
        {
          "output_type": "execute_result",
          "data": {
            "text/plain": [
              "True"
            ]
          },
          "metadata": {
            "tags": []
          },
          "execution_count": 40
        }
      ]
    },
    {
      "cell_type": "markdown",
      "metadata": {
        "id": "C6g9rYlFSfsk",
        "colab_type": "text"
      },
      "source": [
        "## 2.2 Removing Stopwords\n"
      ]
    },
    {
      "cell_type": "code",
      "metadata": {
        "id": "gPwe35vWSLi9",
        "colab_type": "code",
        "colab": {}
      },
      "source": [
        "stop = stopwords.words('english') "
      ],
      "execution_count": 0,
      "outputs": []
    },
    {
      "cell_type": "markdown",
      "metadata": {
        "id": "aObj5TZeStgS",
        "colab_type": "text"
      },
      "source": [
        "## 2.3 Lemmatization\n"
      ]
    },
    {
      "cell_type": "code",
      "metadata": {
        "id": "byKYdzFBSmA5",
        "colab_type": "code",
        "colab": {
          "base_uri": "https://localhost:8080/",
          "height": 117
        },
        "outputId": "81484d7e-6ea2-4bd7-d7da-1907f959b35c"
      },
      "source": [
        "df['caption'] = df['caption'].apply(lambda x: ' '.join([item for item in x.split() if item not in stop]))\n",
        "df['caption'].head()"
      ],
      "execution_count": 81,
      "outputs": [
        {
          "output_type": "execute_result",
          "data": {
            "text/plain": [
              "0                   blonde woman massaged tilt\n",
              "1    roulette table spinning ball closeup shot\n",
              "2                                khr gangsters\n",
              "3            medical helicopter hovers airport\n",
              "4            couple relaxing picnic crane shot\n",
              "Name: caption, dtype: object"
            ]
          },
          "metadata": {
            "tags": []
          },
          "execution_count": 81
        }
      ]
    },
    {
      "cell_type": "markdown",
      "metadata": {
        "id": "T24E7kcKTKRQ",
        "colab_type": "text"
      },
      "source": [
        "## 2.4 Extracting unique words count"
      ]
    },
    {
      "cell_type": "code",
      "metadata": {
        "id": "GP64_dCASqDC",
        "colab_type": "code",
        "colab": {}
      },
      "source": [
        "counts = Counter()\n",
        "for i, cap in enumerate(df['caption']):\n",
        "    counts.update(cap.split())"
      ],
      "execution_count": 0,
      "outputs": []
    },
    {
      "cell_type": "code",
      "metadata": {
        "id": "7I0OqyWXTQOF",
        "colab_type": "code",
        "colab": {
          "base_uri": "https://localhost:8080/",
          "height": 100
        },
        "outputId": "7619f420-a18c-4ef2-bab7-c2e16bcbdea1"
      },
      "source": [
        "df.caption.values"
      ],
      "execution_count": 44,
      "outputs": [
        {
          "output_type": "execute_result",
          "data": {
            "text/plain": [
              "array(['blonde woman massaged tilt',\n",
              "       'roulette table spinning ball closeup shot', 'khr gangsters', ...,\n",
              "       'students walking university mexico', 'beautiful black woman spa',\n",
              "       'beautiful modern brunette woman using tablet computer luxury bed'],\n",
              "      dtype=object)"
            ]
          },
          "metadata": {
            "tags": []
          },
          "execution_count": 44
        }
      ]
    },
    {
      "cell_type": "markdown",
      "metadata": {
        "id": "qeQDGzKyTjPV",
        "colab_type": "text"
      },
      "source": [
        "##\t2.5 Trying an n-Gram approach- Using TF-IDF"
      ]
    },
    {
      "cell_type": "code",
      "metadata": {
        "id": "1zmJMQfSTTpd",
        "colab_type": "code",
        "colab": {}
      },
      "source": [
        "vect = TfidfVectorizer(ngram_range = (1,4)).fit(df.caption)\n",
        "vect_transformed_X_train = vect.transform(df.caption)\n",
        "len_token = len(vect.get_feature_names())"
      ],
      "execution_count": 0,
      "outputs": []
    },
    {
      "cell_type": "code",
      "metadata": {
        "id": "KJwR7ZlVTtVJ",
        "colab_type": "code",
        "colab": {
          "base_uri": "https://localhost:8080/",
          "height": 33
        },
        "outputId": "ffcf75ad-bd61-4f59-9905-e5cd6d28e1d4"
      },
      "source": [
        "len_token"
      ],
      "execution_count": 46,
      "outputs": [
        {
          "output_type": "execute_result",
          "data": {
            "text/plain": [
              "59584"
            ]
          },
          "metadata": {
            "tags": []
          },
          "execution_count": 46
        }
      ]
    },
    {
      "cell_type": "markdown",
      "metadata": {
        "id": "Xa7X_qzhUVmE",
        "colab_type": "text"
      },
      "source": [
        "##\t2.6 Maping each unique word to an integer (one-hot encoding)"
      ]
    },
    {
      "cell_type": "code",
      "metadata": {
        "id": "lLaHB1RAUR-q",
        "colab_type": "code",
        "colab": {}
      },
      "source": [
        "# build the word index\n",
        "len_token = len(counts)\n",
        "tokenizer = Tokenizer(num_words=len_token)\n"
      ],
      "execution_count": 0,
      "outputs": []
    },
    {
      "cell_type": "code",
      "metadata": {
        "id": "xklbDQySUaxF",
        "colab_type": "code",
        "colab": {}
      },
      "source": [
        "#fit a list of captions to the tokenizer\n",
        "#the tokenizer vectorizes a text corpus, by turning each text into either a sequence of integers \n",
        "\n",
        "tokenizer.fit_on_texts(list(vect.get_feature_names()))"
      ],
      "execution_count": 0,
      "outputs": []
    },
    {
      "cell_type": "code",
      "metadata": {
        "id": "QRkU8HG9UiTM",
        "colab_type": "code",
        "colab": {}
      },
      "source": [
        "#sequences = tokenizer.texts_to_sequences(list(df.caption.values))\n",
        "\n",
        "one_hot_res = tokenizer.texts_to_matrix(list(df.caption.values),mode='binary')\n"
      ],
      "execution_count": 0,
      "outputs": []
    },
    {
      "cell_type": "code",
      "metadata": {
        "id": "aNGyDR9qUpVN",
        "colab_type": "code",
        "colab": {
          "base_uri": "https://localhost:8080/",
          "height": 33
        },
        "outputId": "f8b5e425-6399-4f43-e28f-1db9ae43e7ba"
      },
      "source": [
        "len(one_hot_res)"
      ],
      "execution_count": 50,
      "outputs": [
        {
          "output_type": "execute_result",
          "data": {
            "text/plain": [
              "6000"
            ]
          },
          "metadata": {
            "tags": []
          },
          "execution_count": 50
        }
      ]
    },
    {
      "cell_type": "markdown",
      "metadata": {
        "id": "TO3d5KAFUueE",
        "colab_type": "text"
      },
      "source": [
        "#\t3. Predicting video memorability using captions"
      ]
    },
    {
      "cell_type": "code",
      "metadata": {
        "id": "3jmEXR2xUs8G",
        "colab_type": "code",
        "colab": {
          "base_uri": "https://localhost:8080/",
          "height": 33
        },
        "outputId": "4a7829c9-b0b4-4784-abe6-a760d2fe9133"
      },
      "source": [
        "one_hot_res.shape"
      ],
      "execution_count": 51,
      "outputs": [
        {
          "output_type": "execute_result",
          "data": {
            "text/plain": [
              "(6000, 5098)"
            ]
          },
          "metadata": {
            "tags": []
          },
          "execution_count": 51
        }
      ]
    },
    {
      "cell_type": "code",
      "metadata": {
        "id": "UGiQWU-DU8kI",
        "colab_type": "code",
        "colab": {}
      },
      "source": [
        ""
      ],
      "execution_count": 0,
      "outputs": []
    },
    {
      "cell_type": "markdown",
      "metadata": {
        "id": "iVLfNcC1VfT5",
        "colab_type": "text"
      },
      "source": [
        "##\t3.1 Recurrent Neural Network model"
      ]
    },
    {
      "cell_type": "code",
      "metadata": {
        "id": "ZUEq7AksUrkk",
        "colab_type": "code",
        "colab": {}
      },
      "source": [
        "Y = labels[['short-term_memorability','long-term_memorability']].values\n",
        "X = one_hot_res;\n",
        "X_train, X_test, Y_train, Y_test = train_test_split(X,Y, test_size=0.2, random_state=42)"
      ],
      "execution_count": 0,
      "outputs": []
    },
    {
      "cell_type": "markdown",
      "metadata": {
        "id": "YqvOJpRrVkvK",
        "colab_type": "text"
      },
      "source": [
        ""
      ]
    },
    {
      "cell_type": "code",
      "metadata": {
        "id": "qYi26tF-Vjxr",
        "colab_type": "code",
        "colab": {
          "base_uri": "https://localhost:8080/",
          "height": 87
        },
        "outputId": "a30ae695-edaf-41db-c3bc-17558964f20c"
      },
      "source": [
        "# add dropout\n",
        "# add regularizers\n",
        "\n",
        "model = Sequential()\n",
        "model.add(layers.Dense(200,activation='relu',kernel_regularizer=None,input_shape=(len_token,)))\n",
        "model.add(layers.Dropout(0.1))\n",
        "model.add(layers.Dense(2,activation='sigmoid'))\n"
      ],
      "execution_count": 53,
      "outputs": [
        {
          "output_type": "stream",
          "text": [
            "WARNING:tensorflow:From /usr/local/lib/python3.6/dist-packages/tensorflow/python/ops/init_ops.py:1251: calling VarianceScaling.__init__ (from tensorflow.python.ops.init_ops) with dtype is deprecated and will be removed in a future version.\n",
            "Instructions for updating:\n",
            "Call initializer instance with the dtype argument instead of passing it to the constructor\n"
          ],
          "name": "stdout"
        }
      ]
    },
    {
      "cell_type": "code",
      "metadata": {
        "id": "V3txRcr6WHsW",
        "colab_type": "code",
        "colab": {
          "base_uri": "https://localhost:8080/",
          "height": 1000
        },
        "outputId": "402c2632-6b86-4a0a-ce8a-a0856a0e1534"
      },
      "source": [
        "          \n",
        "# compile the model \n",
        "model.compile(optimizer='rmsprop',loss='mse',metrics=['accuracy'])\n",
        "\n",
        "# training the model \n",
        "history = model.fit(X_train,Y_train,epochs=20,validation_data=(X_test,Y_test))\n",
        "\n",
        "# visualizing the model\n",
        "loss = history.history['loss']\n",
        "val_loss = history.history['val_loss']\n",
        "\n",
        "epochs = range(1,len(loss)+1)\n",
        "\n",
        "plt.plot(epochs,loss,'bo',label='Training loss')\n",
        "plt.plot(epochs,val_loss,'b',label='Validation loss')\n",
        "plt.title('Training and validation loss')\n",
        "plt.xlabel('Epochs')\n",
        "plt.ylabel('Loss')\n",
        "plt.legend()\n",
        "plt.show()\n",
        "\n",
        "plt.figure()\n",
        "acc = history.history['acc']\n",
        "val_acc = history.history['val_acc']\n",
        "plt.plot(epochs, acc, 'bo', label='Training acc')\n",
        "plt.plot(epochs, val_acc, 'b', label='Validation acc')\n",
        "plt.title('Training and validation accuracy')\n",
        "plt.xlabel('Epochs')\n",
        "plt.ylabel('Acc')\n",
        "plt.legend()\n",
        "plt.show()\n"
      ],
      "execution_count": 82,
      "outputs": [
        {
          "output_type": "stream",
          "text": [
            "Train on 4800 samples, validate on 1200 samples\n",
            "Epoch 1/20\n",
            "4800/4800 [==============================] - 2s 504us/sample - loss: 0.0031 - acc: 0.8727 - val_loss: 0.0178 - val_acc: 0.6492\n",
            "Epoch 2/20\n",
            "4800/4800 [==============================] - 2s 389us/sample - loss: 0.0030 - acc: 0.8788 - val_loss: 0.0177 - val_acc: 0.6392\n",
            "Epoch 3/20\n",
            "4800/4800 [==============================] - 2s 368us/sample - loss: 0.0030 - acc: 0.8781 - val_loss: 0.0175 - val_acc: 0.6358\n",
            "Epoch 4/20\n",
            "4800/4800 [==============================] - 2s 372us/sample - loss: 0.0029 - acc: 0.8800 - val_loss: 0.0178 - val_acc: 0.6475\n",
            "Epoch 5/20\n",
            "4800/4800 [==============================] - 2s 371us/sample - loss: 0.0029 - acc: 0.8813 - val_loss: 0.0177 - val_acc: 0.6375\n",
            "Epoch 6/20\n",
            "4800/4800 [==============================] - 2s 370us/sample - loss: 0.0028 - acc: 0.8927 - val_loss: 0.0174 - val_acc: 0.6475\n",
            "Epoch 7/20\n",
            "4800/4800 [==============================] - 2s 372us/sample - loss: 0.0028 - acc: 0.8888 - val_loss: 0.0178 - val_acc: 0.6358\n",
            "Epoch 8/20\n",
            "4800/4800 [==============================] - 2s 371us/sample - loss: 0.0027 - acc: 0.8863 - val_loss: 0.0180 - val_acc: 0.6342\n",
            "Epoch 9/20\n",
            "4800/4800 [==============================] - 2s 363us/sample - loss: 0.0026 - acc: 0.8946 - val_loss: 0.0179 - val_acc: 0.6358\n",
            "Epoch 10/20\n",
            "4800/4800 [==============================] - 2s 362us/sample - loss: 0.0027 - acc: 0.8881 - val_loss: 0.0178 - val_acc: 0.6350\n",
            "Epoch 11/20\n",
            "4800/4800 [==============================] - 2s 374us/sample - loss: 0.0026 - acc: 0.8977 - val_loss: 0.0180 - val_acc: 0.6283\n",
            "Epoch 12/20\n",
            "4800/4800 [==============================] - 2s 371us/sample - loss: 0.0026 - acc: 0.8956 - val_loss: 0.0180 - val_acc: 0.6325\n",
            "Epoch 13/20\n",
            "4800/4800 [==============================] - 2s 388us/sample - loss: 0.0026 - acc: 0.8900 - val_loss: 0.0179 - val_acc: 0.6308\n",
            "Epoch 14/20\n",
            "4800/4800 [==============================] - 2s 385us/sample - loss: 0.0025 - acc: 0.8983 - val_loss: 0.0179 - val_acc: 0.6417\n",
            "Epoch 15/20\n",
            "4800/4800 [==============================] - 2s 367us/sample - loss: 0.0025 - acc: 0.8956 - val_loss: 0.0180 - val_acc: 0.6217\n",
            "Epoch 16/20\n",
            "4800/4800 [==============================] - 2s 370us/sample - loss: 0.0025 - acc: 0.8994 - val_loss: 0.0180 - val_acc: 0.6142\n",
            "Epoch 17/20\n",
            "4800/4800 [==============================] - 2s 370us/sample - loss: 0.0024 - acc: 0.9002 - val_loss: 0.0180 - val_acc: 0.6317\n",
            "Epoch 18/20\n",
            "4800/4800 [==============================] - 2s 369us/sample - loss: 0.0024 - acc: 0.8988 - val_loss: 0.0183 - val_acc: 0.6450\n",
            "Epoch 19/20\n",
            "4800/4800 [==============================] - 2s 368us/sample - loss: 0.0024 - acc: 0.9021 - val_loss: 0.0180 - val_acc: 0.6250\n",
            "Epoch 20/20\n",
            "4800/4800 [==============================] - 2s 375us/sample - loss: 0.0024 - acc: 0.9073 - val_loss: 0.0183 - val_acc: 0.6408\n"
          ],
          "name": "stdout"
        },
        {
          "output_type": "display_data",
          "data": {
            "image/png": "[encoded data removed]",
            "text/plain": [
              "<Figure size 432x288 with 1 Axes>"
            ]
          },
          "metadata": {
            "tags": [],
            "needs_background": "light"
          }
        },
        {
          "output_type": "display_data",
          "data": {
            "image/png": "[encoded data removed]",
            "text/plain": [
              "<Figure size 432x288 with 1 Axes>"
            ]
          },
          "metadata": {
            "tags": [],
            "needs_background": "light"
          }
        }
      ]
    },
    {
      "cell_type": "code",
      "metadata": {
        "id": "Fz7B6VDQW8Z2",
        "colab_type": "code",
        "colab": {
          "base_uri": "https://localhost:8080/",
          "height": 33
        },
        "outputId": "05840cf1-ded8-415d-9c75-5c37fe356b8e"
      },
      "source": [
        "predictions = model.predict(X_test)\n",
        "print(predictions.shape)\n"
      ],
      "execution_count": 55,
      "outputs": [
        {
          "output_type": "stream",
          "text": [
            "(1200, 2)\n"
          ],
          "name": "stdout"
        }
      ]
    },
    {
      "cell_type": "code",
      "metadata": {
        "id": "G1WAJlhBW_2e",
        "colab_type": "code",
        "colab": {
          "base_uri": "https://localhost:8080/",
          "height": 50
        },
        "outputId": "7be087d0-4ce4-46ae-eb32-25b7a73a0271"
      },
      "source": [
        "Get_score(predictions, Y_test)"
      ],
      "execution_count": 83,
      "outputs": [
        {
          "output_type": "stream",
          "text": [
            "The Spearman's correlation coefficient is: 0.362\n",
            "The Spearman's correlation coefficient is: 0.161\n"
          ],
          "name": "stdout"
        }
      ]
    },
    {
      "cell_type": "markdown",
      "metadata": {
        "id": "xEgaShcqXOvf",
        "colab_type": "text"
      },
      "source": [
        "**Saving the model**"
      ]
    },
    {
      "cell_type": "code",
      "metadata": {
        "id": "_rPrz6Q2XDHa",
        "colab_type": "code",
        "colab": {}
      },
      "source": [
        "model.save('/content/drive/My Drive/CaptionPrdiction_NN.h5')  # creates a HDF5 file 'my_model.h5'"
      ],
      "execution_count": 0,
      "outputs": []
    },
    {
      "cell_type": "markdown",
      "metadata": {
        "id": "T5RJEvjxXTTa",
        "colab_type": "text"
      },
      "source": [
        "##\t3.2 Random Forest Model"
      ]
    },
    {
      "cell_type": "code",
      "metadata": {
        "id": "a5MLIDZjXIA5",
        "colab_type": "code",
        "colab": {}
      },
      "source": [
        "from sklearn.ensemble import RandomForestRegressor"
      ],
      "execution_count": 0,
      "outputs": []
    },
    {
      "cell_type": "code",
      "metadata": {
        "id": "-Ut2cKqXXboD",
        "colab_type": "code",
        "colab": {}
      },
      "source": [
        "rf3 = RandomForestRegressor(n_estimators = 10, random_state = 0).fit(X_train, Y_train);"
      ],
      "execution_count": 0,
      "outputs": []
    },
    {
      "cell_type": "code",
      "metadata": {
        "id": "atXfua9wXjD3",
        "colab_type": "code",
        "colab": {
          "base_uri": "https://localhost:8080/",
          "height": 50
        },
        "outputId": "d8cdc152-c998-491f-8a28-af1098244bc5"
      },
      "source": [
        "y_predict = rf3.predict(X_test)\n",
        "Get_score(y_predict, Y_test)\n"
      ],
      "execution_count": 61,
      "outputs": [
        {
          "output_type": "stream",
          "text": [
            "The Spearman's correlation coefficient is: 0.395\n",
            "The Spearman's correlation coefficient is: 0.183\n"
          ],
          "name": "stdout"
        }
      ]
    },
    {
      "cell_type": "markdown",
      "metadata": {
        "id": "zQmpnUOiYsWk",
        "colab_type": "text"
      },
      "source": [
        "##\t3.3 Linear Regression"
      ]
    },
    {
      "cell_type": "code",
      "metadata": {
        "id": "0UU9nB-sYqnz",
        "colab_type": "code",
        "colab": {}
      },
      "source": [
        "from sklearn.linear_model import LinearRegression\n",
        "from sklearn.datasets import make_regression\n",
        "\n"
      ],
      "execution_count": 0,
      "outputs": []
    },
    {
      "cell_type": "code",
      "metadata": {
        "id": "Ltrpmuq2Yxxb",
        "colab_type": "code",
        "colab": {}
      },
      "source": [
        "modelLR = LinearRegression().fit(X_train, Y_train)"
      ],
      "execution_count": 0,
      "outputs": []
    },
    {
      "cell_type": "code",
      "metadata": {
        "id": "XOQY0p2QWwoY",
        "colab_type": "code",
        "colab": {
          "base_uri": "https://localhost:8080/",
          "height": 50
        },
        "outputId": "2064784c-0c25-4362-ae30-77291927711e"
      },
      "source": [
        "ynew = modelLR.predict(X_test)\n",
        "Get_score(y_predict, Y_test)"
      ],
      "execution_count": 65,
      "outputs": [
        {
          "output_type": "stream",
          "text": [
            "The Spearman's correlation coefficient is: 0.395\n",
            "The Spearman's correlation coefficient is: 0.183\n"
          ],
          "name": "stdout"
        }
      ]
    },
    {
      "cell_type": "code",
      "metadata": {
        "id": "nv0sPQSEY-o8",
        "colab_type": "code",
        "colab": {}
      },
      "source": [
        ""
      ],
      "execution_count": 0,
      "outputs": []
    },
    {
      "cell_type": "markdown",
      "metadata": {
        "id": "NQ1BUcr_ZD59",
        "colab_type": "text"
      },
      "source": [
        "##\t3.4 Support Vector Machines - SVR\n",
        "\n",
        "### SVR-Short Term memorablity"
      ]
    },
    {
      "cell_type": "code",
      "metadata": {
        "id": "EP3kTvm2ZiSa",
        "colab_type": "code",
        "colab": {
          "base_uri": "https://localhost:8080/",
          "height": 70
        },
        "outputId": "73e81ece-8b28-4836-8d52-a6be4bf5f07f"
      },
      "source": [
        "from sklearn.svm import SVR\n",
        "Y_short = labels[['short-term_memorability']].values\n",
        "X = one_hot_res;\n",
        "X_train, X_test, Y_train_short, Y_test_short = train_test_split(X,Y_short, test_size=0.2, random_state=42)\n",
        "modelSVR_short = SVR(C=100).fit(X_train,Y_train_short)\n"
      ],
      "execution_count": 66,
      "outputs": [
        {
          "output_type": "stream",
          "text": [
            "/usr/local/lib/python3.6/dist-packages/sklearn/utils/validation.py:760: DataConversionWarning: A column-vector y was passed when a 1d array was expected. Please change the shape of y to (n_samples, ), for example using ravel().\n",
            "  y = column_or_1d(y, warn=True)\n"
          ],
          "name": "stderr"
        }
      ]
    },
    {
      "cell_type": "code",
      "metadata": {
        "id": "X_SDpq9TZlMe",
        "colab_type": "code",
        "colab": {
          "base_uri": "https://localhost:8080/",
          "height": 70
        },
        "outputId": "0e19062e-6a82-4d2f-f188-fc583fd8c2e9"
      },
      "source": [
        "from sklearn.svm import SVR\n",
        "Y_short = labels[['short-term_memorability']].values\n",
        "X = one_hot_res;\n",
        "X_train, X_test, Y_train_short, Y_test_short = train_test_split(X,Y_short, test_size=0.2, random_state=42)\n",
        "modelSVR_short = SVR(C=100).fit(X_train,Y_train_short)\n"
      ],
      "execution_count": 67,
      "outputs": [
        {
          "output_type": "stream",
          "text": [
            "/usr/local/lib/python3.6/dist-packages/sklearn/utils/validation.py:760: DataConversionWarning: A column-vector y was passed when a 1d array was expected. Please change the shape of y to (n_samples, ), for example using ravel().\n",
            "  y = column_or_1d(y, warn=True)\n"
          ],
          "name": "stderr"
        }
      ]
    },
    {
      "cell_type": "markdown",
      "metadata": {
        "id": "9XWVxO-paICn",
        "colab_type": "text"
      },
      "source": [
        "### SVR-Long Term memorablity"
      ]
    },
    {
      "cell_type": "code",
      "metadata": {
        "id": "-KsuLG6DZ_rZ",
        "colab_type": "code",
        "colab": {}
      },
      "source": [
        "Y_long = labels[['long-term_memorability']].values\n",
        "X_train, X_test,Y_train_long, Y_test_long = train_test_split(X,Y_long, test_size=0.2, random_state=42)\n"
      ],
      "execution_count": 0,
      "outputs": []
    },
    {
      "cell_type": "code",
      "metadata": {
        "id": "O2NQb1rWaNIC",
        "colab_type": "code",
        "colab": {
          "base_uri": "https://localhost:8080/",
          "height": 70
        },
        "outputId": "bfb096e8-1733-40e2-f0c1-28b3baa163b3"
      },
      "source": [
        "Y_test_long.shape\n",
        "modelSVR_long = SVR(C=100).fit(X_train,Y_train_long)\n"
      ],
      "execution_count": 69,
      "outputs": [
        {
          "output_type": "stream",
          "text": [
            "/usr/local/lib/python3.6/dist-packages/sklearn/utils/validation.py:760: DataConversionWarning: A column-vector y was passed when a 1d array was expected. Please change the shape of y to (n_samples, ), for example using ravel().\n",
            "  y = column_or_1d(y, warn=True)\n"
          ],
          "name": "stderr"
        }
      ]
    },
    {
      "cell_type": "code",
      "metadata": {
        "id": "Z3YPfpqraRIu",
        "colab_type": "code",
        "colab": {
          "base_uri": "https://localhost:8080/",
          "height": 33
        },
        "outputId": "5c0e4cf5-c60e-422f-ceb9-8de8c5695a6f"
      },
      "source": [
        "predictionsSVR_long = modelSVR_long.predict(X_test)\n",
        "Get_score(predictionsSVR_long,Y_test_long)\n"
      ],
      "execution_count": 70,
      "outputs": [
        {
          "output_type": "stream",
          "text": [
            "The Spearman's correlation coefficient is: 0.182\n"
          ],
          "name": "stdout"
        }
      ]
    },
    {
      "cell_type": "markdown",
      "metadata": {
        "id": "Qcjyea4Kaz-W",
        "colab_type": "text"
      },
      "source": [
        "##\t3.5 Decision Tree"
      ]
    },
    {
      "cell_type": "code",
      "metadata": {
        "id": "rTznllJMapp2",
        "colab_type": "code",
        "colab": {}
      },
      "source": [
        "from sklearn.tree import DecisionTreeRegressor"
      ],
      "execution_count": 0,
      "outputs": []
    },
    {
      "cell_type": "code",
      "metadata": {
        "id": "cNfBp7gma3uh",
        "colab_type": "code",
        "colab": {}
      },
      "source": [
        "regr = DecisionTreeRegressor(max_depth=10)\n",
        "regr.fit(X_train, Y_train)\n",
        "pred_test_dtr = regr.predict(X_test)\n"
      ],
      "execution_count": 0,
      "outputs": []
    },
    {
      "cell_type": "code",
      "metadata": {
        "id": "Ax4S7qO6a5wx",
        "colab_type": "code",
        "colab": {
          "base_uri": "https://localhost:8080/",
          "height": 50
        },
        "outputId": "5af186bd-24fc-4c4f-e31b-1a0c563cdf98"
      },
      "source": [
        "Get_score(pred_test_dtr, Y_test)"
      ],
      "execution_count": 73,
      "outputs": [
        {
          "output_type": "stream",
          "text": [
            "The Spearman's correlation coefficient is: 0.227\n",
            "The Spearman's correlation coefficient is: 0.103\n"
          ],
          "name": "stdout"
        }
      ]
    },
    {
      "cell_type": "markdown",
      "metadata": {
        "id": "BbLQkf5bbEHN",
        "colab_type": "text"
      },
      "source": [
        "#\t4. Predicting video memorability using Video features\n",
        "\n",
        "##\t4.1 Using C3D feature"
      ]
    },
    {
      "cell_type": "code",
      "metadata": {
        "id": "CIP7_hY_a77r",
        "colab_type": "code",
        "colab": {}
      },
      "source": [
        "def read_C3D(fname):\n",
        "    \"\"\"Scan vectors from file\"\"\"\n",
        "    with open(fname) as f:\n",
        "        for line in f:\n",
        "            C3D =[float(item) for item in line.split()] # convert to float type, using default separator\n",
        "    return C3D\n",
        "\n",
        "def vname2ID(vnames):\n",
        "    \"\"\"Parse video digital id from its name\n",
        "    vnames: a list contains file names\"\"\"\n",
        "    vid = [ os.path.splitext(vn)[0]+'.webm' for vn in vnames]\n",
        "    return vid\n"
      ],
      "execution_count": 0,
      "outputs": []
    },
    {
      "cell_type": "code",
      "metadata": {
        "id": "wT80orUKp5YC",
        "colab_type": "code",
        "colab": {}
      },
      "source": [
        "C3D_Feat_path = '/content/drive/My Drive/CA684_Assignment/Dev-set/'\n",
        "# Load video related features first\n",
        "# it helps with the organization of the video names\n",
        "vid = labels.video.values\n",
        "\n",
        "C3D_Features = pd.DataFrame({'video': vid,\n",
        "                   'C3D': [read_C3D(C3D_Feat_path+'C3D'+'/'+os.path.splitext(item)[0]+'.txt') for item in vid],\n",
        "                       })\n"
      ],
      "execution_count": 0,
      "outputs": []
    },
    {
      "cell_type": "code",
      "metadata": {
        "id": "5fTShAqz3NGz",
        "colab_type": "code",
        "colab": {}
      },
      "source": [
        "C3D_X = np.stack(C3D_Features['C3D'].values)\n",
        "C3D_Y = labels[['short-term_memorability','long-term_memorability']].values\n",
        "\n",
        "C3D_X_train, C3D_X_test, C3D_Y_train, C3D_Y_test = train_test_split(C3D_X,C3D_Y, test_size=0.2, random_state=42)\n"
      ],
      "execution_count": 0,
      "outputs": []
    },
    {
      "cell_type": "markdown",
      "metadata": {
        "id": "WefGSQ8k3gxq",
        "colab_type": "text"
      },
      "source": [
        "###\t4.1.1 Recurrent Neural Network"
      ]
    },
    {
      "cell_type": "code",
      "metadata": {
        "id": "2MQtwUap3ZqJ",
        "colab_type": "code",
        "colab": {
          "base_uri": "https://localhost:8080/",
          "height": 733
        },
        "outputId": "6ee88ef3-b6e7-4e7d-a188-351ccd129bda"
      },
      "source": [
        "C3D_model = Sequential()\n",
        "C3D_model.add(layers.Dense(200,activation='relu',kernel_regularizer=None,input_shape=(C3D_X.shape[1],)))\n",
        "C3D_model.add(layers.Dropout(0.1))\n",
        "C3D_model.add(layers.Dense(2,activation='sigmoid'))\n",
        "C3D_model.compile(optimizer='rmsprop',loss=['mae'])\n",
        "history=C3D_model.fit(x=C3D_X_train,y=C3D_Y_train,batch_size=50,epochs=20,validation_split=0.2,shuffle=True,verbose=True)\n",
        "C3D_Y_pred = C3D_model.predict(C3D_X_test)\n",
        "\n"
      ],
      "execution_count": 88,
      "outputs": [
        {
          "output_type": "stream",
          "text": [
            "Train on 3840 samples, validate on 960 samples\n",
            "Epoch 1/20\n",
            "3840/3840 [==============================] - 0s 92us/sample - loss: 0.1519 - val_loss: 0.0868\n",
            "Epoch 2/20\n",
            "3840/3840 [==============================] - 0s 41us/sample - loss: 0.0872 - val_loss: 0.0867\n",
            "Epoch 3/20\n",
            "3840/3840 [==============================] - 0s 38us/sample - loss: 0.0865 - val_loss: 0.0869\n",
            "Epoch 4/20\n",
            "3840/3840 [==============================] - 0s 39us/sample - loss: 0.0861 - val_loss: 0.0866\n",
            "Epoch 5/20\n",
            "3840/3840 [==============================] - 0s 42us/sample - loss: 0.0860 - val_loss: 0.0867\n",
            "Epoch 6/20\n",
            "3840/3840 [==============================] - 0s 39us/sample - loss: 0.0858 - val_loss: 0.0866\n",
            "Epoch 7/20\n",
            "3840/3840 [==============================] - 0s 37us/sample - loss: 0.0856 - val_loss: 0.0864\n",
            "Epoch 8/20\n",
            "3840/3840 [==============================] - 0s 40us/sample - loss: 0.0854 - val_loss: 0.0863\n",
            "Epoch 9/20\n",
            "3840/3840 [==============================] - 0s 38us/sample - loss: 0.0854 - val_loss: 0.0871\n",
            "Epoch 10/20\n",
            "3840/3840 [==============================] - 0s 38us/sample - loss: 0.0852 - val_loss: 0.0867\n",
            "Epoch 11/20\n",
            "3840/3840 [==============================] - 0s 39us/sample - loss: 0.0852 - val_loss: 0.0868\n",
            "Epoch 12/20\n",
            "3840/3840 [==============================] - 0s 39us/sample - loss: 0.0852 - val_loss: 0.0874\n",
            "Epoch 13/20\n",
            "3840/3840 [==============================] - 0s 38us/sample - loss: 0.0851 - val_loss: 0.0874\n",
            "Epoch 14/20\n",
            "3840/3840 [==============================] - 0s 38us/sample - loss: 0.0849 - val_loss: 0.0879\n",
            "Epoch 15/20\n",
            "3840/3840 [==============================] - 0s 38us/sample - loss: 0.0849 - val_loss: 0.0878\n",
            "Epoch 16/20\n",
            "3840/3840 [==============================] - 0s 39us/sample - loss: 0.0846 - val_loss: 0.0876\n",
            "Epoch 17/20\n",
            "3840/3840 [==============================] - 0s 41us/sample - loss: 0.0849 - val_loss: 0.0874\n",
            "Epoch 18/20\n",
            "3840/3840 [==============================] - 0s 38us/sample - loss: 0.0847 - val_loss: 0.0870\n",
            "Epoch 19/20\n",
            "3840/3840 [==============================] - 0s 40us/sample - loss: 0.0845 - val_loss: 0.0874\n",
            "Epoch 20/20\n",
            "3840/3840 [==============================] - 0s 38us/sample - loss: 0.0845 - val_loss: 0.0878\n",
            "The Spearman's correlation coefficient is: 0.280\n",
            "The Spearman's correlation coefficient is: 0.123\n"
          ],
          "name": "stdout"
        }
      ]
    },
    {
      "cell_type": "code",
      "metadata": {
        "id": "3SPAlH3g76wn",
        "colab_type": "code",
        "colab": {
          "base_uri": "https://localhost:8080/",
          "height": 50
        },
        "outputId": "4bbb2dac-1e3b-4b87-d8d0-5621162fafe1"
      },
      "source": [
        "Get_score(C3D_Y_pred,C3D_Y_test)"
      ],
      "execution_count": 89,
      "outputs": [
        {
          "output_type": "stream",
          "text": [
            "The Spearman's correlation coefficient is: 0.280\n",
            "The Spearman's correlation coefficient is: 0.123\n"
          ],
          "name": "stdout"
        }
      ]
    },
    {
      "cell_type": "markdown",
      "metadata": {
        "id": "vSV_da9j30sn",
        "colab_type": "text"
      },
      "source": [
        "###\t4.1.2 Random Forest"
      ]
    },
    {
      "cell_type": "code",
      "metadata": {
        "id": "7dmnF_BN3aGN",
        "colab_type": "code",
        "colab": {}
      },
      "source": [
        "from sklearn.ensemble import RandomForestRegressor\n",
        "C3D_clf = RandomForestRegressor()\n",
        "C3D_clf.fit(C3D_X_train,C3D_Y_train)\n",
        "pred_test_rfr = C3D_clf.predict(C3D_X_test)"
      ],
      "execution_count": 0,
      "outputs": []
    },
    {
      "cell_type": "code",
      "metadata": {
        "id": "1JHwi8ea7_xz",
        "colab_type": "code",
        "colab": {
          "base_uri": "https://localhost:8080/",
          "height": 50
        },
        "outputId": "408e70bc-ae29-4920-e8da-afd581743494"
      },
      "source": [
        "Get_score(pred_test_rfr, C3D_Y_test)"
      ],
      "execution_count": 91,
      "outputs": [
        {
          "output_type": "stream",
          "text": [
            "The Spearman's correlation coefficient is: 0.304\n",
            "The Spearman's correlation coefficient is: 0.091\n"
          ],
          "name": "stdout"
        }
      ]
    },
    {
      "cell_type": "markdown",
      "metadata": {
        "id": "Ki07VCst37I2",
        "colab_type": "text"
      },
      "source": [
        "##\t4.2 Using HMP feature"
      ]
    },
    {
      "cell_type": "code",
      "metadata": {
        "id": "6NCYiG2e3af7",
        "colab_type": "code",
        "colab": {}
      },
      "source": [
        "def read_HMP(fname):\n",
        "    \"\"\"Scan HMP(Histogram of Motion Patterns) features from file\"\"\"\n",
        "    with open(fname) as f:\n",
        "        for line in f:\n",
        "            pairs=line.split()\n",
        "            HMP_temp = { int(p.split(':')[0]) : float(p.split(':')[1]) for p in pairs}\n",
        "    # there are 6075 bins, fill zeros\n",
        "    HMP = np.zeros(6075)\n",
        "    for idx in HMP_temp.keys():\n",
        "        HMP[idx-1] = HMP_temp[idx]            \n",
        "    return HMP\n"
      ],
      "execution_count": 0,
      "outputs": []
    },
    {
      "cell_type": "code",
      "metadata": {
        "id": "hVyThjol4Bg_",
        "colab_type": "code",
        "colab": {}
      },
      "source": [
        "HMP_Feat_path = '/content/drive/My Drive/CA684_Assignment/Dev-set/'\n",
        "# Load video related features first\n",
        "# it helps with the organization of the video names\n",
        "vid = labels.video.values\n",
        "HMP_Features = pd.DataFrame({'video': vid,\n",
        "                   'HMP': [read_HMP(HMP_Feat_path+'HMP'+'/'+os.path.splitext(item)[0]+'.txt') for item in vid],\n",
        "                       })\n"
      ],
      "execution_count": 0,
      "outputs": []
    },
    {
      "cell_type": "code",
      "metadata": {
        "id": "QCMMmY914BoI",
        "colab_type": "code",
        "colab": {}
      },
      "source": [
        "HMP_X = np.stack(HMP_Features['HMP'].values)\n",
        "HMP_Y = labels[['short-term_memorability','long-term_memorability']].values\n",
        "HMP_X_train, HMP_X_test, HMP_Y_train, HMP_Y_test = train_test_split(HMP_X,HMP_Y, test_size=0.2, random_state=42)\n"
      ],
      "execution_count": 0,
      "outputs": []
    },
    {
      "cell_type": "code",
      "metadata": {
        "id": "RjmkpA4p4BxK",
        "colab_type": "code",
        "colab": {}
      },
      "source": [
        ""
      ],
      "execution_count": 0,
      "outputs": []
    },
    {
      "cell_type": "markdown",
      "metadata": {
        "id": "zNZ0bj_84COW",
        "colab_type": "text"
      },
      "source": [
        "###\t4.2.1 Recurrent Neural Network\n",
        "\n"
      ]
    },
    {
      "cell_type": "code",
      "metadata": {
        "id": "K5I6BR-J4Bth",
        "colab_type": "code",
        "colab": {
          "base_uri": "https://localhost:8080/",
          "height": 700
        },
        "outputId": "b18f7c4e-532f-489d-e747-7b775fa7dd57"
      },
      "source": [
        "HMP_model = Sequential()\n",
        "HMP_model.add(layers.Dense(200,activation='relu',kernel_regularizer=None,input_shape=(HMP_X.shape[1],)))\n",
        "HMP_model.add(layers.Dropout(0.1))\n",
        "HMP_model.add(layers.Dense(2,activation='sigmoid'))\n",
        "HMP_model.compile(optimizer='rmsprop',loss=['mae'])\n",
        "history=HMP_model.fit(x=HMP_X_train,y=HMP_Y_train,batch_size=50,epochs=20,validation_split=0.2,shuffle=True,verbose=True)\n",
        "HMP_Y_pred = HMP_model.predict(HMP_X_test)\n",
        "\n"
      ],
      "execution_count": 99,
      "outputs": [
        {
          "output_type": "stream",
          "text": [
            "Train on 3840 samples, validate on 960 samples\n",
            "Epoch 1/20\n",
            "3840/3840 [==============================] - 2s 427us/sample - loss: 0.1521 - val_loss: 0.0865\n",
            "Epoch 2/20\n",
            "3840/3840 [==============================] - 1s 359us/sample - loss: 0.0887 - val_loss: 0.0862\n",
            "Epoch 3/20\n",
            "3840/3840 [==============================] - 1s 353us/sample - loss: 0.0879 - val_loss: 0.0858\n",
            "Epoch 4/20\n",
            "3840/3840 [==============================] - 1s 360us/sample - loss: 0.0877 - val_loss: 0.0856\n",
            "Epoch 5/20\n",
            "3840/3840 [==============================] - 1s 366us/sample - loss: 0.0876 - val_loss: 0.0862\n",
            "Epoch 6/20\n",
            "3840/3840 [==============================] - 1s 362us/sample - loss: 0.0874 - val_loss: 0.0858\n",
            "Epoch 7/20\n",
            "3840/3840 [==============================] - 1s 358us/sample - loss: 0.0875 - val_loss: 0.0860\n",
            "Epoch 8/20\n",
            "3840/3840 [==============================] - 1s 358us/sample - loss: 0.0874 - val_loss: 0.0860\n",
            "Epoch 9/20\n",
            "3840/3840 [==============================] - 1s 360us/sample - loss: 0.0873 - val_loss: 0.0855\n",
            "Epoch 10/20\n",
            "3840/3840 [==============================] - 1s 354us/sample - loss: 0.0873 - val_loss: 0.0856\n",
            "Epoch 11/20\n",
            "3840/3840 [==============================] - 1s 353us/sample - loss: 0.0870 - val_loss: 0.0855\n",
            "Epoch 12/20\n",
            "3840/3840 [==============================] - 1s 343us/sample - loss: 0.0870 - val_loss: 0.0854\n",
            "Epoch 13/20\n",
            "3840/3840 [==============================] - 1s 382us/sample - loss: 0.0871 - val_loss: 0.0855\n",
            "Epoch 14/20\n",
            "3840/3840 [==============================] - 1s 387us/sample - loss: 0.0871 - val_loss: 0.0862\n",
            "Epoch 15/20\n",
            "3840/3840 [==============================] - 1s 373us/sample - loss: 0.0870 - val_loss: 0.0862\n",
            "Epoch 16/20\n",
            "3840/3840 [==============================] - 1s 391us/sample - loss: 0.0870 - val_loss: 0.0856\n",
            "Epoch 17/20\n",
            "3840/3840 [==============================] - 1s 389us/sample - loss: 0.0868 - val_loss: 0.0855\n",
            "Epoch 18/20\n",
            "3840/3840 [==============================] - 1s 378us/sample - loss: 0.0871 - val_loss: 0.0855\n",
            "Epoch 19/20\n",
            "3840/3840 [==============================] - 1s 381us/sample - loss: 0.0868 - val_loss: 0.0855\n",
            "Epoch 20/20\n",
            "3840/3840 [==============================] - 1s 384us/sample - loss: 0.0867 - val_loss: 0.0864\n"
          ],
          "name": "stdout"
        }
      ]
    },
    {
      "cell_type": "code",
      "metadata": {
        "id": "n_OFCBNdUh3h",
        "colab_type": "code",
        "colab": {
          "base_uri": "https://localhost:8080/",
          "height": 50
        },
        "outputId": "332da685-a395-499e-d178-a1acb54d0b4f"
      },
      "source": [
        "Get_score(HMP_Y_pred,HMP_Y_test)"
      ],
      "execution_count": 100,
      "outputs": [
        {
          "output_type": "stream",
          "text": [
            "The Spearman's correlation coefficient is: 0.279\n",
            "The Spearman's correlation coefficient is: 0.131\n"
          ],
          "name": "stdout"
        }
      ]
    },
    {
      "cell_type": "code",
      "metadata": {
        "id": "xADPLJaWWmBx",
        "colab_type": "code",
        "colab": {}
      },
      "source": [
        ""
      ],
      "execution_count": 0,
      "outputs": []
    },
    {
      "cell_type": "markdown",
      "metadata": {
        "id": "aqPN16OW4Yrp",
        "colab_type": "text"
      },
      "source": [
        "###\t4.2.2 Random Forest"
      ]
    },
    {
      "cell_type": "code",
      "metadata": {
        "id": "rPPg1vQQ4ZvM",
        "colab_type": "code",
        "colab": {}
      },
      "source": [
        "from sklearn.ensemble import RandomForestRegressor\n",
        "HMP_clf = RandomForestRegressor()\n",
        "HMP_clf.fit(HMP_X_train,HMP_Y_train)\n",
        "pred_test_rfr = HMP_clf.predict(HMP_X_test)\n",
        "\n"
      ],
      "execution_count": 0,
      "outputs": []
    },
    {
      "cell_type": "code",
      "metadata": {
        "id": "vHolYJTUWqqn",
        "colab_type": "code",
        "colab": {
          "base_uri": "https://localhost:8080/",
          "height": 50
        },
        "outputId": "97add0a2-9ec7-4e32-c652-889e6581746e"
      },
      "source": [
        "Get_score(pred_test_rfr, HMP_Y_test)"
      ],
      "execution_count": 102,
      "outputs": [
        {
          "output_type": "stream",
          "text": [
            "The Spearman's correlation coefficient is: 0.289\n",
            "The Spearman's correlation coefficient is: 0.141\n"
          ],
          "name": "stdout"
        }
      ]
    },
    {
      "cell_type": "markdown",
      "metadata": {
        "id": "1XSypAgP4kpi",
        "colab_type": "text"
      },
      "source": [
        "# 5. Final ground truth prediction-Test data"
      ]
    },
    {
      "cell_type": "code",
      "metadata": {
        "id": "oUmEeJMK4Z5h",
        "colab_type": "code",
        "colab": {}
      },
      "source": [
        "# load the captions\n",
        "#cap_path = '/media/win/Users/ecelab-adm/Desktop/DataSet_me18me/me18me-devset/dev-set/dev-set_video-captions.txt'\n",
        "cap_path = '/content/drive/My Drive/CA684_Assignment/Test-set/Captions_test/test-set-1_video-captions.txt'\n",
        "df_test=read_caps(cap_path)\n",
        "\n",
        "# load the ground truth values\n",
        "test_ground_truth=pd.read_csv('/content/drive/My Drive/CA684_Assignment/Test-set/Ground-truth_test/ground_truth_template.csv')\n",
        "\n",
        "df_test['caption'] = df_test['caption'].apply(strip_character)\n",
        "\n",
        "df_test['caption'] = df_test['caption'].apply(lambda x: ' '.join([item for item in x.split() if item not in stop]))\n",
        "df_test['caption'] = [''.join([WordNetLemmatizer().lemmatize(re.sub('[^A-Za-z]',' ',text)) for text in lis]) for lis in df_test['caption']]\n",
        "\n",
        "counts_test = Counter()\n",
        "for i, cap in enumerate(df_test['caption']):\n",
        "    counts_test.update(cap.split())\n"
      ],
      "execution_count": 0,
      "outputs": []
    },
    {
      "cell_type": "code",
      "metadata": {
        "id": "J4FKd-fM4aAZ",
        "colab_type": "code",
        "colab": {}
      },
      "source": [
        "vect_test = TfidfVectorizer(ngram_range = (1,4)).fit(df_test.caption)"
      ],
      "execution_count": 0,
      "outputs": []
    },
    {
      "cell_type": "code",
      "metadata": {
        "id": "sSO6ku1A4bAT",
        "colab_type": "code",
        "colab": {}
      },
      "source": [
        "# using the training data's words length for the testing as well to avoid the \n",
        "tokenizer_test = Tokenizer(num_words=len_token)\n",
        "tokenizer_test.fit_on_texts(list(vect_test.get_feature_names()))\n",
        "one_hot_res_test = tokenizer_test.texts_to_matrix(list(df_test.caption.values),mode='binary')\n",
        "X_testpredict = one_hot_res_test;"
      ],
      "execution_count": 0,
      "outputs": []
    },
    {
      "cell_type": "code",
      "metadata": {
        "id": "Wffi_VTb69wW",
        "colab_type": "code",
        "colab": {}
      },
      "source": [
        "\n",
        "np.ndim(one_hot_res_test)\n",
        "one_hot_res_test.shape\n",
        "testdata = test_ground_truth.copy()\n"
      ],
      "execution_count": 0,
      "outputs": []
    },
    {
      "cell_type": "markdown",
      "metadata": {
        "id": "0x7_jUvE4aXz",
        "colab_type": "text"
      },
      "source": [
        "## 5.1\tPredicting short-term memorability - using SVR"
      ]
    },
    {
      "cell_type": "code",
      "metadata": {
        "id": "gqYcWjPz7NPB",
        "colab_type": "code",
        "colab": {}
      },
      "source": [
        "testpredict_SVR_short = modelSVR_short.predict(X_testpredict)"
      ],
      "execution_count": 0,
      "outputs": []
    },
    {
      "cell_type": "code",
      "metadata": {
        "id": "mOq0BTCS7RGD",
        "colab_type": "code",
        "colab": {}
      },
      "source": [
        "testpredict_SVR_short.shape\n",
        "type(testpredict_SVR_short)\n",
        "testdata['short-term_memorability'] = testpredict_SVR_short\n"
      ],
      "execution_count": 0,
      "outputs": []
    },
    {
      "cell_type": "markdown",
      "metadata": {
        "id": "_CWoN3e_4lSE",
        "colab_type": "text"
      },
      "source": [
        "## 5.2 Predicting long-term memorability - using Random Forest"
      ]
    },
    {
      "cell_type": "code",
      "metadata": {
        "id": "-32sYbOS4a9Z",
        "colab_type": "code",
        "colab": {}
      },
      "source": [
        "testpredict_RFR_long = rf3.predict(X_testpredict)"
      ],
      "execution_count": 0,
      "outputs": []
    },
    {
      "cell_type": "code",
      "metadata": {
        "id": "s8l5ZwXK7ZFL",
        "colab_type": "code",
        "colab": {}
      },
      "source": [
        "testdata['long-term_memorability'] = testpredict_RFR_long[:,1]"
      ],
      "execution_count": 0,
      "outputs": []
    },
    {
      "cell_type": "code",
      "metadata": {
        "id": "FD4k68Yt7ZCL",
        "colab_type": "code",
        "colab": {
          "base_uri": "https://localhost:8080/",
          "height": 197
        },
        "outputId": "9d7d9097-071a-49c7-924e-2e62e7bb620f"
      },
      "source": [
        "testdata.tail()"
      ],
      "execution_count": 111,
      "outputs": [
        {
          "output_type": "execute_result",
          "data": {
            "text/html": [
              "<div>\n",
              "<style scoped>\n",
              "    .dataframe tbody tr th:only-of-type {\n",
              "        vertical-align: middle;\n",
              "    }\n",
              "\n",
              "    .dataframe tbody tr th {\n",
              "        vertical-align: top;\n",
              "    }\n",
              "\n",
              "    .dataframe thead th {\n",
              "        text-align: right;\n",
              "    }\n",
              "</style>\n",
              "<table border=\"1\" class=\"dataframe\">\n",
              "  <thead>\n",
              "    <tr style=\"text-align: right;\">\n",
              "      <th></th>\n",
              "      <th>video</th>\n",
              "      <th>short-term_memorability</th>\n",
              "      <th>nb_short-term_annotations</th>\n",
              "      <th>long-term_memorability</th>\n",
              "      <th>nb_long-term_annotations</th>\n",
              "    </tr>\n",
              "  </thead>\n",
              "  <tbody>\n",
              "    <tr>\n",
              "      <th>1995</th>\n",
              "      <td>10004</td>\n",
              "      <td>0.821670</td>\n",
              "      <td>34</td>\n",
              "      <td>0.737700</td>\n",
              "      <td>17</td>\n",
              "    </tr>\n",
              "    <tr>\n",
              "      <th>1996</th>\n",
              "      <td>10005</td>\n",
              "      <td>0.818239</td>\n",
              "      <td>34</td>\n",
              "      <td>0.777900</td>\n",
              "      <td>9</td>\n",
              "    </tr>\n",
              "    <tr>\n",
              "      <th>1997</th>\n",
              "      <td>10006</td>\n",
              "      <td>0.833838</td>\n",
              "      <td>34</td>\n",
              "      <td>0.796867</td>\n",
              "      <td>12</td>\n",
              "    </tr>\n",
              "    <tr>\n",
              "      <th>1998</th>\n",
              "      <td>10007</td>\n",
              "      <td>0.854636</td>\n",
              "      <td>34</td>\n",
              "      <td>0.820600</td>\n",
              "      <td>12</td>\n",
              "    </tr>\n",
              "    <tr>\n",
              "      <th>1999</th>\n",
              "      <td>10008</td>\n",
              "      <td>0.848433</td>\n",
              "      <td>33</td>\n",
              "      <td>0.866900</td>\n",
              "      <td>10</td>\n",
              "    </tr>\n",
              "  </tbody>\n",
              "</table>\n",
              "</div>"
            ],
            "text/plain": [
              "      video  ...  nb_long-term_annotations\n",
              "1995  10004  ...                        17\n",
              "1996  10005  ...                         9\n",
              "1997  10006  ...                        12\n",
              "1998  10007  ...                        12\n",
              "1999  10008  ...                        10\n",
              "\n",
              "[5 rows x 5 columns]"
            ]
          },
          "metadata": {
            "tags": []
          },
          "execution_count": 111
        }
      ]
    },
    {
      "cell_type": "markdown",
      "metadata": {
        "id": "1ADrPpPr7fII",
        "colab_type": "text"
      },
      "source": [
        "# 6.Saving the final submission file"
      ]
    },
    {
      "cell_type": "code",
      "metadata": {
        "id": "J_hodP_W7fYz",
        "colab_type": "code",
        "colab": {}
      },
      "source": [
        "testdata.to_csv('/content/drive/My Drive/finalgroundTruth_test.csv', encoding='utf-8', index=False)"
      ],
      "execution_count": 0,
      "outputs": []
    }
  ]
}