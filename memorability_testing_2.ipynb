{
  "nbformat": 4,
  "nbformat_minor": 0,
  "metadata": {
    "kernelspec": {
      "display_name": "Python 3",
      "language": "python",
      "name": "python3"
    },
    "language_info": {
      "codemirror_mode": {
        "name": "ipython",
        "version": 3
      },
      "file_extension": ".py",
      "mimetype": "text/x-python",
      "name": "python",
      "nbconvert_exporter": "python",
      "pygments_lexer": "ipython3",
      "version": "3.7.1"
    },
    "colab": {
      "name": " memorability_testing-2.ipynb",
      "provenance": [],
      "collapsed_sections": [
        "lFlNUeX30w6P",
        "FPF-yzWMkffp",
        "MMMtSw_Qxdgg",
        "iUQVl2FWRtM8",
        "zG9wLVd6n73y",
        "C6g9rYlFSfsk",
        "T24E7kcKTKRQ",
        "Or-P1vNIjMvw",
        "AA10z6XeYm5L",
        "yQIso2p6Z-Qi",
        "l1EJUDuWZ-Qs"
      ],
      "toc_visible": true,
      "include_colab_link": true
    }
  },
  "cells": [
    {
      "cell_type": "markdown",
      "metadata": {
        "id": "view-in-github",
        "colab_type": "text"
      },
      "source": [
        "<a href=\"https://colab.research.google.com/github/ShamsulAbedin/CA684I/blob/master/memorability_testing_2.ipynb\" target=\"_parent\"><img src=\"https://colab.research.google.com/assets/colab-badge.svg\" alt=\"Open In Colab\"/></a>"
      ]
    },
    {
      "cell_type": "markdown",
      "metadata": {
        "id": "5aBBzzQlxdga",
        "colab_type": "text"
      },
      "source": [
        "# Predicting Media Memorability: MediaEval 2018\n",
        "\n",
        "[MediaEval](http://www.multimediaeval.org) is Benchmarking Initiative for Multimedia Evaluation. Every year they organize competetions with new datasets and Machine learning tasks. Predicting video memorability is one of the tasks in 2018.\n",
        "\n",
        "**Task description:** Participants are expected to build systems that are capable of predicting how memorable a video is, by computing for each video a memorability score.\n",
        "\n",
        "\n",
        "Reference: http://ceur-ws.org/Vol-2283/MediaEval_18_paper_1.pdf\n",
        "<a id='contact_details'></a>"
      ]
    },
    {
      "cell_type": "markdown",
      "metadata": {
        "id": "h9g7FFrXxdgc",
        "colab_type": "text"
      },
      "source": [
        "# How this Notebook is divided?\n",
        "\n",
        "This notebook is organized as follows:\n",
        "\n",
        "* 1 [Function Definitions](#section1)\n",
        "\n",
        "\n",
        "* 2 [Loading Features](#section2)\n",
        "\n",
        "\n",
        "* 3 [Data Preprocessing](#section3)\n",
        "\n",
        "\n",
        "* 4 [Experiments with different Machine Learning models and features/combinations](#section4)\n",
        "  *  4.1: [Random Forest with Captions](#section4.1)\n",
        "  *  4.2: [SVR with Captions](#section4.2)\n",
        "  *  4.3: [Random Forest with C3D](#section4.3)\n",
        "  *  4.4: [SVR with C3D](#section4.4)\n",
        "  *  4.5: [Random Forest with Captions+C3D](#section4.5)\n",
        "  *  4.6: [SVR with Captions+C3D](#section4.6)\n",
        "  *  4.7: [Random Forest with Captions+C3D+HMP](#section4.7)\n",
        "  *  4.8: [SVR with Captions+C3D+HMP](#section4.8)\n",
        "  \n",
        "  \n",
        "* 5 [Selecting the best model with features](#section5)\n",
        "\n",
        "\n",
        "* 6 [Predicting the Memorability scores on Test-Set](#section7)\n",
        "  * 6.1:  [Training full 6000 Dev-Set](#section7.1)\n",
        "  * 6.2:  [Importing Test Datasets and Captions](#section7.2)\n",
        "  * 6.3:  [Predicting the Scores and Exporting the Results](#section7.3)\n",
        "\n"
      ]
    },
    {
      "cell_type": "markdown",
      "metadata": {
        "id": "lFlNUeX30w6P",
        "colab_type": "text"
      },
      "source": [
        "#1 Loading Package & Libraries"
      ]
    },
    {
      "cell_type": "markdown",
      "metadata": {
        "id": "eUEnWtVHjTfW",
        "colab_type": "text"
      },
      "source": [
        "## 1.1 : Installing packages"
      ]
    },
    {
      "cell_type": "code",
      "metadata": {
        "id": "v-Lw7R5WKRaj",
        "colab_type": "code",
        "outputId": "70abd507-5948-4a28-9855-c50ad9056ca4",
        "colab": {
          "base_uri": "https://localhost:8080/",
          "height": 646
        }
      },
      "source": [
        "!pip install tensorflow==1.14"
      ],
      "execution_count": 9,
      "outputs": [
        {
          "output_type": "stream",
          "text": [
            "Collecting tensorflow==1.14\n",
            "\u001b[?25l  Downloading https://files.pythonhosted.org/packages/de/f0/96fb2e0412ae9692dbf400e5b04432885f677ad6241c088ccc5fe7724d69/tensorflow-1.14.0-cp36-cp36m-manylinux1_x86_64.whl (109.2MB)\n",
            "\u001b[K     |████████████████████████████████| 109.2MB 80kB/s \n",
            "\u001b[?25hRequirement already satisfied: wrapt>=1.11.1 in /usr/local/lib/python3.6/dist-packages (from tensorflow==1.14) (1.12.1)\n",
            "Requirement already satisfied: gast>=0.2.0 in /usr/local/lib/python3.6/dist-packages (from tensorflow==1.14) (0.3.3)\n",
            "Requirement already satisfied: termcolor>=1.1.0 in /usr/local/lib/python3.6/dist-packages (from tensorflow==1.14) (1.1.0)\n",
            "Requirement already satisfied: protobuf>=3.6.1 in /usr/local/lib/python3.6/dist-packages (from tensorflow==1.14) (3.10.0)\n",
            "Requirement already satisfied: absl-py>=0.7.0 in /usr/local/lib/python3.6/dist-packages (from tensorflow==1.14) (0.9.0)\n",
            "Collecting tensorflow-estimator<1.15.0rc0,>=1.14.0rc0\n",
            "\u001b[?25l  Downloading https://files.pythonhosted.org/packages/3c/d5/21860a5b11caf0678fbc8319341b0ae21a07156911132e0e71bffed0510d/tensorflow_estimator-1.14.0-py2.py3-none-any.whl (488kB)\n",
            "\u001b[K     |████████████████████████████████| 491kB 43.5MB/s \n",
            "\u001b[?25hRequirement already satisfied: grpcio>=1.8.6 in /usr/local/lib/python3.6/dist-packages (from tensorflow==1.14) (1.28.1)\n",
            "Requirement already satisfied: google-pasta>=0.1.6 in /usr/local/lib/python3.6/dist-packages (from tensorflow==1.14) (0.2.0)\n",
            "Requirement already satisfied: keras-preprocessing>=1.0.5 in /usr/local/lib/python3.6/dist-packages (from tensorflow==1.14) (1.1.0)\n",
            "Collecting tensorboard<1.15.0,>=1.14.0\n",
            "\u001b[?25l  Downloading https://files.pythonhosted.org/packages/91/2d/2ed263449a078cd9c8a9ba50ebd50123adf1f8cfbea1492f9084169b89d9/tensorboard-1.14.0-py3-none-any.whl (3.1MB)\n",
            "\u001b[K     |████████████████████████████████| 3.2MB 44.6MB/s \n",
            "\u001b[?25hRequirement already satisfied: wheel>=0.26 in /usr/local/lib/python3.6/dist-packages (from tensorflow==1.14) (0.34.2)\n",
            "Requirement already satisfied: numpy<2.0,>=1.14.5 in /usr/local/lib/python3.6/dist-packages (from tensorflow==1.14) (1.18.3)\n",
            "Requirement already satisfied: astor>=0.6.0 in /usr/local/lib/python3.6/dist-packages (from tensorflow==1.14) (0.8.1)\n",
            "Requirement already satisfied: keras-applications>=1.0.6 in /usr/local/lib/python3.6/dist-packages (from tensorflow==1.14) (1.0.8)\n",
            "Requirement already satisfied: six>=1.10.0 in /usr/local/lib/python3.6/dist-packages (from tensorflow==1.14) (1.12.0)\n",
            "Requirement already satisfied: setuptools in /usr/local/lib/python3.6/dist-packages (from protobuf>=3.6.1->tensorflow==1.14) (46.1.3)\n",
            "Requirement already satisfied: werkzeug>=0.11.15 in /usr/local/lib/python3.6/dist-packages (from tensorboard<1.15.0,>=1.14.0->tensorflow==1.14) (1.0.1)\n",
            "Requirement already satisfied: markdown>=2.6.8 in /usr/local/lib/python3.6/dist-packages (from tensorboard<1.15.0,>=1.14.0->tensorflow==1.14) (3.2.1)\n",
            "Requirement already satisfied: h5py in /usr/local/lib/python3.6/dist-packages (from keras-applications>=1.0.6->tensorflow==1.14) (2.10.0)\n",
            "Installing collected packages: tensorflow-estimator, tensorboard, tensorflow\n",
            "  Found existing installation: tensorflow-estimator 2.2.0\n",
            "    Uninstalling tensorflow-estimator-2.2.0:\n",
            "      Successfully uninstalled tensorflow-estimator-2.2.0\n",
            "  Found existing installation: tensorboard 2.2.1\n",
            "    Uninstalling tensorboard-2.2.1:\n",
            "      Successfully uninstalled tensorboard-2.2.1\n",
            "  Found existing installation: tensorflow 2.2.0rc3\n",
            "    Uninstalling tensorflow-2.2.0rc3:\n",
            "      Successfully uninstalled tensorflow-2.2.0rc3\n",
            "Successfully installed tensorboard-1.14.0 tensorflow-1.14.0 tensorflow-estimator-1.14.0\n"
          ],
          "name": "stdout"
        }
      ]
    },
    {
      "cell_type": "code",
      "metadata": {
        "id": "7w6EEiXnK_NK",
        "colab_type": "code",
        "outputId": "27fb6115-1daf-4bbe-def7-3d37686df87e",
        "colab": {
          "base_uri": "https://localhost:8080/",
          "height": 187
        }
      },
      "source": [
        "!pip show tensorflow"
      ],
      "execution_count": 0,
      "outputs": [
        {
          "output_type": "stream",
          "text": [
            "Name: tensorflow\n",
            "Version: 1.14.0\n",
            "Summary: TensorFlow is an open source machine learning framework for everyone.\n",
            "Home-page: https://www.tensorflow.org/\n",
            "Author: Google Inc.\n",
            "Author-email: packages@tensorflow.org\n",
            "License: Apache 2.0\n",
            "Location: /usr/local/lib/python3.6/dist-packages\n",
            "Requires: six, keras-applications, tensorflow-estimator, grpcio, protobuf, termcolor, tensorboard, numpy, gast, astor, absl-py, google-pasta, wrapt, keras-preprocessing, wheel\n",
            "Required-by: fancyimpute\n"
          ],
          "name": "stdout"
        }
      ]
    },
    {
      "cell_type": "code",
      "metadata": {
        "id": "BUYUexVNKjRA",
        "colab_type": "code",
        "outputId": "861bf27b-fb54-424d-9096-560c7be41572",
        "colab": {
          "base_uri": "https://localhost:8080/",
          "height": 221
        }
      },
      "source": [
        "!pip install pyprind\n",
        "!pip install keras"
      ],
      "execution_count": 10,
      "outputs": [
        {
          "output_type": "stream",
          "text": [
            "Collecting pyprind\n",
            "  Downloading https://files.pythonhosted.org/packages/1e/30/e76fb0c45da8aef49ea8d2a90d4e7a6877b45894c25f12fb961f009a891e/PyPrind-2.11.2-py3-none-any.whl\n",
            "Installing collected packages: pyprind\n",
            "Successfully installed pyprind-2.11.2\n",
            "Requirement already satisfied: keras in /usr/local/lib/python3.6/dist-packages (2.3.1)\n",
            "Requirement already satisfied: pyyaml in /usr/local/lib/python3.6/dist-packages (from keras) (3.13)\n",
            "Requirement already satisfied: keras-applications>=1.0.6 in /usr/local/lib/python3.6/dist-packages (from keras) (1.0.8)\n",
            "Requirement already satisfied: h5py in /usr/local/lib/python3.6/dist-packages (from keras) (2.10.0)\n",
            "Requirement already satisfied: scipy>=0.14 in /usr/local/lib/python3.6/dist-packages (from keras) (1.4.1)\n",
            "Requirement already satisfied: keras-preprocessing>=1.0.5 in /usr/local/lib/python3.6/dist-packages (from keras) (1.1.0)\n",
            "Requirement already satisfied: six>=1.9.0 in /usr/local/lib/python3.6/dist-packages (from keras) (1.12.0)\n",
            "Requirement already satisfied: numpy>=1.9.1 in /usr/local/lib/python3.6/dist-packages (from keras) (1.18.3)\n"
          ],
          "name": "stdout"
        }
      ]
    },
    {
      "cell_type": "markdown",
      "metadata": {
        "id": "Hk0JUUTIjeoe",
        "colab_type": "text"
      },
      "source": [
        "## 1.2 : Inporting Libraries"
      ]
    },
    {
      "cell_type": "code",
      "metadata": {
        "id": "MhVZPw_7KkSE",
        "colab_type": "code",
        "colab": {}
      },
      "source": [
        "import pandas as pd\n",
        "\n",
        "import numpy as np\n",
        "from string import punctuation\n",
        "import matplotlib.pyplot as plt\n",
        "from sklearn.model_selection import train_test_split\n",
        "import matplotlib.pyplot as plt\n",
        "import os\n",
        "import glob\n",
        "import nltk"
      ],
      "execution_count": 0,
      "outputs": []
    },
    {
      "cell_type": "code",
      "metadata": {
        "id": "MWzlRtn9LS0o",
        "colab_type": "code",
        "outputId": "1145d048-5e88-4c1c-b3f1-42280aabc40f",
        "colab": {
          "base_uri": "https://localhost:8080/",
          "height": 462
        }
      },
      "source": [
        "from keras import Sequential\n",
        "from keras import layers\n",
        "from keras import regularizers\n",
        "import tensorflow\n",
        "from tensorflow.python.keras import Sequential\n",
        "from tensorflow.python.keras import layers\n",
        "from tensorflow.python.keras import regularizers\n",
        "from tensorflow.python.keras.preprocessing.text import Tokenizer\n",
        "import pyprind\n",
        "from collections import Counter\n",
        "from keras.preprocessing.text import Tokenizer\n",
        "from sklearn.model_selection import train_test_split"
      ],
      "execution_count": 12,
      "outputs": [
        {
          "output_type": "stream",
          "text": [
            "Using TensorFlow backend.\n",
            "/usr/local/lib/python3.6/dist-packages/tensorflow/python/framework/dtypes.py:516: FutureWarning: Passing (type, 1) or '1type' as a synonym of type is deprecated; in a future version of numpy, it will be understood as (type, (1,)) / '(1,)type'.\n",
            "  _np_qint8 = np.dtype([(\"qint8\", np.int8, 1)])\n",
            "/usr/local/lib/python3.6/dist-packages/tensorflow/python/framework/dtypes.py:517: FutureWarning: Passing (type, 1) or '1type' as a synonym of type is deprecated; in a future version of numpy, it will be understood as (type, (1,)) / '(1,)type'.\n",
            "  _np_quint8 = np.dtype([(\"quint8\", np.uint8, 1)])\n",
            "/usr/local/lib/python3.6/dist-packages/tensorflow/python/framework/dtypes.py:518: FutureWarning: Passing (type, 1) or '1type' as a synonym of type is deprecated; in a future version of numpy, it will be understood as (type, (1,)) / '(1,)type'.\n",
            "  _np_qint16 = np.dtype([(\"qint16\", np.int16, 1)])\n",
            "/usr/local/lib/python3.6/dist-packages/tensorflow/python/framework/dtypes.py:519: FutureWarning: Passing (type, 1) or '1type' as a synonym of type is deprecated; in a future version of numpy, it will be understood as (type, (1,)) / '(1,)type'.\n",
            "  _np_quint16 = np.dtype([(\"quint16\", np.uint16, 1)])\n",
            "/usr/local/lib/python3.6/dist-packages/tensorflow/python/framework/dtypes.py:520: FutureWarning: Passing (type, 1) or '1type' as a synonym of type is deprecated; in a future version of numpy, it will be understood as (type, (1,)) / '(1,)type'.\n",
            "  _np_qint32 = np.dtype([(\"qint32\", np.int32, 1)])\n",
            "/usr/local/lib/python3.6/dist-packages/tensorflow/python/framework/dtypes.py:525: FutureWarning: Passing (type, 1) or '1type' as a synonym of type is deprecated; in a future version of numpy, it will be understood as (type, (1,)) / '(1,)type'.\n",
            "  np_resource = np.dtype([(\"resource\", np.ubyte, 1)])\n",
            "/usr/local/lib/python3.6/dist-packages/tensorboard/compat/tensorflow_stub/dtypes.py:541: FutureWarning: Passing (type, 1) or '1type' as a synonym of type is deprecated; in a future version of numpy, it will be understood as (type, (1,)) / '(1,)type'.\n",
            "  _np_qint8 = np.dtype([(\"qint8\", np.int8, 1)])\n",
            "/usr/local/lib/python3.6/dist-packages/tensorboard/compat/tensorflow_stub/dtypes.py:542: FutureWarning: Passing (type, 1) or '1type' as a synonym of type is deprecated; in a future version of numpy, it will be understood as (type, (1,)) / '(1,)type'.\n",
            "  _np_quint8 = np.dtype([(\"quint8\", np.uint8, 1)])\n",
            "/usr/local/lib/python3.6/dist-packages/tensorboard/compat/tensorflow_stub/dtypes.py:543: FutureWarning: Passing (type, 1) or '1type' as a synonym of type is deprecated; in a future version of numpy, it will be understood as (type, (1,)) / '(1,)type'.\n",
            "  _np_qint16 = np.dtype([(\"qint16\", np.int16, 1)])\n",
            "/usr/local/lib/python3.6/dist-packages/tensorboard/compat/tensorflow_stub/dtypes.py:544: FutureWarning: Passing (type, 1) or '1type' as a synonym of type is deprecated; in a future version of numpy, it will be understood as (type, (1,)) / '(1,)type'.\n",
            "  _np_quint16 = np.dtype([(\"quint16\", np.uint16, 1)])\n",
            "/usr/local/lib/python3.6/dist-packages/tensorboard/compat/tensorflow_stub/dtypes.py:545: FutureWarning: Passing (type, 1) or '1type' as a synonym of type is deprecated; in a future version of numpy, it will be understood as (type, (1,)) / '(1,)type'.\n",
            "  _np_qint32 = np.dtype([(\"qint32\", np.int32, 1)])\n",
            "/usr/local/lib/python3.6/dist-packages/tensorboard/compat/tensorflow_stub/dtypes.py:550: FutureWarning: Passing (type, 1) or '1type' as a synonym of type is deprecated; in a future version of numpy, it will be understood as (type, (1,)) / '(1,)type'.\n",
            "  np_resource = np.dtype([(\"resource\", np.ubyte, 1)])\n"
          ],
          "name": "stderr"
        }
      ]
    },
    {
      "cell_type": "code",
      "metadata": {
        "id": "SB-53Di9K1oO",
        "colab_type": "code",
        "colab": {}
      },
      "source": [
        "# for reproducability\n",
        "from numpy.random import seed\n",
        "seed(1)"
      ],
      "execution_count": 0,
      "outputs": []
    },
    {
      "cell_type": "code",
      "metadata": {
        "id": "sSupbppgK9Xw",
        "colab_type": "code",
        "colab": {}
      },
      "source": [
        "import tensorflow\n",
        "from tensorflow import set_random_seed\n",
        "tensorflow.set_random_seed(1)"
      ],
      "execution_count": 0,
      "outputs": []
    },
    {
      "cell_type": "markdown",
      "metadata": {
        "id": "7L_RHoHDxdg4",
        "colab_type": "text"
      },
      "source": [
        "## 3: DATA PREPROCESSING"
      ]
    },
    {
      "cell_type": "markdown",
      "metadata": {
        "id": "Wt7Hsdcgxdg5",
        "colab_type": "text"
      },
      "source": [
        "**Captions: Bag of words CountVectorizer**"
      ]
    },
    {
      "cell_type": "markdown",
      "metadata": {
        "id": "zJqEzHrSxdg5",
        "colab_type": "text"
      },
      "source": [
        "We have loaded both Development set Captions and Test set Captions in two seperate variables. I will be combining both of these to a single variable and implement CountVectorizer.\n",
        "\n",
        "The reaseon behind this is, initially both were seperately vectorized and later we faced dimensions issues when trying to predict the test set scores.\n",
        "\n",
        "For training I will be using only first 6000 captions by splitting and rest 2000 will be used for prediction."
      ]
    },
    {
      "cell_type": "code",
      "metadata": {
        "id": "zjTC543Yxdg6",
        "colab_type": "code",
        "outputId": "6b9c391b-0767-4a52-e375-7cf5df6fe1c6",
        "colab": {
          "base_uri": "https://localhost:8080/",
          "height": 68
        }
      },
      "source": [
        "#loading the nltk stopwords of English\n",
        "import nltk\n",
        "nltk.download('stopwords')\n",
        "\n",
        "\n",
        "stopwords = nltk.corpus.stopwords.words('english')\n",
        "print(f'Length of Stopwords: {len(stopwords)}')"
      ],
      "execution_count": 0,
      "outputs": [
        {
          "output_type": "stream",
          "text": [
            "[nltk_data] Downloading package stopwords to /root/nltk_data...\n",
            "[nltk_data]   Unzipping corpora/stopwords.zip.\n",
            "Length of Stopwords: 179\n"
          ],
          "name": "stdout"
        }
      ]
    },
    {
      "cell_type": "markdown",
      "metadata": {
        "id": "83Nsvpqoxdg8",
        "colab_type": "text"
      },
      "source": [
        "Cleaning Development set Captions"
      ]
    },
    {
      "cell_type": "code",
      "metadata": {
        "id": "AeJm90znxdg9",
        "colab_type": "code",
        "outputId": "22265b36-7cf1-4b16-d227-294d1e778b5e",
        "colab": {
          "base_uri": "https://localhost:8080/",
          "height": 68
        }
      },
      "source": [
        "#Removing punctuations and stop words from captions\n",
        "# setup prograss tracker\n",
        "pbar = pyprind.ProgBar(len(captions['caption']), title='Counting word occurrences')\n",
        "for i, cap in enumerate(captions['caption']):\n",
        "    # replace punctuations with space\n",
        "    # convert words to lower case \n",
        "    text = ''.join([c if c not in punctuation else ' ' for c in cap]).lower()\n",
        "    #removing stopwords\n",
        "    rmv_stopwords= ' '.join([word for word in text.split() if word not in stopwords])\n",
        "    captions.loc[i,'caption'] = rmv_stopwords #updating the original captions \n",
        "    pbar.update()"
      ],
      "execution_count": 0,
      "outputs": [
        {
          "output_type": "stream",
          "text": [
            "Counting word occurrences\n",
            "0% [##############################] 100% | ETA: 00:00:00\n",
            "Total time elapsed: 00:00:01\n"
          ],
          "name": "stderr"
        }
      ]
    },
    {
      "cell_type": "code",
      "metadata": {
        "id": "mIF6U_PcxdhB",
        "colab_type": "code",
        "outputId": "3509ee98-168a-4277-e8ed-0eb9d1f6b816",
        "colab": {
          "base_uri": "https://localhost:8080/",
          "height": 204
        }
      },
      "source": [
        "captions.head()"
      ],
      "execution_count": 0,
      "outputs": [
        {
          "output_type": "execute_result",
          "data": {
            "text/html": [
              "<div>\n",
              "<style scoped>\n",
              "    .dataframe tbody tr th:only-of-type {\n",
              "        vertical-align: middle;\n",
              "    }\n",
              "\n",
              "    .dataframe tbody tr th {\n",
              "        vertical-align: top;\n",
              "    }\n",
              "\n",
              "    .dataframe thead th {\n",
              "        text-align: right;\n",
              "    }\n",
              "</style>\n",
              "<table border=\"1\" class=\"dataframe\">\n",
              "  <thead>\n",
              "    <tr style=\"text-align: right;\">\n",
              "      <th></th>\n",
              "      <th>video</th>\n",
              "      <th>caption</th>\n",
              "    </tr>\n",
              "  </thead>\n",
              "  <tbody>\n",
              "    <tr>\n",
              "      <th>0</th>\n",
              "      <td>video3.webm</td>\n",
              "      <td>blonde woman massaged tilt</td>\n",
              "    </tr>\n",
              "    <tr>\n",
              "      <th>1</th>\n",
              "      <td>video4.webm</td>\n",
              "      <td>roulette table spinning ball closeup shot</td>\n",
              "    </tr>\n",
              "    <tr>\n",
              "      <th>2</th>\n",
              "      <td>video6.webm</td>\n",
              "      <td>khr gangsters</td>\n",
              "    </tr>\n",
              "    <tr>\n",
              "      <th>3</th>\n",
              "      <td>video8.webm</td>\n",
              "      <td>medical helicopter hovers airport</td>\n",
              "    </tr>\n",
              "    <tr>\n",
              "      <th>4</th>\n",
              "      <td>video10.webm</td>\n",
              "      <td>couple relaxing picnic crane shot</td>\n",
              "    </tr>\n",
              "  </tbody>\n",
              "</table>\n",
              "</div>"
            ],
            "text/plain": [
              "          video                                    caption\n",
              "0   video3.webm                 blonde woman massaged tilt\n",
              "1   video4.webm  roulette table spinning ball closeup shot\n",
              "2   video6.webm                              khr gangsters\n",
              "3   video8.webm          medical helicopter hovers airport\n",
              "4  video10.webm          couple relaxing picnic crane shot"
            ]
          },
          "metadata": {
            "tags": []
          },
          "execution_count": 26
        }
      ]
    },
    {
      "cell_type": "code",
      "metadata": {
        "id": "MrgdVetexdhG",
        "colab_type": "code",
        "outputId": "086c0f88-ab42-446e-fde4-0aeff7c6180f",
        "colab": {
          "base_uri": "https://localhost:8080/",
          "height": 34
        }
      },
      "source": [
        "#implementing bag of words for the combined captions\n",
        "from sklearn.feature_extraction.text import CountVectorizer\n",
        "vectorizer = CountVectorizer(analyzer = \"word\",max_features=3112) \n",
        "captions_bag = vectorizer.fit_transform(captions.caption).toarray()\n",
        "type(captions_bag)"
      ],
      "execution_count": 0,
      "outputs": [
        {
          "output_type": "execute_result",
          "data": {
            "text/plain": [
              "numpy.ndarray"
            ]
          },
          "metadata": {
            "tags": []
          },
          "execution_count": 27
        }
      ]
    },
    {
      "cell_type": "code",
      "metadata": {
        "id": "K2R48H1JxdhI",
        "colab_type": "code",
        "outputId": "b7c59c45-ee58-4996-b05d-05dbefedfa01",
        "colab": {
          "base_uri": "https://localhost:8080/",
          "height": 34
        }
      },
      "source": [
        "captions_bag.shape"
      ],
      "execution_count": 0,
      "outputs": [
        {
          "output_type": "execute_result",
          "data": {
            "text/plain": [
              "(6000, 3112)"
            ]
          },
          "metadata": {
            "tags": []
          },
          "execution_count": 29
        }
      ]
    },
    {
      "cell_type": "markdown",
      "metadata": {
        "id": "h6zEdsopxdhK",
        "colab_type": "text"
      },
      "source": [
        "**Combining Captions and C3D into a single Vector**"
      ]
    },
    {
      "cell_type": "code",
      "metadata": {
        "id": "0nBbHTlaxdhL",
        "colab_type": "code",
        "colab": {}
      },
      "source": [
        "captions_c3d = (captions_bag.tolist())\n",
        "counter = 0\n",
        "for item in range(6000):\n",
        "    captions_c3d[counter] = np.append(captions_c3d[counter],c3dfeatures[counter],axis=0)\n",
        "    counter = counter+1"
      ],
      "execution_count": 0,
      "outputs": []
    },
    {
      "cell_type": "code",
      "metadata": {
        "id": "uFIHWhqgxdhM",
        "colab_type": "code",
        "outputId": "d525fd59-66e8-46c7-f9bf-2eee08fcfac1",
        "colab": {
          "base_uri": "https://localhost:8080/",
          "height": 34
        }
      },
      "source": [
        "len(captions_c3d[0]) "
      ],
      "execution_count": 0,
      "outputs": [
        {
          "output_type": "execute_result",
          "data": {
            "text/plain": [
              "3213"
            ]
          },
          "metadata": {
            "tags": []
          },
          "execution_count": 31
        }
      ]
    },
    {
      "cell_type": "code",
      "metadata": {
        "id": "oo3CTVtcxdhO",
        "colab_type": "code",
        "outputId": "8ad97f58-6d23-48a2-ca35-fd1b109c6eac",
        "colab": {
          "base_uri": "https://localhost:8080/",
          "height": 34
        }
      },
      "source": [
        "len(captions_c3d)"
      ],
      "execution_count": 0,
      "outputs": [
        {
          "output_type": "execute_result",
          "data": {
            "text/plain": [
              "6000"
            ]
          },
          "metadata": {
            "tags": []
          },
          "execution_count": 32
        }
      ]
    },
    {
      "cell_type": "markdown",
      "metadata": {
        "id": "fwUclcsvxdhQ",
        "colab_type": "text"
      },
      "source": [
        "**Combining Captions+C3D+HMP**"
      ]
    },
    {
      "cell_type": "code",
      "metadata": {
        "id": "Sfnz9GxmxdhQ",
        "colab_type": "code",
        "colab": {}
      },
      "source": [
        "#Combining captions_c3d with HMP to form \n",
        "captions_c3d_hmp = captions_c3d\n",
        "counter = 0\n",
        "for item in range(6000):\n",
        "    captions_c3d_hmp[counter] = np.append(captions_c3d_hmp[counter],hmp_features[counter],axis=0)\n",
        "    counter = counter+1"
      ],
      "execution_count": 0,
      "outputs": []
    },
    {
      "cell_type": "code",
      "metadata": {
        "id": "kA0KLuruxdhS",
        "colab_type": "code",
        "outputId": "de85cd5d-2ecf-4ab2-8ee4-4e9c03377df1",
        "colab": {
          "base_uri": "https://localhost:8080/",
          "height": 34
        }
      },
      "source": [
        "len(captions_c3d_hmp[0]) "
      ],
      "execution_count": 0,
      "outputs": [
        {
          "output_type": "execute_result",
          "data": {
            "text/plain": [
              "9288"
            ]
          },
          "metadata": {
            "tags": []
          },
          "execution_count": 34
        }
      ]
    },
    {
      "cell_type": "code",
      "metadata": {
        "id": "uMQSdSeQxdhU",
        "colab_type": "code",
        "outputId": "f9527df9-2469-404f-c025-0c047687b7ce",
        "colab": {
          "base_uri": "https://localhost:8080/",
          "height": 34
        }
      },
      "source": [
        "len(captions_c3d_hmp)"
      ],
      "execution_count": 0,
      "outputs": [
        {
          "output_type": "execute_result",
          "data": {
            "text/plain": [
              "6000"
            ]
          },
          "metadata": {
            "tags": []
          },
          "execution_count": 36
        }
      ]
    },
    {
      "cell_type": "markdown",
      "metadata": {
        "id": "qeBUIue0xdhX",
        "colab_type": "text"
      },
      "source": [
        "Now we have the following features\n",
        "\n",
        "1.   Captions in: captions_bag\n",
        "2.   C3D in: c3dfeatures \n",
        "3.   HMP in: hmp_features\n",
        "4.   Captions and C3D:&nbsp;  captions_c3d\n",
        "5.   Captions, C3D and HMP in: captions_c3d_hmp"
      ]
    },
    {
      "cell_type": "markdown",
      "metadata": {
        "id": "JY7xIAiNxdhX",
        "colab_type": "text"
      },
      "source": [
        "***\n",
        "<a id='section4'></a>"
      ]
    },
    {
      "cell_type": "markdown",
      "metadata": {
        "id": "8k9YBt07buN5",
        "colab_type": "text"
      },
      "source": [
        ""
      ]
    },
    {
      "cell_type": "markdown",
      "metadata": {
        "id": "RuEwJHtXbym7",
        "colab_type": "text"
      },
      "source": [
        ""
      ]
    },
    {
      "cell_type": "markdown",
      "metadata": {
        "id": "ADfy7_xPxdgp",
        "colab_type": "text"
      },
      "source": [
        "## 1  LOADING FEATURES"
      ]
    },
    {
      "cell_type": "markdown",
      "metadata": {
        "id": "FPF-yzWMkffp",
        "colab_type": "text"
      },
      "source": [
        "##2.1 : Mounting Drive"
      ]
    },
    {
      "cell_type": "code",
      "metadata": {
        "id": "6ukTPznPL5AV",
        "colab_type": "code",
        "outputId": "d27c1351-541a-4a02-d9e2-7126a19784d8",
        "colab": {
          "base_uri": "https://localhost:8080/",
          "height": 122
        }
      },
      "source": [
        "import os\n",
        "from google.colab import drive\n",
        "drive.mount('/content/drive/')\n"
      ],
      "execution_count": 0,
      "outputs": [
        {
          "output_type": "stream",
          "text": [
            "Go to this URL in a browser: https://accounts.google.com/o/oauth2/auth?client_id=947318989803-6bn6qk8qdgf4n4g3pfee6491hc0brc4i.apps.googleusercontent.com&redirect_uri=urn%3aietf%3awg%3aoauth%3a2.0%3aoob&response_type=code&scope=email%20https%3a%2f%2fwww.googleapis.com%2fauth%2fdocs.test%20https%3a%2f%2fwww.googleapis.com%2fauth%2fdrive%20https%3a%2f%2fwww.googleapis.com%2fauth%2fdrive.photos.readonly%20https%3a%2f%2fwww.googleapis.com%2fauth%2fpeopleapi.readonly\n",
            "\n",
            "Enter your authorization code:\n",
            "··········\n",
            "Mounted at /content/drive/\n"
          ],
          "name": "stdout"
        }
      ]
    },
    {
      "cell_type": "code",
      "metadata": {
        "id": "Ate41Nn_xdgq",
        "colab_type": "code",
        "colab": {}
      },
      "source": [
        "#load the ground truth dataset\n",
        "csv_path ='/content/drive/My Drive/CA684_Assignment/Dev-set/Ground-truth/ground-truth.csv'\n",
        "dataset = pd.read_csv(csv_path)"
      ],
      "execution_count": 0,
      "outputs": []
    },
    {
      "cell_type": "code",
      "metadata": {
        "id": "IKAPvupLnO-4",
        "colab_type": "code",
        "colab": {}
      },
      "source": [
        "#load captions\n",
        "captions_path ='/content/drive/My Drive/CA684_Assignment/Dev-set/Captions/dev-set_video-captions.txt'\n",
        "captions = load_captions(captions_path)"
      ],
      "execution_count": 0,
      "outputs": []
    },
    {
      "cell_type": "code",
      "metadata": {
        "id": "AzaeBmoSnPGZ",
        "colab_type": "code",
        "colab": {}
      },
      "source": [
        "#load C3D features\n",
        "c3dPath = '/content/drive/My Drive/CA684_Assignment/Dev-set/C3D/'\n",
        "c3dfeatures = load_c3d(captions,c3dPath)"
      ],
      "execution_count": 0,
      "outputs": []
    },
    {
      "cell_type": "code",
      "metadata": {
        "id": "GaFsUDbbnPPh",
        "colab_type": "code",
        "colab": {}
      },
      "source": [
        "#load HMP features\n",
        "hmp_path = '/content/drive/My Drive/CA684_Assignment/Dev-set/HMP/'\n",
        "hmp_features = load_hmp(captions,hmp_path)"
      ],
      "execution_count": 0,
      "outputs": []
    },
    {
      "cell_type": "code",
      "metadata": {
        "id": "-8_Y2iOZnPjr",
        "colab_type": "code",
        "colab": {}
      },
      "source": [
        ""
      ],
      "execution_count": 0,
      "outputs": []
    },
    {
      "cell_type": "code",
      "metadata": {
        "id": "q_XA6MA5xdgt",
        "colab_type": "code",
        "outputId": "f9c754aa-2334-483b-9621-07bdd0101f21",
        "colab": {
          "base_uri": "https://localhost:8080/",
          "height": 204
        }
      },
      "source": [
        "dataset.head()"
      ],
      "execution_count": 0,
      "outputs": [
        {
          "output_type": "execute_result",
          "data": {
            "text/html": [
              "<div>\n",
              "<style scoped>\n",
              "    .dataframe tbody tr th:only-of-type {\n",
              "        vertical-align: middle;\n",
              "    }\n",
              "\n",
              "    .dataframe tbody tr th {\n",
              "        vertical-align: top;\n",
              "    }\n",
              "\n",
              "    .dataframe thead th {\n",
              "        text-align: right;\n",
              "    }\n",
              "</style>\n",
              "<table border=\"1\" class=\"dataframe\">\n",
              "  <thead>\n",
              "    <tr style=\"text-align: right;\">\n",
              "      <th></th>\n",
              "      <th>video</th>\n",
              "      <th>short-term_memorability</th>\n",
              "      <th>nb_short-term_annotations</th>\n",
              "      <th>long-term_memorability</th>\n",
              "      <th>nb_long-term_annotations</th>\n",
              "    </tr>\n",
              "  </thead>\n",
              "  <tbody>\n",
              "    <tr>\n",
              "      <th>0</th>\n",
              "      <td>video3.webm</td>\n",
              "      <td>0.924</td>\n",
              "      <td>34</td>\n",
              "      <td>0.846</td>\n",
              "      <td>13</td>\n",
              "    </tr>\n",
              "    <tr>\n",
              "      <th>1</th>\n",
              "      <td>video4.webm</td>\n",
              "      <td>0.923</td>\n",
              "      <td>33</td>\n",
              "      <td>0.667</td>\n",
              "      <td>12</td>\n",
              "    </tr>\n",
              "    <tr>\n",
              "      <th>2</th>\n",
              "      <td>video6.webm</td>\n",
              "      <td>0.863</td>\n",
              "      <td>33</td>\n",
              "      <td>0.700</td>\n",
              "      <td>10</td>\n",
              "    </tr>\n",
              "    <tr>\n",
              "      <th>3</th>\n",
              "      <td>video8.webm</td>\n",
              "      <td>0.922</td>\n",
              "      <td>33</td>\n",
              "      <td>0.818</td>\n",
              "      <td>11</td>\n",
              "    </tr>\n",
              "    <tr>\n",
              "      <th>4</th>\n",
              "      <td>video10.webm</td>\n",
              "      <td>0.950</td>\n",
              "      <td>34</td>\n",
              "      <td>0.900</td>\n",
              "      <td>10</td>\n",
              "    </tr>\n",
              "  </tbody>\n",
              "</table>\n",
              "</div>"
            ],
            "text/plain": [
              "          video  ...  nb_long-term_annotations\n",
              "0   video3.webm  ...                        13\n",
              "1   video4.webm  ...                        12\n",
              "2   video6.webm  ...                        10\n",
              "3   video8.webm  ...                        11\n",
              "4  video10.webm  ...                        10\n",
              "\n",
              "[5 rows x 5 columns]"
            ]
          },
          "metadata": {
            "tags": []
          },
          "execution_count": 19
        }
      ]
    },
    {
      "cell_type": "code",
      "metadata": {
        "id": "Fl7-_omOxdgv",
        "colab_type": "code",
        "outputId": "32ff1ecf-6d42-4794-82ee-824a64695040",
        "colab": {
          "base_uri": "https://localhost:8080/",
          "height": 204
        }
      },
      "source": [
        "captions.head()"
      ],
      "execution_count": 0,
      "outputs": [
        {
          "output_type": "execute_result",
          "data": {
            "text/html": [
              "<div>\n",
              "<style scoped>\n",
              "    .dataframe tbody tr th:only-of-type {\n",
              "        vertical-align: middle;\n",
              "    }\n",
              "\n",
              "    .dataframe tbody tr th {\n",
              "        vertical-align: top;\n",
              "    }\n",
              "\n",
              "    .dataframe thead th {\n",
              "        text-align: right;\n",
              "    }\n",
              "</style>\n",
              "<table border=\"1\" class=\"dataframe\">\n",
              "  <thead>\n",
              "    <tr style=\"text-align: right;\">\n",
              "      <th></th>\n",
              "      <th>video</th>\n",
              "      <th>caption</th>\n",
              "    </tr>\n",
              "  </thead>\n",
              "  <tbody>\n",
              "    <tr>\n",
              "      <th>0</th>\n",
              "      <td>video3.webm</td>\n",
              "      <td>blonde-woman-is-massaged-tilt-down</td>\n",
              "    </tr>\n",
              "    <tr>\n",
              "      <th>1</th>\n",
              "      <td>video4.webm</td>\n",
              "      <td>roulette-table-spinning-with-ball-in-closeup-shot</td>\n",
              "    </tr>\n",
              "    <tr>\n",
              "      <th>2</th>\n",
              "      <td>video6.webm</td>\n",
              "      <td>khr-gangsters</td>\n",
              "    </tr>\n",
              "    <tr>\n",
              "      <th>3</th>\n",
              "      <td>video8.webm</td>\n",
              "      <td>medical-helicopter-hovers-at-airport</td>\n",
              "    </tr>\n",
              "    <tr>\n",
              "      <th>4</th>\n",
              "      <td>video10.webm</td>\n",
              "      <td>couple-relaxing-on-picnic-crane-shot</td>\n",
              "    </tr>\n",
              "  </tbody>\n",
              "</table>\n",
              "</div>"
            ],
            "text/plain": [
              "          video                                            caption\n",
              "0   video3.webm                 blonde-woman-is-massaged-tilt-down\n",
              "1   video4.webm  roulette-table-spinning-with-ball-in-closeup-shot\n",
              "2   video6.webm                                      khr-gangsters\n",
              "3   video8.webm               medical-helicopter-hovers-at-airport\n",
              "4  video10.webm               couple-relaxing-on-picnic-crane-shot"
            ]
          },
          "metadata": {
            "tags": []
          },
          "execution_count": 20
        }
      ]
    },
    {
      "cell_type": "code",
      "metadata": {
        "id": "_-lZWnaJxdgx",
        "colab_type": "code",
        "colab": {}
      },
      "source": [
        "#(c3dfeatures)"
      ],
      "execution_count": 0,
      "outputs": []
    },
    {
      "cell_type": "code",
      "metadata": {
        "id": "X9fj5Mrsxdgz",
        "colab_type": "code",
        "colab": {}
      },
      "source": [
        "#(hmp_features)"
      ],
      "execution_count": 0,
      "outputs": []
    },
    {
      "cell_type": "code",
      "metadata": {
        "id": "WlE5Gi9rxdg1",
        "colab_type": "code",
        "outputId": "68949b36-c4c2-40f4-c868-4e53a52b024f",
        "colab": {
          "base_uri": "https://localhost:8080/",
          "height": 85
        }
      },
      "source": [
        "#shape of the dataframes\n",
        "print(f'Ground Truth : {dataset.shape}')\n",
        "print(f'Dev Captions : {captions.shape}')\n",
        "print(f'C3D          : ({len(c3dfeatures)})')\n",
        "print(f'HMP          : ({len(hmp_features)})')"
      ],
      "execution_count": 0,
      "outputs": [
        {
          "output_type": "stream",
          "text": [
            "Ground Truth : (6000, 5)\n",
            "Dev Captions : (6000, 2)\n",
            "C3D          : (6000)\n",
            "HMP          : (6000)\n"
          ],
          "name": "stdout"
        }
      ]
    },
    {
      "cell_type": "markdown",
      "metadata": {
        "id": "SD5kRR37xdg4",
        "colab_type": "text"
      },
      "source": [
        "***\n",
        "<a id='section3'></a>"
      ]
    },
    {
      "cell_type": "markdown",
      "metadata": {
        "id": "MMMtSw_Qxdgg",
        "colab_type": "text"
      },
      "source": [
        "## 1  FUNCTIONS DEFINITION\n",
        "\n",
        "Here we are defining necessary functions required."
      ]
    },
    {
      "cell_type": "code",
      "metadata": {
        "id": "QGwJvhzFxdgg",
        "colab_type": "code",
        "colab": {}
      },
      "source": [
        "#Function to load C3D features\n",
        "def load_c3d(captions, c3dPath):\n",
        "    files = list(captions[\"video\"].values)\n",
        "    c3dfeatures = []\n",
        "    for file in files:\n",
        "        file = c3dPath+file[:-4]+'txt'\n",
        "        c3dfeatures.append(np.loadtxt(file))\n",
        "    #print(type(c3dfeatures))\n",
        "    return c3dfeatures"
      ],
      "execution_count": 0,
      "outputs": []
    },
    {
      "cell_type": "code",
      "metadata": {
        "id": "96DQ2jW-xdgi",
        "colab_type": "code",
        "colab": {}
      },
      "source": [
        "#Function to load HMP features\n",
        "def load_hmp(captions, hmp_path):\n",
        "    files = list(captions[\"video\"].values)\n",
        "    hmp_features = []\n",
        "    for file in files:\n",
        "        file = hmp_path+file[:-4]+'txt'\n",
        "        with open(file) as f:\n",
        "            for line in f:\n",
        "                pairs=line.split()\n",
        "                HMP_temp = { int(p.split(':')[0]) : float(p.split(':')[1]) for p in pairs}\n",
        "                HMP = np.zeros(6075)\n",
        "            for idx in HMP_temp.keys():\n",
        "                HMP[idx-1] = HMP_temp[idx]\n",
        "            hmp_features.append(HMP)\n",
        "    return hmp_features"
      ],
      "execution_count": 0,
      "outputs": []
    },
    {
      "cell_type": "code",
      "metadata": {
        "id": "E2kHHuWaxdgk",
        "colab_type": "code",
        "colab": {}
      },
      "source": [
        "#Function to load the captions into dataframes\n",
        "def load_captions(filename):\n",
        "    video_name = []\n",
        "    captions = []\n",
        "    dataframe = pd.DataFrame()\n",
        "    with open(filename) as file:\n",
        "        for line in file:\n",
        "            pair = line.split() #each line in the text file contains to words so, this code will split them into two words\n",
        "            video_name.append(pair[0]) #first word will be assigned as video name\n",
        "            captions.append(pair[1]) #second word will be assigned as caption\n",
        "        dataframe['video']=video_name #setting these two as column names of dataframe\n",
        "        dataframe['caption']=captions\n",
        "    return dataframe"
      ],
      "execution_count": 0,
      "outputs": []
    },
    {
      "cell_type": "code",
      "metadata": {
        "id": "NEGWV5gXxdgn",
        "colab_type": "code",
        "colab": {}
      },
      "source": [
        "#Function to calculate Spearman coefficient scores\n",
        "def Get_score(Y_pred,Y_true):\n",
        "    '''Calculate the Spearmann\"s correlation coefficient'''\n",
        "    Y_pred = np.squeeze(Y_pred)\n",
        "    Y_true = np.squeeze(Y_true)\n",
        "    if Y_pred.shape != Y_true.shape:\n",
        "        print('Input shapes don\\'t match!')\n",
        "    else:\n",
        "        if len(Y_pred.shape) == 1:\n",
        "            Res = pd.DataFrame({'Y_true':Y_true,'Y_pred':Y_pred})\n",
        "            score_mat = Res[['Y_true','Y_pred']].corr(method='spearman',min_periods=1)\n",
        "            print('The Spearman\\'s correlation coefficient is: %.3f' % score_mat.iloc[1][0])\n",
        "        else:\n",
        "            for ii in range(Y_pred.shape[1]):\n",
        "                Get_score(Y_pred[:,ii],Y_true[:,ii])"
      ],
      "execution_count": 0,
      "outputs": []
    },
    {
      "cell_type": "markdown",
      "metadata": {
        "id": "3dobJYgwxdgp",
        "colab_type": "text"
      },
      "source": [
        "<a id='section2'></a>"
      ]
    },
    {
      "cell_type": "markdown",
      "metadata": {
        "colab_type": "text",
        "id": "Ts5Yk_dZbz8S"
      },
      "source": [
        "#2  FUNCTIONS DEFINITION\n",
        "\n",
        "Here we are defining necessary functions required."
      ]
    },
    {
      "cell_type": "markdown",
      "metadata": {
        "id": "iYyfmyl4zZLF",
        "colab_type": "text"
      },
      "source": [
        "##2.1 : C3D Feature"
      ]
    },
    {
      "cell_type": "code",
      "metadata": {
        "colab_type": "code",
        "id": "qr1vnNklPw74",
        "colab": {}
      },
      "source": [
        "#Function to load C3D features\n",
        "def read_C3D(df_caption, C3D_Path):\n",
        "    files = list(df_caption[\"video\"].values)\n",
        "    C3D_Features = []\n",
        "    for file in files:\n",
        "        file = C3D_Path+file[:-4]+'txt'\n",
        "        C3D_Features.append(np.loadtxt(file))\n",
        "    #print(type(C3D_Features))\n",
        "    return C3D_Features"
      ],
      "execution_count": 0,
      "outputs": []
    },
    {
      "cell_type": "markdown",
      "metadata": {
        "id": "wzgPEv6FzkRL",
        "colab_type": "text"
      },
      "source": [
        "## 2.2 : HMP features"
      ]
    },
    {
      "cell_type": "code",
      "metadata": {
        "id": "TKQxD9QhXEIr",
        "colab_type": "code",
        "colab": {}
      },
      "source": [
        "#Function to load HMP features\n",
        "def read_HMP(df_caption, HMP_Path):\n",
        "    files = list(df_caption[\"video\"].values)\n",
        "    HMP_Features = []\n",
        "    for file in files:\n",
        "        file = HMP_Path+file[:-4]+'txt'\n",
        "        with open(file) as f:\n",
        "            for line in f:\n",
        "                pairs=line.split()\n",
        "                HMP_temp = { int(p.split(':')[0]) : float(p.split(':')[1]) for p in pairs}\n",
        "                HMP = np.zeros(6075)\n",
        "            for idx in HMP_temp.keys():\n",
        "                HMP[idx-1] = HMP_temp[idx]\n",
        "            HMP_Features.append(HMP)\n",
        "    return HMP_Features"
      ],
      "execution_count": 0,
      "outputs": []
    },
    {
      "cell_type": "markdown",
      "metadata": {
        "id": "kYkhmhuNtp0S",
        "colab_type": "text"
      },
      "source": [
        ""
      ]
    },
    {
      "cell_type": "code",
      "metadata": {
        "colab_type": "code",
        "id": "1ahqxg02bz8U",
        "colab": {}
      },
      "source": [
        "#Function to load C3D features\n",
        "\n",
        "def read_C3D(fname):\n",
        "    \"\"\"Scan vectors from file\"\"\"\n",
        "    with open(fname) as f:\n",
        "        for line in f:\n",
        "            C3D =[float(item) for item in line.split()] # convert to float type, using default separator\n",
        "    return C3D"
      ],
      "execution_count": 0,
      "outputs": []
    },
    {
      "cell_type": "code",
      "metadata": {
        "colab_type": "code",
        "id": "5Y5BaNXQbz8X",
        "colab": {}
      },
      "source": [
        "#Function to load HMP features\n",
        "def read_HMP(fname):\n",
        "    \"\"\"Scan HMP(Histogram of Motion Patterns) features from file\"\"\"\n",
        "    with open(fname) as f:\n",
        "        for line in f:\n",
        "            pairs=line.split()\n",
        "            HMP_temp = { int(p.split(':')[0]) : float(p.split(':')[1]) for p in pairs}\n",
        "    # there are 6075 bins, fill zeros\n",
        "    HMP = np.zeros(6075)\n",
        "    for idx in HMP_temp.keys():\n",
        "        HMP[idx-1] = HMP_temp[idx]            \n",
        "    return HMP"
      ],
      "execution_count": 0,
      "outputs": []
    },
    {
      "cell_type": "markdown",
      "metadata": {
        "id": "OVxWD9S0zraS",
        "colab_type": "text"
      },
      "source": [
        "## 2.3 : Captions into dataframes"
      ]
    },
    {
      "cell_type": "code",
      "metadata": {
        "colab_type": "code",
        "id": "Ym_0VjfUbz8a",
        "colab": {}
      },
      "source": [
        "#Function to load the captions into dataframes\n",
        "def read_caps(filename):\n",
        "    video_name = []\n",
        "    captions = []\n",
        "    df_caption = pd.DataFrame()\n",
        "    with open(filename) as file:\n",
        "        for line in file:\n",
        "            pair = line.split() #each line in the text file contains to words so, this code will split them into two words\n",
        "            video_name.append(pair[0]) #first word will be assigned as video name\n",
        "            captions.append(pair[1]) #second word will be assigned as caption\n",
        "        df_caption['video']=video_name #setting these two as column names of dataframe\n",
        "        df_caption['caption']=captions\n",
        "    return df_caption\n"
      ],
      "execution_count": 0,
      "outputs": []
    },
    {
      "cell_type": "markdown",
      "metadata": {
        "id": "XrPVWpuSz7fe",
        "colab_type": "text"
      },
      "source": [
        "## 2.4 : Spearman coefficient scores"
      ]
    },
    {
      "cell_type": "code",
      "metadata": {
        "colab_type": "code",
        "id": "TE71wpVMbz8b",
        "colab": {}
      },
      "source": [
        "#Function to calculate Spearman coefficient scores\n",
        "def Get_score(Y_pred,Y_true):\n",
        "    '''Calculate the Spearmann\"s correlation coefficient'''\n",
        "    Y_pred = np.squeeze(Y_pred)\n",
        "    Y_true = np.squeeze(Y_true)\n",
        "    if Y_pred.shape != Y_true.shape:\n",
        "        print('Input shapes don\\'t match!')\n",
        "    else:\n",
        "        if len(Y_pred.shape) == 1:\n",
        "            Res = pd.DataFrame({'Y_true':Y_true,'Y_pred':Y_pred})\n",
        "            score_mat = Res[['Y_true','Y_pred']].corr(method='spearman',min_periods=1)\n",
        "            print('The Spearman\\'s correlation coefficient is: %.3f' % score_mat.iloc[1][0])\n",
        "        else:\n",
        "            for ii in range(Y_pred.shape[1]):\n",
        "                Get_score(Y_pred[:,ii],Y_true[:,ii])"
      ],
      "execution_count": 0,
      "outputs": []
    },
    {
      "cell_type": "markdown",
      "metadata": {
        "id": "1TDYX6puk5JD",
        "colab_type": "text"
      },
      "source": [
        "#3 Loading Video Memorability files and Features"
      ]
    },
    {
      "cell_type": "markdown",
      "metadata": {
        "colab_type": "text",
        "id": "H_ANWsp4bz8e"
      },
      "source": [
        "##3.1 : Mounting Drive"
      ]
    },
    {
      "cell_type": "code",
      "metadata": {
        "colab_type": "code",
        "outputId": "1f29eb73-3f5f-4a40-d3d7-d63ad9c04eed",
        "id": "JWbYRmeVbz8e",
        "colab": {
          "base_uri": "https://localhost:8080/",
          "height": 122
        }
      },
      "source": [
        "import os\n",
        "from google.colab import drive\n",
        "drive.mount('/content/drive/')\n"
      ],
      "execution_count": 19,
      "outputs": [
        {
          "output_type": "stream",
          "text": [
            "Go to this URL in a browser: https://accounts.google.com/o/oauth2/auth?client_id=947318989803-6bn6qk8qdgf4n4g3pfee6491hc0brc4i.apps.googleusercontent.com&redirect_uri=urn%3aietf%3awg%3aoauth%3a2.0%3aoob&response_type=code&scope=email%20https%3a%2f%2fwww.googleapis.com%2fauth%2fdocs.test%20https%3a%2f%2fwww.googleapis.com%2fauth%2fdrive%20https%3a%2f%2fwww.googleapis.com%2fauth%2fdrive.photos.readonly%20https%3a%2f%2fwww.googleapis.com%2fauth%2fpeopleapi.readonly\n",
            "\n",
            "Enter your authorization code:\n",
            "··········\n",
            "Mounted at /content/drive/\n"
          ],
          "name": "stdout"
        }
      ]
    },
    {
      "cell_type": "markdown",
      "metadata": {
        "id": "bFYpEWEgFipM",
        "colab_type": "text"
      },
      "source": [
        "##3.2 : Loading Features"
      ]
    },
    {
      "cell_type": "code",
      "metadata": {
        "id": "nNv_rZOP6a9I",
        "colab_type": "code",
        "colab": {}
      },
      "source": [
        "#load the ground truth dataset\n",
        "path_label = '/content/drive/My Drive/CA684_Assignment/Dev-set/Ground-truth/'\n",
        "labels=pd.read_csv(path_label+'ground-truth.csv')"
      ],
      "execution_count": 0,
      "outputs": []
    },
    {
      "cell_type": "code",
      "metadata": {
        "id": "d7T7kad_JU2y",
        "colab_type": "code",
        "colab": {}
      },
      "source": [
        "#load captions\n",
        "caption_path='/content/drive/My Drive/CA684_Assignment/Dev-set/Captions/dev-set_video-captions.txt'\n",
        "df_caption=read_caps(caption_path)"
      ],
      "execution_count": 0,
      "outputs": []
    },
    {
      "cell_type": "markdown",
      "metadata": {
        "id": "HXGZAZZSZae3",
        "colab_type": "text"
      },
      "source": [
        ""
      ]
    },
    {
      "cell_type": "code",
      "metadata": {
        "colab_type": "code",
        "outputId": "858b7d94-7009-4ba4-8460-5d43bc372e18",
        "id": "DAnhDiJZPVON",
        "colab": {
          "base_uri": "https://localhost:8080/",
          "height": 34
        }
      },
      "source": [
        "import os\n",
        "from google.colab import drive\n",
        "drive.mount('/content/drive/')\n"
      ],
      "execution_count": 24,
      "outputs": [
        {
          "output_type": "stream",
          "text": [
            "Drive already mounted at /content/drive/; to attempt to forcibly remount, call drive.mount(\"/content/drive/\", force_remount=True).\n"
          ],
          "name": "stdout"
        }
      ]
    },
    {
      "cell_type": "code",
      "metadata": {
        "colab_type": "code",
        "id": "ZLBISYPbbz8j",
        "colab": {}
      },
      "source": [
        "#load C3D features\n",
        "C3D_Path = '/content/drive/My Drive/CA684_Assignment/Dev-set/C3D/'\n",
        "C3D_Features = read_C3D(df_caption,C3D_Path)"
      ],
      "execution_count": 0,
      "outputs": []
    },
    {
      "cell_type": "code",
      "metadata": {
        "id": "a5qyjq9cX7_o",
        "colab_type": "code",
        "colab": {}
      },
      "source": [
        "#load HMP features\n",
        "HMP_Path = '/content/drive/My Drive/CA684_Assignment/Dev-set/HMP/'\n",
        "HMP_Features = read_HMP(df_caption,HMP_Path)"
      ],
      "execution_count": 0,
      "outputs": []
    },
    {
      "cell_type": "code",
      "metadata": {
        "id": "057OT5o5JU_Z",
        "colab_type": "code",
        "colab": {}
      },
      "source": [
        "#load C3D features\n",
        "\n",
        "Feature_path_C3D = '/content/drive/My Drive/CA684_Assignment/Dev-set/'\n",
        "# Load video related features first\n",
        "# it helps with the organization of the video names\n",
        "vid = labels.video.values\n",
        "\n",
        "Feature_C3D = pd.DataFrame({'video': vid,\n",
        "                   'C3D': [read_C3D(Feature_path_C3D+'C3D'+'/'+os.path.splitext(item)[0]+'.txt') for item in vid],\n",
        "                       })"
      ],
      "execution_count": 0,
      "outputs": []
    },
    {
      "cell_type": "code",
      "metadata": {
        "id": "ud3rgbwoJSr3",
        "colab_type": "code",
        "colab": {}
      },
      "source": [
        "#load HMP features\n",
        "\n",
        "Feature_path_HMP = '/content/drive/My Drive/CA684_Assignment/Dev-set/'\n",
        "# Load video related features first\n",
        "# it helps with the organization of the video names\n",
        "vid = labels.video.values\n",
        "Feature_HMP = pd.DataFrame({'video': vid,\n",
        "                   'HMP': [read_HMP(Feature_path_HMP+'HMP'+'/'+os.path.splitext(item)[0]+'.txt') for item in vid],\n",
        "                       })"
      ],
      "execution_count": 0,
      "outputs": []
    },
    {
      "cell_type": "code",
      "metadata": {
        "id": "M055AylRJTIb",
        "colab_type": "code",
        "colab": {}
      },
      "source": [
        ""
      ],
      "execution_count": 0,
      "outputs": []
    },
    {
      "cell_type": "code",
      "metadata": {
        "id": "14m4RAppMPwy",
        "colab_type": "code",
        "outputId": "d186d8cd-85b8-403e-a16c-0e5ef815e5a0",
        "colab": {
          "base_uri": "https://localhost:8080/",
          "height": 255
        }
      },
      "source": [
        "print(df_caption)"
      ],
      "execution_count": 0,
      "outputs": [
        {
          "output_type": "stream",
          "text": [
            "               video                                            caption\n",
            "0        video3.webm                 blonde-woman-is-massaged-tilt-down\n",
            "1        video4.webm  roulette-table-spinning-with-ball-in-closeup-shot\n",
            "2        video6.webm                                      khr-gangsters\n",
            "3        video8.webm               medical-helicopter-hovers-at-airport\n",
            "4       video10.webm               couple-relaxing-on-picnic-crane-shot\n",
            "...              ...                                                ...\n",
            "5995  video7488.webm        beautiful-young-woman-in-front-of-fountains\n",
            "5996  video7489.webm  focus-pull-from-molting-penguin-to-penguin-col...\n",
            "5997  video7491.webm           students-walking-in-university-of-mexico\n",
            "5998  video7492.webm                       beautiful-black-woman-at-spa\n",
            "5999  video7493.webm  beautiful-modern-brunette-woman-using-tablet-c...\n",
            "\n",
            "[6000 rows x 2 columns]\n"
          ],
          "name": "stdout"
        }
      ]
    },
    {
      "cell_type": "code",
      "metadata": {
        "id": "Kq1Pu7xh-HVg",
        "colab_type": "code",
        "outputId": "2e35f851-e375-4921-c760-ffdf32df9906",
        "colab": {
          "base_uri": "https://localhost:8080/",
          "height": 85
        }
      },
      "source": [
        "#shape of the dataframes\n",
        "print(f'Ground Truth : {labels.shape}')\n",
        "print(f'Dev Captions : {df_caption.shape}')\n",
        "print(f'C3D          : ({len(Feature_C3D)})')\n",
        "print(f'HMP          : ({len(Feature_HMP)})')"
      ],
      "execution_count": 0,
      "outputs": [
        {
          "output_type": "stream",
          "text": [
            "Ground Truth : (6000, 5)\n",
            "Dev Captions : (6000, 2)\n",
            "C3D          : (6000)\n",
            "HMP          : (6000)\n"
          ],
          "name": "stdout"
        }
      ]
    },
    {
      "cell_type": "markdown",
      "metadata": {
        "id": "pL8YrT9alwhJ",
        "colab_type": "text"
      },
      "source": [
        "##3.3 : Joining the dataframes"
      ]
    },
    {
      "cell_type": "code",
      "metadata": {
        "id": "6vTkBSV8Oi5-",
        "colab_type": "code",
        "outputId": "a7a7bc6f-0ad5-4f91-94dd-82bceb41a61f",
        "colab": {
          "base_uri": "https://localhost:8080/",
          "height": 419
        }
      },
      "source": [
        "df = df_caption.merge(labels,on=[\"video\"],how=\"inner\")\n",
        "df"
      ],
      "execution_count": 0,
      "outputs": [
        {
          "output_type": "execute_result",
          "data": {
            "text/html": [
              "<div>\n",
              "<style scoped>\n",
              "    .dataframe tbody tr th:only-of-type {\n",
              "        vertical-align: middle;\n",
              "    }\n",
              "\n",
              "    .dataframe tbody tr th {\n",
              "        vertical-align: top;\n",
              "    }\n",
              "\n",
              "    .dataframe thead th {\n",
              "        text-align: right;\n",
              "    }\n",
              "</style>\n",
              "<table border=\"1\" class=\"dataframe\">\n",
              "  <thead>\n",
              "    <tr style=\"text-align: right;\">\n",
              "      <th></th>\n",
              "      <th>video</th>\n",
              "      <th>caption</th>\n",
              "      <th>short-term_memorability</th>\n",
              "      <th>nb_short-term_annotations</th>\n",
              "      <th>long-term_memorability</th>\n",
              "      <th>nb_long-term_annotations</th>\n",
              "    </tr>\n",
              "  </thead>\n",
              "  <tbody>\n",
              "    <tr>\n",
              "      <th>0</th>\n",
              "      <td>video3.webm</td>\n",
              "      <td>blonde-woman-is-massaged-tilt-down</td>\n",
              "      <td>0.924</td>\n",
              "      <td>34</td>\n",
              "      <td>0.846</td>\n",
              "      <td>13</td>\n",
              "    </tr>\n",
              "    <tr>\n",
              "      <th>1</th>\n",
              "      <td>video4.webm</td>\n",
              "      <td>roulette-table-spinning-with-ball-in-closeup-shot</td>\n",
              "      <td>0.923</td>\n",
              "      <td>33</td>\n",
              "      <td>0.667</td>\n",
              "      <td>12</td>\n",
              "    </tr>\n",
              "    <tr>\n",
              "      <th>2</th>\n",
              "      <td>video6.webm</td>\n",
              "      <td>khr-gangsters</td>\n",
              "      <td>0.863</td>\n",
              "      <td>33</td>\n",
              "      <td>0.700</td>\n",
              "      <td>10</td>\n",
              "    </tr>\n",
              "    <tr>\n",
              "      <th>3</th>\n",
              "      <td>video8.webm</td>\n",
              "      <td>medical-helicopter-hovers-at-airport</td>\n",
              "      <td>0.922</td>\n",
              "      <td>33</td>\n",
              "      <td>0.818</td>\n",
              "      <td>11</td>\n",
              "    </tr>\n",
              "    <tr>\n",
              "      <th>4</th>\n",
              "      <td>video10.webm</td>\n",
              "      <td>couple-relaxing-on-picnic-crane-shot</td>\n",
              "      <td>0.950</td>\n",
              "      <td>34</td>\n",
              "      <td>0.900</td>\n",
              "      <td>10</td>\n",
              "    </tr>\n",
              "    <tr>\n",
              "      <th>...</th>\n",
              "      <td>...</td>\n",
              "      <td>...</td>\n",
              "      <td>...</td>\n",
              "      <td>...</td>\n",
              "      <td>...</td>\n",
              "      <td>...</td>\n",
              "    </tr>\n",
              "    <tr>\n",
              "      <th>5995</th>\n",
              "      <td>video7488.webm</td>\n",
              "      <td>beautiful-young-woman-in-front-of-fountains</td>\n",
              "      <td>0.921</td>\n",
              "      <td>33</td>\n",
              "      <td>1.000</td>\n",
              "      <td>9</td>\n",
              "    </tr>\n",
              "    <tr>\n",
              "      <th>5996</th>\n",
              "      <td>video7489.webm</td>\n",
              "      <td>focus-pull-from-molting-penguin-to-penguin-col...</td>\n",
              "      <td>0.909</td>\n",
              "      <td>53</td>\n",
              "      <td>0.839</td>\n",
              "      <td>31</td>\n",
              "    </tr>\n",
              "    <tr>\n",
              "      <th>5997</th>\n",
              "      <td>video7491.webm</td>\n",
              "      <td>students-walking-in-university-of-mexico</td>\n",
              "      <td>0.713</td>\n",
              "      <td>33</td>\n",
              "      <td>0.818</td>\n",
              "      <td>11</td>\n",
              "    </tr>\n",
              "    <tr>\n",
              "      <th>5998</th>\n",
              "      <td>video7492.webm</td>\n",
              "      <td>beautiful-black-woman-at-spa</td>\n",
              "      <td>0.954</td>\n",
              "      <td>34</td>\n",
              "      <td>1.000</td>\n",
              "      <td>16</td>\n",
              "    </tr>\n",
              "    <tr>\n",
              "      <th>5999</th>\n",
              "      <td>video7493.webm</td>\n",
              "      <td>beautiful-modern-brunette-woman-using-tablet-c...</td>\n",
              "      <td>0.953</td>\n",
              "      <td>33</td>\n",
              "      <td>0.615</td>\n",
              "      <td>13</td>\n",
              "    </tr>\n",
              "  </tbody>\n",
              "</table>\n",
              "<p>6000 rows × 6 columns</p>\n",
              "</div>"
            ],
            "text/plain": [
              "               video  ... nb_long-term_annotations\n",
              "0        video3.webm  ...                       13\n",
              "1        video4.webm  ...                       12\n",
              "2        video6.webm  ...                       10\n",
              "3        video8.webm  ...                       11\n",
              "4       video10.webm  ...                       10\n",
              "...              ...  ...                      ...\n",
              "5995  video7488.webm  ...                        9\n",
              "5996  video7489.webm  ...                       31\n",
              "5997  video7491.webm  ...                       11\n",
              "5998  video7492.webm  ...                       16\n",
              "5999  video7493.webm  ...                       13\n",
              "\n",
              "[6000 rows x 6 columns]"
            ]
          },
          "metadata": {
            "tags": []
          },
          "execution_count": 27
        }
      ]
    },
    {
      "cell_type": "markdown",
      "metadata": {
        "id": "iUQVl2FWRtM8",
        "colab_type": "text"
      },
      "source": [
        "#4 Pre-Processing Stage"
      ]
    },
    {
      "cell_type": "markdown",
      "metadata": {
        "id": "zG9wLVd6n73y",
        "colab_type": "text"
      },
      "source": [
        "##4.1 Remove punctuation"
      ]
    },
    {
      "cell_type": "code",
      "metadata": {
        "id": "xNsLsTJWn8Sh",
        "colab_type": "code",
        "outputId": "7ea55328-4e9a-4b14-fc5e-179335fceb5c",
        "colab": {
          "base_uri": "https://localhost:8080/",
          "height": 34
        }
      },
      "source": [
        "import string\n",
        "string.punctuation"
      ],
      "execution_count": 0,
      "outputs": [
        {
          "output_type": "execute_result",
          "data": {
            "text/plain": [
              "'!\"#$%&\\'()*+,-./:;<=>?@[\\\\]^_`{|}~'"
            ]
          },
          "metadata": {
            "tags": []
          },
          "execution_count": 28
        }
      ]
    },
    {
      "cell_type": "code",
      "metadata": {
        "id": "pNqyvatMoHbF",
        "colab_type": "code",
        "colab": {}
      },
      "source": [
        "\n",
        "#function to remove punctuation\n",
        "def remove_punct(text):\n",
        "  text_nopunct=\"\".join([char for char in text if char not in string.punctuation])  #it will discard all punctuation\n",
        "  return text_nopunct"
      ],
      "execution_count": 0,
      "outputs": []
    },
    {
      "cell_type": "code",
      "metadata": {
        "id": "oI6T_rI3oMRV",
        "colab_type": "code",
        "outputId": "150a70a2-d997-447f-b182-40bd106b6376",
        "colab": {
          "base_uri": "https://localhost:8080/",
          "height": 204
        }
      },
      "source": [
        "df['body_text_clean']=df['caption'].apply(lambda x: remove_punct(x))\n",
        "df.head()"
      ],
      "execution_count": 0,
      "outputs": [
        {
          "output_type": "execute_result",
          "data": {
            "text/html": [
              "<div>\n",
              "<style scoped>\n",
              "    .dataframe tbody tr th:only-of-type {\n",
              "        vertical-align: middle;\n",
              "    }\n",
              "\n",
              "    .dataframe tbody tr th {\n",
              "        vertical-align: top;\n",
              "    }\n",
              "\n",
              "    .dataframe thead th {\n",
              "        text-align: right;\n",
              "    }\n",
              "</style>\n",
              "<table border=\"1\" class=\"dataframe\">\n",
              "  <thead>\n",
              "    <tr style=\"text-align: right;\">\n",
              "      <th></th>\n",
              "      <th>video</th>\n",
              "      <th>caption</th>\n",
              "      <th>short-term_memorability</th>\n",
              "      <th>nb_short-term_annotations</th>\n",
              "      <th>long-term_memorability</th>\n",
              "      <th>nb_long-term_annotations</th>\n",
              "      <th>body_text_clean</th>\n",
              "    </tr>\n",
              "  </thead>\n",
              "  <tbody>\n",
              "    <tr>\n",
              "      <th>0</th>\n",
              "      <td>video3.webm</td>\n",
              "      <td>blonde-woman-is-massaged-tilt-down</td>\n",
              "      <td>0.924</td>\n",
              "      <td>34</td>\n",
              "      <td>0.846</td>\n",
              "      <td>13</td>\n",
              "      <td>blondewomanismassagedtiltdown</td>\n",
              "    </tr>\n",
              "    <tr>\n",
              "      <th>1</th>\n",
              "      <td>video4.webm</td>\n",
              "      <td>roulette-table-spinning-with-ball-in-closeup-shot</td>\n",
              "      <td>0.923</td>\n",
              "      <td>33</td>\n",
              "      <td>0.667</td>\n",
              "      <td>12</td>\n",
              "      <td>roulettetablespinningwithballincloseupshot</td>\n",
              "    </tr>\n",
              "    <tr>\n",
              "      <th>2</th>\n",
              "      <td>video6.webm</td>\n",
              "      <td>khr-gangsters</td>\n",
              "      <td>0.863</td>\n",
              "      <td>33</td>\n",
              "      <td>0.700</td>\n",
              "      <td>10</td>\n",
              "      <td>khrgangsters</td>\n",
              "    </tr>\n",
              "    <tr>\n",
              "      <th>3</th>\n",
              "      <td>video8.webm</td>\n",
              "      <td>medical-helicopter-hovers-at-airport</td>\n",
              "      <td>0.922</td>\n",
              "      <td>33</td>\n",
              "      <td>0.818</td>\n",
              "      <td>11</td>\n",
              "      <td>medicalhelicopterhoversatairport</td>\n",
              "    </tr>\n",
              "    <tr>\n",
              "      <th>4</th>\n",
              "      <td>video10.webm</td>\n",
              "      <td>couple-relaxing-on-picnic-crane-shot</td>\n",
              "      <td>0.950</td>\n",
              "      <td>34</td>\n",
              "      <td>0.900</td>\n",
              "      <td>10</td>\n",
              "      <td>couplerelaxingonpicniccraneshot</td>\n",
              "    </tr>\n",
              "  </tbody>\n",
              "</table>\n",
              "</div>"
            ],
            "text/plain": [
              "          video  ...                             body_text_clean\n",
              "0   video3.webm  ...               blondewomanismassagedtiltdown\n",
              "1   video4.webm  ...  roulettetablespinningwithballincloseupshot\n",
              "2   video6.webm  ...                                khrgangsters\n",
              "3   video8.webm  ...            medicalhelicopterhoversatairport\n",
              "4  video10.webm  ...             couplerelaxingonpicniccraneshot\n",
              "\n",
              "[5 rows x 7 columns]"
            ]
          },
          "metadata": {
            "tags": []
          },
          "execution_count": 30
        }
      ]
    },
    {
      "cell_type": "markdown",
      "metadata": {
        "id": "C6g9rYlFSfsk",
        "colab_type": "text"
      },
      "source": [
        "## 4.2 Removing Stopwords\n"
      ]
    },
    {
      "cell_type": "code",
      "metadata": {
        "id": "HKt_t5K7R9hg",
        "colab_type": "code",
        "outputId": "d3d1a393-d865-4172-b9a7-b310916da1cf",
        "colab": {
          "base_uri": "https://localhost:8080/",
          "height": 102
        }
      },
      "source": [
        "import nltk\n",
        "nltk.download('stopwords')\n",
        "from nltk.corpus import stopwords\n",
        "import nltk\n",
        "nltk.download('wordnet')"
      ],
      "execution_count": 0,
      "outputs": [
        {
          "output_type": "stream",
          "text": [
            "[nltk_data] Downloading package stopwords to /root/nltk_data...\n",
            "[nltk_data]   Unzipping corpora/stopwords.zip.\n",
            "[nltk_data] Downloading package wordnet to /root/nltk_data...\n",
            "[nltk_data]   Unzipping corpora/wordnet.zip.\n"
          ],
          "name": "stdout"
        },
        {
          "output_type": "execute_result",
          "data": {
            "text/plain": [
              "True"
            ]
          },
          "metadata": {
            "tags": []
          },
          "execution_count": 31
        }
      ]
    },
    {
      "cell_type": "code",
      "metadata": {
        "id": "gPwe35vWSLi9",
        "colab_type": "code",
        "colab": {}
      },
      "source": [
        "stop = stopwords.words('english') "
      ],
      "execution_count": 0,
      "outputs": []
    },
    {
      "cell_type": "markdown",
      "metadata": {
        "id": "aObj5TZeStgS",
        "colab_type": "text"
      },
      "source": [
        "## 4.3 Lemmatization\n"
      ]
    },
    {
      "cell_type": "code",
      "metadata": {
        "id": "byKYdzFBSmA5",
        "colab_type": "code",
        "outputId": "7ee592ac-efb7-4d71-ba7c-cd0c6bc6bcc0",
        "colab": {
          "base_uri": "https://localhost:8080/",
          "height": 119
        }
      },
      "source": [
        "df['caption_lem'] = df['body_text_clean'].apply(lambda x: ' '.join([item for item in x.split() if item not in stop]))\n",
        "df['caption_lem'].head()"
      ],
      "execution_count": 0,
      "outputs": [
        {
          "output_type": "execute_result",
          "data": {
            "text/plain": [
              "0                 blondewomanismassagedtiltdown\n",
              "1    roulettetablespinningwithballincloseupshot\n",
              "2                                  khrgangsters\n",
              "3              medicalhelicopterhoversatairport\n",
              "4               couplerelaxingonpicniccraneshot\n",
              "Name: caption_lem, dtype: object"
            ]
          },
          "metadata": {
            "tags": []
          },
          "execution_count": 33
        }
      ]
    },
    {
      "cell_type": "markdown",
      "metadata": {
        "id": "T24E7kcKTKRQ",
        "colab_type": "text"
      },
      "source": [
        "## 4.4 Extracting unique words count"
      ]
    },
    {
      "cell_type": "code",
      "metadata": {
        "id": "GP64_dCASqDC",
        "colab_type": "code",
        "colab": {}
      },
      "source": [
        "word_counts = Counter()\n",
        "for i, captions in enumerate(df['caption_lem']):\n",
        "    word_counts.update(captions.split())"
      ],
      "execution_count": 0,
      "outputs": []
    },
    {
      "cell_type": "code",
      "metadata": {
        "id": "7I0OqyWXTQOF",
        "colab_type": "code",
        "outputId": "620d8406-af35-4bc1-9902-541af4578143",
        "colab": {
          "base_uri": "https://localhost:8080/",
          "height": 102
        }
      },
      "source": [
        "df.caption_lem.values"
      ],
      "execution_count": 0,
      "outputs": [
        {
          "output_type": "execute_result",
          "data": {
            "text/plain": [
              "array(['blondewomanismassagedtiltdown',\n",
              "       'roulettetablespinningwithballincloseupshot', 'khrgangsters', ...,\n",
              "       'studentswalkinginuniversityofmexico', 'beautifulblackwomanatspa',\n",
              "       'beautifulmodernbrunettewomanusingtabletcomputerinluxurybed'],\n",
              "      dtype=object)"
            ]
          },
          "metadata": {
            "tags": []
          },
          "execution_count": 35
        }
      ]
    },
    {
      "cell_type": "markdown",
      "metadata": {
        "id": "qeQDGzKyTjPV",
        "colab_type": "text"
      },
      "source": [
        "##\t2.5 Caption: n-Gram approach- Using TF-IDF Vectorizer"
      ]
    },
    {
      "cell_type": "markdown",
      "metadata": {
        "id": "FRokveMaMUal",
        "colab_type": "text"
      },
      "source": [
        ""
      ]
    },
    {
      "cell_type": "code",
      "metadata": {
        "colab_type": "code",
        "outputId": "35471ccd-f00b-40d3-9c30-6284b41008f5",
        "id": "O7lTXceGMU34",
        "colab": {
          "base_uri": "https://localhost:8080/",
          "height": 68
        }
      },
      "source": [
        "#loading the nltk stopwords of English\n",
        "import nltk\n",
        "nltk.download('stopwords')\n",
        "\n",
        "\n",
        "stopwords = nltk.corpus.stopwords.words('english')\n",
        "print(f'Length of Stopwords: {len(stopwords)}')"
      ],
      "execution_count": 0,
      "outputs": [
        {
          "output_type": "stream",
          "text": [
            "[nltk_data] Downloading package stopwords to /root/nltk_data...\n",
            "[nltk_data]   Package stopwords is already up-to-date!\n",
            "Length of Stopwords: 179\n"
          ],
          "name": "stdout"
        }
      ]
    },
    {
      "cell_type": "code",
      "metadata": {
        "colab_type": "code",
        "outputId": "96cdabc4-fba3-4382-b24b-af2745d4f702",
        "id": "VA-7eT3XMU38",
        "colab": {
          "base_uri": "https://localhost:8080/",
          "height": 68
        }
      },
      "source": [
        "#Removing punctuations and stop words from captions\n",
        "# setup prograss tracker\n",
        "pbar = pyprind.ProgBar(len(df_caption['caption']), title='Counting word occurrences')\n",
        "for i, cap in enumerate(df_caption['caption']):\n",
        "    # replace punctuations with space\n",
        "    # convert words to lower case \n",
        "    text = ''.join([c if c not in punctuation else ' ' for c in cap]).lower()\n",
        "    #removing stopwords\n",
        "    rmv_stopwords= ' '.join([word for word in text.split() if word not in stopwords])\n",
        "    df_caption.loc[i,'caption'] = rmv_stopwords #updating the original captions \n",
        "    pbar.update()"
      ],
      "execution_count": 0,
      "outputs": [
        {
          "output_type": "stream",
          "text": [
            "Counting word occurrences\n",
            "0% [##############################] 100% | ETA: 00:00:00\n",
            "Total time elapsed: 00:00:01\n"
          ],
          "name": "stderr"
        }
      ]
    },
    {
      "cell_type": "code",
      "metadata": {
        "colab_type": "code",
        "outputId": "3509ee98-168a-4277-e8ed-0eb9d1f6b816",
        "id": "BG3k6RdKMU39",
        "colab": {
          "base_uri": "https://localhost:8080/",
          "height": 204
        }
      },
      "source": [
        "captions.head()"
      ],
      "execution_count": 0,
      "outputs": [
        {
          "output_type": "execute_result",
          "data": {
            "text/html": [
              "<div>\n",
              "<style scoped>\n",
              "    .dataframe tbody tr th:only-of-type {\n",
              "        vertical-align: middle;\n",
              "    }\n",
              "\n",
              "    .dataframe tbody tr th {\n",
              "        vertical-align: top;\n",
              "    }\n",
              "\n",
              "    .dataframe thead th {\n",
              "        text-align: right;\n",
              "    }\n",
              "</style>\n",
              "<table border=\"1\" class=\"dataframe\">\n",
              "  <thead>\n",
              "    <tr style=\"text-align: right;\">\n",
              "      <th></th>\n",
              "      <th>video</th>\n",
              "      <th>caption</th>\n",
              "    </tr>\n",
              "  </thead>\n",
              "  <tbody>\n",
              "    <tr>\n",
              "      <th>0</th>\n",
              "      <td>video3.webm</td>\n",
              "      <td>blonde woman massaged tilt</td>\n",
              "    </tr>\n",
              "    <tr>\n",
              "      <th>1</th>\n",
              "      <td>video4.webm</td>\n",
              "      <td>roulette table spinning ball closeup shot</td>\n",
              "    </tr>\n",
              "    <tr>\n",
              "      <th>2</th>\n",
              "      <td>video6.webm</td>\n",
              "      <td>khr gangsters</td>\n",
              "    </tr>\n",
              "    <tr>\n",
              "      <th>3</th>\n",
              "      <td>video8.webm</td>\n",
              "      <td>medical helicopter hovers airport</td>\n",
              "    </tr>\n",
              "    <tr>\n",
              "      <th>4</th>\n",
              "      <td>video10.webm</td>\n",
              "      <td>couple relaxing picnic crane shot</td>\n",
              "    </tr>\n",
              "  </tbody>\n",
              "</table>\n",
              "</div>"
            ],
            "text/plain": [
              "          video                                    caption\n",
              "0   video3.webm                 blonde woman massaged tilt\n",
              "1   video4.webm  roulette table spinning ball closeup shot\n",
              "2   video6.webm                              khr gangsters\n",
              "3   video8.webm          medical helicopter hovers airport\n",
              "4  video10.webm          couple relaxing picnic crane shot"
            ]
          },
          "metadata": {
            "tags": []
          },
          "execution_count": 26
        }
      ]
    },
    {
      "cell_type": "code",
      "metadata": {
        "colab_type": "code",
        "outputId": "02307f51-ba9c-4cac-9090-99d34af6c8af",
        "id": "vA59WbfWMU3_",
        "colab": {
          "base_uri": "https://localhost:8080/",
          "height": 34
        }
      },
      "source": [
        "#implementing bag of words for the combined captions\n",
        "from sklearn.feature_extraction.text import CountVectorizer\n",
        "vectorizer = CountVectorizer(analyzer = \"word\",max_features=3112) \n",
        "captions_bag = vectorizer.fit_transform(df_caption.caption).toarray()\n",
        "type(captions_bag)"
      ],
      "execution_count": 0,
      "outputs": [
        {
          "output_type": "execute_result",
          "data": {
            "text/plain": [
              "numpy.ndarray"
            ]
          },
          "metadata": {
            "tags": []
          },
          "execution_count": 41
        }
      ]
    },
    {
      "cell_type": "code",
      "metadata": {
        "colab_type": "code",
        "outputId": "e51c9f59-c45f-4074-9aaf-612d89393f50",
        "id": "FCeVxQRrMU4A",
        "colab": {
          "base_uri": "https://localhost:8080/",
          "height": 34
        }
      },
      "source": [
        "captions_bag.shape"
      ],
      "execution_count": 0,
      "outputs": [
        {
          "output_type": "execute_result",
          "data": {
            "text/plain": [
              "(6000, 3112)"
            ]
          },
          "metadata": {
            "tags": []
          },
          "execution_count": 43
        }
      ]
    },
    {
      "cell_type": "markdown",
      "metadata": {
        "id": "Xa7X_qzhUVmE",
        "colab_type": "text"
      },
      "source": [
        "##\t2.6 Maping each unique word to an integer using one-hot encoding"
      ]
    },
    {
      "cell_type": "code",
      "metadata": {
        "id": "lLaHB1RAUR-q",
        "colab_type": "code",
        "colab": {}
      },
      "source": [
        "# build the word index\n",
        "token_len = len(word_counts)\n",
        "tokenizer = Tokenizer(num_words=token_len)\n"
      ],
      "execution_count": 0,
      "outputs": []
    },
    {
      "cell_type": "code",
      "metadata": {
        "id": "xklbDQySUaxF",
        "colab_type": "code",
        "colab": {}
      },
      "source": [
        "#fit a list of captions to the tokenizer\n",
        "#the tokenizer vectorizes a text corpus, by turning each text into either a sequence of integers \n",
        "\n",
        "tokenizer.fit_on_texts(list(vect_tfidf.get_feature_names()))"
      ],
      "execution_count": 0,
      "outputs": []
    },
    {
      "cell_type": "code",
      "metadata": {
        "id": "QRkU8HG9UiTM",
        "colab_type": "code",
        "colab": {}
      },
      "source": [
        "#sequences = tokenizer.texts_to_sequences(list(df.caption_lem.values))\n",
        "\n",
        "onehot_encode = tokenizer.texts_to_matrix(list(df.caption_lem.values),mode='binary')\n"
      ],
      "execution_count": 0,
      "outputs": []
    },
    {
      "cell_type": "code",
      "metadata": {
        "id": "aNGyDR9qUpVN",
        "colab_type": "code",
        "outputId": "a5fab09b-d0d8-482a-e152-75364f9dbc1a",
        "colab": {
          "base_uri": "https://localhost:8080/",
          "height": 34
        }
      },
      "source": [
        "len(onehot_encode)"
      ],
      "execution_count": 0,
      "outputs": [
        {
          "output_type": "execute_result",
          "data": {
            "text/plain": [
              "6000"
            ]
          },
          "metadata": {
            "tags": []
          },
          "execution_count": 56
        }
      ]
    },
    {
      "cell_type": "code",
      "metadata": {
        "id": "3jmEXR2xUs8G",
        "colab_type": "code",
        "outputId": "396931f5-3ec4-4cbc-eafd-6730b719e934",
        "colab": {
          "base_uri": "https://localhost:8080/",
          "height": 34
        }
      },
      "source": [
        "onehot_encode.shape"
      ],
      "execution_count": 0,
      "outputs": [
        {
          "output_type": "execute_result",
          "data": {
            "text/plain": [
              "(6000, 5198)"
            ]
          },
          "metadata": {
            "tags": []
          },
          "execution_count": 57
        }
      ]
    },
    {
      "cell_type": "markdown",
      "metadata": {
        "id": "Jpd2AgpZHr8d",
        "colab_type": "text"
      },
      "source": [
        ""
      ]
    },
    {
      "cell_type": "markdown",
      "metadata": {
        "id": "Or-P1vNIjMvw",
        "colab_type": "text"
      },
      "source": [
        "#4.x Data Preprocessing"
      ]
    },
    {
      "cell_type": "markdown",
      "metadata": {
        "id": "AA10z6XeYm5L",
        "colab_type": "text"
      },
      "source": [
        "## 4.1 : Captions: Bag of words CountVectorizer"
      ]
    },
    {
      "cell_type": "code",
      "metadata": {
        "colab_type": "code",
        "outputId": "53f5ccd4-c85a-4299-e44a-b3a07647e3b8",
        "id": "hD8SQCmfZ-QY",
        "colab": {
          "base_uri": "https://localhost:8080/",
          "height": 34
        }
      },
      "source": [
        "#loading the nltk stopwords of English\n",
        "stopwords = nltk.corpus.stopwords.words('english')\n",
        "print(f'Length of Stopwords: {len(stopwords)}')"
      ],
      "execution_count": 0,
      "outputs": [
        {
          "output_type": "stream",
          "text": [
            "Length of Stopwords: 179\n"
          ],
          "name": "stdout"
        }
      ]
    },
    {
      "cell_type": "code",
      "metadata": {
        "colab_type": "code",
        "outputId": "42e6f0d3-8444-47dc-ba7c-870c2549c992",
        "id": "Q4IdQeBwZ-Qc",
        "colab": {
          "base_uri": "https://localhost:8080/",
          "height": 68
        }
      },
      "source": [
        "#Removing punctuations and stop words from captions\n",
        "# setup prograss tracker\n",
        "pbar = pyprind.ProgBar(len(df_caption['caption']), title='Counting word occurrences')\n",
        "for i, cap in enumerate(df_caption['caption']):\n",
        "    # replace punctuations with space\n",
        "    # convert words to lower case \n",
        "    text = ''.join([c if c not in punctuation else ' ' for c in cap]).lower()\n",
        "    #removing stopwords\n",
        "    rmv_stopwords= ' '.join([word for word in text.split() if word not in stopwords])\n",
        "    df_caption.loc[i,'caption'] = rmv_stopwords #updating the original captions \n",
        "    pbar.update()\n"
      ],
      "execution_count": 0,
      "outputs": [
        {
          "output_type": "stream",
          "text": [
            "Counting word occurrences\n",
            "0% [##############################] 100% | ETA: 00:00:00\n",
            "Total time elapsed: 00:00:01\n"
          ],
          "name": "stderr"
        }
      ]
    },
    {
      "cell_type": "code",
      "metadata": {
        "colab_type": "code",
        "outputId": "f4b42d1c-0012-47c0-88b3-0fb633583cbf",
        "id": "1xYIanfBZ-Qe",
        "colab": {
          "base_uri": "https://localhost:8080/",
          "height": 204
        }
      },
      "source": [
        "df_caption.head()"
      ],
      "execution_count": 0,
      "outputs": [
        {
          "output_type": "execute_result",
          "data": {
            "text/html": [
              "<div>\n",
              "<style scoped>\n",
              "    .dataframe tbody tr th:only-of-type {\n",
              "        vertical-align: middle;\n",
              "    }\n",
              "\n",
              "    .dataframe tbody tr th {\n",
              "        vertical-align: top;\n",
              "    }\n",
              "\n",
              "    .dataframe thead th {\n",
              "        text-align: right;\n",
              "    }\n",
              "</style>\n",
              "<table border=\"1\" class=\"dataframe\">\n",
              "  <thead>\n",
              "    <tr style=\"text-align: right;\">\n",
              "      <th></th>\n",
              "      <th>video</th>\n",
              "      <th>caption</th>\n",
              "    </tr>\n",
              "  </thead>\n",
              "  <tbody>\n",
              "    <tr>\n",
              "      <th>0</th>\n",
              "      <td>video3.webm</td>\n",
              "      <td>blonde woman massaged tilt</td>\n",
              "    </tr>\n",
              "    <tr>\n",
              "      <th>1</th>\n",
              "      <td>video4.webm</td>\n",
              "      <td>roulette table spinning ball closeup shot</td>\n",
              "    </tr>\n",
              "    <tr>\n",
              "      <th>2</th>\n",
              "      <td>video6.webm</td>\n",
              "      <td>khr gangsters</td>\n",
              "    </tr>\n",
              "    <tr>\n",
              "      <th>3</th>\n",
              "      <td>video8.webm</td>\n",
              "      <td>medical helicopter hovers airport</td>\n",
              "    </tr>\n",
              "    <tr>\n",
              "      <th>4</th>\n",
              "      <td>video10.webm</td>\n",
              "      <td>couple relaxing picnic crane shot</td>\n",
              "    </tr>\n",
              "  </tbody>\n",
              "</table>\n",
              "</div>"
            ],
            "text/plain": [
              "          video                                    caption\n",
              "0   video3.webm                 blonde woman massaged tilt\n",
              "1   video4.webm  roulette table spinning ball closeup shot\n",
              "2   video6.webm                              khr gangsters\n",
              "3   video8.webm          medical helicopter hovers airport\n",
              "4  video10.webm          couple relaxing picnic crane shot"
            ]
          },
          "metadata": {
            "tags": []
          },
          "execution_count": 47
        }
      ]
    },
    {
      "cell_type": "code",
      "metadata": {
        "colab_type": "code",
        "outputId": "86716aa3-b712-4640-c8a2-dc584eb59dea",
        "id": "ue_y8uHwZ-Qf",
        "colab": {
          "base_uri": "https://localhost:8080/",
          "height": 34
        }
      },
      "source": [
        "#implementing bag of words for the combined captions\n",
        "from sklearn.feature_extraction.text import CountVectorizer\n",
        "vectorizer = CountVectorizer(analyzer = \"word\",max_features=3112) \n",
        "captions_bag = vectorizer.fit_transform(df_caption.caption).toarray()\n",
        "type(captions_bag)"
      ],
      "execution_count": 0,
      "outputs": [
        {
          "output_type": "execute_result",
          "data": {
            "text/plain": [
              "numpy.ndarray"
            ]
          },
          "metadata": {
            "tags": []
          },
          "execution_count": 48
        }
      ]
    },
    {
      "cell_type": "code",
      "metadata": {
        "colab_type": "code",
        "outputId": "26489566-2a02-451e-856c-197cdae6037d",
        "id": "22HfqVoAZ-Qh",
        "colab": {
          "base_uri": "https://localhost:8080/",
          "height": 34
        }
      },
      "source": [
        "captions_bag.shape"
      ],
      "execution_count": 0,
      "outputs": [
        {
          "output_type": "execute_result",
          "data": {
            "text/plain": [
              "(6000, 3112)"
            ]
          },
          "metadata": {
            "tags": []
          },
          "execution_count": 49
        }
      ]
    },
    {
      "cell_type": "markdown",
      "metadata": {
        "colab_type": "text",
        "id": "yQIso2p6Z-Qi"
      },
      "source": [
        "##4.2 : Combining Captions and C3D into a single Vector"
      ]
    },
    {
      "cell_type": "code",
      "metadata": {
        "colab_type": "code",
        "id": "RRwBBqRJZ-Qj",
        "colab": {}
      },
      "source": [
        "captions_c3d = (captions_bag.tolist())\n",
        "counter = 0\n",
        "for item in range(6000):\n",
        "    captions_c3d[counter] = np.append(captions_c3d[counter],C3D_Features[counter],axis=0)\n",
        "    counter = counter+1"
      ],
      "execution_count": 0,
      "outputs": []
    },
    {
      "cell_type": "markdown",
      "metadata": {
        "id": "5gGjFLySO8u1",
        "colab_type": "text"
      },
      "source": [
        ""
      ]
    },
    {
      "cell_type": "code",
      "metadata": {
        "colab_type": "code",
        "outputId": "a4178068-e28b-481c-ccff-8284b24193b8",
        "id": "v8OQVm9UZ-Qk",
        "colab": {
          "base_uri": "https://localhost:8080/",
          "height": 34
        }
      },
      "source": [
        "len(captions_c3d[0]) "
      ],
      "execution_count": 0,
      "outputs": [
        {
          "output_type": "execute_result",
          "data": {
            "text/plain": [
              "3213"
            ]
          },
          "metadata": {
            "tags": []
          },
          "execution_count": 75
        }
      ]
    },
    {
      "cell_type": "code",
      "metadata": {
        "colab_type": "code",
        "outputId": "ea4b9f3a-4ca9-465e-b5c9-a11840660212",
        "id": "DlVdnCgrZ-Qn",
        "colab": {
          "base_uri": "https://localhost:8080/",
          "height": 34
        }
      },
      "source": [
        "len(captions_c3d)"
      ],
      "execution_count": 0,
      "outputs": [
        {
          "output_type": "execute_result",
          "data": {
            "text/plain": [
              "6000"
            ]
          },
          "metadata": {
            "tags": []
          },
          "execution_count": 76
        }
      ]
    },
    {
      "cell_type": "markdown",
      "metadata": {
        "colab_type": "text",
        "id": "l1EJUDuWZ-Qs"
      },
      "source": [
        "##4.3 : Combining Captions+C3D+HMP"
      ]
    },
    {
      "cell_type": "code",
      "metadata": {
        "colab_type": "code",
        "id": "wBJ1tnfsZ-Qs",
        "colab": {}
      },
      "source": [
        "#Combining captions_c3d with HMP to form \n",
        "captions_c3d_hmp = captions_c3d\n",
        "counter = 0\n",
        "for item in range(6000):\n",
        "    captions_c3d_hmp[counter] = np.append(captions_c3d_hmp[counter],HMP_Features[counter],axis=0)\n",
        "    counter = counter+1"
      ],
      "execution_count": 0,
      "outputs": []
    },
    {
      "cell_type": "code",
      "metadata": {
        "colab_type": "code",
        "outputId": "88f56ce8-67fe-40d9-e76c-f235e34f87b3",
        "id": "rpGeLIhRZ-Qu",
        "colab": {}
      },
      "source": [
        "len(captions_c3d_hmp[0]) "
      ],
      "execution_count": 0,
      "outputs": [
        {
          "output_type": "execute_result",
          "data": {
            "text/plain": [
              "11263"
            ]
          },
          "metadata": {
            "tags": []
          },
          "execution_count": 23
        }
      ]
    },
    {
      "cell_type": "code",
      "metadata": {
        "colab_type": "code",
        "outputId": "ca9e342d-70c3-4742-b32c-d02e4f43abd0",
        "id": "zG1tB-1BZ-Qv",
        "colab": {
          "base_uri": "https://localhost:8080/",
          "height": 34
        }
      },
      "source": [
        "len(captions_c3d_hmp)"
      ],
      "execution_count": 0,
      "outputs": [
        {
          "output_type": "execute_result",
          "data": {
            "text/plain": [
              "6000"
            ]
          },
          "metadata": {
            "tags": []
          },
          "execution_count": 83
        }
      ]
    },
    {
      "cell_type": "markdown",
      "metadata": {
        "colab_type": "text",
        "id": "wJlUtsSiZ-Qw"
      },
      "source": [
        "Now we have the following features\n",
        "\n",
        "1.   Captions in: captions_bag\n",
        "2.   C3D in: c3dfeatures \n",
        "3.   HMP in: hmp_features\n",
        "4.   Captions and C3D:&nbsp;  captions_c3d\n",
        "5.   Captions, C3D and HMP in: captions_c3d_hmp"
      ]
    },
    {
      "cell_type": "markdown",
      "metadata": {
        "id": "5BRlku-axdhY",
        "colab_type": "text"
      },
      "source": [
        "#4 EXPERIMEMTS WITH DIFFERENT MACHINE LEARNING MODELS AND FEATURES/COMBINATIONS"
      ]
    },
    {
      "cell_type": "markdown",
      "metadata": {
        "id": "1DCBaf63xdhY",
        "colab_type": "text"
      },
      "source": [
        "### 4.1: Random Forest  with Captions"
      ]
    },
    {
      "cell_type": "code",
      "metadata": {
        "id": "ylAwXuH2xdhZ",
        "colab_type": "code",
        "colab": {}
      },
      "source": [
        "X = captions_bag\n",
        "y = labels[['short-term_memorability','long-term_memorability']].values"
      ],
      "execution_count": 0,
      "outputs": []
    },
    {
      "cell_type": "code",
      "metadata": {
        "id": "w4Lo7lHNxdhb",
        "colab_type": "code",
        "colab": {}
      },
      "source": [
        "# Splitting the dataset into the Training set and Test set\n",
        "X_train,X_test,y_train,y_test = train_test_split(X,y,test_size=0.2,random_state=42)"
      ],
      "execution_count": 0,
      "outputs": []
    },
    {
      "cell_type": "code",
      "metadata": {
        "id": "Re63V-Czxdhc",
        "colab_type": "code",
        "outputId": "67e4fd3d-748c-41ca-f001-fe7f85e4a4d4",
        "colab": {
          "base_uri": "https://localhost:8080/",
          "height": 85
        }
      },
      "source": [
        "print('X_train ', X_train.shape)\n",
        "print('X_test  ', X_test.shape)\n",
        "print('Y_train ', y_train.shape)\n",
        "print('Y_test  ', y_test.shape)"
      ],
      "execution_count": 0,
      "outputs": [
        {
          "output_type": "stream",
          "text": [
            "X_train  (4800, 3112)\n",
            "X_test   (1200, 3112)\n",
            "Y_train  (4800, 2)\n",
            "Y_test   (1200, 2)\n"
          ],
          "name": "stdout"
        }
      ]
    },
    {
      "cell_type": "code",
      "metadata": {
        "id": "XO4tOAkqxdhe",
        "colab_type": "code",
        "colab": {}
      },
      "source": [
        "from sklearn.ensemble import RandomForestRegressor\n",
        "captions_rf = RandomForestRegressor(n_estimators=100,random_state=45)"
      ],
      "execution_count": 0,
      "outputs": []
    },
    {
      "cell_type": "code",
      "metadata": {
        "id": "ltXw-UZjxdhg",
        "colab_type": "code",
        "outputId": "266b58d6-317f-4414-a933-aa24f7a51dc7",
        "colab": {
          "base_uri": "https://localhost:8080/",
          "height": 136
        }
      },
      "source": [
        "captions_rf.fit(X_train,y_train)"
      ],
      "execution_count": 0,
      "outputs": [
        {
          "output_type": "execute_result",
          "data": {
            "text/plain": [
              "RandomForestRegressor(bootstrap=True, ccp_alpha=0.0, criterion='mse',\n",
              "                      max_depth=None, max_features='auto', max_leaf_nodes=None,\n",
              "                      max_samples=None, min_impurity_decrease=0.0,\n",
              "                      min_impurity_split=None, min_samples_leaf=1,\n",
              "                      min_samples_split=2, min_weight_fraction_leaf=0.0,\n",
              "                      n_estimators=100, n_jobs=None, oob_score=False,\n",
              "                      random_state=45, verbose=0, warm_start=False)"
            ]
          },
          "metadata": {
            "tags": []
          },
          "execution_count": 42
        }
      ]
    },
    {
      "cell_type": "code",
      "metadata": {
        "id": "d0U5IEY_xdhh",
        "colab_type": "code",
        "colab": {}
      },
      "source": [
        "captions_pred = captions_rf.predict(X_test)"
      ],
      "execution_count": 0,
      "outputs": []
    },
    {
      "cell_type": "code",
      "metadata": {
        "id": "HQUC8oeDxdhj",
        "colab_type": "code",
        "outputId": "d813aec3-4c5f-4b01-9461-e17929d9ac22",
        "colab": {
          "base_uri": "https://localhost:8080/",
          "height": 51
        }
      },
      "source": [
        "Get_score(captions_pred, y_test)"
      ],
      "execution_count": 0,
      "outputs": [
        {
          "output_type": "stream",
          "text": [
            "The Spearman's correlation coefficient is: 0.409\n",
            "The Spearman's correlation coefficient is: 0.176\n"
          ],
          "name": "stdout"
        }
      ]
    },
    {
      "cell_type": "markdown",
      "metadata": {
        "id": "BvDi5P6Vxdhl",
        "colab_type": "text"
      },
      "source": [
        "***"
      ]
    },
    {
      "cell_type": "markdown",
      "metadata": {
        "id": "8sIXbdK7xdhl",
        "colab_type": "text"
      },
      "source": [
        "### 4.2: SVR with Captions"
      ]
    },
    {
      "cell_type": "code",
      "metadata": {
        "id": "9OTd5bEwxdho",
        "colab_type": "code",
        "colab": {}
      },
      "source": [
        "svr_X = captions_bag\n",
        "svr_y_short = labels[['short-term_memorability']].values\n",
        "svr_y_long = labels[['long-term_memorability']].values"
      ],
      "execution_count": 0,
      "outputs": []
    },
    {
      "cell_type": "code",
      "metadata": {
        "id": "NXDVyOdfxdhp",
        "colab_type": "code",
        "colab": {}
      },
      "source": [
        "# Splitting the dataset into the Training set and Test set\n",
        "short_X_train,short_X_test,short_y_train,short_y_test = train_test_split(svr_X,svr_y_short,test_size=0.2,random_state=40)\n",
        "long_X_train,long_X_test,long_y_train,long_y_test = train_test_split(svr_X,svr_y_long,test_size=0.2,random_state=40)"
      ],
      "execution_count": 0,
      "outputs": []
    },
    {
      "cell_type": "code",
      "metadata": {
        "scrolled": true,
        "id": "LMsVnbrHxdhr",
        "colab_type": "code",
        "colab": {}
      },
      "source": [
        "from sklearn.preprocessing import StandardScaler\n",
        "short_X = StandardScaler()\n",
        "short_y = StandardScaler()\n",
        "short_X_train = short_X.fit_transform(short_X_train)\n",
        "short_y_train = short_y.fit_transform(short_y_train)\n",
        "long_X = StandardScaler()\n",
        "long_y = StandardScaler()\n",
        "long_X_train = long_X.fit_transform(long_X_train)\n",
        "long_y_train = long_y.fit_transform(long_y_train)"
      ],
      "execution_count": 0,
      "outputs": []
    },
    {
      "cell_type": "code",
      "metadata": {
        "id": "r_zsdNnDxdht",
        "colab_type": "code",
        "outputId": "307ad341-04ea-46c0-f994-c0dab190ab14",
        "colab": {
          "base_uri": "https://localhost:8080/",
          "height": 139
        }
      },
      "source": [
        "from sklearn.svm import SVR\n",
        "short_regressor = SVR(kernel = 'rbf')\n",
        "long_regressor = SVR(kernel = 'rbf')\n",
        "short_regressor.fit(short_X_train, short_y_train)\n",
        "long_regressor.fit(long_X_train,long_y_train)"
      ],
      "execution_count": 0,
      "outputs": [
        {
          "output_type": "stream",
          "text": [
            "/usr/local/lib/python3.6/dist-packages/sklearn/utils/validation.py:760: DataConversionWarning: A column-vector y was passed when a 1d array was expected. Please change the shape of y to (n_samples, ), for example using ravel().\n",
            "  y = column_or_1d(y, warn=True)\n",
            "/usr/local/lib/python3.6/dist-packages/sklearn/utils/validation.py:760: DataConversionWarning: A column-vector y was passed when a 1d array was expected. Please change the shape of y to (n_samples, ), for example using ravel().\n",
            "  y = column_or_1d(y, warn=True)\n"
          ],
          "name": "stderr"
        },
        {
          "output_type": "execute_result",
          "data": {
            "text/plain": [
              "SVR(C=1.0, cache_size=200, coef0=0.0, degree=3, epsilon=0.1, gamma='scale',\n",
              "    kernel='rbf', max_iter=-1, shrinking=True, tol=0.001, verbose=False)"
            ]
          },
          "metadata": {
            "tags": []
          },
          "execution_count": 48
        }
      ]
    },
    {
      "cell_type": "code",
      "metadata": {
        "id": "PK6xT8cJxdhv",
        "colab_type": "code",
        "colab": {}
      },
      "source": [
        "short_pred = short_regressor.predict(short_X_test)\n",
        "short_pred = short_y.inverse_transform(short_pred)\n",
        "long_pred = long_regressor.predict(long_X_test)\n",
        "long_pred = long_y.inverse_transform(long_pred)"
      ],
      "execution_count": 0,
      "outputs": []
    },
    {
      "cell_type": "code",
      "metadata": {
        "id": "3LJtMudYxdhx",
        "colab_type": "code",
        "outputId": "fff51b7c-8f7b-4141-cdf3-c22e63e497b5",
        "colab": {
          "base_uri": "https://localhost:8080/",
          "height": 51
        }
      },
      "source": [
        "Get_score(short_pred, short_y_test)\n",
        "Get_score(long_pred, long_y_test)"
      ],
      "execution_count": 0,
      "outputs": [
        {
          "output_type": "stream",
          "text": [
            "The Spearman's correlation coefficient is: 0.338\n",
            "The Spearman's correlation coefficient is: 0.170\n"
          ],
          "name": "stdout"
        }
      ]
    },
    {
      "cell_type": "markdown",
      "metadata": {
        "id": "nhLI-nLrxdhy",
        "colab_type": "text"
      },
      "source": [
        "***\n",
        "<a id='section4.3'></a>"
      ]
    },
    {
      "cell_type": "markdown",
      "metadata": {
        "id": "S85LL21Hxdhy",
        "colab_type": "text"
      },
      "source": [
        "### 4.3: Random Forest with C3D"
      ]
    },
    {
      "cell_type": "code",
      "metadata": {
        "id": "OY1Rsf3mxdhy",
        "colab_type": "code",
        "colab": {}
      },
      "source": [
        "X = c3dfeatures\n",
        "y = labels[['short-term_memorability','long-term_memorability']].values"
      ],
      "execution_count": 0,
      "outputs": []
    },
    {
      "cell_type": "code",
      "metadata": {
        "id": "8Pnovmz2xdh0",
        "colab_type": "code",
        "colab": {}
      },
      "source": [
        "# Splitting the dataset into the Training set and Test set\n",
        "X_train,X_test,y_train,y_test = train_test_split(X,y,test_size=0.2,random_state=42)"
      ],
      "execution_count": 0,
      "outputs": []
    },
    {
      "cell_type": "code",
      "metadata": {
        "id": "o7YqnQibxdh1",
        "colab_type": "code",
        "colab": {}
      },
      "source": [
        "from sklearn.ensemble import RandomForestRegressor\n",
        "rf_regressor = RandomForestRegressor(n_estimators=20,random_state=42,verbose=2)"
      ],
      "execution_count": 0,
      "outputs": []
    },
    {
      "cell_type": "code",
      "metadata": {
        "id": "WFYfQQAtxdh4",
        "colab_type": "code",
        "outputId": "827a3de8-72c7-4589-944a-64a76d7713a5",
        "colab": {
          "base_uri": "https://localhost:8080/",
          "height": 527
        }
      },
      "source": [
        "rf_regressor.fit(X_train,y_train)"
      ],
      "execution_count": 0,
      "outputs": [
        {
          "output_type": "stream",
          "text": [
            "[Parallel(n_jobs=1)]: Using backend SequentialBackend with 1 concurrent workers.\n"
          ],
          "name": "stderr"
        },
        {
          "output_type": "stream",
          "text": [
            "building tree 1 of 20\n"
          ],
          "name": "stdout"
        },
        {
          "output_type": "stream",
          "text": [
            "[Parallel(n_jobs=1)]: Done   1 out of   1 | elapsed:    0.4s remaining:    0.0s\n"
          ],
          "name": "stderr"
        },
        {
          "output_type": "stream",
          "text": [
            "building tree 2 of 20\n",
            "building tree 3 of 20\n",
            "building tree 4 of 20\n",
            "building tree 5 of 20\n",
            "building tree 6 of 20\n",
            "building tree 7 of 20\n",
            "building tree 8 of 20\n",
            "building tree 9 of 20\n",
            "building tree 10 of 20\n",
            "building tree 11 of 20\n",
            "building tree 12 of 20\n",
            "building tree 13 of 20\n",
            "building tree 14 of 20\n",
            "building tree 15 of 20\n",
            "building tree 16 of 20\n",
            "building tree 17 of 20\n",
            "building tree 18 of 20\n",
            "building tree 19 of 20\n",
            "building tree 20 of 20\n"
          ],
          "name": "stdout"
        },
        {
          "output_type": "stream",
          "text": [
            "[Parallel(n_jobs=1)]: Done  20 out of  20 | elapsed:    8.4s finished\n"
          ],
          "name": "stderr"
        },
        {
          "output_type": "execute_result",
          "data": {
            "text/plain": [
              "RandomForestRegressor(bootstrap=True, ccp_alpha=0.0, criterion='mse',\n",
              "                      max_depth=None, max_features='auto', max_leaf_nodes=None,\n",
              "                      max_samples=None, min_impurity_decrease=0.0,\n",
              "                      min_impurity_split=None, min_samples_leaf=1,\n",
              "                      min_samples_split=2, min_weight_fraction_leaf=0.0,\n",
              "                      n_estimators=20, n_jobs=None, oob_score=False,\n",
              "                      random_state=42, verbose=2, warm_start=False)"
            ]
          },
          "metadata": {
            "tags": []
          },
          "execution_count": 55
        }
      ]
    },
    {
      "cell_type": "code",
      "metadata": {
        "id": "QpL448e8xdh6",
        "colab_type": "code",
        "outputId": "2e4ac9e1-2f1f-4ec3-bd88-20ad5afb821f",
        "colab": {
          "base_uri": "https://localhost:8080/",
          "height": 68
        }
      },
      "source": [
        "rf_pred = rf_regressor.predict(X_test)"
      ],
      "execution_count": 0,
      "outputs": [
        {
          "output_type": "stream",
          "text": [
            "[Parallel(n_jobs=1)]: Using backend SequentialBackend with 1 concurrent workers.\n",
            "[Parallel(n_jobs=1)]: Done   1 out of   1 | elapsed:    0.0s remaining:    0.0s\n",
            "[Parallel(n_jobs=1)]: Done  20 out of  20 | elapsed:    0.0s finished\n"
          ],
          "name": "stderr"
        }
      ]
    },
    {
      "cell_type": "code",
      "metadata": {
        "id": "gnCBREvnxdh8",
        "colab_type": "code",
        "outputId": "b6d72771-4b85-4baf-b21d-8768afb89c05",
        "colab": {
          "base_uri": "https://localhost:8080/",
          "height": 51
        }
      },
      "source": [
        "Get_score(rf_pred, y_test)"
      ],
      "execution_count": 0,
      "outputs": [
        {
          "output_type": "stream",
          "text": [
            "The Spearman's correlation coefficient is: 0.266\n",
            "The Spearman's correlation coefficient is: 0.122\n"
          ],
          "name": "stdout"
        }
      ]
    },
    {
      "cell_type": "markdown",
      "metadata": {
        "id": "iTafRE2gxdh9",
        "colab_type": "text"
      },
      "source": [
        "***\n",
        "<a id='section4.4'></a>"
      ]
    },
    {
      "cell_type": "markdown",
      "metadata": {
        "id": "n2Zxfekzxdh-",
        "colab_type": "text"
      },
      "source": [
        "### 4.4: SVR with C3D"
      ]
    },
    {
      "cell_type": "code",
      "metadata": {
        "id": "tUWOQ_cjxdh-",
        "colab_type": "code",
        "colab": {}
      },
      "source": [
        "svr_X = c3dfeatures\n",
        "svr_y_short = labels[['short-term_memorability']].values\n",
        "svr_y_long = labels[['long-term_memorability']].values"
      ],
      "execution_count": 0,
      "outputs": []
    },
    {
      "cell_type": "code",
      "metadata": {
        "id": "Azs-Vb5ZxdiA",
        "colab_type": "code",
        "colab": {}
      },
      "source": [
        "# Splitting the dataset into the Training set and Test set\n",
        "short_X_train,short_X_test,short_y_train,short_y_test = train_test_split(svr_X,svr_y_short,test_size=0.2,random_state=40)\n",
        "long_X_train,long_X_test,long_y_train,long_y_test = train_test_split(svr_X,svr_y_long,test_size=0.2,random_state=40)"
      ],
      "execution_count": 0,
      "outputs": []
    },
    {
      "cell_type": "code",
      "metadata": {
        "id": "JykjafpHxdiB",
        "colab_type": "code",
        "colab": {}
      },
      "source": [
        "from sklearn.preprocessing import StandardScaler\n",
        "short_X = StandardScaler()\n",
        "short_y = StandardScaler()\n",
        "short_X_train = short_X.fit_transform(short_X_train)\n",
        "short_y_train = short_y.fit_transform(short_y_train)\n",
        "long_X = StandardScaler()\n",
        "long_y = StandardScaler()\n",
        "long_X_train = long_X.fit_transform(long_X_train)\n",
        "long_y_train = long_y.fit_transform(long_y_train)"
      ],
      "execution_count": 0,
      "outputs": []
    },
    {
      "cell_type": "code",
      "metadata": {
        "id": "MePtedraxdiD",
        "colab_type": "code",
        "outputId": "b6f8d28b-7ee8-4c9a-ce71-86fd30c6dea8",
        "colab": {
          "base_uri": "https://localhost:8080/",
          "height": 139
        }
      },
      "source": [
        "from sklearn.svm import SVR\n",
        "short_regressor = SVR(kernel = 'rbf')\n",
        "long_regressor = SVR(kernel = 'rbf')\n",
        "short_regressor.fit(short_X_train, short_y_train)\n",
        "long_regressor.fit(long_X_train,long_y_train)"
      ],
      "execution_count": 0,
      "outputs": [
        {
          "output_type": "stream",
          "text": [
            "/usr/local/lib/python3.6/dist-packages/sklearn/utils/validation.py:760: DataConversionWarning: A column-vector y was passed when a 1d array was expected. Please change the shape of y to (n_samples, ), for example using ravel().\n",
            "  y = column_or_1d(y, warn=True)\n",
            "/usr/local/lib/python3.6/dist-packages/sklearn/utils/validation.py:760: DataConversionWarning: A column-vector y was passed when a 1d array was expected. Please change the shape of y to (n_samples, ), for example using ravel().\n",
            "  y = column_or_1d(y, warn=True)\n"
          ],
          "name": "stderr"
        },
        {
          "output_type": "execute_result",
          "data": {
            "text/plain": [
              "SVR(C=1.0, cache_size=200, coef0=0.0, degree=3, epsilon=0.1, gamma='scale',\n",
              "    kernel='rbf', max_iter=-1, shrinking=True, tol=0.001, verbose=False)"
            ]
          },
          "metadata": {
            "tags": []
          },
          "execution_count": 61
        }
      ]
    },
    {
      "cell_type": "code",
      "metadata": {
        "id": "ZnHv6SvZxdiF",
        "colab_type": "code",
        "colab": {}
      },
      "source": [
        "short_pred = short_regressor.predict(short_X_test)\n",
        "short_pred = short_y.inverse_transform(short_pred)\n",
        "long_pred = long_regressor.predict(long_X_test)\n",
        "long_pred = long_y.inverse_transform(long_pred)"
      ],
      "execution_count": 0,
      "outputs": []
    },
    {
      "cell_type": "code",
      "metadata": {
        "id": "nUfWTfwBxdiG",
        "colab_type": "code",
        "outputId": "d1c98c64-857b-4666-8608-c37d943c4869",
        "colab": {
          "base_uri": "https://localhost:8080/",
          "height": 51
        }
      },
      "source": [
        "Get_score(short_pred, short_y_test)\n",
        "Get_score(long_pred, long_y_test)"
      ],
      "execution_count": 0,
      "outputs": [
        {
          "output_type": "stream",
          "text": [
            "The Spearman's correlation coefficient is: 0.242\n",
            "The Spearman's correlation coefficient is: 0.107\n"
          ],
          "name": "stdout"
        }
      ]
    },
    {
      "cell_type": "markdown",
      "metadata": {
        "id": "jtfbyrs1xdiJ",
        "colab_type": "text"
      },
      "source": [
        "***\n",
        "<a id='section4.5'></a>"
      ]
    },
    {
      "cell_type": "markdown",
      "metadata": {
        "id": "usVN0gxjxdiJ",
        "colab_type": "text"
      },
      "source": [
        "### 4.5: Random Forest with Captions and C3D"
      ]
    },
    {
      "cell_type": "code",
      "metadata": {
        "id": "TTgmfcSyxdiJ",
        "colab_type": "code",
        "colab": {}
      },
      "source": [
        "X = captions_c3d\n",
        "y = labels[['short-term_memorability','long-term_memorability']].values"
      ],
      "execution_count": 0,
      "outputs": []
    },
    {
      "cell_type": "code",
      "metadata": {
        "id": "yCeklXfPxdiM",
        "colab_type": "code",
        "colab": {}
      },
      "source": [
        "# Splitting the dataset into the Training set and Test set\n",
        "X_train,X_test,y_train,y_test = train_test_split(X,y,test_size=0.2,random_state=42)"
      ],
      "execution_count": 0,
      "outputs": []
    },
    {
      "cell_type": "code",
      "metadata": {
        "id": "FYmeJ9oXxdiQ",
        "colab_type": "code",
        "colab": {}
      },
      "source": [
        "from sklearn.ensemble import RandomForestRegressor\n",
        "rf_regressor = RandomForestRegressor(n_estimators=50,random_state=45,verbose=2)"
      ],
      "execution_count": 0,
      "outputs": []
    },
    {
      "cell_type": "code",
      "metadata": {
        "id": "xr-nImdlxdiT",
        "colab_type": "code",
        "outputId": "2551d9d5-6157-4e6f-ee14-127ce03f3eff",
        "colab": {
          "base_uri": "https://localhost:8080/",
          "height": 1000
        }
      },
      "source": [
        "rf_regressor.fit(X_train,y_train)"
      ],
      "execution_count": 0,
      "outputs": [
        {
          "output_type": "stream",
          "text": [
            "[Parallel(n_jobs=1)]: Using backend SequentialBackend with 1 concurrent workers.\n"
          ],
          "name": "stderr"
        },
        {
          "output_type": "stream",
          "text": [
            "building tree 1 of 50\n"
          ],
          "name": "stdout"
        },
        {
          "output_type": "stream",
          "text": [
            "[Parallel(n_jobs=1)]: Done   1 out of   1 | elapsed:   20.6s remaining:    0.0s\n"
          ],
          "name": "stderr"
        },
        {
          "output_type": "stream",
          "text": [
            "building tree 2 of 50\n",
            "building tree 3 of 50\n",
            "building tree 4 of 50\n",
            "building tree 5 of 50\n",
            "building tree 6 of 50\n",
            "building tree 7 of 50\n",
            "building tree 8 of 50\n",
            "building tree 9 of 50\n",
            "building tree 10 of 50\n",
            "building tree 11 of 50\n",
            "building tree 12 of 50\n",
            "building tree 13 of 50\n",
            "building tree 14 of 50\n",
            "building tree 15 of 50\n",
            "building tree 16 of 50\n",
            "building tree 17 of 50\n",
            "building tree 18 of 50\n",
            "building tree 19 of 50\n",
            "building tree 20 of 50\n",
            "building tree 21 of 50\n",
            "building tree 22 of 50\n",
            "building tree 23 of 50\n",
            "building tree 24 of 50\n",
            "building tree 25 of 50\n",
            "building tree 26 of 50\n",
            "building tree 27 of 50\n",
            "building tree 28 of 50\n",
            "building tree 29 of 50\n",
            "building tree 30 of 50\n",
            "building tree 31 of 50\n",
            "building tree 32 of 50\n",
            "building tree 33 of 50\n",
            "building tree 34 of 50\n",
            "building tree 35 of 50\n",
            "building tree 36 of 50\n",
            "building tree 37 of 50\n",
            "building tree 38 of 50\n",
            "building tree 39 of 50\n",
            "building tree 40 of 50\n",
            "building tree 41 of 50\n",
            "building tree 42 of 50\n",
            "building tree 43 of 50\n",
            "building tree 44 of 50\n",
            "building tree 45 of 50\n",
            "building tree 46 of 50\n",
            "building tree 47 of 50\n",
            "building tree 48 of 50\n",
            "building tree 49 of 50\n",
            "building tree 50 of 50\n"
          ],
          "name": "stdout"
        },
        {
          "output_type": "stream",
          "text": [
            "[Parallel(n_jobs=1)]: Done  50 out of  50 | elapsed: 14.7min finished\n"
          ],
          "name": "stderr"
        },
        {
          "output_type": "execute_result",
          "data": {
            "text/plain": [
              "RandomForestRegressor(bootstrap=True, ccp_alpha=0.0, criterion='mse',\n",
              "                      max_depth=None, max_features='auto', max_leaf_nodes=None,\n",
              "                      max_samples=None, min_impurity_decrease=0.0,\n",
              "                      min_impurity_split=None, min_samples_leaf=1,\n",
              "                      min_samples_split=2, min_weight_fraction_leaf=0.0,\n",
              "                      n_estimators=50, n_jobs=None, oob_score=False,\n",
              "                      random_state=45, verbose=2, warm_start=False)"
            ]
          },
          "metadata": {
            "tags": []
          },
          "execution_count": 67
        }
      ]
    },
    {
      "cell_type": "code",
      "metadata": {
        "id": "cmqNDh1dxdiU",
        "colab_type": "code",
        "outputId": "f5441c93-1d7b-45b7-d4a9-2992e04c949e",
        "colab": {
          "base_uri": "https://localhost:8080/",
          "height": 68
        }
      },
      "source": [
        "rf_pred = rf_regressor.predict(X_test)"
      ],
      "execution_count": 0,
      "outputs": [
        {
          "output_type": "stream",
          "text": [
            "[Parallel(n_jobs=1)]: Using backend SequentialBackend with 1 concurrent workers.\n",
            "[Parallel(n_jobs=1)]: Done   1 out of   1 | elapsed:    0.0s remaining:    0.0s\n",
            "[Parallel(n_jobs=1)]: Done  50 out of  50 | elapsed:    0.0s finished\n"
          ],
          "name": "stderr"
        }
      ]
    },
    {
      "cell_type": "code",
      "metadata": {
        "id": "AxOJPWIfxdiV",
        "colab_type": "code",
        "outputId": "15d0e838-ce24-4591-eaf5-e11ef14246e4",
        "colab": {
          "base_uri": "https://localhost:8080/",
          "height": 51
        }
      },
      "source": [
        "Get_score(rf_pred, y_test)"
      ],
      "execution_count": 0,
      "outputs": [
        {
          "output_type": "stream",
          "text": [
            "The Spearman's correlation coefficient is: 0.300\n",
            "The Spearman's correlation coefficient is: 0.120\n"
          ],
          "name": "stdout"
        }
      ]
    },
    {
      "cell_type": "markdown",
      "metadata": {
        "id": "-Mgu31JjxdiX",
        "colab_type": "text"
      },
      "source": [
        "***\n",
        "<a id='section4.6'></a>"
      ]
    },
    {
      "cell_type": "markdown",
      "metadata": {
        "id": "LBFTQLsTxdiX",
        "colab_type": "text"
      },
      "source": [
        "### 4.6: SVR with Captions and C3D"
      ]
    },
    {
      "cell_type": "code",
      "metadata": {
        "id": "HDymrQKKxdiX",
        "colab_type": "code",
        "colab": {}
      },
      "source": [
        "svr_X = captions_c3d\n",
        "svr_y_short = labels[['short-term_memorability']].values\n",
        "svr_y_long = labels[['long-term_memorability']].values"
      ],
      "execution_count": 0,
      "outputs": []
    },
    {
      "cell_type": "code",
      "metadata": {
        "id": "tQl-FbH_xdic",
        "colab_type": "code",
        "colab": {}
      },
      "source": [
        "# Splitting the dataset into the Training set and Test set\n",
        "short_X_train,short_X_test,short_y_train,short_y_test = train_test_split(svr_X,svr_y_short,test_size=0.2,random_state=40)\n",
        "long_X_train,long_X_test,long_y_train,long_y_test = train_test_split(svr_X,svr_y_long,test_size=0.2,random_state=40)"
      ],
      "execution_count": 0,
      "outputs": []
    },
    {
      "cell_type": "code",
      "metadata": {
        "id": "ohSEIEHxxdie",
        "colab_type": "code",
        "colab": {}
      },
      "source": [
        "from sklearn.preprocessing import StandardScaler\n",
        "short_X = StandardScaler()\n",
        "short_y = StandardScaler()\n",
        "short_X_train = short_X.fit_transform(short_X_train)\n",
        "short_y_train = short_y.fit_transform(short_y_train)\n",
        "long_X = StandardScaler()\n",
        "long_y = StandardScaler()\n",
        "long_X_train = long_X.fit_transform(long_X_train)\n",
        "long_y_train = long_y.fit_transform(long_y_train)"
      ],
      "execution_count": 0,
      "outputs": []
    },
    {
      "cell_type": "code",
      "metadata": {
        "id": "ckwO0ON8xdif",
        "colab_type": "code",
        "outputId": "e1eb0d38-93a2-421c-9232-cdd4f6effdaf",
        "colab": {
          "base_uri": "https://localhost:8080/",
          "height": 139
        }
      },
      "source": [
        "from sklearn.svm import SVR\n",
        "short_regressor = SVR(kernel = 'rbf')\n",
        "long_regressor = SVR(kernel = 'rbf')\n",
        "short_regressor.fit(short_X_train, short_y_train)\n",
        "long_regressor.fit(long_X_train,long_y_train)"
      ],
      "execution_count": 0,
      "outputs": [
        {
          "output_type": "stream",
          "text": [
            "/usr/local/lib/python3.6/dist-packages/sklearn/utils/validation.py:760: DataConversionWarning: A column-vector y was passed when a 1d array was expected. Please change the shape of y to (n_samples, ), for example using ravel().\n",
            "  y = column_or_1d(y, warn=True)\n",
            "/usr/local/lib/python3.6/dist-packages/sklearn/utils/validation.py:760: DataConversionWarning: A column-vector y was passed when a 1d array was expected. Please change the shape of y to (n_samples, ), for example using ravel().\n",
            "  y = column_or_1d(y, warn=True)\n"
          ],
          "name": "stderr"
        },
        {
          "output_type": "execute_result",
          "data": {
            "text/plain": [
              "SVR(C=1.0, cache_size=200, coef0=0.0, degree=3, epsilon=0.1, gamma='scale',\n",
              "    kernel='rbf', max_iter=-1, shrinking=True, tol=0.001, verbose=False)"
            ]
          },
          "metadata": {
            "tags": []
          },
          "execution_count": 73
        }
      ]
    },
    {
      "cell_type": "code",
      "metadata": {
        "id": "r82tmMBHxdig",
        "colab_type": "code",
        "colab": {}
      },
      "source": [
        "short_pred = short_regressor.predict(short_X_test)\n",
        "short_pred = short_y.inverse_transform(short_pred)\n",
        "long_pred = long_regressor.predict(long_X_test)\n",
        "long_pred = long_y.inverse_transform(long_pred)"
      ],
      "execution_count": 0,
      "outputs": []
    },
    {
      "cell_type": "code",
      "metadata": {
        "id": "BODXiaXFxdih",
        "colab_type": "code",
        "outputId": "1e706a62-f3a6-4980-987c-08a82337e884",
        "colab": {
          "base_uri": "https://localhost:8080/",
          "height": 51
        }
      },
      "source": [
        "Get_score(short_pred, short_y_test)\n",
        "Get_score(long_pred, long_y_test)"
      ],
      "execution_count": 0,
      "outputs": [
        {
          "output_type": "stream",
          "text": [
            "The Spearman's correlation coefficient is: 0.355\n",
            "The Spearman's correlation coefficient is: 0.179\n"
          ],
          "name": "stdout"
        }
      ]
    },
    {
      "cell_type": "markdown",
      "metadata": {
        "id": "-U3S1Eixxdii",
        "colab_type": "text"
      },
      "source": [
        "***\n",
        "<a id='section4.7'></a>"
      ]
    },
    {
      "cell_type": "markdown",
      "metadata": {
        "id": "1ExMUlDuxdij",
        "colab_type": "text"
      },
      "source": [
        "### 4.7: Random Forest with Captions, C3D and HMP"
      ]
    },
    {
      "cell_type": "code",
      "metadata": {
        "id": "mCFgdROIxdij",
        "colab_type": "code",
        "colab": {}
      },
      "source": [
        "X = captions_c3d_hmp\n",
        "y = labels[['short-term_memorability','long-term_memorability']].values"
      ],
      "execution_count": 0,
      "outputs": []
    },
    {
      "cell_type": "code",
      "metadata": {
        "id": "OIkGYcaixdik",
        "colab_type": "code",
        "colab": {}
      },
      "source": [
        "# Splitting the dataset into the Training set and Test set\n",
        "X_train,X_test,y_train,y_test = train_test_split(X,y,test_size=0.2,random_state=42)"
      ],
      "execution_count": 0,
      "outputs": []
    },
    {
      "cell_type": "code",
      "metadata": {
        "id": "VX7nBgDKxdil",
        "colab_type": "code",
        "colab": {}
      },
      "source": [
        "from sklearn.ensemble import RandomForestRegressor\n",
        "rf_regressor = RandomForestRegressor(n_estimators=100,random_state=45,verbose=2)"
      ],
      "execution_count": 0,
      "outputs": []
    },
    {
      "cell_type": "code",
      "metadata": {
        "id": "CrLljVdwxdim",
        "colab_type": "code",
        "outputId": "74fcea16-03f3-4a07-d017-a5fec3b2bb88",
        "colab": {
          "base_uri": "https://localhost:8080/",
          "height": 1000
        }
      },
      "source": [
        "rf_regressor.fit(X_train,y_train)"
      ],
      "execution_count": 0,
      "outputs": [
        {
          "output_type": "stream",
          "text": [
            "[Parallel(n_jobs=1)]: Using backend SequentialBackend with 1 concurrent workers.\n"
          ],
          "name": "stderr"
        },
        {
          "output_type": "stream",
          "text": [
            "building tree 1 of 100\n"
          ],
          "name": "stdout"
        },
        {
          "output_type": "stream",
          "text": [
            "[Parallel(n_jobs=1)]: Done   1 out of   1 | elapsed:   20.2s remaining:    0.0s\n"
          ],
          "name": "stderr"
        },
        {
          "output_type": "stream",
          "text": [
            "building tree 2 of 100\n",
            "building tree 3 of 100\n",
            "building tree 4 of 100\n",
            "building tree 5 of 100\n",
            "building tree 6 of 100\n",
            "building tree 7 of 100\n",
            "building tree 8 of 100\n",
            "building tree 9 of 100\n",
            "building tree 10 of 100\n",
            "building tree 11 of 100\n",
            "building tree 12 of 100\n",
            "building tree 13 of 100\n",
            "building tree 14 of 100\n",
            "building tree 15 of 100\n",
            "building tree 16 of 100\n",
            "building tree 17 of 100\n",
            "building tree 18 of 100\n",
            "building tree 19 of 100\n",
            "building tree 20 of 100\n",
            "building tree 21 of 100\n",
            "building tree 22 of 100\n",
            "building tree 23 of 100\n",
            "building tree 24 of 100\n",
            "building tree 25 of 100\n",
            "building tree 26 of 100\n",
            "building tree 27 of 100\n",
            "building tree 28 of 100\n",
            "building tree 29 of 100\n",
            "building tree 30 of 100\n",
            "building tree 31 of 100\n",
            "building tree 32 of 100\n",
            "building tree 33 of 100\n",
            "building tree 34 of 100\n",
            "building tree 35 of 100\n",
            "building tree 36 of 100\n",
            "building tree 37 of 100\n",
            "building tree 38 of 100\n",
            "building tree 39 of 100\n",
            "building tree 40 of 100\n",
            "building tree 41 of 100\n",
            "building tree 42 of 100\n",
            "building tree 43 of 100\n",
            "building tree 44 of 100\n",
            "building tree 45 of 100\n",
            "building tree 46 of 100\n",
            "building tree 47 of 100\n",
            "building tree 48 of 100\n",
            "building tree 49 of 100\n",
            "building tree 50 of 100\n",
            "building tree 51 of 100\n",
            "building tree 52 of 100\n",
            "building tree 53 of 100\n",
            "building tree 54 of 100\n",
            "building tree 55 of 100\n",
            "building tree 56 of 100\n",
            "building tree 57 of 100\n",
            "building tree 58 of 100\n",
            "building tree 59 of 100\n",
            "building tree 60 of 100\n",
            "building tree 61 of 100\n",
            "building tree 62 of 100\n",
            "building tree 63 of 100\n",
            "building tree 64 of 100\n",
            "building tree 65 of 100\n",
            "building tree 66 of 100\n",
            "building tree 67 of 100\n",
            "building tree 68 of 100\n",
            "building tree 69 of 100\n",
            "building tree 70 of 100\n",
            "building tree 71 of 100\n",
            "building tree 72 of 100\n",
            "building tree 73 of 100\n",
            "building tree 74 of 100\n",
            "building tree 75 of 100\n",
            "building tree 76 of 100\n",
            "building tree 77 of 100\n",
            "building tree 78 of 100\n",
            "building tree 79 of 100\n",
            "building tree 80 of 100\n",
            "building tree 81 of 100\n",
            "building tree 82 of 100\n",
            "building tree 83 of 100\n",
            "building tree 84 of 100\n",
            "building tree 85 of 100\n",
            "building tree 86 of 100\n",
            "building tree 87 of 100\n",
            "building tree 88 of 100\n",
            "building tree 89 of 100\n",
            "building tree 90 of 100\n",
            "building tree 91 of 100\n",
            "building tree 92 of 100\n",
            "building tree 93 of 100\n",
            "building tree 94 of 100\n",
            "building tree 95 of 100\n",
            "building tree 96 of 100\n",
            "building tree 97 of 100\n",
            "building tree 98 of 100\n",
            "building tree 99 of 100\n",
            "building tree 100 of 100\n"
          ],
          "name": "stdout"
        },
        {
          "output_type": "stream",
          "text": [
            "[Parallel(n_jobs=1)]: Done 100 out of 100 | elapsed: 29.3min finished\n"
          ],
          "name": "stderr"
        },
        {
          "output_type": "execute_result",
          "data": {
            "text/plain": [
              "RandomForestRegressor(bootstrap=True, ccp_alpha=0.0, criterion='mse',\n",
              "                      max_depth=None, max_features='auto', max_leaf_nodes=None,\n",
              "                      max_samples=None, min_impurity_decrease=0.0,\n",
              "                      min_impurity_split=None, min_samples_leaf=1,\n",
              "                      min_samples_split=2, min_weight_fraction_leaf=0.0,\n",
              "                      n_estimators=100, n_jobs=None, oob_score=False,\n",
              "                      random_state=45, verbose=2, warm_start=False)"
            ]
          },
          "metadata": {
            "tags": []
          },
          "execution_count": 79
        }
      ]
    },
    {
      "cell_type": "code",
      "metadata": {
        "id": "JooDibstxdin",
        "colab_type": "code",
        "outputId": "29991c27-2c09-4cbb-ff1f-c230527b3130",
        "colab": {
          "base_uri": "https://localhost:8080/",
          "height": 68
        }
      },
      "source": [
        "rf_pred = rf_regressor.predict(X_test)"
      ],
      "execution_count": 0,
      "outputs": [
        {
          "output_type": "stream",
          "text": [
            "[Parallel(n_jobs=1)]: Using backend SequentialBackend with 1 concurrent workers.\n",
            "[Parallel(n_jobs=1)]: Done   1 out of   1 | elapsed:    0.0s remaining:    0.0s\n",
            "[Parallel(n_jobs=1)]: Done 100 out of 100 | elapsed:    0.1s finished\n"
          ],
          "name": "stderr"
        }
      ]
    },
    {
      "cell_type": "code",
      "metadata": {
        "id": "_pvFYecixdiq",
        "colab_type": "code",
        "outputId": "71d188cf-7e16-446e-e591-746f10e17310",
        "colab": {
          "base_uri": "https://localhost:8080/",
          "height": 51
        }
      },
      "source": [
        "Get_score(rf_pred, y_test)"
      ],
      "execution_count": 0,
      "outputs": [
        {
          "output_type": "stream",
          "text": [
            "The Spearman's correlation coefficient is: 0.322\n",
            "The Spearman's correlation coefficient is: 0.145\n"
          ],
          "name": "stdout"
        }
      ]
    },
    {
      "cell_type": "markdown",
      "metadata": {
        "id": "Jkv1aMmoxdir",
        "colab_type": "text"
      },
      "source": [
        "***\n",
        "<a id='section4.8'></a>"
      ]
    },
    {
      "cell_type": "markdown",
      "metadata": {
        "id": "v7RR6wqexdir",
        "colab_type": "text"
      },
      "source": [
        "### 4.8: SVR with Captions, C3D and HMP"
      ]
    },
    {
      "cell_type": "code",
      "metadata": {
        "id": "74PyPwHgxdir",
        "colab_type": "code",
        "colab": {}
      },
      "source": [
        "svr_X = captions_c3d_hmp\n",
        "svr_y_short = labels[['short-term_memorability']].values\n",
        "svr_y_long = labels[['long-term_memorability']].values"
      ],
      "execution_count": 0,
      "outputs": []
    },
    {
      "cell_type": "code",
      "metadata": {
        "id": "PQwOaIf9xdit",
        "colab_type": "code",
        "colab": {}
      },
      "source": [
        "# Splitting the dataset into the Training set and Test set\n",
        "short_X_train,short_X_test,short_y_train,short_y_test = train_test_split(svr_X,svr_y_short,test_size=0.2,random_state=40)\n",
        "long_X_train,long_X_test,long_y_train,long_y_test = train_test_split(svr_X,svr_y_long,test_size=0.2,random_state=40)"
      ],
      "execution_count": 0,
      "outputs": []
    },
    {
      "cell_type": "code",
      "metadata": {
        "id": "gn1MMdDCxdiu",
        "colab_type": "code",
        "colab": {}
      },
      "source": [
        "from sklearn.preprocessing import StandardScaler\n",
        "short_X = StandardScaler()\n",
        "short_y = StandardScaler()\n",
        "short_X_train = short_X.fit_transform(short_X_train)\n",
        "short_y_train = short_y.fit_transform(short_y_train)\n",
        "long_X = StandardScaler()\n",
        "long_y = StandardScaler()\n",
        "long_X_train = long_X.fit_transform(long_X_train)\n",
        "long_y_train = long_y.fit_transform(long_y_train)"
      ],
      "execution_count": 0,
      "outputs": []
    },
    {
      "cell_type": "code",
      "metadata": {
        "id": "-b07HIklxdiw",
        "colab_type": "code",
        "outputId": "a0f9fda5-46e6-41c7-f62e-9e531a2bcfa8",
        "colab": {
          "base_uri": "https://localhost:8080/",
          "height": 139
        }
      },
      "source": [
        "from sklearn.svm import SVR\n",
        "short_regressor = SVR(kernel = 'rbf')\n",
        "long_regressor = SVR(kernel = 'rbf')\n",
        "short_regressor.fit(short_X_train, short_y_train)\n",
        "long_regressor.fit(long_X_train,long_y_train)"
      ],
      "execution_count": 0,
      "outputs": [
        {
          "output_type": "stream",
          "text": [
            "/usr/local/lib/python3.6/dist-packages/sklearn/utils/validation.py:760: DataConversionWarning: A column-vector y was passed when a 1d array was expected. Please change the shape of y to (n_samples, ), for example using ravel().\n",
            "  y = column_or_1d(y, warn=True)\n",
            "/usr/local/lib/python3.6/dist-packages/sklearn/utils/validation.py:760: DataConversionWarning: A column-vector y was passed when a 1d array was expected. Please change the shape of y to (n_samples, ), for example using ravel().\n",
            "  y = column_or_1d(y, warn=True)\n"
          ],
          "name": "stderr"
        },
        {
          "output_type": "execute_result",
          "data": {
            "text/plain": [
              "SVR(C=1.0, cache_size=200, coef0=0.0, degree=3, epsilon=0.1, gamma='scale',\n",
              "    kernel='rbf', max_iter=-1, shrinking=True, tol=0.001, verbose=False)"
            ]
          },
          "metadata": {
            "tags": []
          },
          "execution_count": 85
        }
      ]
    },
    {
      "cell_type": "code",
      "metadata": {
        "id": "gFplbVgqxdiy",
        "colab_type": "code",
        "colab": {}
      },
      "source": [
        "short_pred = short_regressor.predict(short_X_test)\n",
        "short_pred = short_y.inverse_transform(short_pred)\n",
        "long_pred = long_regressor.predict(long_X_test)\n",
        "long_pred = long_y.inverse_transform(long_pred)"
      ],
      "execution_count": 0,
      "outputs": []
    },
    {
      "cell_type": "code",
      "metadata": {
        "id": "V3EY-Z7Txdiz",
        "colab_type": "code",
        "outputId": "dff72825-eae4-4ad5-aadf-3bedd29f3599",
        "colab": {
          "base_uri": "https://localhost:8080/",
          "height": 51
        }
      },
      "source": [
        "Get_score(short_pred, short_y_test)\n",
        "Get_score(long_pred, long_y_test)"
      ],
      "execution_count": 0,
      "outputs": [
        {
          "output_type": "stream",
          "text": [
            "The Spearman's correlation coefficient is: 0.355\n",
            "The Spearman's correlation coefficient is: 0.179\n"
          ],
          "name": "stdout"
        }
      ]
    },
    {
      "cell_type": "markdown",
      "metadata": {
        "id": "g_M55fG2xdi0",
        "colab_type": "text"
      },
      "source": [
        "***\n",
        "<a id='section5'></a>"
      ]
    },
    {
      "cell_type": "markdown",
      "metadata": {
        "id": "KPK01gqFxdi1",
        "colab_type": "text"
      },
      "source": [
        "# 5: SELECTING THE BEST MODEL WITH FEATURES"
      ]
    },
    {
      "cell_type": "code",
      "metadata": {
        "id": "BHTO0eI3xdi1",
        "colab_type": "code",
        "outputId": "a2e5b8fe-b459-4e61-a9b6-ed035278c77d",
        "colab": {
          "base_uri": "https://localhost:8080/",
          "height": 323
        }
      },
      "source": [
        "from IPython.display import Image\n",
        "Image(filename=\"table.png\",width=\"500\",height=\"300\")"
      ],
      "execution_count": 0,
      "outputs": [
        {
          "output_type": "error",
          "ename": "FileNotFoundError",
          "evalue": "ignored",
          "traceback": [
            "\u001b[0;31m---------------------------------------------------------------------------\u001b[0m",
            "\u001b[0;31mFileNotFoundError\u001b[0m                         Traceback (most recent call last)",
            "\u001b[0;32m<ipython-input-88-731b397242ac>\u001b[0m in \u001b[0;36m<module>\u001b[0;34m()\u001b[0m\n\u001b[1;32m      1\u001b[0m \u001b[0;32mfrom\u001b[0m \u001b[0mIPython\u001b[0m\u001b[0;34m.\u001b[0m\u001b[0mdisplay\u001b[0m \u001b[0;32mimport\u001b[0m \u001b[0mImage\u001b[0m\u001b[0;34m\u001b[0m\u001b[0;34m\u001b[0m\u001b[0m\n\u001b[0;32m----> 2\u001b[0;31m \u001b[0mImage\u001b[0m\u001b[0;34m(\u001b[0m\u001b[0mfilename\u001b[0m\u001b[0;34m=\u001b[0m\u001b[0;34m\"table.png\"\u001b[0m\u001b[0;34m,\u001b[0m\u001b[0mwidth\u001b[0m\u001b[0;34m=\u001b[0m\u001b[0;34m\"500\"\u001b[0m\u001b[0;34m,\u001b[0m\u001b[0mheight\u001b[0m\u001b[0;34m=\u001b[0m\u001b[0;34m\"300\"\u001b[0m\u001b[0;34m)\u001b[0m\u001b[0;34m\u001b[0m\u001b[0;34m\u001b[0m\u001b[0m\n\u001b[0m",
            "\u001b[0;32m/usr/local/lib/python3.6/dist-packages/IPython/core/display.py\u001b[0m in \u001b[0;36m__init__\u001b[0;34m(self, data, url, filename, format, embed, width, height, retina, unconfined, metadata)\u001b[0m\n\u001b[1;32m   1019\u001b[0m         \u001b[0mself\u001b[0m\u001b[0;34m.\u001b[0m\u001b[0munconfined\u001b[0m \u001b[0;34m=\u001b[0m \u001b[0munconfined\u001b[0m\u001b[0;34m\u001b[0m\u001b[0;34m\u001b[0m\u001b[0m\n\u001b[1;32m   1020\u001b[0m         \u001b[0mself\u001b[0m\u001b[0;34m.\u001b[0m\u001b[0mmetadata\u001b[0m \u001b[0;34m=\u001b[0m \u001b[0mmetadata\u001b[0m\u001b[0;34m\u001b[0m\u001b[0;34m\u001b[0m\u001b[0m\n\u001b[0;32m-> 1021\u001b[0;31m         \u001b[0msuper\u001b[0m\u001b[0;34m(\u001b[0m\u001b[0mImage\u001b[0m\u001b[0;34m,\u001b[0m \u001b[0mself\u001b[0m\u001b[0;34m)\u001b[0m\u001b[0;34m.\u001b[0m\u001b[0m__init__\u001b[0m\u001b[0;34m(\u001b[0m\u001b[0mdata\u001b[0m\u001b[0;34m=\u001b[0m\u001b[0mdata\u001b[0m\u001b[0;34m,\u001b[0m \u001b[0murl\u001b[0m\u001b[0;34m=\u001b[0m\u001b[0murl\u001b[0m\u001b[0;34m,\u001b[0m \u001b[0mfilename\u001b[0m\u001b[0;34m=\u001b[0m\u001b[0mfilename\u001b[0m\u001b[0;34m)\u001b[0m\u001b[0;34m\u001b[0m\u001b[0;34m\u001b[0m\u001b[0m\n\u001b[0m\u001b[1;32m   1022\u001b[0m \u001b[0;34m\u001b[0m\u001b[0m\n\u001b[1;32m   1023\u001b[0m         \u001b[0;32mif\u001b[0m \u001b[0mretina\u001b[0m\u001b[0;34m:\u001b[0m\u001b[0;34m\u001b[0m\u001b[0;34m\u001b[0m\u001b[0m\n",
            "\u001b[0;32m/usr/local/lib/python3.6/dist-packages/IPython/core/display.py\u001b[0m in \u001b[0;36m__init__\u001b[0;34m(self, data, url, filename)\u001b[0m\n\u001b[1;32m    611\u001b[0m         \u001b[0mself\u001b[0m\u001b[0;34m.\u001b[0m\u001b[0mfilename\u001b[0m \u001b[0;34m=\u001b[0m \u001b[0;32mNone\u001b[0m \u001b[0;32mif\u001b[0m \u001b[0mfilename\u001b[0m \u001b[0;32mis\u001b[0m \u001b[0;32mNone\u001b[0m \u001b[0;32melse\u001b[0m \u001b[0municode_type\u001b[0m\u001b[0;34m(\u001b[0m\u001b[0mfilename\u001b[0m\u001b[0;34m)\u001b[0m\u001b[0;34m\u001b[0m\u001b[0;34m\u001b[0m\u001b[0m\n\u001b[1;32m    612\u001b[0m \u001b[0;34m\u001b[0m\u001b[0m\n\u001b[0;32m--> 613\u001b[0;31m         \u001b[0mself\u001b[0m\u001b[0;34m.\u001b[0m\u001b[0mreload\u001b[0m\u001b[0;34m(\u001b[0m\u001b[0;34m)\u001b[0m\u001b[0;34m\u001b[0m\u001b[0;34m\u001b[0m\u001b[0m\n\u001b[0m\u001b[1;32m    614\u001b[0m         \u001b[0mself\u001b[0m\u001b[0;34m.\u001b[0m\u001b[0m_check_data\u001b[0m\u001b[0;34m(\u001b[0m\u001b[0;34m)\u001b[0m\u001b[0;34m\u001b[0m\u001b[0;34m\u001b[0m\u001b[0m\n\u001b[1;32m    615\u001b[0m \u001b[0;34m\u001b[0m\u001b[0m\n",
            "\u001b[0;32m/usr/local/lib/python3.6/dist-packages/IPython/core/display.py\u001b[0m in \u001b[0;36mreload\u001b[0;34m(self)\u001b[0m\n\u001b[1;32m   1041\u001b[0m         \u001b[0;34m\"\"\"Reload the raw data from file or URL.\"\"\"\u001b[0m\u001b[0;34m\u001b[0m\u001b[0;34m\u001b[0m\u001b[0m\n\u001b[1;32m   1042\u001b[0m         \u001b[0;32mif\u001b[0m \u001b[0mself\u001b[0m\u001b[0;34m.\u001b[0m\u001b[0membed\u001b[0m\u001b[0;34m:\u001b[0m\u001b[0;34m\u001b[0m\u001b[0;34m\u001b[0m\u001b[0m\n\u001b[0;32m-> 1043\u001b[0;31m             \u001b[0msuper\u001b[0m\u001b[0;34m(\u001b[0m\u001b[0mImage\u001b[0m\u001b[0;34m,\u001b[0m\u001b[0mself\u001b[0m\u001b[0;34m)\u001b[0m\u001b[0;34m.\u001b[0m\u001b[0mreload\u001b[0m\u001b[0;34m(\u001b[0m\u001b[0;34m)\u001b[0m\u001b[0;34m\u001b[0m\u001b[0;34m\u001b[0m\u001b[0m\n\u001b[0m\u001b[1;32m   1044\u001b[0m             \u001b[0;32mif\u001b[0m \u001b[0mself\u001b[0m\u001b[0;34m.\u001b[0m\u001b[0mretina\u001b[0m\u001b[0;34m:\u001b[0m\u001b[0;34m\u001b[0m\u001b[0;34m\u001b[0m\u001b[0m\n\u001b[1;32m   1045\u001b[0m                 \u001b[0mself\u001b[0m\u001b[0;34m.\u001b[0m\u001b[0m_retina_shape\u001b[0m\u001b[0;34m(\u001b[0m\u001b[0;34m)\u001b[0m\u001b[0;34m\u001b[0m\u001b[0;34m\u001b[0m\u001b[0m\n",
            "\u001b[0;32m/usr/local/lib/python3.6/dist-packages/IPython/core/display.py\u001b[0m in \u001b[0;36mreload\u001b[0;34m(self)\u001b[0m\n\u001b[1;32m    629\u001b[0m         \u001b[0;34m\"\"\"Reload the raw data from file or URL.\"\"\"\u001b[0m\u001b[0;34m\u001b[0m\u001b[0;34m\u001b[0m\u001b[0m\n\u001b[1;32m    630\u001b[0m         \u001b[0;32mif\u001b[0m \u001b[0mself\u001b[0m\u001b[0;34m.\u001b[0m\u001b[0mfilename\u001b[0m \u001b[0;32mis\u001b[0m \u001b[0;32mnot\u001b[0m \u001b[0;32mNone\u001b[0m\u001b[0;34m:\u001b[0m\u001b[0;34m\u001b[0m\u001b[0;34m\u001b[0m\u001b[0m\n\u001b[0;32m--> 631\u001b[0;31m             \u001b[0;32mwith\u001b[0m \u001b[0mopen\u001b[0m\u001b[0;34m(\u001b[0m\u001b[0mself\u001b[0m\u001b[0;34m.\u001b[0m\u001b[0mfilename\u001b[0m\u001b[0;34m,\u001b[0m \u001b[0mself\u001b[0m\u001b[0;34m.\u001b[0m\u001b[0m_read_flags\u001b[0m\u001b[0;34m)\u001b[0m \u001b[0;32mas\u001b[0m \u001b[0mf\u001b[0m\u001b[0;34m:\u001b[0m\u001b[0;34m\u001b[0m\u001b[0;34m\u001b[0m\u001b[0m\n\u001b[0m\u001b[1;32m    632\u001b[0m                 \u001b[0mself\u001b[0m\u001b[0;34m.\u001b[0m\u001b[0mdata\u001b[0m \u001b[0;34m=\u001b[0m \u001b[0mf\u001b[0m\u001b[0;34m.\u001b[0m\u001b[0mread\u001b[0m\u001b[0;34m(\u001b[0m\u001b[0;34m)\u001b[0m\u001b[0;34m\u001b[0m\u001b[0;34m\u001b[0m\u001b[0m\n\u001b[1;32m    633\u001b[0m         \u001b[0;32melif\u001b[0m \u001b[0mself\u001b[0m\u001b[0;34m.\u001b[0m\u001b[0murl\u001b[0m \u001b[0;32mis\u001b[0m \u001b[0;32mnot\u001b[0m \u001b[0;32mNone\u001b[0m\u001b[0;34m:\u001b[0m\u001b[0;34m\u001b[0m\u001b[0;34m\u001b[0m\u001b[0m\n",
            "\u001b[0;31mFileNotFoundError\u001b[0m: [Errno 2] No such file or directory: 'table.png'"
          ]
        }
      ]
    },
    {
      "cell_type": "markdown",
      "metadata": {
        "id": "YOLKsvfNxdi3",
        "colab_type": "text"
      },
      "source": [
        "Above Table shows the Spearman's coefficient corelation scores obtained with different features/combinations. \n",
        "\n",
        "From the results, It is notable that Captions yielded the best performance with Random Forest model"
      ]
    },
    {
      "cell_type": "code",
      "metadata": {
        "id": "W8Lgwyk8xdi3",
        "colab_type": "code",
        "outputId": "782d1251-3aa4-4598-f90b-c6ce0df423f2",
        "colab": {}
      },
      "source": [
        "Get_score(captions_pred, y_test)"
      ],
      "execution_count": 0,
      "outputs": [
        {
          "output_type": "stream",
          "text": [
            "The Spearman's correlation coefficient is: 0.416\n",
            "The Spearman's correlation coefficient is: 0.179\n"
          ],
          "name": "stdout"
        }
      ]
    },
    {
      "cell_type": "markdown",
      "metadata": {
        "id": "r1lgjMlHxdi5",
        "colab_type": "text"
      },
      "source": [
        "***\n",
        "<a id='section7'></a>"
      ]
    },
    {
      "cell_type": "markdown",
      "metadata": {
        "id": "ffKdo2ffxdi5",
        "colab_type": "text"
      },
      "source": [
        "# 6: PRDICTING THE TEST RESULTS"
      ]
    },
    {
      "cell_type": "markdown",
      "metadata": {
        "id": "z0Fm8qwgxdi5",
        "colab_type": "text"
      },
      "source": [
        "In the above [Random Forest with Captions](#section4.1) model, We had divided our development dataset for training and testing. In order to predict the test results, we need to train our model for full 6000 Development dataset. \n",
        "\n",
        "In the Below lines of code, we will be using full 6000 records of development datatset to train our model and predict the scores on testing set which has 2000 records.\n",
        "<a id='section7.1'></a>"
      ]
    },
    {
      "cell_type": "markdown",
      "metadata": {
        "id": "SGekFAeVxdi6",
        "colab_type": "text"
      },
      "source": [
        "### 6.1: Training full 6000 Dev-Set"
      ]
    },
    {
      "cell_type": "code",
      "metadata": {
        "id": "Khf-GyT1xdi6",
        "colab_type": "code",
        "colab": {}
      },
      "source": [
        "X = captions_bag\n",
        "y = labels[['short-term_memorability','long-term_memorability']].values"
      ],
      "execution_count": 0,
      "outputs": []
    },
    {
      "cell_type": "code",
      "metadata": {
        "id": "QTfZcjc0xdi8",
        "colab_type": "code",
        "outputId": "bb69eaf5-bf0b-4225-a34b-668e49c80fab",
        "colab": {
          "base_uri": "https://localhost:8080/",
          "height": 51
        }
      },
      "source": [
        "print(f'X: ({len(X)})')\n",
        "print(f'y:{y.shape}')"
      ],
      "execution_count": 0,
      "outputs": [
        {
          "output_type": "stream",
          "text": [
            "X: (6000)\n",
            "y:(6000, 2)\n"
          ],
          "name": "stdout"
        }
      ]
    },
    {
      "cell_type": "code",
      "metadata": {
        "id": "LEQ8B0nxxdi-",
        "colab_type": "code",
        "colab": {}
      },
      "source": [
        "from sklearn.ensemble import RandomForestRegressor\n",
        "rf_regressor = RandomForestRegressor(n_estimators=100,random_state=45)"
      ],
      "execution_count": 0,
      "outputs": []
    },
    {
      "cell_type": "code",
      "metadata": {
        "id": "mdfFwTzJxdi_",
        "colab_type": "code",
        "outputId": "0956b784-a5b0-4ff4-85f7-be7a2461035b",
        "colab": {
          "base_uri": "https://localhost:8080/",
          "height": 136
        }
      },
      "source": [
        "rf_regressor.fit(X,y)"
      ],
      "execution_count": 0,
      "outputs": [
        {
          "output_type": "execute_result",
          "data": {
            "text/plain": [
              "RandomForestRegressor(bootstrap=True, ccp_alpha=0.0, criterion='mse',\n",
              "                      max_depth=None, max_features='auto', max_leaf_nodes=None,\n",
              "                      max_samples=None, min_impurity_decrease=0.0,\n",
              "                      min_impurity_split=None, min_samples_leaf=1,\n",
              "                      min_samples_split=2, min_weight_fraction_leaf=0.0,\n",
              "                      n_estimators=100, n_jobs=None, oob_score=False,\n",
              "                      random_state=45, verbose=0, warm_start=False)"
            ]
          },
          "metadata": {
            "tags": []
          },
          "execution_count": 92
        }
      ]
    },
    {
      "cell_type": "markdown",
      "metadata": {
        "id": "m4ARGeAFxdjA",
        "colab_type": "text"
      },
      "source": [
        "Now We have trained our model for full 6000 Dev-set.\n",
        "<a id='section7.2'></a>"
      ]
    },
    {
      "cell_type": "markdown",
      "metadata": {
        "id": "8JmgNZ70xdjA",
        "colab_type": "text"
      },
      "source": [
        "<a id='section7.2'></a>"
      ]
    },
    {
      "cell_type": "markdown",
      "metadata": {
        "id": "vdT4ppvMxdjA",
        "colab_type": "text"
      },
      "source": [
        "### 6.2: Importing Test Dataset and Captions"
      ]
    },
    {
      "cell_type": "code",
      "metadata": {
        "id": "9Azm-R9QxdjB",
        "colab_type": "code",
        "colab": {}
      },
      "source": [
        "#importing test Dataset\n",
        "csv_path ='/content/drive/My Drive/CA684_Assignment/Test-set/Ground-truth_test/ground_truth_template.csv'\n",
        "test_dataset = pd.read_csv(csv_path)"
      ],
      "execution_count": 0,
      "outputs": []
    },
    {
      "cell_type": "code",
      "metadata": {
        "id": "0DFxSjqFxdjC",
        "colab_type": "code",
        "colab": {}
      },
      "source": [
        "#load the test set captions\n",
        "test_captions_path ='/content/drive/My Drive/CA684_Assignment/Test-set/Captions_test/test-set-1_video-captions.txt'\n",
        "test_captions = load_captions(test_captions_path)"
      ],
      "execution_count": 0,
      "outputs": []
    },
    {
      "cell_type": "code",
      "metadata": {
        "id": "feutve5wxdjE",
        "colab_type": "code",
        "outputId": "dcd6b445-8edb-4b92-e4f7-98c3a8caa802",
        "colab": {
          "base_uri": "https://localhost:8080/",
          "height": 204
        }
      },
      "source": [
        "test_dataset.head()"
      ],
      "execution_count": 0,
      "outputs": [
        {
          "output_type": "execute_result",
          "data": {
            "text/html": [
              "<div>\n",
              "<style scoped>\n",
              "    .dataframe tbody tr th:only-of-type {\n",
              "        vertical-align: middle;\n",
              "    }\n",
              "\n",
              "    .dataframe tbody tr th {\n",
              "        vertical-align: top;\n",
              "    }\n",
              "\n",
              "    .dataframe thead th {\n",
              "        text-align: right;\n",
              "    }\n",
              "</style>\n",
              "<table border=\"1\" class=\"dataframe\">\n",
              "  <thead>\n",
              "    <tr style=\"text-align: right;\">\n",
              "      <th></th>\n",
              "      <th>video</th>\n",
              "      <th>short-term_memorability</th>\n",
              "      <th>nb_short-term_annotations</th>\n",
              "      <th>long-term_memorability</th>\n",
              "      <th>nb_long-term_annotations</th>\n",
              "    </tr>\n",
              "  </thead>\n",
              "  <tbody>\n",
              "    <tr>\n",
              "      <th>0</th>\n",
              "      <td>7494</td>\n",
              "      <td>NaN</td>\n",
              "      <td>33</td>\n",
              "      <td>NaN</td>\n",
              "      <td>12</td>\n",
              "    </tr>\n",
              "    <tr>\n",
              "      <th>1</th>\n",
              "      <td>7495</td>\n",
              "      <td>NaN</td>\n",
              "      <td>34</td>\n",
              "      <td>NaN</td>\n",
              "      <td>10</td>\n",
              "    </tr>\n",
              "    <tr>\n",
              "      <th>2</th>\n",
              "      <td>7496</td>\n",
              "      <td>NaN</td>\n",
              "      <td>32</td>\n",
              "      <td>NaN</td>\n",
              "      <td>13</td>\n",
              "    </tr>\n",
              "    <tr>\n",
              "      <th>3</th>\n",
              "      <td>7497</td>\n",
              "      <td>NaN</td>\n",
              "      <td>33</td>\n",
              "      <td>NaN</td>\n",
              "      <td>10</td>\n",
              "    </tr>\n",
              "    <tr>\n",
              "      <th>4</th>\n",
              "      <td>7498</td>\n",
              "      <td>NaN</td>\n",
              "      <td>33</td>\n",
              "      <td>NaN</td>\n",
              "      <td>10</td>\n",
              "    </tr>\n",
              "  </tbody>\n",
              "</table>\n",
              "</div>"
            ],
            "text/plain": [
              "   video  ...  nb_long-term_annotations\n",
              "0   7494  ...                        12\n",
              "1   7495  ...                        10\n",
              "2   7496  ...                        13\n",
              "3   7497  ...                        10\n",
              "4   7498  ...                        10\n",
              "\n",
              "[5 rows x 5 columns]"
            ]
          },
          "metadata": {
            "tags": []
          },
          "execution_count": 97
        }
      ]
    },
    {
      "cell_type": "markdown",
      "metadata": {
        "id": "EPc7meEMxdjG",
        "colab_type": "text"
      },
      "source": [
        "We need to predict and fill the values of the above Short-term Memorability and Long-term Memorability Scores using our trained model"
      ]
    },
    {
      "cell_type": "code",
      "metadata": {
        "id": "-YwZ5PD6xdjG",
        "colab_type": "code",
        "outputId": "265a16cb-98e3-4431-e9c5-0ad8fb3e1843",
        "colab": {
          "base_uri": "https://localhost:8080/",
          "height": 204
        }
      },
      "source": [
        "test_captions.head()"
      ],
      "execution_count": 0,
      "outputs": [
        {
          "output_type": "execute_result",
          "data": {
            "text/html": [
              "<div>\n",
              "<style scoped>\n",
              "    .dataframe tbody tr th:only-of-type {\n",
              "        vertical-align: middle;\n",
              "    }\n",
              "\n",
              "    .dataframe tbody tr th {\n",
              "        vertical-align: top;\n",
              "    }\n",
              "\n",
              "    .dataframe thead th {\n",
              "        text-align: right;\n",
              "    }\n",
              "</style>\n",
              "<table border=\"1\" class=\"dataframe\">\n",
              "  <thead>\n",
              "    <tr style=\"text-align: right;\">\n",
              "      <th></th>\n",
              "      <th>video</th>\n",
              "      <th>caption</th>\n",
              "    </tr>\n",
              "  </thead>\n",
              "  <tbody>\n",
              "    <tr>\n",
              "      <th>0</th>\n",
              "      <td>video7494.webm</td>\n",
              "      <td>green-jeep-struggling-to-drive-over-huge-rocks</td>\n",
              "    </tr>\n",
              "    <tr>\n",
              "      <th>1</th>\n",
              "      <td>video7495.webm</td>\n",
              "      <td>hiking-woman-tourist-is-walking-forward-in-mou...</td>\n",
              "    </tr>\n",
              "    <tr>\n",
              "      <th>2</th>\n",
              "      <td>video7496.webm</td>\n",
              "      <td>close-up-of-african-american-doctors-hands-usi...</td>\n",
              "    </tr>\n",
              "    <tr>\n",
              "      <th>3</th>\n",
              "      <td>video7497.webm</td>\n",
              "      <td>slow-motion-of-a-man-using-treadmill-in-the-gy...</td>\n",
              "    </tr>\n",
              "    <tr>\n",
              "      <th>4</th>\n",
              "      <td>video7498.webm</td>\n",
              "      <td>slow-motion-of-photographer-in-national-park</td>\n",
              "    </tr>\n",
              "  </tbody>\n",
              "</table>\n",
              "</div>"
            ],
            "text/plain": [
              "            video                                            caption\n",
              "0  video7494.webm     green-jeep-struggling-to-drive-over-huge-rocks\n",
              "1  video7495.webm  hiking-woman-tourist-is-walking-forward-in-mou...\n",
              "2  video7496.webm  close-up-of-african-american-doctors-hands-usi...\n",
              "3  video7497.webm  slow-motion-of-a-man-using-treadmill-in-the-gy...\n",
              "4  video7498.webm       slow-motion-of-photographer-in-national-park"
            ]
          },
          "metadata": {
            "tags": []
          },
          "execution_count": 98
        }
      ]
    },
    {
      "cell_type": "code",
      "metadata": {
        "id": "nkZw-quyxdjH",
        "colab_type": "code",
        "outputId": "27a53fc4-6af3-46f6-8f86-d44b58fd4418",
        "colab": {
          "base_uri": "https://localhost:8080/",
          "height": 51
        }
      },
      "source": [
        "#printing the dimensions of test-set dataset and features\n",
        "print(f'Test-Dataset : {test_dataset.shape}')\n",
        "print(f'Test-Captions: {test_captions.shape}')"
      ],
      "execution_count": 0,
      "outputs": [
        {
          "output_type": "stream",
          "text": [
            "Test-Dataset : (2000, 5)\n",
            "Test-Captions: (2000, 2)\n"
          ],
          "name": "stdout"
        }
      ]
    },
    {
      "cell_type": "code",
      "metadata": {
        "id": "Z_gQABTcxdjI",
        "colab_type": "code",
        "outputId": "be417ca6-c6f1-4ba3-987b-adf941e93c11",
        "colab": {
          "base_uri": "https://localhost:8080/",
          "height": 68
        }
      },
      "source": [
        "#Removing punctuations and stop words from captions\n",
        "# setup prograss tracker\n",
        "pbar = pyprind.ProgBar(len(test_captions['caption']), title='Counting word occurrences')\n",
        "for i, cap in enumerate(test_captions['caption']):\n",
        "    # replace punctuations with space\n",
        "    # convert words to lower case \n",
        "    text = ''.join([c if c not in punctuation else ' ' for c in cap]).lower()\n",
        "    #removing stopwords\n",
        "    rmv_stopwords= ' '.join([word for word in text.split() if word not in stopwords])\n",
        "    test_captions.loc[i,'caption'] = rmv_stopwords #updating the original captions \n",
        "    pbar.update()"
      ],
      "execution_count": 0,
      "outputs": [
        {
          "output_type": "stream",
          "text": [
            "Counting word occurrences\n",
            "0% [##############################] 100% | ETA: 00:00:00\n",
            "Total time elapsed: 00:00:00\n"
          ],
          "name": "stderr"
        }
      ]
    },
    {
      "cell_type": "code",
      "metadata": {
        "id": "B8Mu61aBxdjJ",
        "colab_type": "code",
        "outputId": "20560c7a-77cd-4209-bf4f-472872276f95",
        "colab": {
          "base_uri": "https://localhost:8080/",
          "height": 204
        }
      },
      "source": [
        "test_captions.head()"
      ],
      "execution_count": 0,
      "outputs": [
        {
          "output_type": "execute_result",
          "data": {
            "text/html": [
              "<div>\n",
              "<style scoped>\n",
              "    .dataframe tbody tr th:only-of-type {\n",
              "        vertical-align: middle;\n",
              "    }\n",
              "\n",
              "    .dataframe tbody tr th {\n",
              "        vertical-align: top;\n",
              "    }\n",
              "\n",
              "    .dataframe thead th {\n",
              "        text-align: right;\n",
              "    }\n",
              "</style>\n",
              "<table border=\"1\" class=\"dataframe\">\n",
              "  <thead>\n",
              "    <tr style=\"text-align: right;\">\n",
              "      <th></th>\n",
              "      <th>video</th>\n",
              "      <th>caption</th>\n",
              "    </tr>\n",
              "  </thead>\n",
              "  <tbody>\n",
              "    <tr>\n",
              "      <th>0</th>\n",
              "      <td>video7494.webm</td>\n",
              "      <td>green jeep struggling drive huge rocks</td>\n",
              "    </tr>\n",
              "    <tr>\n",
              "      <th>1</th>\n",
              "      <td>video7495.webm</td>\n",
              "      <td>hiking woman tourist walking forward mountains...</td>\n",
              "    </tr>\n",
              "    <tr>\n",
              "      <th>2</th>\n",
              "      <td>video7496.webm</td>\n",
              "      <td>close african american doctors hands using sph...</td>\n",
              "    </tr>\n",
              "    <tr>\n",
              "      <th>3</th>\n",
              "      <td>video7497.webm</td>\n",
              "      <td>slow motion man using treadmill gym regular ph...</td>\n",
              "    </tr>\n",
              "    <tr>\n",
              "      <th>4</th>\n",
              "      <td>video7498.webm</td>\n",
              "      <td>slow motion photographer national park</td>\n",
              "    </tr>\n",
              "  </tbody>\n",
              "</table>\n",
              "</div>"
            ],
            "text/plain": [
              "            video                                            caption\n",
              "0  video7494.webm             green jeep struggling drive huge rocks\n",
              "1  video7495.webm  hiking woman tourist walking forward mountains...\n",
              "2  video7496.webm  close african american doctors hands using sph...\n",
              "3  video7497.webm  slow motion man using treadmill gym regular ph...\n",
              "4  video7498.webm             slow motion photographer national park"
            ]
          },
          "metadata": {
            "tags": []
          },
          "execution_count": 102
        }
      ]
    },
    {
      "cell_type": "code",
      "metadata": {
        "id": "BUwordU3xdjK",
        "colab_type": "code",
        "outputId": "713ead62-d668-410e-d44a-02fe8a95f700",
        "colab": {
          "base_uri": "https://localhost:8080/",
          "height": 34
        }
      },
      "source": [
        "#implementing bag of words for the combined captions\n",
        "from sklearn.feature_extraction.text import CountVectorizer\n",
        "vectorizer = CountVectorizer(analyzer = \"word\",max_features=3122) \n",
        "test_captions_bag = vectorizer.fit_transform(test_captions.caption).toarray()\n",
        "type(test_captions_bag)"
      ],
      "execution_count": 0,
      "outputs": [
        {
          "output_type": "execute_result",
          "data": {
            "text/plain": [
              "numpy.ndarray"
            ]
          },
          "metadata": {
            "tags": []
          },
          "execution_count": 103
        }
      ]
    },
    {
      "cell_type": "code",
      "metadata": {
        "id": "DfqE-lC6xdjL",
        "colab_type": "code",
        "outputId": "d4314b73-b951-4226-a06c-4e6d1b818762",
        "colab": {
          "base_uri": "https://localhost:8080/",
          "height": 51
        }
      },
      "source": [
        "#print(f'Testing Bag of words size     : {len(test_captions_bag)}')\n",
        "#print(f'Development Bag of words size : {len(captions_bag)}')\n",
        "print(f'Development Vocabulary Size   : {len(captions_bag[0])}')\n",
        "print(f'Testing Vocabulary Size       : {len(test_captions_bag[0])}')"
      ],
      "execution_count": 0,
      "outputs": [
        {
          "output_type": "stream",
          "text": [
            "Development Vocabulary Size   : 3112\n",
            "Testing Vocabulary Size       : 3112\n"
          ],
          "name": "stdout"
        }
      ]
    },
    {
      "cell_type": "markdown",
      "metadata": {
        "id": "6RjhhltZxdjM",
        "colab_type": "text"
      },
      "source": [
        "***\n",
        "<a id='section7.3'></a>"
      ]
    },
    {
      "cell_type": "markdown",
      "metadata": {
        "id": "FmuTO9WHxdjM",
        "colab_type": "text"
      },
      "source": [
        "### 6.3: Predicting the scores and Exporting the Results"
      ]
    },
    {
      "cell_type": "code",
      "metadata": {
        "id": "L36QPVsXxdjN",
        "colab_type": "code",
        "colab": {}
      },
      "source": [
        "test_pred = rf_regressor.predict(test_captions_bag)"
      ],
      "execution_count": 0,
      "outputs": []
    },
    {
      "cell_type": "code",
      "metadata": {
        "id": "nTlMBqIExdjN",
        "colab_type": "code",
        "colab": {}
      },
      "source": [
        "pred_score = pd.DataFrame()"
      ],
      "execution_count": 0,
      "outputs": []
    },
    {
      "cell_type": "code",
      "metadata": {
        "id": "hPKKFUw5xdjQ",
        "colab_type": "code",
        "outputId": "77170f32-5c84-415e-d8c5-50ef2755c9a3",
        "colab": {
          "base_uri": "https://localhost:8080/",
          "height": 34
        }
      },
      "source": [
        "type(test_pred)"
      ],
      "execution_count": 0,
      "outputs": [
        {
          "output_type": "execute_result",
          "data": {
            "text/plain": [
              "numpy.ndarray"
            ]
          },
          "metadata": {
            "tags": []
          },
          "execution_count": 107
        }
      ]
    },
    {
      "cell_type": "code",
      "metadata": {
        "id": "eUiF1Y1SxdjR",
        "colab_type": "code",
        "colab": {}
      },
      "source": [
        "pred_score['short-term'] = test_pred[:,0]"
      ],
      "execution_count": 0,
      "outputs": []
    },
    {
      "cell_type": "code",
      "metadata": {
        "id": "SSFBPN1ZxdjS",
        "colab_type": "code",
        "colab": {}
      },
      "source": [
        "pred_score['long-term'] = test_pred[:,1]"
      ],
      "execution_count": 0,
      "outputs": []
    },
    {
      "cell_type": "code",
      "metadata": {
        "id": "usyush3BxdjT",
        "colab_type": "code",
        "outputId": "9f140f0d-780a-4655-93e6-a4e661865727",
        "colab": {
          "base_uri": "https://localhost:8080/",
          "height": 204
        }
      },
      "source": [
        "pred_score.head()"
      ],
      "execution_count": 0,
      "outputs": [
        {
          "output_type": "execute_result",
          "data": {
            "text/html": [
              "<div>\n",
              "<style scoped>\n",
              "    .dataframe tbody tr th:only-of-type {\n",
              "        vertical-align: middle;\n",
              "    }\n",
              "\n",
              "    .dataframe tbody tr th {\n",
              "        vertical-align: top;\n",
              "    }\n",
              "\n",
              "    .dataframe thead th {\n",
              "        text-align: right;\n",
              "    }\n",
              "</style>\n",
              "<table border=\"1\" class=\"dataframe\">\n",
              "  <thead>\n",
              "    <tr style=\"text-align: right;\">\n",
              "      <th></th>\n",
              "      <th>short-term</th>\n",
              "      <th>long-term</th>\n",
              "    </tr>\n",
              "  </thead>\n",
              "  <tbody>\n",
              "    <tr>\n",
              "      <th>0</th>\n",
              "      <td>0.854635</td>\n",
              "      <td>0.712699</td>\n",
              "    </tr>\n",
              "    <tr>\n",
              "      <th>1</th>\n",
              "      <td>0.898883</td>\n",
              "      <td>0.781500</td>\n",
              "    </tr>\n",
              "    <tr>\n",
              "      <th>2</th>\n",
              "      <td>0.841901</td>\n",
              "      <td>0.805625</td>\n",
              "    </tr>\n",
              "    <tr>\n",
              "      <th>3</th>\n",
              "      <td>0.915282</td>\n",
              "      <td>0.826990</td>\n",
              "    </tr>\n",
              "    <tr>\n",
              "      <th>4</th>\n",
              "      <td>0.866134</td>\n",
              "      <td>0.711727</td>\n",
              "    </tr>\n",
              "  </tbody>\n",
              "</table>\n",
              "</div>"
            ],
            "text/plain": [
              "   short-term  long-term\n",
              "0    0.854635   0.712699\n",
              "1    0.898883   0.781500\n",
              "2    0.841901   0.805625\n",
              "3    0.915282   0.826990\n",
              "4    0.866134   0.711727"
            ]
          },
          "metadata": {
            "tags": []
          },
          "execution_count": 117
        }
      ]
    },
    {
      "cell_type": "code",
      "metadata": {
        "id": "ApHE0F42xdjV",
        "colab_type": "code",
        "outputId": "646a7478-17d9-49b4-cbab-6065322c4222",
        "colab": {
          "base_uri": "https://localhost:8080/",
          "height": 297
        }
      },
      "source": [
        "pred_score.describe()"
      ],
      "execution_count": 0,
      "outputs": [
        {
          "output_type": "execute_result",
          "data": {
            "text/html": [
              "<div>\n",
              "<style scoped>\n",
              "    .dataframe tbody tr th:only-of-type {\n",
              "        vertical-align: middle;\n",
              "    }\n",
              "\n",
              "    .dataframe tbody tr th {\n",
              "        vertical-align: top;\n",
              "    }\n",
              "\n",
              "    .dataframe thead th {\n",
              "        text-align: right;\n",
              "    }\n",
              "</style>\n",
              "<table border=\"1\" class=\"dataframe\">\n",
              "  <thead>\n",
              "    <tr style=\"text-align: right;\">\n",
              "      <th></th>\n",
              "      <th>short-term</th>\n",
              "      <th>long-term</th>\n",
              "    </tr>\n",
              "  </thead>\n",
              "  <tbody>\n",
              "    <tr>\n",
              "      <th>count</th>\n",
              "      <td>2000.000000</td>\n",
              "      <td>2000.000000</td>\n",
              "    </tr>\n",
              "    <tr>\n",
              "      <th>mean</th>\n",
              "      <td>0.848028</td>\n",
              "      <td>0.751163</td>\n",
              "    </tr>\n",
              "    <tr>\n",
              "      <th>std</th>\n",
              "      <td>0.034564</td>\n",
              "      <td>0.067863</td>\n",
              "    </tr>\n",
              "    <tr>\n",
              "      <th>min</th>\n",
              "      <td>0.687093</td>\n",
              "      <td>0.397318</td>\n",
              "    </tr>\n",
              "    <tr>\n",
              "      <th>25%</th>\n",
              "      <td>0.830368</td>\n",
              "      <td>0.721224</td>\n",
              "    </tr>\n",
              "    <tr>\n",
              "      <th>50%</th>\n",
              "      <td>0.849698</td>\n",
              "      <td>0.757218</td>\n",
              "    </tr>\n",
              "    <tr>\n",
              "      <th>75%</th>\n",
              "      <td>0.871004</td>\n",
              "      <td>0.792872</td>\n",
              "    </tr>\n",
              "    <tr>\n",
              "      <th>max</th>\n",
              "      <td>0.953749</td>\n",
              "      <td>0.949478</td>\n",
              "    </tr>\n",
              "  </tbody>\n",
              "</table>\n",
              "</div>"
            ],
            "text/plain": [
              "        short-term    long-term\n",
              "count  2000.000000  2000.000000\n",
              "mean      0.848028     0.751163\n",
              "std       0.034564     0.067863\n",
              "min       0.687093     0.397318\n",
              "25%       0.830368     0.721224\n",
              "50%       0.849698     0.757218\n",
              "75%       0.871004     0.792872\n",
              "max       0.953749     0.949478"
            ]
          },
          "metadata": {
            "tags": []
          },
          "execution_count": 118
        }
      ]
    },
    {
      "cell_type": "code",
      "metadata": {
        "id": "FHvEZyxqxdjW",
        "colab_type": "code",
        "colab": {}
      },
      "source": [
        "pred_score.to_csv(\"/content/drive/My Drive/Final_Results.csv\",index=False)"
      ],
      "execution_count": 0,
      "outputs": []
    },
    {
      "cell_type": "markdown",
      "metadata": {
        "id": "XOqdAyeXxdjX",
        "colab_type": "text"
      },
      "source": [
        "***"
      ]
    },
    {
      "cell_type": "code",
      "metadata": {
        "id": "vmcjLh_8xdjX",
        "colab_type": "code",
        "colab": {}
      },
      "source": [
        ""
      ],
      "execution_count": 0,
      "outputs": []
    }
  ]
}